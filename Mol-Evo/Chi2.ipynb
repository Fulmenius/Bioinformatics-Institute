{
 "cells": [
  {
   "cell_type": "code",
   "execution_count": 37,
   "id": "b598f692",
   "metadata": {},
   "outputs": [],
   "source": [
    "import numpy as np\n",
    "import pandas as pd\n",
    "from scipy import stats"
   ]
  },
  {
   "cell_type": "code",
   "execution_count": 208,
   "id": "db7fd0ba",
   "metadata": {},
   "outputs": [
    {
     "data": {
      "text/plain": [
       "0    499.916\n",
       "dtype: float64"
      ]
     },
     "execution_count": 208,
     "metadata": {},
     "output_type": "execute_result"
    }
   ],
   "source": [
    "E = pd.DataFrame([0.0739, 0.396032, 0.5299])*500\n",
    "O = pd.DataFrame([0.17, 0.204, 0.626])*500\n",
    "\n",
    "E.sum()"
   ]
  },
  {
   "cell_type": "code",
   "execution_count": 209,
   "id": "4fc2c5bd",
   "metadata": {},
   "outputs": [],
   "source": [
    "\"\"\"\n",
    "Gets two pandas dataframes - Expected (E) and Obeserved (O), and optional condifence_level=0.05 (p=0.05 <=> 0.05)\n",
    "Returns the Chi-squared statistics for E and O, the Chi-squared critical value for the given confidence level,\n",
    "and if the Chi-squared statistics is higher than the critical level (i.e., if the null hypothesis should be rejected).\n",
    "\"\"\"\n",
    "\n",
    "def pd_chi_sq(E, O, confidence_level=0.05):\n",
    "    result = ((O-E).apply(lambda x: x**2)/E).sum()\n",
    "    chi_level = stats.chi2.ppf(1-confidence_level, len(O)-1)\n",
    "    return result.sum(), chi_level, result.sum() > chi_level"
   ]
  },
  {
   "cell_type": "code",
   "execution_count": 210,
   "id": "841f1eb1",
   "metadata": {},
   "outputs": [
    {
     "data": {
      "text/plain": [
       "(117.7558213156951, 5.991464547107979, True)"
      ]
     },
     "execution_count": 210,
     "metadata": {},
     "output_type": "execute_result"
    }
   ],
   "source": [
    "pd_chi_sq(E, O)"
   ]
  },
  {
   "cell_type": "code",
   "execution_count": 232,
   "id": "493ba540",
   "metadata": {},
   "outputs": [],
   "source": [
    "\"\"\"\n",
    "Get genotype frequencies for the \"A\" frequency p and \"a\" frequency 1-p\n",
    "\"\"\"\n",
    "def get_genotype_frequencies(p):\n",
    "    return p**2, 2*p*(1-p), (1-p)**2\n"
   ]
  },
  {
   "cell_type": "code",
   "execution_count": 231,
   "id": "0a47d2c9",
   "metadata": {},
   "outputs": [],
   "source": [
    "\"\"\"\n",
    "P = number of AA homozygotes at G0\n",
    "H = number of Aa heterozygotes at G0\n",
    "Q = number of aa homozygotes at G0\n",
    "num_gen = number of generations (1 by default)\n",
    "\"\"\"\n",
    "def get_self_pollination(P, H, Q, num_gen=1):\n",
    "    if num_gen == 0: \n",
    "        return P, H, Q\n",
    "    else:\n",
    "        P_c, H_c, Q_c = get_self_pollination(P, H, Q, num_gen-1)\n",
    "        P_c += H_c/4\n",
    "        Q_c += H_c/4\n",
    "        H_c = H_c/2\n",
    "        return P_c, H_c, Q_c"
   ]
  },
  {
   "cell_type": "code",
   "execution_count": 238,
   "id": "b3a30a91",
   "metadata": {},
   "outputs": [],
   "source": [
    "a = np.array(get_self_pollination(*(0.3*np.array(get_genotype_frequencies(0.6))))) + 0.7*np.array(get_genotype_frequencies(0.6))"
   ]
  },
  {
   "cell_type": "code",
   "execution_count": 240,
   "id": "9aa3e0e7",
   "metadata": {},
   "outputs": [
    {
     "name": "stdout",
     "output_type": "stream",
     "text": [
      "[0.396 0.408 0.196]\n"
     ]
    }
   ],
   "source": [
    "sum(a)\n",
    "print(a)"
   ]
  },
  {
   "cell_type": "code",
   "execution_count": 241,
   "id": "40943690",
   "metadata": {},
   "outputs": [
    {
     "data": {
      "text/plain": [
       "(0.36, 0.48, 0.16000000000000003)"
      ]
     },
     "execution_count": 241,
     "metadata": {},
     "output_type": "execute_result"
    }
   ],
   "source": [
    "get_genotype_frequencies(0.6)"
   ]
  },
  {
   "cell_type": "code",
   "execution_count": 242,
   "id": "37850783",
   "metadata": {},
   "outputs": [
    {
     "data": {
      "text/plain": [
       "0.00390625"
      ]
     },
     "execution_count": 242,
     "metadata": {},
     "output_type": "execute_result"
    }
   ],
   "source": [
    "1/(2**8)"
   ]
  },
  {
   "cell_type": "code",
   "execution_count": 290,
   "id": "a7c84188",
   "metadata": {},
   "outputs": [],
   "source": [
    "data = pd.read_table('gt_data.tsv',header=None)"
   ]
  },
  {
   "cell_type": "code",
   "execution_count": 294,
   "id": "3aa72dad",
   "metadata": {},
   "outputs": [
    {
     "data": {
      "text/html": [
       "<div>\n",
       "<style scoped>\n",
       "    .dataframe tbody tr th:only-of-type {\n",
       "        vertical-align: middle;\n",
       "    }\n",
       "\n",
       "    .dataframe tbody tr th {\n",
       "        vertical-align: top;\n",
       "    }\n",
       "\n",
       "    .dataframe thead th {\n",
       "        text-align: right;\n",
       "    }\n",
       "</style>\n",
       "<table border=\"1\" class=\"dataframe\">\n",
       "  <thead>\n",
       "    <tr style=\"text-align: right;\">\n",
       "      <th></th>\n",
       "      <th>0</th>\n",
       "      <th>1</th>\n",
       "      <th>2</th>\n",
       "      <th>3</th>\n",
       "      <th>4</th>\n",
       "      <th>5</th>\n",
       "      <th>6</th>\n",
       "      <th>7</th>\n",
       "      <th>8</th>\n",
       "      <th>9</th>\n",
       "      <th>...</th>\n",
       "      <th>58</th>\n",
       "      <th>59</th>\n",
       "      <th>60</th>\n",
       "      <th>61</th>\n",
       "      <th>62</th>\n",
       "      <th>63</th>\n",
       "      <th>64</th>\n",
       "      <th>65</th>\n",
       "      <th>66</th>\n",
       "      <th>67</th>\n",
       "    </tr>\n",
       "  </thead>\n",
       "  <tbody>\n",
       "    <tr>\n",
       "      <th>0</th>\n",
       "      <td>rs2234968</td>\n",
       "      <td>0/0</td>\n",
       "      <td>0/1</td>\n",
       "      <td>0/0</td>\n",
       "      <td>0/0</td>\n",
       "      <td>0/0</td>\n",
       "      <td>1/1</td>\n",
       "      <td>0/0</td>\n",
       "      <td>1/1</td>\n",
       "      <td>0/0</td>\n",
       "      <td>...</td>\n",
       "      <td>0/0</td>\n",
       "      <td>0/0</td>\n",
       "      <td>0/1</td>\n",
       "      <td>0/0</td>\n",
       "      <td>0/1</td>\n",
       "      <td>0/1</td>\n",
       "      <td>0/1</td>\n",
       "      <td>0/1</td>\n",
       "      <td>0/0</td>\n",
       "      <td>0/1</td>\n",
       "    </tr>\n",
       "    <tr>\n",
       "      <th>1</th>\n",
       "      <td>rs2229094</td>\n",
       "      <td>0/0</td>\n",
       "      <td>0/0</td>\n",
       "      <td>0/1</td>\n",
       "      <td>0/1</td>\n",
       "      <td>0/1</td>\n",
       "      <td>0/1</td>\n",
       "      <td>0/0</td>\n",
       "      <td>0/0</td>\n",
       "      <td>0/0</td>\n",
       "      <td>...</td>\n",
       "      <td>0/1</td>\n",
       "      <td>0/0</td>\n",
       "      <td>0/0</td>\n",
       "      <td>0/1</td>\n",
       "      <td>0/1</td>\n",
       "      <td>0/1</td>\n",
       "      <td>0/1</td>\n",
       "      <td>0/0</td>\n",
       "      <td>0/0</td>\n",
       "      <td>0/1</td>\n",
       "    </tr>\n",
       "    <tr>\n",
       "      <th>2</th>\n",
       "      <td>rs10829163</td>\n",
       "      <td>0/0</td>\n",
       "      <td>0/1</td>\n",
       "      <td>0/0</td>\n",
       "      <td>0/0</td>\n",
       "      <td>0/1</td>\n",
       "      <td>0/0</td>\n",
       "      <td>0/1</td>\n",
       "      <td>1/1</td>\n",
       "      <td>0/1</td>\n",
       "      <td>...</td>\n",
       "      <td>0/1</td>\n",
       "      <td>0/0</td>\n",
       "      <td>0/1</td>\n",
       "      <td>0/1</td>\n",
       "      <td>0/0</td>\n",
       "      <td>0/0</td>\n",
       "      <td>1/1</td>\n",
       "      <td>1/1</td>\n",
       "      <td>0/1</td>\n",
       "      <td>0/0</td>\n",
       "    </tr>\n",
       "    <tr>\n",
       "      <th>3</th>\n",
       "      <td>rs10911825</td>\n",
       "      <td>0/1</td>\n",
       "      <td>0/1</td>\n",
       "      <td>0/0</td>\n",
       "      <td>0/0</td>\n",
       "      <td>0/0</td>\n",
       "      <td>0/1</td>\n",
       "      <td>0/1</td>\n",
       "      <td>0/0</td>\n",
       "      <td>0/0</td>\n",
       "      <td>...</td>\n",
       "      <td>0/0</td>\n",
       "      <td>0/1</td>\n",
       "      <td>0/0</td>\n",
       "      <td>0/1</td>\n",
       "      <td>0/0</td>\n",
       "      <td>0/1</td>\n",
       "      <td>0/1</td>\n",
       "      <td>0/0</td>\n",
       "      <td>0/1</td>\n",
       "      <td>0/0</td>\n",
       "    </tr>\n",
       "    <tr>\n",
       "      <th>4</th>\n",
       "      <td>rs11568351</td>\n",
       "      <td>0/1</td>\n",
       "      <td>0/1</td>\n",
       "      <td>0/1</td>\n",
       "      <td>0/0</td>\n",
       "      <td>0/1</td>\n",
       "      <td>0/1</td>\n",
       "      <td>1/1</td>\n",
       "      <td>0/0</td>\n",
       "      <td>1/1</td>\n",
       "      <td>...</td>\n",
       "      <td>0/0</td>\n",
       "      <td>0/0</td>\n",
       "      <td>0/0</td>\n",
       "      <td>0/0</td>\n",
       "      <td>0/0</td>\n",
       "      <td>1/1</td>\n",
       "      <td>0/1</td>\n",
       "      <td>0/1</td>\n",
       "      <td>1/1</td>\n",
       "      <td>0/1</td>\n",
       "    </tr>\n",
       "    <tr>\n",
       "      <th>...</th>\n",
       "      <td>...</td>\n",
       "      <td>...</td>\n",
       "      <td>...</td>\n",
       "      <td>...</td>\n",
       "      <td>...</td>\n",
       "      <td>...</td>\n",
       "      <td>...</td>\n",
       "      <td>...</td>\n",
       "      <td>...</td>\n",
       "      <td>...</td>\n",
       "      <td>...</td>\n",
       "      <td>...</td>\n",
       "      <td>...</td>\n",
       "      <td>...</td>\n",
       "      <td>...</td>\n",
       "      <td>...</td>\n",
       "      <td>...</td>\n",
       "      <td>...</td>\n",
       "      <td>...</td>\n",
       "      <td>...</td>\n",
       "      <td>...</td>\n",
       "    </tr>\n",
       "    <tr>\n",
       "      <th>95</th>\n",
       "      <td>rs11778026</td>\n",
       "      <td>0/1</td>\n",
       "      <td>0/1</td>\n",
       "      <td>0/0</td>\n",
       "      <td>0/0</td>\n",
       "      <td>0/1</td>\n",
       "      <td>0/1</td>\n",
       "      <td>1/1</td>\n",
       "      <td>0/0</td>\n",
       "      <td>0/1</td>\n",
       "      <td>...</td>\n",
       "      <td>0/0</td>\n",
       "      <td>0/0</td>\n",
       "      <td>0/0</td>\n",
       "      <td>0/0</td>\n",
       "      <td>0/1</td>\n",
       "      <td>0/1</td>\n",
       "      <td>1/1</td>\n",
       "      <td>1/1</td>\n",
       "      <td>0/0</td>\n",
       "      <td>1/1</td>\n",
       "    </tr>\n",
       "    <tr>\n",
       "      <th>96</th>\n",
       "      <td>rs9474143</td>\n",
       "      <td>0/0</td>\n",
       "      <td>1/1</td>\n",
       "      <td>0/0</td>\n",
       "      <td>0/1</td>\n",
       "      <td>0/0</td>\n",
       "      <td>0/1</td>\n",
       "      <td>0/0</td>\n",
       "      <td>0/0</td>\n",
       "      <td>0/0</td>\n",
       "      <td>...</td>\n",
       "      <td>0/1</td>\n",
       "      <td>0/0</td>\n",
       "      <td>0/1</td>\n",
       "      <td>0/1</td>\n",
       "      <td>0/0</td>\n",
       "      <td>0/1</td>\n",
       "      <td>0/0</td>\n",
       "      <td>0/1</td>\n",
       "      <td>0/0</td>\n",
       "      <td>0/0</td>\n",
       "    </tr>\n",
       "    <tr>\n",
       "      <th>97</th>\n",
       "      <td>rs35935937</td>\n",
       "      <td>0/0</td>\n",
       "      <td>0/0</td>\n",
       "      <td>0/0</td>\n",
       "      <td>0/0</td>\n",
       "      <td>0/1</td>\n",
       "      <td>0/0</td>\n",
       "      <td>0/0</td>\n",
       "      <td>0/0</td>\n",
       "      <td>0/0</td>\n",
       "      <td>...</td>\n",
       "      <td>0/0</td>\n",
       "      <td>1/1</td>\n",
       "      <td>0/1</td>\n",
       "      <td>0/0</td>\n",
       "      <td>0/0</td>\n",
       "      <td>0/0</td>\n",
       "      <td>0/0</td>\n",
       "      <td>0/1</td>\n",
       "      <td>0/0</td>\n",
       "      <td>0/0</td>\n",
       "    </tr>\n",
       "    <tr>\n",
       "      <th>98</th>\n",
       "      <td>rs73343757</td>\n",
       "      <td>0/0</td>\n",
       "      <td>0/0</td>\n",
       "      <td>0/0</td>\n",
       "      <td>0/0</td>\n",
       "      <td>0/0</td>\n",
       "      <td>0/0</td>\n",
       "      <td>0/0</td>\n",
       "      <td>0/1</td>\n",
       "      <td>0/0</td>\n",
       "      <td>...</td>\n",
       "      <td>0/1</td>\n",
       "      <td>0/0</td>\n",
       "      <td>0/0</td>\n",
       "      <td>0/0</td>\n",
       "      <td>0/1</td>\n",
       "      <td>0/0</td>\n",
       "      <td>0/0</td>\n",
       "      <td>0/0</td>\n",
       "      <td>0/1</td>\n",
       "      <td>0/0</td>\n",
       "    </tr>\n",
       "    <tr>\n",
       "      <th>99</th>\n",
       "      <td>rs1800248</td>\n",
       "      <td>0/0</td>\n",
       "      <td>0/0</td>\n",
       "      <td>0/0</td>\n",
       "      <td>0/1</td>\n",
       "      <td>0/0</td>\n",
       "      <td>0/0</td>\n",
       "      <td>0/0</td>\n",
       "      <td>0/0</td>\n",
       "      <td>0/1</td>\n",
       "      <td>...</td>\n",
       "      <td>0/0</td>\n",
       "      <td>0/1</td>\n",
       "      <td>0/0</td>\n",
       "      <td>0/0</td>\n",
       "      <td>0/0</td>\n",
       "      <td>0/0</td>\n",
       "      <td>0/0</td>\n",
       "      <td>0/1</td>\n",
       "      <td>0/0</td>\n",
       "      <td>0/1</td>\n",
       "    </tr>\n",
       "  </tbody>\n",
       "</table>\n",
       "<p>100 rows × 68 columns</p>\n",
       "</div>"
      ],
      "text/plain": [
       "            0    1    2    3    4    5    6    7    8    9   ...   58   59  \\\n",
       "0    rs2234968  0/0  0/1  0/0  0/0  0/0  1/1  0/0  1/1  0/0  ...  0/0  0/0   \n",
       "1    rs2229094  0/0  0/0  0/1  0/1  0/1  0/1  0/0  0/0  0/0  ...  0/1  0/0   \n",
       "2   rs10829163  0/0  0/1  0/0  0/0  0/1  0/0  0/1  1/1  0/1  ...  0/1  0/0   \n",
       "3   rs10911825  0/1  0/1  0/0  0/0  0/0  0/1  0/1  0/0  0/0  ...  0/0  0/1   \n",
       "4   rs11568351  0/1  0/1  0/1  0/0  0/1  0/1  1/1  0/0  1/1  ...  0/0  0/0   \n",
       "..         ...  ...  ...  ...  ...  ...  ...  ...  ...  ...  ...  ...  ...   \n",
       "95  rs11778026  0/1  0/1  0/0  0/0  0/1  0/1  1/1  0/0  0/1  ...  0/0  0/0   \n",
       "96   rs9474143  0/0  1/1  0/0  0/1  0/0  0/1  0/0  0/0  0/0  ...  0/1  0/0   \n",
       "97  rs35935937  0/0  0/0  0/0  0/0  0/1  0/0  0/0  0/0  0/0  ...  0/0  1/1   \n",
       "98  rs73343757  0/0  0/0  0/0  0/0  0/0  0/0  0/0  0/1  0/0  ...  0/1  0/0   \n",
       "99   rs1800248  0/0  0/0  0/0  0/1  0/0  0/0  0/0  0/0  0/1  ...  0/0  0/1   \n",
       "\n",
       "     60   61   62   63   64   65   66   67  \n",
       "0   0/1  0/0  0/1  0/1  0/1  0/1  0/0  0/1  \n",
       "1   0/0  0/1  0/1  0/1  0/1  0/0  0/0  0/1  \n",
       "2   0/1  0/1  0/0  0/0  1/1  1/1  0/1  0/0  \n",
       "3   0/0  0/1  0/0  0/1  0/1  0/0  0/1  0/0  \n",
       "4   0/0  0/0  0/0  1/1  0/1  0/1  1/1  0/1  \n",
       "..  ...  ...  ...  ...  ...  ...  ...  ...  \n",
       "95  0/0  0/0  0/1  0/1  1/1  1/1  0/0  1/1  \n",
       "96  0/1  0/1  0/0  0/1  0/0  0/1  0/0  0/0  \n",
       "97  0/1  0/0  0/0  0/0  0/0  0/1  0/0  0/0  \n",
       "98  0/0  0/0  0/1  0/0  0/0  0/0  0/1  0/0  \n",
       "99  0/0  0/0  0/0  0/0  0/0  0/1  0/0  0/1  \n",
       "\n",
       "[100 rows x 68 columns]"
      ]
     },
     "execution_count": 294,
     "metadata": {},
     "output_type": "execute_result"
    }
   ],
   "source": [
    "data"
   ]
  },
  {
   "cell_type": "code",
   "execution_count": 310,
   "id": "4e549e81",
   "metadata": {},
   "outputs": [
    {
     "data": {
      "text/plain": [
       "0/0    63\n",
       "0/1    34\n",
       "1/1     3\n",
       "Name: 2, dtype: int64"
      ]
     },
     "execution_count": 310,
     "metadata": {},
     "output_type": "execute_result"
    }
   ],
   "source": [
    "data.iloc[:, 2].value_counts()"
   ]
  },
  {
   "cell_type": "code",
   "execution_count": 487,
   "id": "0b32e9bb",
   "metadata": {},
   "outputs": [],
   "source": [
    "\"\"\"\n",
    "Input: df: pandas series with rows corresponding to SNPs, values '0/0', '0/1', '1/1', denoting homo- and\n",
    "heterozygotes (0 for the dominant allele, 1 for the recessive). \n",
    "Output: expected Hardy-Weinbgerg distribution for the given number of alleles\n",
    "\"\"\"\n",
    "def expected_dist(df: pd.DataFrame) -> tuple:\n",
    "    p = 2*df.value_counts().get('0/0', 0) + df.value_counts().get('0/1', 0)\n",
    "    q = 2*df.value_counts().get('1/1', 0) + df.value_counts().get('0/1', 0)\n",
    "    summa = p + q\n",
    "    return p**2/(2*summa), p*q/summa, q**2/(2*summa)"
   ]
  },
  {
   "cell_type": "code",
   "execution_count": 614,
   "id": "384c4db3",
   "metadata": {},
   "outputs": [
    {
     "data": {
      "text/plain": [
       "1     0/0\n",
       "2     0/0\n",
       "3     0/0\n",
       "4     0/1\n",
       "5     0/0\n",
       "     ... \n",
       "63    0/0\n",
       "64    0/0\n",
       "65    0/1\n",
       "66    0/0\n",
       "67    0/1\n",
       "Name: 99, Length: 67, dtype: object"
      ]
     },
     "execution_count": 614,
     "metadata": {},
     "output_type": "execute_result"
    }
   ],
   "source": [
    "data.iloc[99, 1:]"
   ]
  },
  {
   "cell_type": "code",
   "execution_count": 616,
   "id": "4400ccfc",
   "metadata": {},
   "outputs": [],
   "source": [
    "a = [1-data.iloc[i, 1:].value_counts().get('0/1',0)/expected_dist(data.iloc[i, 1:])[1] for i in range(1, 99)]"
   ]
  },
  {
   "cell_type": "code",
   "execution_count": 624,
   "id": "226b1956",
   "metadata": {},
   "outputs": [
    {
     "data": {
      "text/plain": [
       "[-0.19884559884559883,\n",
       " 0.055128205128205154,\n",
       " -0.21818181818181825,\n",
       " 0.04495614035087725,\n",
       " -0.08550855085508546,\n",
       " -0.03266055045871563,\n",
       " -0.03266055045871563,\n",
       " -0.17543859649122795,\n",
       " 0.045584045584045496,\n",
       " 0.080091533180778,\n",
       " 0.3516129032258064,\n",
       " -0.14529914529914523,\n",
       " -0.10352941176470587,\n",
       " -0.15517241379310343,\n",
       " -0.005100510051005092,\n",
       " 0.0027418723070896656,\n",
       " 0.2298850574712643,\n",
       " -0.005100510051005092,\n",
       " 0.13123183545718753,\n",
       " -0.17543859649122795,\n",
       " -0.1254940711462451,\n",
       " 0.02110389610389607,\n",
       " -0.1394557823129252,\n",
       " 0.1015325670498084,\n",
       " 0.014705882352941124,\n",
       " -0.2761904761904761,\n",
       " 0.2518883415435139,\n",
       " -0.04256292906178483,\n",
       " 0.007407407407407307,\n",
       " -0.10016420361247946,\n",
       " -0.03266055045871563,\n",
       " -0.04256292906178483,\n",
       " 0.026162790697674465,\n",
       " 0.0006779661016949046,\n",
       " -0.10973084886128359,\n",
       " 0.0983436853002071,\n",
       " -0.04256292906178483,\n",
       " 0.1015325670498084,\n",
       " -0.015896307165566226,\n",
       " 0.080091533180778,\n",
       " 0.05411764705882349,\n",
       " 0.178921568627451,\n",
       " 0.03476354525524583,\n",
       " 0.02898550724637683,\n",
       " 0.08469945355191255,\n",
       " 0.21531531531531534,\n",
       " -0.10352941176470587,\n",
       " 0.2623853211009175,\n",
       " 0.2298850574712643,\n",
       " -0.08064516129032273,\n",
       " 0.02110389610389607,\n",
       " 0.31759259259259254,\n",
       " 0.2298850574712643,\n",
       " 0.178921568627451,\n",
       " 0.11053391053391048,\n",
       " 0.2298850574712643,\n",
       " -0.005100510051005092,\n",
       " -0.026819923371647514,\n",
       " -0.1964285714285714,\n",
       " 0.3516129032258064,\n",
       " -0.10973084886128359,\n",
       " -0.04256292906178483,\n",
       " -0.08766233766233777,\n",
       " 0.05114083398898506,\n",
       " 0.1077164120642381,\n",
       " 0.024089635854341762,\n",
       " -0.06680512287988916,\n",
       " 0.04285714285714293,\n",
       " -0.1166666666666667,\n",
       " -0.1964285714285714,\n",
       " -0.010558069381598756,\n",
       " -0.04464918497519488,\n",
       " -0.08766233766233777,\n",
       " -0.03720349563046188,\n",
       " -0.1964285714285714,\n",
       " -0.13559322033898313,\n",
       " -0.07290349768225868,\n",
       " -0.21541950113378694,\n",
       " 0.17719298245614035,\n",
       " -0.0684803001876173,\n",
       " -0.33554817275747517,\n",
       " -0.005100510051005092,\n",
       " -0.08766233766233777,\n",
       " 0.012471655328798126,\n",
       " -0.0924761239226648,\n",
       " 0.025960539979231645,\n",
       " -0.36734693877551017,\n",
       " 0.02898550724637683,\n",
       " -0.10743801652892548,\n",
       " -1.0,\n",
       " -0.07290349768225868,\n",
       " -0.10973084886128359,\n",
       " 0.006355932203389814,\n",
       " 0.11842105263157898,\n",
       " 0.007407407407407307,\n",
       " 0.11872620283835245,\n",
       " 0.17719298245614035,\n",
       " -0.15517241379310343]"
      ]
     },
     "execution_count": 624,
     "metadata": {},
     "output_type": "execute_result"
    }
   ],
   "source": [
    "a"
   ]
  },
  {
   "cell_type": "code",
   "execution_count": 625,
   "id": "9d7c7f8d",
   "metadata": {},
   "outputs": [
    {
     "data": {
      "text/plain": [
       "89"
      ]
     },
     "execution_count": 625,
     "metadata": {},
     "output_type": "execute_result"
    }
   ],
   "source": [
    "import numpy as np\n",
    "np.argmin(a)"
   ]
  },
  {
   "cell_type": "code",
   "execution_count": 630,
   "id": "446018b9",
   "metadata": {},
   "outputs": [
    {
     "data": {
      "text/plain": [
       "0     rs3738815\n",
       "1           0/1\n",
       "2           0/1\n",
       "3           0/1\n",
       "4           0/1\n",
       "        ...    \n",
       "63          0/1\n",
       "64          0/1\n",
       "65          0/1\n",
       "66          0/1\n",
       "67          0/1\n",
       "Name: 90, Length: 68, dtype: object"
      ]
     },
     "execution_count": 630,
     "metadata": {},
     "output_type": "execute_result"
    }
   ],
   "source": [
    "data.iloc[90]"
   ]
  },
  {
   "cell_type": "code",
   "execution_count": 490,
   "id": "3361923c",
   "metadata": {},
   "outputs": [],
   "source": [
    "def inbreeding_coefficient_F(df):\n",
    "    return 1 - (df.value_counts().get('0/1', 0)/expected_dist(df)[1])"
   ]
  },
  {
   "cell_type": "code",
   "execution_count": 492,
   "id": "7d288d8e",
   "metadata": {},
   "outputs": [
    {
     "data": {
      "text/plain": [
       "Int64Index([ 0,  1,  2,  3,  4,  5,  6,  7,  8,  9, 10, 11, 12, 13, 14, 15, 16,\n",
       "            17, 18, 19, 20, 21, 22, 23, 24, 25, 26, 27, 28, 29, 30, 31, 32, 33,\n",
       "            34, 35, 36, 37, 38, 39, 40, 41, 42, 43, 44, 45, 46, 47, 48, 49, 50,\n",
       "            51, 52, 53, 54, 55, 56, 57, 58, 59, 60, 61, 62, 63, 64, 65, 66,\n",
       "            67],\n",
       "           dtype='int64')"
      ]
     },
     "execution_count": 492,
     "metadata": {},
     "output_type": "execute_result"
    }
   ],
   "source": [
    "data.columns"
   ]
  },
  {
   "cell_type": "code",
   "execution_count": 494,
   "id": "bbc66641",
   "metadata": {},
   "outputs": [
    {
     "name": "stdout",
     "output_type": "stream",
     "text": [
      "0\n",
      "1\n",
      "2\n",
      "3\n",
      "4\n",
      "5\n",
      "6\n",
      "7\n",
      "8\n",
      "9\n",
      "10\n",
      "11\n",
      "12\n",
      "13\n",
      "14\n",
      "15\n",
      "16\n",
      "17\n",
      "18\n",
      "19\n",
      "20\n",
      "21\n",
      "22\n",
      "23\n",
      "24\n",
      "25\n",
      "26\n",
      "27\n",
      "28\n",
      "29\n",
      "30\n",
      "31\n",
      "32\n",
      "33\n",
      "34\n",
      "35\n",
      "36\n",
      "37\n",
      "38\n",
      "39\n",
      "40\n",
      "41\n",
      "42\n",
      "43\n",
      "44\n",
      "45\n",
      "46\n",
      "47\n",
      "48\n",
      "49\n",
      "50\n",
      "51\n",
      "52\n",
      "53\n",
      "54\n",
      "55\n",
      "56\n",
      "57\n",
      "58\n",
      "59\n",
      "60\n",
      "61\n",
      "62\n",
      "63\n",
      "64\n",
      "65\n",
      "66\n",
      "67\n"
     ]
    }
   ],
   "source": [
    "for df in data:\n",
    "    print(df)"
   ]
  },
  {
   "cell_type": "code",
   "execution_count": 505,
   "id": "a8a6988d",
   "metadata": {},
   "outputs": [],
   "source": [
    "Fs = [inbreeding_coefficient_F(data[df]) for df in range(1, len(data.columns))]\n"
   ]
  },
  {
   "cell_type": "code",
   "execution_count": 539,
   "id": "86321fe6",
   "metadata": {},
   "outputs": [
    {
     "data": {
      "text/plain": [
       "-0.11482720178372352"
      ]
     },
     "execution_count": 539,
     "metadata": {},
     "output_type": "execute_result"
    }
   ],
   "source": [
    "inbreeding_coefficient_F(data[60])"
   ]
  },
  {
   "cell_type": "code",
   "execution_count": 516,
   "id": "a3e0eb02",
   "metadata": {},
   "outputs": [],
   "source": [
    "a = sorted(Fs)"
   ]
  },
  {
   "cell_type": "code",
   "execution_count": 517,
   "id": "64829158",
   "metadata": {},
   "outputs": [
    {
     "data": {
      "text/plain": [
       "[-0.1428571428571428,\n",
       " -0.1403142817410652,\n",
       " -0.11827956989247301,\n",
       " -0.11827956989247301,\n",
       " -0.11482720178372352,\n",
       " -0.11482720178372352,\n",
       " -0.10461338531513964,\n",
       " -0.10383776151970237,\n",
       " -0.09649122807017552,\n",
       " -0.09649122807017552,\n",
       " -0.09613390608798689,\n",
       " -0.09434587962195318,\n",
       " -0.09434587962195318,\n",
       " -0.07908935386235028,\n",
       " -0.07908935386235028,\n",
       " -0.0625,\n",
       " -0.055085265611581224,\n",
       " -0.054196513042302996,\n",
       " -0.054196513042302996,\n",
       " -0.03963612735542554,\n",
       " -0.03950103950103956,\n",
       " -0.03688342467782535,\n",
       " -0.03688342467782535,\n",
       " -0.029064107912668558,\n",
       " -0.028213166144200663,\n",
       " -0.02471368294153109,\n",
       " -0.01637492941840768,\n",
       " -0.01637492941840768,\n",
       " -0.0043290043290042934,\n",
       " 0.007795889440113335,\n",
       " 0.009324009324009341,\n",
       " 0.012474012474012364,\n",
       " 0.025341130604288553,\n",
       " 0.025341130604288553,\n",
       " 0.02865468674113647,\n",
       " 0.04009034443817061,\n",
       " 0.048933885565270674,\n",
       " 0.048933885565270674,\n",
       " 0.05018611218072133,\n",
       " 0.051490514905149,\n",
       " 0.053763440860215006,\n",
       " 0.053763440860215006,\n",
       " 0.053763440860215006,\n",
       " 0.05392620624408695,\n",
       " 0.06238730616660659,\n",
       " 0.0625,\n",
       " 0.06759906759906764,\n",
       " 0.07628603280777191,\n",
       " 0.0816175381424975,\n",
       " 0.0816175381424975,\n",
       " 0.10798756588728198,\n",
       " 0.11029298972235002,\n",
       " 0.11111111111111116,\n",
       " 0.12280701754385959,\n",
       " 0.125,\n",
       " 0.125,\n",
       " 0.1314646664034741,\n",
       " 0.14086801955265893,\n",
       " 0.14086801955265893,\n",
       " 0.14086801955265893,\n",
       " 0.16839916839916835,\n",
       " 0.1684587813620072,\n",
       " 0.18414918414918413,\n",
       " 0.22037422037422028,\n",
       " 0.22580645161290325,\n",
       " 0.30666666666666664,\n",
       " 0.35897435897435903]"
      ]
     },
     "execution_count": 517,
     "metadata": {},
     "output_type": "execute_result"
    }
   ],
   "source": [
    "a"
   ]
  },
  {
   "cell_type": "code",
   "execution_count": 375,
   "id": "29abfe2d",
   "metadata": {},
   "outputs": [
    {
     "data": {
      "text/plain": [
       "100"
      ]
     },
     "execution_count": 375,
     "metadata": {},
     "output_type": "execute_result"
    }
   ],
   "source": [
    "sum(data.iloc[:, 1].value_counts().values)"
   ]
  },
  {
   "cell_type": "code",
   "execution_count": 326,
   "id": "ad276df2",
   "metadata": {},
   "outputs": [],
   "source": []
  },
  {
   "cell_type": "code",
   "execution_count": 328,
   "id": "f653563a",
   "metadata": {},
   "outputs": [
    {
     "name": "stdout",
     "output_type": "stream",
     "text": [
      "[-0.15238095238095228, -4.479797979797979, -1.0448717948717947, -2.4, -0.7152777777777779, -2.267326732673267, -2.6926605504587156, -2.6926605504587156, -inf, -1.407407407407407, -1.6304347826086958, -0.048387096774193505, -inf, -2.3911111111111114, -inf, -1.3308580858085808, -2.3378378378378377, -0.4367816091954022, -1.3308580858085808, 0.02292184479425574, -2.8888888888888893, -1.275252525252525, -2.1607142857142856, -2.639455782312925, -1.4540229885057472, -1.2352941176470589, -inf, -0.10634920634920642, -4.814492753623188, -0.36969696969696964, -3.404761904761905, -2.6926605504587156, -4.814492753623188, -0.4599483204134367, -0.2861538461538462, -1.4811594202898553, -0.3659420289855071, -4.814492753623188, -1.4540229885057472, -0.6479885057471264, -1.6304347826086958, -0.8400000000000001, -0.30718954248366015, -1.1399676375404533, -0.6376811594202898, -2.4153005464480874, 0.13884472708002116, -2.3911111111111114, -0.13761467889908263, -0.4367816091954022, -inf, -2.1607142857142856, 0.2666666666666667, -0.4367816091954022, -0.30718954248366015, -0.5101010101010102, -0.4367816091954022, -1.3308580858085808, -4.471264367816092, -inf, -0.048387096774193505, -1.4811594202898553, -4.814492753623188, -5.845238095238095, -0.5760368663594471, -1.0420420420420422, -3.442577030812325, -3.0482866043613708]\n"
     ]
    },
    {
     "name": "stderr",
     "output_type": "stream",
     "text": [
      "/tmp/ipykernel_4294/1084594357.py:2: RuntimeWarning: divide by zero encountered in double_scalars\n",
      "  return 1 - (df.value_counts().get('0/1', 0)/expected_dist(df)[1])\n",
      "/tmp/ipykernel_4294/1084594357.py:2: RuntimeWarning: divide by zero encountered in double_scalars\n",
      "  return 1 - (df.value_counts().get('0/1', 0)/expected_dist(df)[1])\n",
      "/tmp/ipykernel_4294/1084594357.py:2: RuntimeWarning: divide by zero encountered in double_scalars\n",
      "  return 1 - (df.value_counts().get('0/1', 0)/expected_dist(df)[1])\n",
      "/tmp/ipykernel_4294/1084594357.py:2: RuntimeWarning: divide by zero encountered in double_scalars\n",
      "  return 1 - (df.value_counts().get('0/1', 0)/expected_dist(df)[1])\n",
      "/tmp/ipykernel_4294/1084594357.py:2: RuntimeWarning: divide by zero encountered in double_scalars\n",
      "  return 1 - (df.value_counts().get('0/1', 0)/expected_dist(df)[1])\n",
      "/tmp/ipykernel_4294/1084594357.py:2: RuntimeWarning: divide by zero encountered in double_scalars\n",
      "  return 1 - (df.value_counts().get('0/1', 0)/expected_dist(df)[1])\n"
     ]
    }
   ],
   "source": [
    "data.iloc[1, :].value_counts(), expected_dist(data.iloc[1, :])\n",
    "Fs = [inbreeding_coefficient_F(data.iloc[i, :]) for i in range(len(data.columns))]\n",
    "print(Fs)"
   ]
  }
 ],
 "metadata": {
  "kernelspec": {
   "display_name": "Python 3 (ipykernel)",
   "language": "python",
   "name": "python3"
  },
  "language_info": {
   "codemirror_mode": {
    "name": "ipython",
    "version": 3
   },
   "file_extension": ".py",
   "mimetype": "text/x-python",
   "name": "python",
   "nbconvert_exporter": "python",
   "pygments_lexer": "ipython3",
   "version": "3.9.15"
  }
 },
 "nbformat": 4,
 "nbformat_minor": 5
}
