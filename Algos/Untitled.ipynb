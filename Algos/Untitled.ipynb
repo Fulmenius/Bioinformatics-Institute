{
 "cells": [
  {
   "cell_type": "code",
   "execution_count": 29,
   "id": "96588081",
   "metadata": {},
   "outputs": [],
   "source": [
    "import numpy as np\n",
    "dist = np.array([[1, 10, 3, 1, 2, 4, 115, 2, 5, 1, 2], [4, 5, 6, 23, 5, 5, 3, 2, 4, 2, 3]])\n",
    "\n",
    "centroids = np.array\n"
   ]
  },
  {
   "cell_type": "code",
   "execution_count": null,
   "id": "89f9fb7c",
   "metadata": {},
   "outputs": [],
   "source": []
  }
 ],
 "metadata": {
  "kernelspec": {
   "display_name": "Python 3 (ipykernel)",
   "language": "python",
   "name": "python3"
  },
  "language_info": {
   "codemirror_mode": {
    "name": "ipython",
    "version": 3
   },
   "file_extension": ".py",
   "mimetype": "text/x-python",
   "name": "python",
   "nbconvert_exporter": "python",
   "pygments_lexer": "ipython3",
   "version": "3.9.13"
  }
 },
 "nbformat": 4,
 "nbformat_minor": 5
}
