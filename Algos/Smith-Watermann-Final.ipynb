{
 "cells": [
  {
   "cell_type": "code",
   "execution_count": 1,
   "id": "3bf47988",
   "metadata": {},
   "outputs": [
    {
     "name": "stdout",
     "output_type": "stream",
     "text": [
      "fff ff\n"
     ]
    },
    {
     "ename": "IndexError",
     "evalue": "list index out of range",
     "output_type": "error",
     "traceback": [
      "\u001b[1;31m---------------------------------------------------------------------------\u001b[0m",
      "\u001b[1;31mIndexError\u001b[0m                                Traceback (most recent call last)",
      "\u001b[1;32mC:\\Users\\FULMEN~1\\AppData\\Local\\Temp/ipykernel_2156/3223562628.py\u001b[0m in \u001b[0;36m<module>\u001b[1;34m\u001b[0m\n\u001b[0;32m     10\u001b[0m \u001b[0mnumbers_to_bases\u001b[0m \u001b[1;33m=\u001b[0m \u001b[1;33m{\u001b[0m\u001b[1;36m0\u001b[0m\u001b[1;33m:\u001b[0m\u001b[1;34m'_'\u001b[0m\u001b[1;33m,\u001b[0m \u001b[1;36m1\u001b[0m\u001b[1;33m:\u001b[0m\u001b[1;34m'A'\u001b[0m\u001b[1;33m,\u001b[0m \u001b[1;36m2\u001b[0m\u001b[1;33m:\u001b[0m\u001b[1;34m'T'\u001b[0m\u001b[1;33m,\u001b[0m \u001b[1;36m3\u001b[0m\u001b[1;33m:\u001b[0m\u001b[1;34m'G'\u001b[0m\u001b[1;33m,\u001b[0m \u001b[1;36m4\u001b[0m\u001b[1;33m:\u001b[0m\u001b[1;34m'C'\u001b[0m\u001b[1;33m,\u001b[0m \u001b[1;36m5\u001b[0m\u001b[1;33m:\u001b[0m\u001b[1;34m'U'\u001b[0m\u001b[1;33m}\u001b[0m\u001b[1;33m\u001b[0m\u001b[1;33m\u001b[0m\u001b[0m\n\u001b[0;32m     11\u001b[0m \u001b[1;33m\u001b[0m\u001b[0m\n\u001b[1;32m---> 12\u001b[1;33m \u001b[0mmatch\u001b[0m \u001b[1;33m=\u001b[0m \u001b[0mfloat\u001b[0m\u001b[1;33m(\u001b[0m\u001b[0msequence\u001b[0m\u001b[1;33m[\u001b[0m\u001b[1;36m2\u001b[0m\u001b[1;33m]\u001b[0m\u001b[1;33m)\u001b[0m \u001b[1;31m# match score\u001b[0m\u001b[1;33m\u001b[0m\u001b[1;33m\u001b[0m\u001b[0m\n\u001b[0m\u001b[0;32m     13\u001b[0m \u001b[0mmu\u001b[0m \u001b[1;33m=\u001b[0m \u001b[0mfloat\u001b[0m\u001b[1;33m(\u001b[0m\u001b[0msequence\u001b[0m\u001b[1;33m[\u001b[0m\u001b[1;36m3\u001b[0m\u001b[1;33m]\u001b[0m\u001b[1;33m)\u001b[0m    \u001b[1;31m# mismatch penalty\u001b[0m\u001b[1;33m\u001b[0m\u001b[1;33m\u001b[0m\u001b[0m\n\u001b[0;32m     14\u001b[0m \u001b[0mdelta\u001b[0m \u001b[1;33m=\u001b[0m \u001b[0mfloat\u001b[0m\u001b[1;33m(\u001b[0m\u001b[0msequence\u001b[0m\u001b[1;33m[\u001b[0m\u001b[1;36m4\u001b[0m\u001b[1;33m]\u001b[0m\u001b[1;33m)\u001b[0m \u001b[1;31m# gap penalty\u001b[0m\u001b[1;33m\u001b[0m\u001b[1;33m\u001b[0m\u001b[0m\n",
      "\u001b[1;31mIndexError\u001b[0m: list index out of range"
     ]
    }
   ],
   "source": [
    "import numpy as np\n",
    "#from numba import jit\n",
    "import traceback\n",
    "\n",
    "sequence = input().split() # seq1 seq2 match mismatch gap\n",
    "\n",
    "\n",
    "# Encode bases as numbers and vice versa\n",
    "bases_to_numbers = {'_':0, 'A':1, 'T':2, 'G':3, 'C':4, 'U':5}\n",
    "numbers_to_bases = {0:'_', 1:'A', 2:'T', 3:'G', 4:'C', 5:'U'}\n",
    "\n",
    "match = float(sequence[2]) # match score\n",
    "mu = float(sequence[3])    # mismatch penalty\n",
    "delta = float(sequence[4]) # gap penalty\n",
    "\n",
    "# Transform sequence into numeric form\n",
    "def btn(s):\n",
    "    return np.array(list(map(lambda x: bases_to_numbers[x], list(s))))\n",
    "\n",
    "def ntb(s):\n",
    "    return np.array(list(map(lambda x: numbers_to_bases[x], list(s))))\n",
    "\n",
    "weight_matrix_standard = np.array([[-1, delta, delta, delta, delta, delta],   #    gap A T G C U\n",
    "                                  [delta, match, mu, mu, mu, mu],             # gap\n",
    "                                  [delta, mu, match, mu, mu, mu],             # A \n",
    "                                  [delta, mu, mu, match, mu, mu],             # T\n",
    "                                  [delta, mu, mu, mu, match, mu],             # G\n",
    "                                  [delta, mu, mu, mu, mu, match]])            # C\n",
    "                                                                              # U\n",
    "#---------------------------------------------------------------------------------------------------------------\n",
    "# Get optimal alignment from optimal path\n",
    "#@jit(nopython=True)\n",
    "def path_to_alignment(seq1, seq2, path):\n",
    "    try:\n",
    "        seqA = list(reversed(list(seq1[path[-1][0]:path[0][0]]))) if len(path) > 1 else [seq1[path[0][0]]] # We move from the beginning of the sequence to the end\n",
    "        assert len(seqA) > 0\n",
    "    except BaseException:\n",
    "        return traceback.format_exc()\n",
    "    \n",
    "    try:\n",
    "        seqB = list(reversed(list(seq2[path[-1][1]:path[0][1]]))) if len(path) > 1 else [seq2[path[0][1]]] # and .pop() gives us the last element, so we reverse the order\n",
    "        assert len(seqB) > 0\n",
    "    except BaseException:\n",
    "        return traceback.format_exc()\n",
    "\n",
    "    grenzenA = (path[0][0], path[-1][0])\n",
    "    grenzenB = (path[0][1], path[-1][1])\n",
    "    path = path[::-1]       # path is generated from the end to the beginning, so we reverse it too\n",
    "    aligned_seq1, aligned_seq2  = [], []\n",
    "    \n",
    "    try:\n",
    "        leftA = ''.join(ntb(seq1[0:grenzenA[1]])).lower()\n",
    "        rightA = ''.join(ntb(seq1[grenzenA[0]::])).lower()\n",
    "        leftB = ''.join(ntb(seq2[0:grenzenB[1]])).lower()\n",
    "        rightB = ''.join(ntb(seq2[grenzenB[0]::])).lower()\n",
    "    except BaseException:\n",
    "        return 'FUCK', 'YOMAMA'\n",
    "    \n",
    "    def diff(i): # displacement vector at each step. Tells us what pair of symbols to choose\n",
    "        return np.array(path[i+1]) - np.array(path[i])\n",
    "    \n",
    "    diff_path = list(map(diff, range(len(path)-1))) # rewrite the path as a sequence of displacements\n",
    "    \n",
    "    try:\n",
    "        for i in range(len(diff_path)): # if (1, 1), append two nucleotides, \n",
    "                                        # if (0, 1) or (1, 0), append gap+nucl or vice versa\n",
    "            A = numbers_to_bases[seqA.pop()] if diff_path[i][0] == 1 and seqA else '_' \n",
    "            B = numbers_to_bases[seqB.pop()] if diff_path[i][1] == 1 and seqB else '_'\n",
    "            aligned_seq1.append(A)\n",
    "            aligned_seq2.append(B)\n",
    "            \n",
    "    except BaseException as exep:\n",
    "        return traceback.format_exc()\n",
    "    \n",
    "    return leftA + ''.join(aligned_seq1) + rightA, leftB + ''.join(aligned_seq2) + rightB\n",
    "\n",
    "#------------------------------------------------------------------------------------------------------------\n",
    "\n",
    "#@jit(nopython=True)\n",
    "def smith_watermann(seq1, seq2, weight_matrix):\n",
    "    len1, len2 = len(seq1), len(seq2)\n",
    "    \n",
    "    paths = {} # For each element of the path scores matrix we will determine and remember \n",
    "               # the optimal precedent element\n",
    "               # at the same time as we determine the value of the element itslef. paths{} is a\n",
    "               # dictionary of links: path : (i, j) -> optimal_precedent((i, j))\n",
    "                \n",
    "    current_max = (0, (0, 0)) # current maximal value in the matrix and its position \n",
    "    path_scores = np.zeros([len1+1, len2+1]) #Path scores matrix initialization\n",
    "    path_scores[0, 0] = 0\n",
    "    path_scores[1:, 0] = [max(delta*i, 0) for i in range(1, len1+1)]\n",
    "    path_scores[0, 1:] = [max(delta*j, 0) for j in range(1, len2+1)]\n",
    "    \n",
    "#-----------------------------------------------------------------------------------------------------------\n",
    "    \n",
    "    for i in range(1, len1+1): # Optimal precedent elements on the boundary are determined uniquely\n",
    "                               # double-check if boundary elements are not zero\n",
    "                               # we only need links between nonzero elements\n",
    "        if path_scores[(i, 0)] != 0:\n",
    "            paths[(i, 0)] = (i-1, 0)\n",
    "            \n",
    "    for j in range(1, len2+1):\n",
    "        if path_scores[(0, j)] != 0:\n",
    "            paths[(0, j)] = (0, j-1)\n",
    "    \n",
    "#-----------------------------------------------------------------------------------------------------------\n",
    "    \n",
    "    for i in range(1, len1+1):\n",
    "        for j in range(1, len2+1):\n",
    "            prev_pos = ((i-1, j-1), (i, j-1), (i-1, j)) # Possible precedent elements\n",
    "            # Scores of paths that come from the set of optimal precedent elements\n",
    "            prev_scores = (path_scores[i-1, j-1] + weight_matrix[seq1[i-1], seq2[j-1]],\n",
    "                                    path_scores[i, j-1] + delta, \n",
    "                                    path_scores[i-1, j] + delta)\n",
    "                                    \n",
    "            path_scores[i, j] = max(*prev_scores, 0)\n",
    "            current_max = max(current_max, (path_scores[i, j], (i, j)), key = lambda x: x[0])\n",
    "            # Add the link to the optimal precedent element into paths{}\n",
    "            \n",
    "            if path_scores[i, j] != 0: # if the score of the current element is not zero \n",
    "                                       # add the link to the optimal precedent element into paths{}\n",
    "                    paths[(i, j)] = max(zip(prev_pos, prev_scores), key = lambda x: x[1])[0]\n",
    "                    \n",
    "            # So paths{} only contains links to nonzero elements that start at nonzero elements\n",
    "        \n",
    "    optimal_path = [current_max[1]] # optimal path must contain the element with the highest score\n",
    "    optimal_score = current_max[0]  # the highest score in the table is the score of the alignment\n",
    "    \n",
    "    while optimal_path[-1] in paths: # Follow the links to the optimal elements backwards \n",
    "                                     # until we reach the element (0, 0)\n",
    "        optimal_path.append(paths[optimal_path[-1]])\n",
    "    \n",
    "    return seq1, seq2, path_scores, optimal_path,\\\n",
    "            path_to_alignment(seq1, seq2, optimal_path), int(optimal_score)\n",
    "\n",
    "#-----------------------------------------------------------------------------------------------------------\n",
    "\n",
    "print(smith_watermann(btn(sequence[0]), btn(sequence[1]), weight_matrix_standard)[5],\\\n",
    "      *smith_watermann(btn(sequence[0]), btn(sequence[1]), weight_matrix_standard)[4])"
   ]
  },
  {
   "cell_type": "code",
   "execution_count": 30,
   "id": "5d093bb2",
   "metadata": {},
   "outputs": [
    {
     "name": "stdout",
     "output_type": "stream",
     "text": [
      "AAA\n"
     ]
    }
   ],
   "source": [
    "try:\n",
    "    assert 1 == 0\n",
    "except AssertionError:\n",
    "    print(\"AAA\")"
   ]
  },
  {
   "cell_type": "code",
   "execution_count": 10,
   "id": "3d98ae79",
   "metadata": {},
   "outputs": [],
   "source": [
    "def path_to_alignment_2(seq1, seq2, path):\n",
    "    seq1_aligned = ntb([seq1[i-1] for i in [P[0] for P in path]])\n",
    "    seq2_aligned = ntb([seq2[j-1] for j in [P[1] for P in path]])\n",
    "    return seq1_aligned, seq2_aligned"
   ]
  },
  {
   "cell_type": "code",
   "execution_count": 43,
   "id": "1c00c1a2",
   "metadata": {},
   "outputs": [
    {
     "data": {
      "text/plain": [
       "array([], dtype=int32)"
      ]
     },
     "execution_count": 43,
     "metadata": {},
     "output_type": "execute_result"
    }
   ],
   "source": [
    "a = np.array([1])\n",
    "a[0:0]\n"
   ]
  },
  {
   "cell_type": "code",
   "execution_count": 28,
   "id": "4247a8be",
   "metadata": {},
   "outputs": [
    {
     "name": "stdout",
     "output_type": "stream",
     "text": [
      "4 tgttacTTA_CGt ggttgacTTGACTg\n"
     ]
    }
   ],
   "source": []
  },
  {
   "cell_type": "code",
   "execution_count": 90,
   "id": "2943b215",
   "metadata": {},
   "outputs": [
    {
     "data": {
      "text/plain": [
       "'mamapapa'"
      ]
     },
     "execution_count": 90,
     "metadata": {},
     "output_type": "execute_result"
    }
   ],
   "source": [
    "a = [1, 2, 3, 4, 5] \n",
    "a[3:0:-1]\n",
    "c = 'mama'\n",
    "d = 'papa'\n",
    "c + d"
   ]
  }
 ],
 "metadata": {
  "kernelspec": {
   "display_name": "Python 3 (ipykernel)",
   "language": "python",
   "name": "python3"
  },
  "language_info": {
   "codemirror_mode": {
    "name": "ipython",
    "version": 3
   },
   "file_extension": ".py",
   "mimetype": "text/x-python",
   "name": "python",
   "nbconvert_exporter": "python",
   "pygments_lexer": "ipython3",
   "version": "3.7.9"
  }
 },
 "nbformat": 4,
 "nbformat_minor": 5
}
