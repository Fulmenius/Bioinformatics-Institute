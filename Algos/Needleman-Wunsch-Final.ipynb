{
 "cells": [
  {
   "cell_type": "code",
   "execution_count": 42,
   "id": "ecd1bf1c",
   "metadata": {},
   "outputs": [
    {
     "name": "stdout",
     "output_type": "stream",
     "text": [
      "AAAA AATA -1 1 0 -1 -1 0 1 -1 -1 -1 -1 1 -1 -1 -1 -1 1\n",
      "AAAA AATA\n"
     ]
    }
   ],
   "source": [
    "import numpy as np\n",
    "\n",
    "sequence = input().split()\n",
    "\n",
    "\n",
    "# Encode bases as numbers and vice versa\n",
    "bases_to_numbers = {'_':0, 'A':1, 'T':2, 'G':3, 'C':4, 'U':5}\n",
    "numbers_to_bases = {0:'_', 1:'A', 2:'T', 3:'G', 4:'C', 5:'U'}\n",
    "\n",
    "delta = float(sequence[2]) # gap penalty\n",
    "mu = -1    # default mismatch penalty\n",
    "\n",
    "# Transform sequence into numeric form\n",
    "def btn(s):\n",
    "    return np.array(list(map(lambda x: bases_to_numbers[x], list(s))))\n",
    "\n",
    "weight_matrix_standard = np.array([[-1, delta, delta, delta, delta, delta],  #    gap A T G C U\n",
    "                                  [delta, 1, mu, mu, mu, mu],             # gap\n",
    "                                  [delta, mu, 1, mu, mu, mu],             # A \n",
    "                                  [delta, mu, mu, 1, mu, mu],             # T\n",
    "                                  [delta, mu, mu, mu, 1, mu],             # G\n",
    "                                  [delta, mu, mu, mu, mu, 1]])            # C\n",
    "                                                                          # U\n",
    "    \n",
    "# Determine the shape of the input matrix and construct it in the same form as the standard one\n",
    "m_size = int((len(sequence[3::]))**(1/2))\n",
    "left_column = np.array([[delta]]*m_size)\n",
    "top_row = np.array([[-1]] + [[delta]]*m_size).reshape(1, 1+m_size)\n",
    "# The input matrix is weight_submatrix\n",
    "weight_submatrix = np.array(list(map(float, sequence[3::]))).reshape((m_size, m_size))\n",
    "weight_matrix_custom = np.r_[top_row, np.c_[left_column, weight_submatrix]]\n",
    "\n",
    "\n",
    "# Get optimal alignment from optimal path\n",
    "def path_to_alignment(seq1, seq2, path):\n",
    "    seqA = list(seq1[::-1]) # We move from the beginning of the sequence to the end\n",
    "    seqB = list(seq2[::-1]) # and .pop() gives us the last element, so we reverse the order\n",
    "    path = path[::-1]       # path is generated from the end to the beginning, so we reverse it too\n",
    "    aligned_seq1, aligned_seq2  = [], []\n",
    "    \n",
    "    def diff(i): # displacement vector at each step. Tells us what pair of symbols to choose\n",
    "        return np.array(path[i+1]) - np.array(path[i])\n",
    "    \n",
    "    diff_path = list(map(diff, range(len(path)-1))) # rewrite the path as a sequence of displacements\n",
    "    for i in range(len(diff_path)): # if (1, 1), append two nucleotides, \n",
    "                                    # if (0, 1) or (1, 0), append gap+nucl or vice versa\n",
    "        A = numbers_to_bases[seqA.pop()] if diff_path[i][0] == 1 else '_' \n",
    "        B = numbers_to_bases[seqB.pop()] if diff_path[i][1] == 1 else '_'\n",
    "        aligned_seq1.append(A)\n",
    "        aligned_seq2.append(B)\n",
    "        \n",
    "    return ''.join(aligned_seq1), ''.join(aligned_seq2)\n",
    "\n",
    "# The algorithm \n",
    "def needleman_wunsch(seq1, seq2, weight_matrix):\n",
    "    len1, len2 = len(seq1), len(seq2)\n",
    "    \n",
    "    paths = {} # For each element of the path scores matrix we will determine and remember \n",
    "               # the optimal precedent element\n",
    "               # at the same time as we determine the value of the element itslef. paths{} is a\n",
    "               # dictionary of links: path : (i, j) -> optimal_precedent((i, j))\n",
    "    path_scores = np.zeros([len1+1, len2+1]) #Path scores matrix initialization\n",
    "    path_scores[0, 0] = 0\n",
    "    path_scores[1:, 0] = [delta*i for i in range(1, len1+1)]\n",
    "    path_scores[0, 1:] = [delta*j for j in range(1, len2+1)]\n",
    "    for i in range(1, len1+1): # Optimal precedent elements on the boundary are determined uniquely\n",
    "        paths[(i, 0)] = (i-1, 0)\n",
    "    for j in range(1, len2+1):\n",
    "        paths[(0, j)] = (0, j-1)\n",
    "                        \n",
    "        \n",
    "    for i in range(1, len1+1):\n",
    "        for j in range(1, len2+1):\n",
    "            prev_pos = ((i-1, j-1), (i, j-1), (i-1, j)) # Possible precedent elements\n",
    "            # Scores of paths that come from the set of optimal precedent elements\n",
    "            prev_scores = (path_scores[i-1, j-1] + weight_matrix[seq1[i-1], seq2[j-1]],\n",
    "                                    path_scores[i, j-1] + delta, \n",
    "                                    path_scores[i-1, j] + delta)\n",
    "                                    \n",
    "            path_scores[i, j] = max(prev_scores)\n",
    "            # Add the link to the optimal precedent element into paths{}\n",
    "            paths[(i, j)] = max(zip(prev_pos, prev_scores), key = lambda x: x[1])[0]\n",
    "        \n",
    "    optimal_path = [(len1, len2)] # optimal path must contain the element at the lower-right angle\n",
    "    \n",
    "    while optimal_path[-1] in paths: # Follow the links to the optimal elements backwards \n",
    "                                     # until we reach the element (0, 0)\n",
    "        optimal_path.append(paths[optimal_path[-1]])\n",
    "    \n",
    "    return seq1, seq2, path_scores, optimal_path, path_to_alignment(seq1, seq2, optimal_path)\n",
    "\n",
    "print(*needleman_wunsch(btn(sequence[0]), btn(sequence[1]), weight_matrix_custom)[4])"
   ]
  },
  {
   "cell_type": "code",
   "execution_count": 130,
   "id": "ae99ab7a",
   "metadata": {},
   "outputs": [
    {
     "name": "stdout",
     "output_type": "stream",
     "text": [
      "[2 3 2 2 1 4 3 2 1]\n",
      "[3 3 2 2 3 3]\n"
     ]
    }
   ],
   "source": [
    "\n",
    "\n",
    "#print(btn(test_seq_1))\n",
    "#print(btn(test_seq_2))\n",
    "\n",
    "\n",
    "#weight_matrix_2 = np.array([[-1,-2,-2,-2,-2],\n",
    "#                            [-2, 2,-1, 1,-1],\n",
    "#                            [-2,-1, 2,-1, 1],\n",
    "#                            [-2, 1,-1, 2,-1],\n",
    "#                            [-2,-1, 1,-1, 2]])\n"
   ]
  },
  {
   "cell_type": "code",
   "execution_count": 39,
   "id": "f60af9a1",
   "metadata": {},
   "outputs": [
    {
     "data": {
      "text/plain": [
       "array([[-1,  1,  1,  1],\n",
       "       [ 1,  1,  0,  0],\n",
       "       [ 1,  0,  1,  0],\n",
       "       [ 1,  0,  0,  1]])"
      ]
     },
     "execution_count": 39,
     "metadata": {},
     "output_type": "execute_result"
    }
   ],
   "source": [
    "a = np.array([[1]]*3)\n",
    "b = np.array([[-1]] + [[1]]*3).reshape((1, 4))\n",
    "c = np.array([[1, 0, 0], [0, 1, 0], [0, 0, 1]])\n",
    "\n",
    "\n",
    "np.r_[b, np.c_[a, c]]\n"
   ]
  },
  {
   "cell_type": "code",
   "execution_count": 134,
   "id": "abccb0ed",
   "metadata": {},
   "outputs": [
    {
     "data": {
      "text/plain": [
       "('TGTTACGTA', 'GGTT__G_G')"
      ]
     },
     "execution_count": 134,
     "metadata": {},
     "output_type": "execute_result"
    }
   ],
   "source": [
    "        \n",
    "#test_path = [(9, 6),\n",
    "#             (8, 5),\n",
    "#             (7, 5),\n",
    "#             (6, 4),\n",
    "#             (5, 4),\n",
    "#             (4, 4),\n",
    "#             (3, 3),\n",
    "#             (2, 2),\n",
    "#             (1, 1),\n",
    "#             (0, 0)]\n",
    "\n",
    "#path_to_alignment(btn(test_seq_1), btn(test_seq_2), test_path)"
   ]
  },
  {
   "cell_type": "code",
   "execution_count": 136,
   "id": "e7c70478",
   "metadata": {},
   "outputs": [
    {
     "data": {
      "text/plain": [
       "(array([2, 3, 2, 2, 1, 4, 3, 2, 1]),\n",
       " array([3, 3, 2, 2, 3, 3]),\n",
       " array([[  0.,  -2.,  -4.,  -6.,  -8., -10., -12.],\n",
       "        [ -2.,  -1.,  -3.,  -2.,  -4.,  -6.,  -8.],\n",
       "        [ -4.,   0.,   1.,  -1.,  -3.,  -2.,  -4.],\n",
       "        [ -6.,  -2.,  -1.,   3.,   1.,  -1.,  -3.],\n",
       "        [ -8.,  -4.,  -3.,   1.,   5.,   3.,   1.],\n",
       "        [-10.,  -6.,  -3.,  -1.,   3.,   6.,   4.],\n",
       "        [-12.,  -8.,  -5.,  -2.,   1.,   4.,   5.],\n",
       "        [-14., -10.,  -6.,  -4.,  -1.,   3.,   6.],\n",
       "        [-16., -12.,  -8.,  -4.,  -2.,   1.,   4.],\n",
       "        [-18., -14., -10.,  -6.,  -4.,  -1.,   2.]]),\n",
       " [(9, 6),\n",
       "  (8, 5),\n",
       "  (7, 5),\n",
       "  (6, 4),\n",
       "  (5, 4),\n",
       "  (4, 4),\n",
       "  (3, 3),\n",
       "  (2, 2),\n",
       "  (1, 1),\n",
       "  (0, 0)],\n",
       " ('TGTTACGTA', 'GGTT__G_G'))"
      ]
     },
     "execution_count": 136,
     "metadata": {},
     "output_type": "execute_result"
    }
   ],
   "source": [
    "\n",
    "\n",
    "needleman_wunsch(btn(test_seq_1), btn(test_seq_2), weight_matrix_2)"
   ]
  },
  {
   "cell_type": "code",
   "execution_count": 15,
   "id": "00b27f03",
   "metadata": {},
   "outputs": [
    {
     "name": "stdout",
     "output_type": "stream",
     "text": [
      "[(1, 2), (2, 8), (3, 7)]\n",
      "(2, 8)\n",
      "1\n",
      "1\n",
      "{(0, 0): (-1, 0), (1, 0): (0, 0), (2, 0): (1, 0), (3, 0): (2, 0), (4, 0): (3, 0), (5, 0): (4, 0), (6, 0): (5, 0), (7, 0): (6, 0), (8, 0): (7, 0), (9, 0): (8, 0)}\n"
     ]
    }
   ],
   "source": [
    "a = (1, 2, 3)\n",
    "b = (2, 8, 7)\n",
    "\n",
    "i = 5\n",
    "j = 8\n",
    "\n",
    "print(list(zip(a, b)))\n",
    "print(max(zip(a, b), key = lambda x: x[1]))\n",
    "d = {}\n",
    "\n",
    "for i in range(10):\n",
    "    d[(i, 0)] = (i-1, 0) \n",
    "    \n",
    "\n",
    "c = [1, 2, 3]\n",
    "print(c[::-1].pop())\n",
    "print(c[::-1].pop())\n",
    "print(d)"
   ]
  }
 ],
 "metadata": {
  "kernelspec": {
   "display_name": "Python 3 (ipykernel)",
   "language": "python",
   "name": "python3"
  },
  "language_info": {
   "codemirror_mode": {
    "name": "ipython",
    "version": 3
   },
   "file_extension": ".py",
   "mimetype": "text/x-python",
   "name": "python",
   "nbconvert_exporter": "python",
   "pygments_lexer": "ipython3",
   "version": "3.7.9"
  }
 },
 "nbformat": 4,
 "nbformat_minor": 5
}
