{
 "cells": [
  {
   "cell_type": "code",
   "execution_count": 2,
   "id": "e234b3f8",
   "metadata": {},
   "outputs": [
    {
     "data": {
      "text/plain": [
       "False"
      ]
     },
     "execution_count": 2,
     "metadata": {},
     "output_type": "execute_result"
    }
   ],
   "source": [
    "import numpy as np\n",
    "import random\n",
    "import numpy.ma as ma\n",
    "\n",
    "a = np.array([[1, 2, 3], [4, 5, 6], [7, 8, 9]])\n",
    "\n",
    "all(all(x == [1, 2, 3]) or all(x == [4, 5, 6]) for x in a)\n"
   ]
  },
  {
   "cell_type": "code",
   "execution_count": 8,
   "id": "621770bd",
   "metadata": {},
   "outputs": [
    {
     "name": "stdout",
     "output_type": "stream",
     "text": [
      "[[3. 2. 3.]\n",
      " [1. 2. 3.]]\n"
     ]
    }
   ],
   "source": [
    "a = np.ndarray.tolist(np.array([[1, 2], [2, 2], [3, 2]]))\n",
    "\n",
    "b = np.array([[1, 2, 3], [2, 2, 3], [3, 2, 3], [1, 0, 0], [2, 1, 3]])\n",
    "\n",
    "b_init = np.ndarray.tolist(b.copy())\n",
    "size_of_dataset = len(b_init)\n",
    "\n",
    "n_clusters = 2\n",
    "centroids = np.zeros((n_clusters, 3))\n",
    "\n",
    "number_of_centroids_chosen = 0\n",
    "for i in range(size_of_dataset):\n",
    "    random.shuffle(b_init)\n",
    "    cand_centr = b_init.pop()\n",
    "    if all([lambda x: not all(x)([cand_centr[i] == x[i] for i in len(x)]) for x in centroids]):\n",
    "        centroids[number_of_centroids_chosen] = cand_centr\n",
    "        number_of_centroids_chosen += 1\n",
    "    \n",
    "    if number_of_centroids_chosen == n_clusters:\n",
    "        break\n",
    "\n",
    "if number_of_centroids_chosen < n_clusters:\n",
    "    print(\"There appears to be less different data points than clusters\")\n",
    "\n",
    "else:\n",
    "    print(centroids)\n"
   ]
  },
  {
   "cell_type": "code",
   "execution_count": 9,
   "id": "9efe3303",
   "metadata": {},
   "outputs": [
    {
     "name": "stdout",
     "output_type": "stream",
     "text": [
      "[(array([1, 3]), 0), (array([1, 4]), 1), (array([1, 5]), 2)]\n"
     ]
    }
   ],
   "source": [
    "a = np.array([[1, 3], [1, 4], [1, 5]])\n",
    "b = zip(a, range(3))\n",
    "print(list(b))"
   ]
  },
  {
   "cell_type": "code",
   "execution_count": 14,
   "id": "fd2cbd92",
   "metadata": {},
   "outputs": [
    {
     "data": {
      "text/plain": [
       "array([0, 0, 0, 4, 0])"
      ]
     },
     "execution_count": 14,
     "metadata": {},
     "output_type": "execute_result"
    }
   ],
   "source": [
    "mask = np.array([0, 0, 0, 1, 0])\n",
    "a = np.array([1, 2, 3, 4, 5])\n",
    "a*mask"
   ]
  },
  {
   "cell_type": "code",
   "execution_count": 10,
   "id": "396cdebd",
   "metadata": {},
   "outputs": [
    {
     "data": {
      "text/plain": [
       "masked_array(data=[4., 5., 6.],\n",
       "             mask=False,\n",
       "       fill_value=1e+20)"
      ]
     },
     "execution_count": 10,
     "metadata": {},
     "output_type": "execute_result"
    }
   ],
   "source": [
    "\n",
    "a = np.array([[1, 2, 3], [4, 5, 6], [7, 8, 9]])\n",
    "np.mean(ma.masked_where(a != a, a), axis=0)"
   ]
  },
  {
   "cell_type": "code",
   "execution_count": 75,
   "id": "319b97ac",
   "metadata": {},
   "outputs": [
    {
     "data": {
      "text/plain": [
       "True"
      ]
     },
     "execution_count": 75,
     "metadata": {},
     "output_type": "execute_result"
    }
   ],
   "source": [
    "np.allclose([[1, 2, 3], [4, 5, 6]], [[1, 2, 3], [4, 5, 6]], atol = 1)"
   ]
  }
 ],
 "metadata": {
  "kernelspec": {
   "display_name": "Python 3 (ipykernel)",
   "language": "python",
   "name": "python3"
  },
  "language_info": {
   "codemirror_mode": {
    "name": "ipython",
    "version": 3
   },
   "file_extension": ".py",
   "mimetype": "text/x-python",
   "name": "python",
   "nbconvert_exporter": "python",
   "pygments_lexer": "ipython3",
   "version": "3.9.13"
  }
 },
 "nbformat": 4,
 "nbformat_minor": 5
}
