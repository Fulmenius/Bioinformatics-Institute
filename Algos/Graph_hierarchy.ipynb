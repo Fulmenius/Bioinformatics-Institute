{
 "cells": [
  {
   "cell_type": "code",
   "execution_count": 222,
   "id": "8c734680",
   "metadata": {},
   "outputs": [],
   "source": [
    "import numpy as np\n",
    "import networkx as nx\n",
    "import matplotlib.pyplot as plt\n",
    "\n",
    "def distance(X1, X2):\n",
    "    def dist_sq(x1, x2):\n",
    "        return np.sum((x1-x2)**2)\n",
    "    \n",
    "    K = 1/(len(X1)*len(X2))\n",
    "                      \n",
    "    distance = K*np.sum(np.array([[dist_sq(x1, x2) for x1 in X1] for x2 in X2]))\n",
    "    return distance\n",
    "                      \n",
    "    \n",
    "def distance_in_matrix(X1, X2, dist_mat):\n",
    "    K = 1/(len(X1)*len(X2))\n",
    "    distance = K*np.sum(np.array([[dist_mat[x1, x2] for x1 in X1] for x2 in X2]))\n",
    "    return distance\n",
    "\n",
    "#def find_min_pair(dist_mat):\n",
    "#    N = len(dist_mat)\n",
    "#    argmin = [(N-1, 0), dist_mat[N-1, 0]]\n",
    "#    for i in range(1, len(dist_mat-1)):\n",
    "#        for j in range(i):\n",
    "#            if dist_mat[i, j] < argmin[1]:\n",
    "#                argmin = [(i, j), dist_mat[i, j]]\n",
    "#                \n",
    "#    return argmin\n",
    "\n",
    "def find_min_pair(list_of_clusters, dist_mat):\n",
    "    N = len(list_of_clusters)\n",
    "    argmin = [(N-1, 0), distance_in_matrix(list_of_clusters[N-1], list_of_clusters[0], dist_mat)]\n",
    "    for i in range(1, N-1):\n",
    "        for j in range(i):\n",
    "            current_pair_distance = distance_in_matrix(list_of_clusters[i], list_of_clusters[j], dist_mat)\n",
    "            if current_pair_distance < argmin[1]:\n",
    "                argmin = [(i, j), current_pair_distance]\n",
    "                \n",
    "    return argmin\n",
    "\n",
    "\n",
    "def merge(list_of_clusters, cluster_index_1, cluster_index_2):\n",
    "    if len(list_of_clusters) == 1:\n",
    "        return [list_of_clusters[0]]\n",
    "    \n",
    "    l = list_of_clusters.copy()\n",
    "    cl_ind = sorted([cluster_index_1, cluster_index_2])\n",
    "    new_cluster = l.pop(cl_ind[1]) + l.pop(cl_ind[0])\n",
    "\n",
    "    new_list_of_clusters = l + [new_cluster]\n",
    "    \n",
    "    return new_cluster, new_list_of_clusters\n",
    "\n",
    "\n",
    "def cluster_tree(dist_mat):\n",
    "    \n",
    "    labels = list(range(len(dist_mat)))\n",
    "    G = nx.DiGraph()\n",
    "    list_of_clusters = [(label,) for label in labels]\n",
    "    G.add_nodes_from(list_of_clusters)\n",
    "    final_matrix = []\n",
    "    \n",
    "    while len(list_of_clusters) > 1:\n",
    "        k = find_min_pair(list_of_clusters, dist_mat)\n",
    "        min_dist_indices, min_dist = k[0], k[1]\n",
    "        new_cluster, new_list_of_clusters = merge(list_of_clusters, *min_dist_indices)\n",
    "        final_matrix.append([min_dist_indices, min_dist, len(new_cluster)])\n",
    "        G.add_node(tuple(new_cluster))\n",
    "        G.add_edge(tuple(new_cluster), tuple(list_of_clusters[min_dist_indices[0]]))\n",
    "        G.add_edge(tuple(new_cluster), tuple(list_of_clusters[min_dist_indices[1]]))\n",
    "        list_of_clusters = new_list_of_clusters\n",
    "        \n",
    "    nx.draw_planar(G, with_labels=True)\n",
    "    return final_matrix\n",
    "    \n",
    "\n",
    "def distance_matrix(X):\n",
    "    '''\n",
    "    Compute matrix of pair-wise distances between samples\n",
    "    :param X: array-like of shape (n_samples, n_features)\n",
    "        Samples\n",
    "    :return D: array-like of shape (n_samples, n_samples) \n",
    "        Matrix of pair-wise distances between samples\n",
    "    '''\n",
    "    D = np.array([[np.sqrt(np.sum((x-y)**2)) for x in X] for y in X]) # I hate the creators of np.outer\n",
    "                                                                      # and pythonic functional programming\n",
    "                                                                      # in general, because this is just\n",
    "                                                                      # dist(outer(X, X)) and there appears to be\n",
    "                                                                      # no conscise way to do this using numpy\n",
    "                                                                      # because np.outer always applies * and \n",
    "                                                                      # np.ufunc.outer does not support creating tuples\n",
    "\n",
    "    return D\n",
    "\n",
    "\n",
    "\n",
    "\n"
   ]
  },
  {
   "cell_type": "code",
   "execution_count": 149,
   "id": "513abec0",
   "metadata": {},
   "outputs": [
    {
     "data": {
      "text/plain": [
       "[[3, 1], [1, 2, 1, 2, 3]]"
      ]
     },
     "execution_count": 149,
     "metadata": {},
     "output_type": "execute_result"
    }
   ],
   "source": [
    "merge([[1, 2, 3], [1, 2], [3, 1]], 0, 1)"
   ]
  },
  {
   "cell_type": "code",
   "execution_count": 223,
   "id": "fe7c8c94",
   "metadata": {},
   "outputs": [
    {
     "data": {
      "text/plain": [
       "[[(5, 3), 0.43, 2],\n",
       " [(4, 3), 0.55, 2],\n",
       " [(3, 2), 0.6599999999999999, 3],\n",
       " [(1, 0), 0.74, 2],\n",
       " [(1, 0), 0.82, 5],\n",
       " [(1, 0), 1.12, 7]]"
      ]
     },
     "execution_count": 223,
     "metadata": {},
     "output_type": "execute_result"
    },
    {
     "data": {
      "image/png": "[encoded data removed]",
      "text/plain": [
       "<Figure size 640x480 with 1 Axes>"
      ]
     },
     "metadata": {},
     "output_type": "display_data"
    }
   ],
   "source": [
    "diamat = np.array([[0, 1, 2, 3],[1, 0, 7, 4],[2, 7, 0, 1], [3, 4, 1, 0]])\n",
    "\n",
    "Y = np.array([[1, 3, 4], [0, 4, 2], [6, 7, 5], [9, 8, 8], [3, 7, 1], [6, 4, 2], [1, 1, 1], [5, 5, 6], [9, 7, 1]])\n",
    "\n",
    "\n",
    "#D = distance_matrix(Y)\n",
    "\n",
    "#cluster_tree(D)\n",
    "\n",
    "K = np.array([[0.  , 0.74, 0.85, 0.54, 0.83, 0.92, 0.89],\n",
    "              [0.74, 0.  , 1.59, 1.35, 1.2 , 1.48, 1.55],\n",
    "              [0.85, 1.59, 0.  , 0.63, 1.13, 0.69, 0.73],\n",
    "              [0.54, 1.35, 0.63, 0.  , 0.66, 0.43, 0.88],\n",
    "              [0.83, 1.2 , 1.13, 0.66, 0.  , 0.72, 0.55],\n",
    "              [0.92, 1.48, 0.69, 0.43, 0.72, 0.  , 0.8 ],\n",
    "              [0.89, 1.55, 0.73, 0.88, 0.55, 0.8 , 0.  ]])\n",
    "\n",
    "cluster_tree(K)"
   ]
  },
  {
   "cell_type": "code",
   "execution_count": 12,
   "id": "c8e9214b",
   "metadata": {},
   "outputs": [
    {
     "name": "stdout",
     "output_type": "stream",
     "text": [
      "[[[0 0]\n",
      "  [1 0]\n",
      "  [2 0]]\n",
      "\n",
      " [[0 1]\n",
      "  [1 1]\n",
      "  [2 1]]\n",
      "\n",
      " [[0 2]\n",
      "  [1 2]\n",
      "  [2 2]]]\n"
     ]
    },
    {
     "data": {
      "text/plain": [
       "18"
      ]
     },
     "execution_count": 12,
     "metadata": {},
     "output_type": "execute_result"
    }
   ],
   "source": [
    "a = np.array([[[i, j] for i in range(3)] for j in range(3)])\n",
    "print(a)\n",
    "np.sum(a)"
   ]
  },
  {
   "cell_type": "code",
   "execution_count": 3,
   "id": "78a83923",
   "metadata": {},
   "outputs": [],
   "source": [
    "def distance_matrix(X):\n",
    "    '''\n",
    "    Compute matrix of pair-wise distances between samples\n",
    "    :param X: array-like of shape (n_samples, n_features)\n",
    "        Samples\n",
    "    :return D: array-like of shape (n_samples, n_samples) \n",
    "        Matrix of pair-wise distances between samples\n",
    "    '''\n",
    "    D = np.array([[np.sqrt(np.sum((x-y)**2)) for x in X] for y in X]) # I hate the creators of np.outer\n",
    "                                                                      # and pythonic functional programming\n",
    "                                                                      # in general, because this is just\n",
    "                                                                      # dist(outer(X, X)) and there appears to be\n",
    "                                                                      # no conscise way to do this using numpy\n",
    "                                                                      # because np.outer always applies * and \n",
    "                                                                      # np.ufunc.outer does not support creating tuples\n",
    "\n",
    "    return D\n",
    "\n"
   ]
  },
  {
   "cell_type": "code",
   "execution_count": 4,
   "id": "c3d9da9c",
   "metadata": {},
   "outputs": [
    {
     "data": {
      "text/plain": [
       "array([[ 0.        ,  5.19615242, 10.39230485,  0.5       ],\n",
       "       [ 5.19615242,  0.        ,  5.19615242,  4.9244289 ],\n",
       "       [10.39230485,  5.19615242,  0.        , 10.11187421],\n",
       "       [ 0.5       ,  4.9244289 , 10.11187421,  0.        ]])"
      ]
     },
     "execution_count": 4,
     "metadata": {},
     "output_type": "execute_result"
    }
   ],
   "source": [
    "distance_matrix(np.array([[1, 2, 3], [4, 5, 6], [7, 8, 9], [1, 2, 3.5]]))\n",
    "\n",
    "def hierarchical_clustering(dist_matrix):\n",
    "    "
   ]
  },
  {
   "cell_type": "code",
   "execution_count": 105,
   "id": "d603cf3b",
   "metadata": {},
   "outputs": [
    {
     "name": "stdout",
     "output_type": "stream",
     "text": [
      "[1, 2, 2, 3]\n"
     ]
    },
    {
     "data": {
      "text/plain": [
       "[1, 2, 2, 3]"
      ]
     },
     "execution_count": 105,
     "metadata": {},
     "output_type": "execute_result"
    }
   ],
   "source": [
    "a = [[1, 2], [2, 3], [3, 4]]\n",
    "d = a.pop(0) + a.pop(0)\n",
    "print(d)\n",
    "\n",
    "sorted([3, 2, 1, 2\n",
    "        "
   ]
  },
  {
   "cell_type": "code",
   "execution_count": 177,
   "id": "40e7577a",
   "metadata": {},
   "outputs": [
    {
     "name": "stdout",
     "output_type": "stream",
     "text": [
      "[[0], [1], [2], [3], [4], [5], [6], [7], [8], [9]]\n",
      "[1, 2, 3]\n",
      "[1, 2, 3]\n"
     ]
    }
   ],
   "source": [
    "a = [[i] for i in range(10)]\n",
    "print(a)\n",
    "\n",
    "a = [1, 2, 3]\n",
    "b = a.copy()\n",
    "print(b)\n",
    "a[2] = 100\n",
    "print(b)"
   ]
  }
 ],
 "metadata": {
  "kernelspec": {
   "display_name": "Python 3 (ipykernel)",
   "language": "python",
   "name": "python3"
  },
  "language_info": {
   "codemirror_mode": {
    "name": "ipython",
    "version": 3
   },
   "file_extension": ".py",
   "mimetype": "text/x-python",
   "name": "python",
   "nbconvert_exporter": "python",
   "pygments_lexer": "ipython3",
   "version": "3.9.15"
  }
 },
 "nbformat": 4,
 "nbformat_minor": 5
}
