{
 "cells": [
  {
   "cell_type": "code",
   "execution_count": 175,
   "id": "361ec6ae",
   "metadata": {},
   "outputs": [
    {
     "name": "stdout",
     "output_type": "stream",
     "text": [
      "0 0 0 4 -2 -3 -1 -7 6 5 3 2 1 9 3 -8 0 3 1 2 1 8\n",
      "XZZXZXXXZXZZXZXXZ\n",
      "ZXZXX\n"
     ]
    }
   ],
   "source": [
    "import numpy as np\n",
    "import networkx as nx\n",
    "\n",
    "#test_spec = list(map(int, '0 0 0 0 4 -2 -3 -1 -7 6 5 3 2 1 9 3 -8 0 3 1 2 1 8'.split()))\n",
    "#test_prot = 'XZZXZXXXZXZZXZXXZ'\n",
    "\n",
    "spectrum = np.array([0] + list(map(int, input().split())))\n",
    "proteome = input()\n",
    "\n",
    "#spectrum = test_spec\n",
    "#proteome = test_prot\n",
    "\n",
    "len_spec = len(spectrum)\n",
    "len_prot = len(proteome)\n",
    "\n",
    "\n",
    "alphabet_big = ['A','C','D','E','F','G','H','I','K','L','M','N','P','Q','R','S','T','V','W','Y']\n",
    "masses_big = [71, 103, 115, 129, 147, 57, 137, 113, 128, 113, 131, 114, 97, 128, 156, 87, 101, 99, 186, 163]\n",
    "\n",
    "alphabet_XZ = ['X', 'Z']\n",
    "masses_XZ = [4, 5]\n",
    "                       \n",
    "if len(spectrum) < 30:\n",
    "    masses = masses_XZ\n",
    "    alphabet = alphabet_XZ\n",
    "else:\n",
    "    masses = masses_big\n",
    "    alphabet = alphabet_big\n",
    "\n",
    "\n",
    "a_m_bijection = lambda x: ({R[0]:R[1] for R in zip(alphabet, masses)}|\\\n",
    "                           {R[1]:R[0] for R in zip(alphabet, masses)})[x]\n",
    "\n",
    "def weight(i, j):\n",
    "    weight = 0\n",
    "    pos = 0\n",
    "    for k in range(j-i):\n",
    "        pos += a_m_bijection(proteome[i+k])\n",
    "        if pos >= len_spec:\n",
    "            weight = -1\n",
    "            break\n",
    "        weight += spectrum[pos]\n",
    "        \n",
    "    return weight\n",
    "\n",
    "\n",
    "def find_max_subarray(arr, target):\n",
    "    start = 0\n",
    "    end = 0\n",
    "    curr_sum = 0\n",
    "    curr_max = 0\n",
    "    curr_sub_max = None\n",
    "    \n",
    "    for end in range(len(arr)):\n",
    "        \n",
    "        curr_sum += arr[end]\n",
    "       \n",
    "        while curr_sum > target:\n",
    "            curr_sum -= arr[start]\n",
    "            start += 1\n",
    "            \n",
    "        if curr_sum == target:\n",
    "            candidate_max = weight(start, end)\n",
    "            if candidate_max > curr_max:\n",
    "                curr_max = candidate_max\n",
    "                curr_sub_max = (start, end)\n",
    "        \n",
    "    return curr_sub_max # take +1 on the right border\n",
    "\n",
    "\n",
    "arr = np.array(list(map(a_m_bijection, proteome)))\n",
    "\n",
    "answer = find_max_subarray(arr, len_spec-1)\n",
    "\n",
    "print(proteome[answer[0]:answer[1]+1])"
   ]
  },
  {
   "cell_type": "code",
   "execution_count": 173,
   "id": "df94f782",
   "metadata": {},
   "outputs": [
    {
     "name": "stdout",
     "output_type": "stream",
     "text": [
      "This is arr: [4 5 5 4 5 4 4 4 5 4 5 5 4 5 4 4 5]\n",
      "ZXZXX\n"
     ]
    }
   ],
   "source": [
    "\n"
   ]
  },
  {
   "cell_type": "code",
   "execution_count": 9,
   "id": "53df26a6",
   "metadata": {},
   "outputs": [
    {
     "name": "stdout",
     "output_type": "stream",
     "text": [
      "[(0, 1), (1, 3), (2, 4), (3, 6)]\n"
     ]
    }
   ],
   "source": [
    "arr = [1, 3, 4, 6]\n",
    "\n"
   ]
  },
  {
   "cell_type": "code",
   "execution_count": 2,
   "id": "ba43c0dc",
   "metadata": {},
   "outputs": [
    {
     "name": "stdout",
     "output_type": "stream",
     "text": [
      "4\n"
     ]
    }
   ],
   "source": [
    "a = 5\n",
    "a -= 1\n",
    "print(a)\n"
   ]
  }
 ],
 "metadata": {
  "kernelspec": {
   "display_name": "Python 3 (ipykernel)",
   "language": "python",
   "name": "python3"
  },
  "language_info": {
   "codemirror_mode": {
    "name": "ipython",
    "version": 3
   },
   "file_extension": ".py",
   "mimetype": "text/x-python",
   "name": "python",
   "nbconvert_exporter": "python",
   "pygments_lexer": "ipython3",
   "version": "3.9.15"
  }
 },
 "nbformat": 4,
 "nbformat_minor": 5
}
