{
 "cells": [
  {
   "cell_type": "code",
   "execution_count": 87,
   "id": "49e8061c",
   "metadata": {},
   "outputs": [],
   "source": [
    "from collections import defaultdict\n",
    "\n",
    "word = 'nigger$'\n",
    "\n",
    "def bwt(s):\n",
    "\n",
    "    R = list(range(len(s)))\n",
    "    R.sort(key = lambda x: s[x:]+s[:x])\n",
    "    bwt = ''.join(list(map(lambda x: s[x-1], R)))\n",
    "    return \n",
    "    \n",
    "    \n",
    "def inverse_bwt(s):\n",
    "    leng = len(s)\n",
    "    counts = defaultdict(int)\n",
    "    num_x_before_x = defaultdict(int)\n",
    "    F = ''.join(sorted(s))\n",
    "    \n",
    "    for i in range(leng):\n",
    "        if counts[F[i]] == 0:\n",
    "            first_pos[F[i]] = i\n",
    "                \n",
    "        counts[F[i]] += 1\n",
    "        \n",
    "    return counts, first_pos\n"
   ]
  },
  {
   "cell_type": "code",
   "execution_count": 88,
   "id": "cca83c6b",
   "metadata": {},
   "outputs": [
    {
     "data": {
      "text/plain": [
       "(defaultdict(int, {'a': 5, 'b': 2, 'c': 1, 'd': 1, 'r': 2}),\n",
       " defaultdict(int, {'a': 0, 'b': 5, 'c': 7, 'd': 8, 'r': 9}))"
      ]
     },
     "execution_count": 88,
     "metadata": {},
     "output_type": "execute_result"
    }
   ],
   "source": [
    "inverse_bwt('abracadabra')"
   ]
  }
 ],
 "metadata": {
  "kernelspec": {
   "display_name": "Python 3 (ipykernel)",
   "language": "python",
   "name": "python3"
  },
  "language_info": {
   "codemirror_mode": {
    "name": "ipython",
    "version": 3
   },
   "file_extension": ".py",
   "mimetype": "text/x-python",
   "name": "python",
   "nbconvert_exporter": "python",
   "pygments_lexer": "ipython3",
   "version": "3.9.13"
  }
 },
 "nbformat": 4,
 "nbformat_minor": 5
}
