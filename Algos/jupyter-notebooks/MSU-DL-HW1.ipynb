{
 "cells": [
  {
   "cell_type": "code",
   "execution_count": 65,
   "id": "aa10bfa1",
   "metadata": {},
   "outputs": [],
   "source": [
    "import numpy as np\n",
    "import torch\n",
    "from torch import nn\n",
    "\n",
    "def create_model():\n",
    "    model = nn.Sequential(\n",
    "        nn.Linear(784, 256),\n",
    "        nn.ReLU(),\n",
    "        nn.Linear(256, 16),\n",
    "        nn.ReLU(),\n",
    "        nn.Linear(16, 10)\n",
    "    )\n",
    "\n",
    "    return model\n",
    "\n",
    "def count_parameters(model):\n",
    "    num_param = sum(p.numel() for p in model.parameters() if p.requires_grad)\n",
    "    return num_param"
   ]
  },
  {
   "cell_type": "code",
   "execution_count": 66,
   "id": "cabfff2d",
   "metadata": {},
   "outputs": [
    {
     "data": {
      "text/plain": [
       "tensor([-0.0815, -0.0207,  0.0532, -0.2330,  0.1659,  0.1619, -0.1985, -0.1226,\n",
       "         0.0975,  0.2119], grad_fn=<AddBackward0>)"
      ]
     },
     "execution_count": 66,
     "metadata": {},
     "output_type": "execute_result"
    }
   ],
   "source": [
    "model = create_model()\n",
    "x = torch.rand(784)\n",
    "model(x)"
   ]
  }
 ],
 "metadata": {
  "kernelspec": {
   "display_name": "Python 3 (ipykernel)",
   "language": "python",
   "name": "python3"
  },
  "language_info": {
   "codemirror_mode": {
    "name": "ipython",
    "version": 3
   },
   "file_extension": ".py",
   "mimetype": "text/x-python",
   "name": "python",
   "nbconvert_exporter": "python",
   "pygments_lexer": "ipython3",
   "version": "3.9.12"
  }
 },
 "nbformat": 4,
 "nbformat_minor": 5
}
