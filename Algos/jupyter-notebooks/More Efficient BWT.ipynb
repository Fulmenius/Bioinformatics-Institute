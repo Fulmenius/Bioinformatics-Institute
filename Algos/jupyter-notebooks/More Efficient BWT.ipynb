{
 "cells": [
  {
   "cell_type": "code",
   "execution_count": 168,
   "id": "49e8061c",
   "metadata": {},
   "outputs": [],
   "source": [
    "import numpy as np\n",
    "import re\n",
    "\n",
    "dna_seq_to_char = {\n",
    "    #'A':1,\n",
    "    #'T':2,\n",
    "    #'G':4,\n",
    "    #'C':5,\n",
    "    #'U':6,\n",
    "    'i':1,\n",
    "    'm':2,\n",
    "    'p':3,\n",
    "    's':4\n",
    "}\n",
    "\n",
    "dna_char_to_seq = {v: k for k, v in dna_seq_to_char.items()}\n",
    "\n",
    "def str_to_arr(s):\n",
    "    return np.array(list(map(lambda x: dna_seq_to_char[x], s)), dtype = np.byte)\n",
    "\n",
    "def arr_to_str(na):\n",
    "    return ''.join(list(map(lambda x: dna_char_to_seq[x], na)))\n",
    "\n",
    "def more_efficient_bwt(s):\n",
    "    R = np.array(range(len(s)))\n",
    "    \n",
    "\n",
    "def unefficient_bwt(s):\n",
    "    na = str_to_arr(s)\n",
    "    leng = len(na)\n",
    "    bwt = np.repeat(na[:, np.newaxis], leng, axis=1).T\n",
    "    for i in range(leng):\n",
    "        bwt[i] = np.roll(bwt[i], i, axis=0)\n",
    "        \n",
    "    bwt = bwt[bwt[:,0].argsort()]\n",
    "        \n",
    "    return arr_to_str(bwt[:, -1])\n",
    "\n",
    "def bwt_forward(x):\n",
    "    return x"
   ]
  },
  {
   "cell_type": "code",
   "execution_count": 169,
   "id": "cca83c6b",
   "metadata": {},
   "outputs": [
    {
     "name": "stdout",
     "output_type": "stream",
     "text": [
      "[10000000000  1000000000   100000000    10000000     1000000      100000\n",
      "       10000        1000         100          10           1]\n",
      "This is f(R)\n"
     ]
    },
    {
     "ename": "TypeError",
     "evalue": "iteration over a 0-d array",
     "output_type": "error",
     "traceback": [
      "\u001b[0;31m---------------------------------------------------------------------------\u001b[0m",
      "\u001b[0;31mTypeError\u001b[0m                                 Traceback (most recent call last)",
      "Cell \u001b[0;32mIn [169], line 1\u001b[0m\n\u001b[0;32m----> 1\u001b[0m \u001b[43mmore_efficient_bwt\u001b[49m\u001b[43m(\u001b[49m\u001b[38;5;124;43m'\u001b[39;49m\u001b[38;5;124;43mmississippi\u001b[39;49m\u001b[38;5;124;43m'\u001b[39;49m\u001b[43m)\u001b[49m\n\u001b[1;32m      2\u001b[0m unefficient_bwt(\u001b[38;5;124m'\u001b[39m\u001b[38;5;124mmississippi\u001b[39m\u001b[38;5;124m'\u001b[39m)\n",
      "Cell \u001b[0;32mIn [168], line 39\u001b[0m, in \u001b[0;36mmore_efficient_bwt\u001b[0;34m(s)\u001b[0m\n\u001b[1;32m     32\u001b[0m \u001b[38;5;66;03m#print('These are cyclic permutations:')\u001b[39;00m\n\u001b[1;32m     33\u001b[0m \u001b[38;5;66;03m#for i in range(leng):\u001b[39;00m\n\u001b[1;32m     34\u001b[0m \u001b[38;5;66;03m#    print(arr_to_str(f(R[i])))\u001b[39;00m\n\u001b[1;32m     35\u001b[0m \n\u001b[1;32m     36\u001b[0m \u001b[38;5;66;03m#print('\\n')\u001b[39;00m\n\u001b[1;32m     38\u001b[0m \u001b[38;5;28mprint\u001b[39m(\u001b[38;5;124m'\u001b[39m\u001b[38;5;124mThis is f(R)\u001b[39m\u001b[38;5;124m'\u001b[39m)\n\u001b[0;32m---> 39\u001b[0m \u001b[38;5;28mprint\u001b[39m([arr_to_str(f(i)) \u001b[38;5;28;01mfor\u001b[39;00m i \u001b[38;5;129;01min\u001b[39;00m np\u001b[38;5;241m.\u001b[39margsort(f(R))])\n",
      "Cell \u001b[0;32mIn [168], line 39\u001b[0m, in \u001b[0;36m<listcomp>\u001b[0;34m(.0)\u001b[0m\n\u001b[1;32m     32\u001b[0m \u001b[38;5;66;03m#print('These are cyclic permutations:')\u001b[39;00m\n\u001b[1;32m     33\u001b[0m \u001b[38;5;66;03m#for i in range(leng):\u001b[39;00m\n\u001b[1;32m     34\u001b[0m \u001b[38;5;66;03m#    print(arr_to_str(f(R[i])))\u001b[39;00m\n\u001b[1;32m     35\u001b[0m \n\u001b[1;32m     36\u001b[0m \u001b[38;5;66;03m#print('\\n')\u001b[39;00m\n\u001b[1;32m     38\u001b[0m \u001b[38;5;28mprint\u001b[39m(\u001b[38;5;124m'\u001b[39m\u001b[38;5;124mThis is f(R)\u001b[39m\u001b[38;5;124m'\u001b[39m)\n\u001b[0;32m---> 39\u001b[0m \u001b[38;5;28mprint\u001b[39m([\u001b[43marr_to_str\u001b[49m\u001b[43m(\u001b[49m\u001b[43mf\u001b[49m\u001b[43m(\u001b[49m\u001b[43mi\u001b[49m\u001b[43m)\u001b[49m\u001b[43m)\u001b[49m \u001b[38;5;28;01mfor\u001b[39;00m i \u001b[38;5;129;01min\u001b[39;00m np\u001b[38;5;241m.\u001b[39margsort(f(R))])\n",
      "Cell \u001b[0;32mIn [168], line 22\u001b[0m, in \u001b[0;36marr_to_str\u001b[0;34m(na)\u001b[0m\n\u001b[1;32m     21\u001b[0m \u001b[38;5;28;01mdef\u001b[39;00m \u001b[38;5;21marr_to_str\u001b[39m(na):\n\u001b[0;32m---> 22\u001b[0m     \u001b[38;5;28;01mreturn\u001b[39;00m \u001b[38;5;124m'\u001b[39m\u001b[38;5;124m'\u001b[39m\u001b[38;5;241m.\u001b[39mjoin(\u001b[38;5;28mlist\u001b[39m(\u001b[38;5;28;43mmap\u001b[39;49m\u001b[43m(\u001b[49m\u001b[38;5;28;43;01mlambda\u001b[39;49;00m\u001b[43m \u001b[49m\u001b[43mx\u001b[49m\u001b[43m:\u001b[49m\u001b[43m \u001b[49m\u001b[43mdna_char_to_seq\u001b[49m\u001b[43m[\u001b[49m\u001b[43mx\u001b[49m\u001b[43m]\u001b[49m\u001b[43m,\u001b[49m\u001b[43m \u001b[49m\u001b[43mna\u001b[49m\u001b[43m)\u001b[49m))\n",
      "\u001b[0;31mTypeError\u001b[0m: iteration over a 0-d array"
     ]
    }
   ],
   "source": [
    "more_efficient_bwt('mississippi')\n",
    "unefficient_bwt('mississippi')"
   ]
  },
  {
   "cell_type": "code",
   "execution_count": null,
   "id": "e390f6c9",
   "metadata": {},
   "outputs": [],
   "source": []
  }
 ],
 "metadata": {
  "kernelspec": {
   "display_name": "Python 3 (ipykernel)",
   "language": "python",
   "name": "python3"
  },
  "language_info": {
   "codemirror_mode": {
    "name": "ipython",
    "version": 3
   },
   "file_extension": ".py",
   "mimetype": "text/x-python",
   "name": "python",
   "nbconvert_exporter": "python",
   "pygments_lexer": "ipython3",
   "version": "3.9.13"
  }
 },
 "nbformat": 4,
 "nbformat_minor": 5
}
