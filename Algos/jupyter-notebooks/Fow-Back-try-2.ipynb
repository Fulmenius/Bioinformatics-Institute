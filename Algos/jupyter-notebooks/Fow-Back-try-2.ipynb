{
 "cells": [
  {
   "cell_type": "code",
   "execution_count": null,
   "id": "63269e1d",
   "metadata": {},
   "outputs": [],
   "source": [
    "import numpy as np\n",
    "\n",
    "def for_bac_2(A, B, pi, time, state, O):\n",
    "    \n",
    "    N = 2\n",
    "    T = len(O)\n",
    "    \n",
    "    def a(j, t):\n",
    "        \n",
    "        a_values = []\n",
    "        a_values.append((pi[j], B[j, O[0]] for j in range(N)))\n",
    "        \n",
    "        if t == 0:\n",
    "            return a_values[0][j]\n",
    "        \n",
    "        else:\n",
    "            next_value = lambda: sum(a_values[-1][i]*A[i, k]*B[k, O[t]])\n",
    "        \n",
    "        return 0\n",
    "\n",
    "    def b(j, t):\n",
    "        return 0\n",
    "\n",
    "    def P(t, j):\n",
    "        return (a(j, t)*b(j, t))/sum([a(i, t) for i in range(N)])\n",
    "\n"
   ]
  },
  {
   "cell_type": "code",
   "execution_count": 8,
   "id": "1b91a2bb",
   "metadata": {},
   "outputs": [
    {
     "name": "stdout",
     "output_type": "stream",
     "text": [
      "11\n"
     ]
    }
   ],
   "source": [
    "f = lambda: print(11)\n",
    "f()"
   ]
  }
 ],
 "metadata": {
  "kernelspec": {
   "display_name": "Python 3 (ipykernel)",
   "language": "python",
   "name": "python3"
  },
  "language_info": {
   "codemirror_mode": {
    "name": "ipython",
    "version": 3
   },
   "file_extension": ".py",
   "mimetype": "text/x-python",
   "name": "python",
   "nbconvert_exporter": "python",
   "pygments_lexer": "ipython3",
   "version": "3.9.13"
  }
 },
 "nbformat": 4,
 "nbformat_minor": 5
}
