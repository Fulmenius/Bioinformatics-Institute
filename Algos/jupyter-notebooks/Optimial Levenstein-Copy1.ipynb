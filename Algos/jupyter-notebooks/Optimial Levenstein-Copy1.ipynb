{
 "cells": [
  {
   "cell_type": "code",
   "execution_count": 12,
   "id": "8cdf47b9",
   "metadata": {
    "scrolled": true
   },
   "outputs": [
    {
     "name": "stdout",
     "output_type": "stream",
     "text": [
      "2\n",
      ">seq1\n",
      "ATGTC\n",
      ">seq2\n",
      "ATTATGC\n",
      "\n",
      "2\n",
      "seq1 is ATGTC\n",
      "seq2 is ATTATGC\n"
     ]
    },
    {
     "data": {
      "text/plain": [
       "2.0"
      ]
     },
     "execution_count": 12,
     "metadata": {},
     "output_type": "execute_result"
    }
   ],
   "source": [
    "import numpy as np\n",
    "from numba import jit\n",
    "import re\n",
    "\n",
    "#obtaining input\n",
    "def input_function():\n",
    "    k = int(input())\n",
    "    input_array = []\n",
    "    while True:\n",
    "        try:\n",
    "            a = input()\n",
    "            if a:\n",
    "                input_array.append(a)\n",
    "            else:\n",
    "                return k, re.split('>seq[^ATGCU]*',''.join(input_array))[1::]\n",
    "        except BaseException:\n",
    "            return k, re.split('>seq[^ATGCU]*',''.join(input_array))[1::]\n",
    "        \n",
    "def define_alignment_from_path(seq1, seq2):\n",
    "    return 0\n",
    "\n",
    "def define_levenstein_distance_and_optimal_alignment(seq1, seq2, k):\n",
    "    \"\"\"\n",
    "    seq1 and seq2 are two arrays or strings.\n",
    "    k is the maximal allowed Levenstein distance between seq1 and seq2\n",
    "    i is the row number, and corresponds to seq1. j is the column number, and corresponds to seq2.\n",
    "    \"\"\"\n",
    "    [seq1, seq2] = sorted([seq1, seq2], key = lambda x: len(x)) # now seq1 is the shortest\n",
    "    len1, len2 = len(seq1), len(seq2)\n",
    "    \n",
    "    def lev_matrix(a, b):\n",
    "        return 0 if a == b else 1\n",
    "    \n",
    "    def nw_matrix(a, b):\n",
    "        return 1 if a == b else -1\n",
    "    \n",
    "    optimal_path = [(0, 0)]\n",
    "    previous_row_alignment = np.array([-100]*k + [-i for i in range(k+1)])\n",
    "    current_row_alignment = np.zeros(2*k+1)\n",
    "    previous_row_levenstein = np.array([100]*k + [i for i in range(k+1)])\n",
    "    current_row_levenstein = np.zeros(2*k+1)\n",
    "    #print('-' + f'{previous_row_levenstein}')\n",
    "    #print(previous_row_alignment)\n",
    "    \n",
    "    \n",
    "    for i in range(1, len1+1): # since seq1 is the shortest\n",
    "        for j in range(2*k + 1):\n",
    "            if i + j == k:\n",
    "                current_row_levenstein[j] = i\n",
    "                current_row_alignment[j] = -i\n",
    "                \n",
    "            elif i + j > k and i + j < len2 + k + 1:\n",
    "                if j > 0 and j < 2*k:\n",
    "                    \n",
    "                    j-min(k-i+1, k)\n",
    "                    \n",
    "                    current_row_levenstein[j] = min(current_row_levenstein[j-1] + 1,\\\n",
    "                                                    previous_row_levenstein[j] +\\\n",
    "                                                    lev_matrix(seq1[i-1], seq2[j-(k-i+1)]),\\\n",
    "                                                    previous_row_levenstein[j+1] + 1)\n",
    "\n",
    "                    current_row_alignment[j] = max(current_row_alignment[j-1] - 1,\\\n",
    "                                                   previous_row_alignment[j] +\\\n",
    "                                                   nw_matrix(seq1[i-1], seq2[j-(k-i+1)]),\\\n",
    "                                                   previous_row_alignment[j+1] - 1)\n",
    "                elif j == 2*k:\n",
    "                    current_row_levenstein[j] = min(current_row_levenstein[j-1] + 1,\\\n",
    "                                                    previous_row_levenstein[j] +\\\n",
    "                                                    lev_matrix(seq1[i-1], seq2[j-(k-i+1)]))\n",
    "                    \n",
    "                    current_row_alignment[j] = max(current_row_alignment[j-1] - 1,\\\n",
    "                                                   previous_row_alignment[j] +\\\n",
    "                                                   nw_matrix(seq1[i-1], seq2[j-(k-i+1)]))\n",
    "            \n",
    "                else:\n",
    "                    current_row_levenstein[j] = min(previous_row_levenstein[j] +\\\n",
    "                                                    lev_matrix(seq1[i-1], seq2[j-(k-i+1)]),\\\n",
    "                                                    previous_row_levenstein[j+1] + 1)\n",
    "                    \n",
    "                    current_row_alignment[j] = max(previous_row_alignment[j] +\\\n",
    "                                                   nw_matrix(seq1[i-1], seq2[j-(k-i+1)]),\\\n",
    "                                                   previous_row_alignment[j+1] - 1)\n",
    "                    \n",
    "                \n",
    "            else:\n",
    "                current_row_levenstein[j] = 100\n",
    "                current_row_alignment[j] = -100\n",
    "                \n",
    "        previous_row_levenstein = current_row_levenstein\n",
    "        previous_row_alignment = current_row_alignment\n",
    "                \n",
    "        #print(f'{seq1[i-1]}'+f'{current_row_levenstein}')\n",
    "        #print(current_row_alignment)\n",
    "        if min(current_row_levenstein)+(len2-len1) > k:\n",
    "            return 'None'\n",
    "        else:\n",
    "            return min(current_row_levenstein)+(len2-len1)\n",
    "        \n",
    "inp = input_function()\n",
    "k = inp[0]\n",
    "seq1 = inp[1][0]\n",
    "seq2 = inp[1][1]\n",
    "print(k)\n",
    "print(f'seq1 is {seq1}')\n",
    "print(f'seq2 is {seq2}')\n",
    "define_levenstein_distance_and_optimal_alignment(seq1, seq2, k)"
   ]
  },
  {
   "cell_type": "code",
   "execution_count": 11,
   "id": "8ce35efc",
   "metadata": {},
   "outputs": [
    {
     "data": {
      "text/plain": [
       "'c'"
      ]
     },
     "execution_count": 11,
     "metadata": {},
     "output_type": "execute_result"
    }
   ],
   "source": []
  },
  {
   "cell_type": "code",
   "execution_count": 8,
   "id": "a81d2cda",
   "metadata": {},
   "outputs": [
    {
     "ename": "NameError",
     "evalue": "name 'funct2' is not defined",
     "output_type": "error",
     "traceback": [
      "\u001b[1;31m---------------------------------------------------------------------------\u001b[0m",
      "\u001b[1;31mNameError\u001b[0m                                 Traceback (most recent call last)",
      "\u001b[1;32mC:\\Users\\FULMEN~1\\AppData\\Local\\Temp/ipykernel_14044/1651194156.py\u001b[0m in \u001b[0;36m<module>\u001b[1;34m\u001b[0m\n\u001b[0;32m      2\u001b[0m     \u001b[1;32mreturn\u001b[0m \u001b[0mx\u001b[0m\u001b[1;33m\u001b[0m\u001b[1;33m\u001b[0m\u001b[0m\n\u001b[0;32m      3\u001b[0m \u001b[1;33m\u001b[0m\u001b[0m\n\u001b[1;32m----> 4\u001b[1;33m \u001b[0mx\u001b[0m \u001b[1;33m=\u001b[0m \u001b[0mfunct2\u001b[0m\u001b[1;33m(\u001b[0m\u001b[1;36m1\u001b[0m\u001b[1;33m)\u001b[0m\u001b[1;33m\u001b[0m\u001b[1;33m\u001b[0m\u001b[0m\n\u001b[0m\u001b[0;32m      5\u001b[0m \u001b[0mprint\u001b[0m\u001b[1;33m(\u001b[0m\u001b[0mx\u001b[0m\u001b[1;33m)\u001b[0m\u001b[1;33m\u001b[0m\u001b[1;33m\u001b[0m\u001b[0m\n",
      "\u001b[1;31mNameError\u001b[0m: name 'funct2' is not defined"
     ]
    }
   ],
   "source": [
    "def func2(x):\n",
    "    return x\n",
    "\n",
    "x = funct2(1)\n",
    "print(x)"
   ]
  },
  {
   "cell_type": "code",
   "execution_count": 24,
   "id": "8c220900",
   "metadata": {},
   "outputs": [],
   "source": []
  },
  {
   "cell_type": "code",
   "execution_count": 23,
   "id": "7f1076fd",
   "metadata": {},
   "outputs": [
    {
     "name": "stdout",
     "output_type": "stream",
     "text": [
      "-[100 100 100 100   0   1   2   3   4]\n"
     ]
    },
    {
     "data": {
      "text/plain": [
       "3.0"
      ]
     },
     "execution_count": 23,
     "metadata": {},
     "output_type": "execute_result"
    }
   ],
   "source": []
  },
  {
   "cell_type": "code",
   "execution_count": null,
   "id": "18ba7ffe",
   "metadata": {},
   "outputs": [],
   "source": []
  }
 ],
 "metadata": {
  "kernelspec": {
   "display_name": "Python 3 (ipykernel)",
   "language": "python",
   "name": "python3"
  },
  "language_info": {
   "codemirror_mode": {
    "name": "ipython",
    "version": 3
   },
   "file_extension": ".py",
   "mimetype": "text/x-python",
   "name": "python",
   "nbconvert_exporter": "python",
   "pygments_lexer": "ipython3",
   "version": "3.7.9"
  }
 },
 "nbformat": 4,
 "nbformat_minor": 5
}
