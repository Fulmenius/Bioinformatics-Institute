{
 "cells": [
  {
   "cell_type": "code",
   "execution_count": 1,
   "id": "49e8061c",
   "metadata": {},
   "outputs": [],
   "source": [
    "import numpy as np\n",
    "import re\n",
    "\n",
    "dna_seq_to_char = {\n",
    "    '-':0,\n",
    "    'A':1,\n",
    "    'T':2,\n",
    "    'G':4,\n",
    "    'C':5,\n",
    "    'U':6,\n",
    "    'm':7,\n",
    "    'i':8,\n",
    "    's':9,\n",
    "    'p':10\n",
    "}\n",
    "\n",
    "dna_char_to_seq = {\n",
    "    0:'-',\n",
    "    1:'A',\n",
    "    2:'T',\n",
    "    4:'G',\n",
    "    5:'C',\n",
    "    6:'U',\n",
    "    7:'m',\n",
    "    8:'i',\n",
    "    9:'s',\n",
    "    10:'p'\n",
    "}\n",
    "\n",
    "def str_to_arr(s):\n",
    "    return np.array(list(map(lambda x: dna_seq_to_char[x], s)), dtype = np.byte)\n",
    "\n",
    "def arr_to_str(na):\n",
    "    return ''.join(list(map(lambda x: dna_char_to_seq[x], na)))\n",
    "\n",
    "def unefficient_bwt(s):\n",
    "    na = str_to_arr(s)\n",
    "    leng = len(na)\n",
    "    bwt = np.repeat(na[:, np.newaxis], leng, axis=1).T\n",
    "    for i in range(leng):\n",
    "        bwt[i] = np.roll(bwt[i], i, axis=0)\n",
    "        \n",
    "    bwt = bwt[bwt[:,0].argsort()]\n",
    "        \n",
    "    return arr_to_str(bwt[:, -1])\n",
    "\n",
    "def bwt_forward(x):\n",
    "    return x"
   ]
  },
  {
   "cell_type": "code",
   "execution_count": 144,
   "id": "cca83c6b",
   "metadata": {},
   "outputs": [
    {
     "data": {
      "text/plain": [
       "'ipssmsisipi'"
      ]
     },
     "execution_count": 144,
     "metadata": {},
     "output_type": "execute_result"
    }
   ],
   "source": [
    "unefficient_bwt('mississippi')"
   ]
  }
 ],
 "metadata": {
  "kernelspec": {
   "display_name": "Python 3 (ipykernel)",
   "language": "python",
   "name": "python3"
  },
  "language_info": {
   "codemirror_mode": {
    "name": "ipython",
    "version": 3
   },
   "file_extension": ".py",
   "mimetype": "text/x-python",
   "name": "python",
   "nbconvert_exporter": "python",
   "pygments_lexer": "ipython3",
   "version": "3.9.13"
  }
 },
 "nbformat": 4,
 "nbformat_minor": 5
}
