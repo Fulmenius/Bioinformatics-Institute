{
 "cells": [
  {
   "cell_type": "code",
   "execution_count": 63,
   "id": "6ab356fd",
   "metadata": {},
   "outputs": [],
   "source": [
    "import numpy as np\n",
    "import torch\n",
    "from torch import nn\n",
    "\n",
    "def create_model():\n",
    "    model = nn.Sequential(\n",
    "        nn.Linear(784, 256),\n",
    "        nn.ReLU(),\n",
    "        nn.Linear(256, 16),\n",
    "        nn.ReLU(),\n",
    "        nn.Linear(16, 10)\n",
    "    )\n",
    "\n",
    "    return model\n",
    "\n",
    "def count_parameters(model):\n",
    "    num_param = sum(p.numel() for p in model.parameters() if p.requires_grad)\n",
    "    return num_param"
   ]
  },
  {
   "cell_type": "code",
   "execution_count": 64,
   "id": "fd6b8e4b",
   "metadata": {},
   "outputs": [
    {
     "data": {
      "text/plain": [
       "tensor([0.0236, 0.0282, 0.1562, 0.0000, 0.0000, 0.0145, 0.0000, 0.1850, 0.1507,\n",
       "        0.0000], grad_fn=<ReluBackward0>)"
      ]
     },
     "execution_count": 64,
     "metadata": {},
     "output_type": "execute_result"
    }
   ],
   "source": [
    "model = create_model()\n",
    "x = torch.rand(784)\n",
    "model(x)"
   ]
  }
 ],
 "metadata": {
  "kernelspec": {
   "display_name": "Python 3 (ipykernel)",
   "language": "python",
   "name": "python3"
  },
  "language_info": {
   "codemirror_mode": {
    "name": "ipython",
    "version": 3
   },
   "file_extension": ".py",
   "mimetype": "text/x-python",
   "name": "python",
   "nbconvert_exporter": "python",
   "pygments_lexer": "ipython3",
   "version": "3.9.12"
  }
 },
 "nbformat": 4,
 "nbformat_minor": 5
}
