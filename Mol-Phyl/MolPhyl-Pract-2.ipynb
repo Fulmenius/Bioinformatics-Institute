{
 "cells": [
  {
   "cell_type": "code",
   "execution_count": 1,
   "id": "84e44650",
   "metadata": {},
   "outputs": [],
   "source": [
    "from Bio import Entrez"
   ]
  },
  {
   "cell_type": "code",
   "execution_count": 2,
   "id": "0dd114be",
   "metadata": {},
   "outputs": [],
   "source": [
    "Entrez.email = 'thefulmenius@gmail.com'"
   ]
  },
  {
   "cell_type": "markdown",
   "id": "c70c0cd9",
   "metadata": {},
   "source": [
    "Work with NCBI. "
   ]
  },
  {
   "cell_type": "code",
   "execution_count": 6,
   "id": "95d09e96",
   "metadata": {},
   "outputs": [
    {
     "name": "stdout",
     "output_type": "stream",
     "text": [
      "{'Count': '79', 'RetMax': '20', 'RetStart': '0', 'IdList': ['35247793', '35010161', '34436301', '33919403', '33465290', '32851672', '32596057', '32236233', '31813041', '30860355', '29683674', '29178679', '28851818', '26220698', '25797168', '25605312', '24782450', '23570752', '23510436', '23441225'], 'TranslationSet': [{'From': 'crustacyanin', 'To': '\"crustacyanin\"[All Fields] OR \"crustacyanins\"[Supplementary Concept] OR \"crustacyanins\"[All Fields]'}], 'QueryTranslation': '\"crustacyanin\"[All Fields] OR \"crustacyanins\"[Supplementary Concept] OR \"crustacyanins\"[All Fields]'}\n"
     ]
    }
   ],
   "source": [
    "handle = Entrez.esearch(db = \"pubmed\", term = \"crustacyanin\") # search: database, \n",
    "record = Entrez.read(handle)\n",
    "print(record) #find all articles\n"
   ]
  },
  {
   "cell_type": "code",
   "execution_count": 1,
   "id": "c7f7b4fa",
   "metadata": {},
   "outputs": [
    {
     "ename": "NameError",
     "evalue": "name 'Entrez' is not defined",
     "output_type": "error",
     "traceback": [
      "\u001b[0;31m---------------------------------------------------------------------------\u001b[0m",
      "\u001b[0;31mNameError\u001b[0m                                 Traceback (most recent call last)",
      "Cell \u001b[0;32mIn[1], line 1\u001b[0m\n\u001b[0;32m----> 1\u001b[0m mshandle \u001b[38;5;241m=\u001b[39m \u001b[43mEntrez\u001b[49m\u001b[38;5;241m.\u001b[39mefetch(db\u001b[38;5;241m=\u001b[39m\u001b[38;5;124m\"\u001b[39m\u001b[38;5;124mpubmed\u001b[39m\u001b[38;5;124m\"\u001b[39m, \u001b[38;5;28mid\u001b[39m\u001b[38;5;241m=\u001b[39mrecord[\u001b[38;5;124m\"\u001b[39m\u001b[38;5;124mIdList\u001b[39m\u001b[38;5;124m\"\u001b[39m][\u001b[38;5;241m0\u001b[39m:\u001b[38;5;241m5\u001b[39m], rettype\u001b[38;5;241m=\u001b[39m\u001b[38;5;124m\"\u001b[39m\u001b[38;5;124mabstract\u001b[39m\u001b[38;5;124m\"\u001b[39m, retmode\u001b[38;5;241m=\u001b[39m\u001b[38;5;124m\"\u001b[39m\u001b[38;5;124mtext\u001b[39m\u001b[38;5;124m\"\u001b[39m)\n\u001b[1;32m      2\u001b[0m \u001b[38;5;28mprint\u001b[39m(mshandle\u001b[38;5;241m.\u001b[39mread()) \u001b[38;5;66;03m# first abstracts\u001b[39;00m\n",
      "\u001b[0;31mNameError\u001b[0m: name 'Entrez' is not defined"
     ]
    }
   ],
   "source": [
    "mshandle = Entrez.efetch(db=\"pubmed\", id=record[\"IdList\"][0:5], rettype=\"abstract\", retmode=\"text\")\n",
    "print(mshandle.read()) # first abstracts"
   ]
  },
  {
   "cell_type": "code",
   "execution_count": 8,
   "id": "38717d13",
   "metadata": {},
   "outputs": [
    {
     "name": "stdout",
     "output_type": "stream",
     "text": [
      "{'Count': '1', 'RetMax': '1', 'RetStart': '0', 'IdList': ['6706'], 'TranslationSet': [], 'TranslationStack': [{'Term': 'Homarus americanus[All Names]', 'Field': 'All Names', 'Count': '1', 'Explode': 'N'}, 'GROUP'], 'QueryTranslation': 'Homarus americanus[All Names]'}\n",
      "['6706']\n"
     ]
    }
   ],
   "source": [
    "handle = Entrez.esearch(db = \"nucleotide\", term = \"crustacyanin AND Homarus gammarus[orgn]\")\n",
    "#search for nucleotide sequences, crustacyanin AND Homarus gammarus[orgn]\n",
    "record = Entrez.read(handle)\n",
    "Entrez.efetch(db = \"nucleotide\", id = record[\"IdList\"])\n",
    "handle = Entrez.esearch(db = \"taxonomy\", term = \"Homarus americanus\")\n",
    "record = Entrez.read(handle)\n",
    "print(record)\n",
    "print(record['IdList'])"
   ]
  },
  {
   "cell_type": "code",
   "execution_count": 9,
   "id": "5b989248",
   "metadata": {},
   "outputs": [
    {
     "name": "stdout",
     "output_type": "stream",
     "text": [
      "2068680993\tXP_042236484\tIntegerElement(197, attributes={})\n",
      "2068680990\tXP_042236483\tIntegerElement(190, attributes={})\n",
      "2068650119\tXP_042225885\tIntegerElement(190, attributes={})\n",
      "2068650116\tXP_042225884\tIntegerElement(197, attributes={})\n",
      "2068642615\tXP_042227234\tIntegerElement(190, attributes={})\n",
      "2068642613\tXP_042227223\tIntegerElement(197, attributes={})\n",
      "2068642611\tXP_042227211\tIntegerElement(190, attributes={})\n",
      "2068642608\tXP_042227198\tIntegerElement(197, attributes={})\n",
      "2068642605\tXP_042227187\tIntegerElement(190, attributes={})\n",
      "2068642602\tXP_042227176\tIntegerElement(197, attributes={})\n",
      "2056515232\tKAG7177238\tIntegerElement(197, attributes={})\n",
      "2056515231\tKAG7177237\tIntegerElement(190, attributes={})\n",
      "2056515230\tKAG7177236\tIntegerElement(197, attributes={})\n",
      "2056515229\tKAG7177235\tIntegerElement(190, attributes={})\n",
      "2056515228\tKAG7177234\tIntegerElement(197, attributes={})\n",
      "2056515227\tKAG7177233\tIntegerElement(190, attributes={})\n",
      "2056483091\tKAG7166898\tIntegerElement(197, attributes={})\n",
      "2056483090\tKAG7166897\tIntegerElement(190, attributes={})\n",
      "2056467580\tKAG7160784\tIntegerElement(197, attributes={})\n",
      "2056467579\tKAG7160783\tIntegerElement(190, attributes={})\n"
     ]
    }
   ],
   "source": [
    "handle = Entrez.esearch(db=\"protein\", term=\"crustacyanin AND Homarus americanus[orgn]\")\n",
    "record = Entrez.read(handle)\n",
    "for rec in record[\"IdList\"]:\n",
    "        temphandle = Entrez.read(Entrez.esummary(db=\"protein\", id=rec, retmode=\"text\"))\n",
    "        print(temphandle[0]['Id']+\"\\t\"+temphandle[0]['Caption']+\"\\t\"+str(temphandle[0]['Length']))#+\"\\n\")\n",
    "##str(int(temphandle[0]['Length'])))\n"
   ]
  },
  {
   "cell_type": "code",
   "execution_count": 11,
   "id": "bd417323",
   "metadata": {},
   "outputs": [],
   "source": [
    "handle = Entrez.esearch(db=\"protein\", term=\"crustacyanin AND Homarus americanus[orgn]\")\n",
    "record = Entrez.read(handle)\n"
   ]
  },
  {
   "cell_type": "code",
   "execution_count": 12,
   "id": "d53ca340",
   "metadata": {},
   "outputs": [
    {
     "name": "stdout",
     "output_type": "stream",
     "text": [
      "['>XP_042236484.1 crustacyanin-C1 subunit-like [Homarus americanus]\\n', 'MNSLSILLVFVASVAADKIPDFVVPGKCASVDRNKLWAEQTPNRNNYAGVWYQFALTNNPYQLIEKCVRN\\n', 'EYSFDGEQFVITSTGIAYDGNLLKRNGKLYPNPFGEPHLSIDYENSFAAPLVILETDYSNYACLYSCIDY\\n', 'NFGYHSDFSFIFSRSANLAEQYVKKCEAAFKNINVDTTRFVKTVQGSSCPYDTQKTL\\n', '\\n']\n"
     ]
    }
   ],
   "source": [
    "Entrez.efetch(db=\"protein\", id=record[\"IdList\"], retmode=\"text\", rettype=\"fasta\").read()\n",
    "with open(\"crcn.fasta\", \"w\") as ouf:\n",
    "    for rec in record[\"IdList\"]:\n",
    "        lne = Entrez.efetch(db=\"protein\", id=rec, retmode=\"text\", rettype=\"fasta\").read()\n",
    "        ouf.write(lne+\"\\n\")\n",
    "with open(\"crcn.fasta\", \"r\") as fastaf:\n",
    "    snippet = [next(fastaf) for x in range(5)]\n",
    "    print(snippet)"
   ]
  },
  {
   "cell_type": "code",
   "execution_count": 13,
   "id": "2195753e",
   "metadata": {},
   "outputs": [],
   "source": [
    "lhandle = Entrez.elink(dbfrom=\"nucleotide\", db=\"protein\", id=\"2065188392\") \n",
    "lrecord = Entrez.read(lhandle)\n",
    "prothandle = lrecord[0][\"LinkSetDb\"][0]['Link'][0]['Id']\n",
    "rrecord = Entrez.efetch(db=\"protein\", id=prothandle, rettype=\"fasta\", retmode=\"text\")\n",
    "with open (\"prot_from_nt.fasta\", \"w\") as ouf:\n",
    "    ouf.write(rrecord.read()+\"\\n\")\n"
   ]
  },
  {
   "cell_type": "code",
   "execution_count": 14,
   "id": "61d5e5aa",
   "metadata": {},
   "outputs": [],
   "source": [
    "\n",
    "lhandle = Entrez.elink(dbfrom=\"pubmed\", db=\"nucleotide\", id=\"20558169\")\n",
    "lrecord = Entrez.read(lhandle)\n",
    "ids = []\n",
    "for el in lrecord[0][\"LinkSetDb\"][0][\"Link\"]:\n",
    "    ids.append(el['Id'])\n",
    "rrecord = Entrez.efetch(db=\"nucleotide\", id=ids[:4], rettype=\"fasta\", retmode=\"text\")\n",
    "with open (\"py_fasta_pmid.fasta\", \"w\") as ouf:\n",
    "    ouf.write(rrecord.read()+\"\\n\")"
   ]
  }
 ],
 "metadata": {
  "kernelspec": {
   "display_name": "Python 3 (ipykernel)",
   "language": "python",
   "name": "python3"
  },
  "language_info": {
   "codemirror_mode": {
    "name": "ipython",
    "version": 3
   },
   "file_extension": ".py",
   "mimetype": "text/x-python",
   "name": "python",
   "nbconvert_exporter": "python",
   "pygments_lexer": "ipython3",
   "version": "3.9.15"
  }
 },
 "nbformat": 4,
 "nbformat_minor": 5
}
