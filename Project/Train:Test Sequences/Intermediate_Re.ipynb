{
 "cells": [
  {
   "cell_type": "code",
   "execution_count": 2,
   "id": "9ed970eb",
   "metadata": {},
   "outputs": [],
   "source": [
    "import numpy as np\n",
    "import pandas as pd\n",
    "from matplotlib import pyplot as plt\n",
    "import torch \n",
    "import torch.nn as nn\n",
    "import torch.nn.functional as F\n",
    "import torch.optim as optim\n",
    "from sklearn.model_selection import train_test_split\n",
    "import seaborn as sns\n"
   ]
  },
  {
   "cell_type": "code",
   "execution_count": 3,
   "id": "b425ab73",
   "metadata": {},
   "outputs": [],
   "source": [
    "ACE2_train = pd.read_csv(\"ACE2_train_data.csv\")\n",
    "ACE2_test = pd.read_csv(\"ACE2_test_data.csv\")\n",
    "LY16_train = pd.read_csv(\"LY16_test_data.csv\")\n",
    "LY16_test = pd.read_csv(\"LY16_train_data.csv\")\n",
    "LY555_train = pd.read_csv(\"LY555_test_data.csv\")\n",
    "LY555_test = pd.read_csv(\"LY555_train_data.csv\")\n"
   ]
  },
  {
   "cell_type": "code",
   "execution_count": 12,
   "id": "8e90c65c",
   "metadata": {},
   "outputs": [],
   "source": [
    "ACE2_train\n",
    "test = ACE2_train['junction_aa'].iloc[0]\n"
   ]
  },
  {
   "cell_type": "code",
   "execution_count": 22,
   "id": "da67700b",
   "metadata": {},
   "outputs": [],
   "source": [
    "from functools import reduce"
   ]
  },
  {
   "cell_type": "code",
   "execution_count": 43,
   "id": "7bf5e8b2",
   "metadata": {},
   "outputs": [],
   "source": [
    "unique_values = ACE2_train['junction_aa'].apply(lambda x: set(list(x))).tolist()"
   ]
  },
  {
   "cell_type": "code",
   "execution_count": 44,
   "id": "c5fedf6a",
   "metadata": {},
   "outputs": [],
   "source": [
    "unique_values = set().union(*unique_values)"
   ]
  },
  {
   "cell_type": "code",
   "execution_count": 90,
   "id": "9d32dae9",
   "metadata": {},
   "outputs": [],
   "source": [
    "def vocabulary(series):\n",
    "    un_val = series.apply(lambda x: set(list(x))).tolist()\n",
    "    un_val = set().union(*un_val)\n",
    "    return un_val"
   ]
  },
  {
   "cell_type": "code",
   "execution_count": 49,
   "id": "f0975e80",
   "metadata": {},
   "outputs": [],
   "source": [
    "vocab = vocabulary(ACE2_train['junction_aa'])"
   ]
  },
  {
   "cell_type": "code",
   "execution_count": 50,
   "id": "c46564dd",
   "metadata": {},
   "outputs": [],
   "source": [
    "test = ACE2_train['junction_aa'].iloc[0]"
   ]
  },
  {
   "cell_type": "code",
   "execution_count": 77,
   "id": "b7c19fb4",
   "metadata": {},
   "outputs": [
    {
     "data": {
      "text/html": [
       "<div>\n",
       "<style scoped>\n",
       "    .dataframe tbody tr th:only-of-type {\n",
       "        vertical-align: middle;\n",
       "    }\n",
       "\n",
       "    .dataframe tbody tr th {\n",
       "        vertical-align: top;\n",
       "    }\n",
       "\n",
       "    .dataframe thead th {\n",
       "        text-align: right;\n",
       "    }\n",
       "</style>\n",
       "<table border=\"1\" class=\"dataframe\">\n",
       "  <thead>\n",
       "    <tr style=\"text-align: right;\">\n",
       "      <th></th>\n",
       "      <th>Unnamed: 0</th>\n",
       "      <th>junction_aa</th>\n",
       "      <th>consensus_count</th>\n",
       "      <th>Label</th>\n",
       "      <th>Distance</th>\n",
       "    </tr>\n",
       "  </thead>\n",
       "  <tbody>\n",
       "    <tr>\n",
       "      <th>0</th>\n",
       "      <td>287261</td>\n",
       "      <td>KNAGFNCYNPLETYGFWRTGGVDW</td>\n",
       "      <td>1</td>\n",
       "      <td>1</td>\n",
       "      <td>9</td>\n",
       "    </tr>\n",
       "    <tr>\n",
       "      <th>1</th>\n",
       "      <td>467439</td>\n",
       "      <td>KNEQFNCYGPINAYGFQRTGGEDW</td>\n",
       "      <td>1</td>\n",
       "      <td>0</td>\n",
       "      <td>10</td>\n",
       "    </tr>\n",
       "    <tr>\n",
       "      <th>2</th>\n",
       "      <td>414422</td>\n",
       "      <td>KNQKFNCYVPLFHYGFWPTVGVGF</td>\n",
       "      <td>1</td>\n",
       "      <td>1</td>\n",
       "      <td>8</td>\n",
       "    </tr>\n",
       "    <tr>\n",
       "      <th>3</th>\n",
       "      <td>103144</td>\n",
       "      <td>KNQGFNCYNPLVNYGFYRTNGRSF</td>\n",
       "      <td>1</td>\n",
       "      <td>1</td>\n",
       "      <td>9</td>\n",
       "    </tr>\n",
       "    <tr>\n",
       "      <th>4</th>\n",
       "      <td>478954</td>\n",
       "      <td>KNRGFNCYKPLPGYGFQRTDGINW</td>\n",
       "      <td>2</td>\n",
       "      <td>0</td>\n",
       "      <td>9</td>\n",
       "    </tr>\n",
       "    <tr>\n",
       "      <th>...</th>\n",
       "      <td>...</td>\n",
       "      <td>...</td>\n",
       "      <td>...</td>\n",
       "      <td>...</td>\n",
       "      <td>...</td>\n",
       "    </tr>\n",
       "    <tr>\n",
       "      <th>406881</th>\n",
       "      <td>16530</td>\n",
       "      <td>KNKGFNCYIPIEDYGFQRTSGRSY</td>\n",
       "      <td>2</td>\n",
       "      <td>0</td>\n",
       "      <td>9</td>\n",
       "    </tr>\n",
       "    <tr>\n",
       "      <th>406882</th>\n",
       "      <td>48280</td>\n",
       "      <td>KNEGFNCYNPITEYGFWTTSGLDW</td>\n",
       "      <td>2</td>\n",
       "      <td>1</td>\n",
       "      <td>10</td>\n",
       "    </tr>\n",
       "    <tr>\n",
       "      <th>406883</th>\n",
       "      <td>420449</td>\n",
       "      <td>KNGKFNCYHPIVRYGFHPTVGRGY</td>\n",
       "      <td>2</td>\n",
       "      <td>1</td>\n",
       "      <td>9</td>\n",
       "    </tr>\n",
       "    <tr>\n",
       "      <th>406884</th>\n",
       "      <td>173734</td>\n",
       "      <td>KNGQFNCYIPIAGYGFLPTLGVSY</td>\n",
       "      <td>1</td>\n",
       "      <td>0</td>\n",
       "      <td>9</td>\n",
       "    </tr>\n",
       "    <tr>\n",
       "      <th>406885</th>\n",
       "      <td>554432</td>\n",
       "      <td>KNRGFNCYTPIFKYGFFTTWGRNY</td>\n",
       "      <td>1</td>\n",
       "      <td>0</td>\n",
       "      <td>10</td>\n",
       "    </tr>\n",
       "  </tbody>\n",
       "</table>\n",
       "<p>406886 rows × 5 columns</p>\n",
       "</div>"
      ],
      "text/plain": [
       "        Unnamed: 0               junction_aa  consensus_count  Label  Distance\n",
       "0           287261  KNAGFNCYNPLETYGFWRTGGVDW                1      1         9\n",
       "1           467439  KNEQFNCYGPINAYGFQRTGGEDW                1      0        10\n",
       "2           414422  KNQKFNCYVPLFHYGFWPTVGVGF                1      1         8\n",
       "3           103144  KNQGFNCYNPLVNYGFYRTNGRSF                1      1         9\n",
       "4           478954  KNRGFNCYKPLPGYGFQRTDGINW                2      0         9\n",
       "...            ...                       ...              ...    ...       ...\n",
       "406881       16530  KNKGFNCYIPIEDYGFQRTSGRSY                2      0         9\n",
       "406882       48280  KNEGFNCYNPITEYGFWTTSGLDW                2      1        10\n",
       "406883      420449  KNGKFNCYHPIVRYGFHPTVGRGY                2      1         9\n",
       "406884      173734  KNGQFNCYIPIAGYGFLPTLGVSY                1      0         9\n",
       "406885      554432  KNRGFNCYTPIFKYGFFTTWGRNY                1      0        10\n",
       "\n",
       "[406886 rows x 5 columns]"
      ]
     },
     "execution_count": 77,
     "metadata": {},
     "output_type": "execute_result"
    }
   ],
   "source": [
    "ACE2_train"
   ]
  },
  {
   "cell_type": "code",
   "execution_count": null,
   "id": "5cb1f929",
   "metadata": {},
   "outputs": [],
   "source": [
    "ACE2"
   ]
  },
  {
   "cell_type": "code",
   "execution_count": 65,
   "id": "b53bf910",
   "metadata": {},
   "outputs": [],
   "source": [
    "unique_lengths = lambda x: np.unique(np.array(x.apply(list).apply(len)))"
   ]
  },
  {
   "cell_type": "code",
   "execution_count": 67,
   "id": "373da749",
   "metadata": {},
   "outputs": [
    {
     "data": {
      "text/plain": [
       "array([24])"
      ]
     },
     "execution_count": 67,
     "metadata": {},
     "output_type": "execute_result"
    }
   ],
   "source": [
    "unique_lengths(ACE2_train['junction_aa'])"
   ]
  },
  {
   "cell_type": "code",
   "execution_count": null,
   "id": "2c3fa512",
   "metadata": {},
   "outputs": [],
   "source": [
    "unique"
   ]
  },
  {
   "cell_type": "code",
   "execution_count": 80,
   "id": "f387e232",
   "metadata": {},
   "outputs": [],
   "source": [
    "def one_hot_encode(series, aa_vocab):\n",
    "    length = 24\n",
    "    encoding = lambda x: np.array([[letter == aa_vocab[i] for i in range(len(aa_vocab))] for letter in x])\n",
    "    \n",
    "    return series.apply(encoding)"
   ]
  },
  {
   "cell_type": "code",
   "execution_count": 83,
   "id": "4fcf11ec",
   "metadata": {},
   "outputs": [],
   "source": [
    "ACE2_train['junction_aa_encoded'] = one_hot_encode(ACE2_train['junction_aa'], list(vocab))"
   ]
  },
  {
   "cell_type": "code",
   "execution_count": 89,
   "id": "d46eb264",
   "metadata": {},
   "outputs": [
    {
     "data": {
      "text/plain": [
       "(24, 20)"
      ]
     },
     "execution_count": 89,
     "metadata": {},
     "output_type": "execute_result"
    }
   ],
   "source": [
    "ACE2_train['junction_aa_encoded'][0].shape\n"
   ]
  },
  {
   "cell_type": "code",
   "execution_count": 88,
   "id": "0cb9fd34",
   "metadata": {},
   "outputs": [
    {
     "data": {
      "text/plain": [
       "True"
      ]
     },
     "execution_count": 88,
     "metadata": {},
     "output_type": "execute_result"
    }
   ],
   "source": []
  },
  {
   "cell_type": "code",
   "execution_count": 60,
   "id": "4ca8cb2d",
   "metadata": {},
   "outputs": [
    {
     "data": {
      "text/plain": [
       "24"
      ]
     },
     "execution_count": 60,
     "metadata": {},
     "output_type": "execute_result"
    }
   ],
   "source": [
    "one_hot_encode_with_padding(ACE2_train['junction_aa'], 'lol')"
   ]
  },
  {
   "cell_type": "code",
   "execution_count": 20,
   "id": "906277b3",
   "metadata": {},
   "outputs": [
    {
     "data": {
      "text/plain": [
       "array([1., 1., 1., 0., 0., 0., 0., 0., 0., 0., 1., 0., 0., 1., 1., 1., 1.,\n",
       "       0., 0., 0., 0., 0., 0., 0., 0., 0., 0., 0., 1., 0., 0., 0., 0., 0.,\n",
       "       0., 0., 0., 1., 0., 1., 0., 0., 0., 1., 0., 0., 0., 0., 0., 0., 0.,\n",
       "       0., 0., 0., 0., 0., 0., 0., 0., 0., 0., 0., 0., 0., 0., 0., 0., 0.,\n",
       "       0., 0., 0., 1., 1., 1., 1., 0., 0., 0., 0., 1., 0., 0., 1., 0., 1.,\n",
       "       0., 0., 0., 0., 0., 1., 0., 0., 0., 0., 0., 0., 0., 0., 0., 0., 0.,\n",
       "       0., 0., 0., 1., 0., 0., 0., 0., 0., 0., 0., 0., 0., 0., 0., 0., 1.,\n",
       "       1., 0., 0., 0., 0., 1., 0.])"
      ]
     },
     "execution_count": 20,
     "metadata": {},
     "output_type": "execute_result"
    }
   ],
   "source": [
    "test_one_hot[0]"
   ]
  },
  {
   "cell_type": "code",
   "execution_count": 4,
   "id": "9692d7d1",
   "metadata": {},
   "outputs": [
    {
     "data": {
      "text/html": [
       "<div>\n",
       "<style scoped>\n",
       "    .dataframe tbody tr th:only-of-type {\n",
       "        vertical-align: middle;\n",
       "    }\n",
       "\n",
       "    .dataframe tbody tr th {\n",
       "        vertical-align: top;\n",
       "    }\n",
       "\n",
       "    .dataframe thead th {\n",
       "        text-align: right;\n",
       "    }\n",
       "</style>\n",
       "<table border=\"1\" class=\"dataframe\">\n",
       "  <thead>\n",
       "    <tr style=\"text-align: right;\">\n",
       "      <th></th>\n",
       "      <th>Unnamed: 0</th>\n",
       "      <th>consensus_count</th>\n",
       "      <th>clonal_frequency</th>\n",
       "      <th>Label</th>\n",
       "      <th>Distance</th>\n",
       "    </tr>\n",
       "  </thead>\n",
       "  <tbody>\n",
       "    <tr>\n",
       "      <th>count</th>\n",
       "      <td>26881.000000</td>\n",
       "      <td>26881.000000</td>\n",
       "      <td>26881.000000</td>\n",
       "      <td>26881.000000</td>\n",
       "      <td>26881.000000</td>\n",
       "    </tr>\n",
       "    <tr>\n",
       "      <th>mean</th>\n",
       "      <td>22065.281240</td>\n",
       "      <td>1.767494</td>\n",
       "      <td>0.000069</td>\n",
       "      <td>0.500688</td>\n",
       "      <td>8.346676</td>\n",
       "    </tr>\n",
       "    <tr>\n",
       "      <th>std</th>\n",
       "      <td>15321.518318</td>\n",
       "      <td>7.168266</td>\n",
       "      <td>0.000421</td>\n",
       "      <td>0.500009</td>\n",
       "      <td>1.564086</td>\n",
       "    </tr>\n",
       "    <tr>\n",
       "      <th>min</th>\n",
       "      <td>3.000000</td>\n",
       "      <td>1.000000</td>\n",
       "      <td>0.000007</td>\n",
       "      <td>0.000000</td>\n",
       "      <td>2.000000</td>\n",
       "    </tr>\n",
       "    <tr>\n",
       "      <th>25%</th>\n",
       "      <td>9088.000000</td>\n",
       "      <td>1.000000</td>\n",
       "      <td>0.000028</td>\n",
       "      <td>0.000000</td>\n",
       "      <td>8.000000</td>\n",
       "    </tr>\n",
       "    <tr>\n",
       "      <th>50%</th>\n",
       "      <td>18442.000000</td>\n",
       "      <td>1.000000</td>\n",
       "      <td>0.000047</td>\n",
       "      <td>1.000000</td>\n",
       "      <td>9.000000</td>\n",
       "    </tr>\n",
       "    <tr>\n",
       "      <th>75%</th>\n",
       "      <td>34658.000000</td>\n",
       "      <td>1.000000</td>\n",
       "      <td>0.000047</td>\n",
       "      <td>1.000000</td>\n",
       "      <td>9.000000</td>\n",
       "    </tr>\n",
       "    <tr>\n",
       "      <th>max</th>\n",
       "      <td>57203.000000</td>\n",
       "      <td>482.000000</td>\n",
       "      <td>0.030311</td>\n",
       "      <td>1.000000</td>\n",
       "      <td>14.000000</td>\n",
       "    </tr>\n",
       "  </tbody>\n",
       "</table>\n",
       "</div>"
      ],
      "text/plain": [
       "         Unnamed: 0  consensus_count  clonal_frequency         Label  \\\n",
       "count  26881.000000     26881.000000      26881.000000  26881.000000   \n",
       "mean   22065.281240         1.767494          0.000069      0.500688   \n",
       "std    15321.518318         7.168266          0.000421      0.500009   \n",
       "min        3.000000         1.000000          0.000007      0.000000   \n",
       "25%     9088.000000         1.000000          0.000028      0.000000   \n",
       "50%    18442.000000         1.000000          0.000047      1.000000   \n",
       "75%    34658.000000         1.000000          0.000047      1.000000   \n",
       "max    57203.000000       482.000000          0.030311      1.000000   \n",
       "\n",
       "           Distance  \n",
       "count  26881.000000  \n",
       "mean       8.346676  \n",
       "std        1.564086  \n",
       "min        2.000000  \n",
       "25%        8.000000  \n",
       "50%        9.000000  \n",
       "75%        9.000000  \n",
       "max       14.000000  "
      ]
     },
     "execution_count": 4,
     "metadata": {},
     "output_type": "execute_result"
    }
   ],
   "source": [
    "\"\"\"\n",
    "One-hot ecoding\n",
    "\"\"\""
   ]
  },
  {
   "cell_type": "code",
   "execution_count": 91,
   "id": "ed2316f1",
   "metadata": {},
   "outputs": [],
   "source": [
    "X_train = torch.tensor(np.stack(ACE2_train['junction_aa_encoded'].values), dtype=torch.float32)\n",
    "y_train = torch.tensor(ACE2_train['Label'].values, dtype=torch.long)"
   ]
  },
  {
   "cell_type": "code",
   "execution_count": 93,
   "id": "828fe02a",
   "metadata": {},
   "outputs": [],
   "source": [
    "ACE2_test['junction_aa_encoded'] = one_hot_encode(ACE2_test['junction_aa'], list(vocab))\n"
   ]
  },
  {
   "cell_type": "code",
   "execution_count": 94,
   "id": "94dfaca5",
   "metadata": {},
   "outputs": [],
   "source": [
    "X_test = torch.tensor(np.stack(ACE2_test['junction_aa_encoded'].values), dtype=torch.float32)\n",
    "y_test = torch.tensor(ACE2_test['Label'].values, dtype=torch.long)"
   ]
  },
  {
   "cell_type": "code",
   "execution_count": 133,
   "id": "8dcc1d41",
   "metadata": {},
   "outputs": [],
   "source": [
    "from torch.utils.data import Dataset, DataLoader\n",
    "\n",
    "class OneHotDataset(Dataset):\n",
    "    def __init__(self, X, y):\n",
    "        self.X = X\n",
    "        self.y = y\n",
    "\n",
    "    def __len__(self):\n",
    "        return len(self.y)\n",
    "\n",
    "    def __getitem__(self, idx):\n",
    "        X_data = self.X[idx]\n",
    "        X_data = torch.unsqueeze(X_data, 0)  # Add an extra dimension at position 0\n",
    "        y_data = self.y[idx]\n",
    "        \n",
    "        return X_data, y_data\n",
    "\n",
    "    \n",
    "train_dataset = OneHotDataset(X_train, y_train)\n",
    "test_dataset = OneHotDataset(X_test, y_test)\n"
   ]
  },
  {
   "cell_type": "code",
   "execution_count": 134,
   "id": "55930acf",
   "metadata": {},
   "outputs": [],
   "source": [
    "\"\"\"\n",
    "Data loaders:\n",
    "\"\"\"\n",
    "train_dataloader = DataLoader(train_dataset, batch_size=64, shuffle=True)\n",
    "test_dataloader = DataLoader(test_dataset, batch_size=64, shuffle=False)"
   ]
  },
  {
   "cell_type": "code",
   "execution_count": 141,
   "id": "3ca9530e",
   "metadata": {},
   "outputs": [],
   "source": [
    "\"\"\"\n",
    "Class, 24x20 input \n",
    "\"\"\"\n",
    "class ConvNet(nn.Module):\n",
    "    def __init__(self):\n",
    "        super().__init__()\n",
    "        \n",
    "        self.conv1 = nn.Conv2d(in_channels=1, out_channels=6, kernel_size=(3, 3)) # 22x18\n",
    "        self.bn1 = nn.BatchNorm2d(6)\n",
    "        self.pool1 = nn.MaxPool2d(kernel_size=(2,2)) # 11x9xx6\n",
    "        self.conv2 = nn.Conv2d(in_channels=6, out_channels=9, kernel_size=(3, 3)) # 9x7xx9\n",
    "        self.bn2 = nn.BatchNorm2d(9)\n",
    "        self.flatten = nn.Flatten() # 9*7*9\n",
    "        \n",
    "        self.fc1 = nn.Linear(9*7*9, 64) # HARDCODE!!!! <<<<<\n",
    "        self.bn3 = nn.BatchNorm1d(64)\n",
    "        self.fc2 = nn.Linear(64, 10)\n",
    "        self.bn4 = nn.BatchNorm1d(10)\n",
    "        self.out = nn.Linear(10, 1)\n",
    "        \n",
    "    def forward(self, x):\n",
    "        \n",
    "        x = F.relu(self.conv1(x))\n",
    "        x = self.bn1(x)\n",
    "        x = self.pool1(x)\n",
    "        x = F.relu(self.conv2(x))\n",
    "        x = self.bn2(x)\n",
    "        x = self.flatten(x)\n",
    "        \n",
    "        x = F.relu(self.fc1(x))\n",
    "        x = self.bn3(x)\n",
    "        x = F.relu(self.fc2(x))\n",
    "        x = self.bn4(x)\n",
    "        x = self.out(x)\n",
    "        \n",
    "        return x\n",
    "        "
   ]
  },
  {
   "cell_type": "code",
   "execution_count": 142,
   "id": "fb5141bc",
   "metadata": {},
   "outputs": [],
   "source": [
    "model = ConvNet()"
   ]
  },
  {
   "cell_type": "code",
   "execution_count": 143,
   "id": "c6aebcc7",
   "metadata": {},
   "outputs": [],
   "source": [
    "criterion = F.binary_cross_entropy_with_logits\n",
    "learning_rate = 1e-3\n",
    "optimizer = torch.optim.Adam(model.parameters(), lr=learning_rate)"
   ]
  },
  {
   "cell_type": "code",
   "execution_count": 144,
   "id": "2b6dbfbc",
   "metadata": {},
   "outputs": [],
   "source": [
    "import os\n",
    "\n",
    "# этот код создает папку на диске с названием 'logs'\n",
    "if not os.path.exists('logs'):\n",
    "    os.mkdir('logs')"
   ]
  },
  {
   "cell_type": "code",
   "execution_count": 145,
   "id": "ff32bb4b",
   "metadata": {},
   "outputs": [
    {
     "name": "stdout",
     "output_type": "stream",
     "text": [
      "The tensorboard extension is already loaded. To reload it, use:\n",
      "  %reload_ext tensorboard\n"
     ]
    }
   ],
   "source": [
    "%load_ext tensorboard\n",
    "\n",
    "from torch.utils.tensorboard import SummaryWriter\n",
    "writer = SummaryWriter(\"logs\")"
   ]
  },
  {
   "cell_type": "code",
   "execution_count": 146,
   "id": "c0c816f3",
   "metadata": {},
   "outputs": [],
   "source": [
    "from torch.utils.tensorboard import SummaryWriter\n",
    "writer = SummaryWriter(\"logs\")"
   ]
  },
  {
   "cell_type": "code",
   "execution_count": 147,
   "id": "cfb5302a",
   "metadata": {},
   "outputs": [
    {
     "data": {
      "text/plain": [
       "Reusing TensorBoard on port 6006 (pid 21307), started 0:05:42 ago. (Use '!kill 21307' to kill it.)"
      ]
     },
     "metadata": {},
     "output_type": "display_data"
    },
    {
     "data": {
      "text/html": [
       "\n",
       "      <iframe id=\"tensorboard-frame-4482af26836a1268\" width=\"100%\" height=\"800\" frameborder=\"0\">\n",
       "      </iframe>\n",
       "      <script>\n",
       "        (function() {\n",
       "          const frame = document.getElementById(\"tensorboard-frame-4482af26836a1268\");\n",
       "          const url = new URL(\"/\", window.location);\n",
       "          const port = 6006;\n",
       "          if (port) {\n",
       "            url.port = port;\n",
       "          }\n",
       "          frame.src = url;\n",
       "        })();\n",
       "      </script>\n",
       "    "
      ],
      "text/plain": [
       "<IPython.core.display.HTML object>"
      ]
     },
     "metadata": {},
     "output_type": "display_data"
    }
   ],
   "source": [
    "%tensorboard --logdir=./logs"
   ]
  },
  {
   "cell_type": "code",
   "execution_count": 149,
   "id": "b39ecb8c",
   "metadata": {},
   "outputs": [],
   "source": [
    "device = torch.device(\"cuda\" if torch.cuda.is_available() else \"cpu\")"
   ]
  },
  {
   "cell_type": "code",
   "execution_count": 153,
   "id": "2b999f91",
   "metadata": {},
   "outputs": [
    {
     "data": {
      "text/plain": [
       "torch.Size([64, 1, 24, 20])"
      ]
     },
     "execution_count": 153,
     "metadata": {},
     "output_type": "execute_result"
    }
   ],
   "source": [
    "for i, batch in enumerate(train_dataloader):\n",
    "    # так получаем текущий батч\n",
    "    X_batch, y_batch = batch\n",
    "    break\n",
    "    \n",
    "X_batch.shape"
   ]
  },
  {
   "cell_type": "code",
   "execution_count": 166,
   "id": "88b7f855",
   "metadata": {},
   "outputs": [],
   "source": [
    "def evaluate(model, dataloader, criterion):\n",
    "    \n",
    "    losses = []\n",
    "\n",
    "    num_correct = 0\n",
    "    num_elements = len(dataloader)\n",
    "\n",
    "    for i, batch in enumerate(dataloader):\n",
    "        \n",
    "        # так получаем текущий батч\n",
    "        X_batch, y_batch = batch\n",
    "        \n",
    "        with torch.no_grad():\n",
    "            logits = model(X_batch.to(device))\n",
    "            \n",
    "            loss = criterion(logits, y_batch.to(device))\n",
    "            losses.append(loss.item())\n",
    "            \n",
    "            y_pred = torch.argmax(logits, dim=1).cpu()\n",
    "            \n",
    "            num_correct += torch.sum(y_pred == y_batch)\n",
    "    \n",
    "    accuracy = num_correct / num_elements\n",
    "            \n",
    "    return accuracy, np.mean(losses)\n",
    "\n",
    "\n",
    "\n",
    "def train(model, loss_fn, optimizer, n_epoch=3):\n",
    "\n",
    "    num_iter = 0\n",
    "    \n",
    "    # цикл обучения сети\n",
    "    for epoch in range(n_epoch):\n",
    "\n",
    "        print(\"Epoch:\", epoch)\n",
    "\n",
    "        model.train(True)\n",
    "        \n",
    "        for i, batch in enumerate(train_dataloader):\n",
    "            # так получаем текущий батч\n",
    "            X_batch, y_batch = batch \n",
    "            \n",
    "            # forward pass (получение ответов на батч картинок)\n",
    "            logits = model(X_batch.to(device)) \n",
    "            \n",
    "            # вычисление лосса от выданных сетью ответов и правильных ответов на батч\n",
    "            loss = loss_fn(logits.flatten(), y_batch.float().to(device)) \n",
    "            \n",
    "            \n",
    "            loss.backward() # backpropagation (вычисление градиентов)\n",
    "            optimizer.step() # обновление весов сети\n",
    "            optimizer.zero_grad() # обнуляем веса\n",
    "\n",
    "            #########################\n",
    "            # Логирование результатов\n",
    "            num_iter += 1\n",
    "            writer.add_scalar('Loss/train', loss.item(), num_iter)\n",
    "\n",
    "            # вычислим accuracy на текущем train батче\n",
    "            model_answers = torch.argmax(logits, dim=1).cpu()\n",
    "            train_accuracy = torch.sum(y_batch == model_answers) / len(y_batch)\n",
    "            writer.add_scalar('Accuracy/train', train_accuracy, num_iter)\n",
    "            #########################\n",
    "\n",
    "        # после каждой эпохи получаем метрику качества на валидационной выборке\n",
    "        model.train(False)\n",
    "\n",
    "        val_accuracy, val_loss = evaluate(model, test_dataloader, criterion=criterion)\n",
    "\n",
    "        writer.add_scalar('Loss/val', val_loss.item(), num_iter)\n",
    "        writer.add_scalar('Accuracy/val', val_accuracy, num_iter)\n",
    "        \n",
    "        \n",
    "    return model\n"
   ]
  },
  {
   "cell_type": "code",
   "execution_count": 167,
   "id": "c18dcea9",
   "metadata": {},
   "outputs": [
    {
     "name": "stdout",
     "output_type": "stream",
     "text": [
      "Epoch: 0\n",
      "Epoch: 1\n",
      "Epoch: 2\n",
      "Epoch: 3\n",
      "Epoch: 4\n",
      "Epoch: 5\n",
      "Epoch: 6\n",
      "Epoch: 7\n",
      "Epoch: 8\n",
      "Epoch: 9\n"
     ]
    }
   ],
   "source": [
    "model = train(model, criterion, optimizer, n_epoch=10)"
   ]
  },
  {
   "cell_type": "code",
   "execution_count": null,
   "id": "75b38861",
   "metadata": {},
   "outputs": [
    {
     "name": "stdout",
     "output_type": "stream",
     "text": [
      "Train accuracy is tensor(0.0055)\n",
      "Test accuracy is tensor(0.0495)\n",
      "TensorFlow installation not found - running with reduced feature set.\n",
      "\n",
      "***** TensorBoard Uploader *****\n",
      "\n",
      "This will upload your TensorBoard logs to https://tensorboard.dev/ from\n",
      "the following directory:\n",
      "\n",
      "./logs\n",
      "\n",
      "This TensorBoard will be visible to everyone. Do not upload sensitive\n",
      "data.\n",
      "\n",
      "Your use of this service is subject to Google's Terms of Service\n",
      "<https://policies.google.com/terms> and Privacy Policy\n",
      "<https://policies.google.com/privacy>, and TensorBoard.dev's Terms of Service\n",
      "<https://tensorboard.dev/policy/terms/>.\n",
      "\n",
      "This notice will not be shown again while you are logged into the uploader.\n",
      "To log out, run `tensorboard dev auth revoke`.\n",
      "\n",
      "Continue? (yes/NO) "
     ]
    }
   ],
   "source": [
    "\"\"\"\n",
    "Evaluate quality metrics (copypaste continues)\n",
    "\"\"\"\n",
    "train_accuracy, _ = evaluate(model, train_dataloader, criterion)\n",
    "print('Train accuracy is', train_accuracy)\n",
    "\n",
    "test_accuracy, _ = evaluate(model, test_dataloader, criterion)\n",
    "print('Test accuracy is', test_accuracy)\n",
    "\n",
    "!tensorboard dev upload --logdir=./logs \\\n",
    "--name \"My latest experiment\" \\\n",
    "--description \"Simple comparison of several hyperparameters\""
   ]
  }
 ],
 "metadata": {
  "kernelspec": {
   "display_name": "Python 3 (ipykernel)",
   "language": "python",
   "name": "python3"
  },
  "language_info": {
   "codemirror_mode": {
    "name": "ipython",
    "version": 3
   },
   "file_extension": ".py",
   "mimetype": "text/x-python",
   "name": "python",
   "nbconvert_exporter": "python",
   "pygments_lexer": "ipython3",
   "version": "3.9.15"
  }
 },
 "nbformat": 4,
 "nbformat_minor": 5
}
