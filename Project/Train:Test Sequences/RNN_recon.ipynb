{
 "cells": [
  {
   "cell_type": "code",
   "execution_count": 6,
   "id": "617b23e6",
   "metadata": {},
   "outputs": [],
   "source": [
    "import pandas as pd\n",
    "import torch\n",
    "import torch.nn as nn\n",
    "import torch.optim as optim\n",
    "from torch.utils.data import Dataset, DataLoader\n",
    "\n",
    "\n",
    "data = pd.read_csv(\"ACE2_train_data.csv\")\n",
    "\n",
    "class ACE2Dataset(Dataset):\n",
    "    def __init__(self, csv_file):\n",
    "        self.data = pd.read_csv(csv_file, sep='\\t', header=None)\n",
    "\n",
    "    def __len__(self):\n",
    "        return len(self.data)\n",
    "\n",
    "    def __getitem__(self, idx):\n",
    "        if torch.is_tensor(idx):\n",
    "            idx = idx.tolist()\n",
    "\n",
    "        sample = {'id': self.data.iloc[idx, 0],\n",
    "                  'sequence': self.data.iloc[idx, 2],\n",
    "                  'label': self.data.iloc[idx, 3],\n",
    "                  'binary_label': self.data.iloc[idx, 4],\n",
    "                  'length': self.data.iloc[idx, 5]}\n",
    "\n",
    "        return sample\n",
    "\n",
    "ace2_dataset = ACE2Dataset('ACE2_train_data.csv')\n",
    "ace2_dataloader = DataLoader(ace2_dataset, batch_size=32, shuffle=True)\n"
   ]
  },
  {
   "cell_type": "code",
   "execution_count": 11,
   "id": "c7d0aa06",
   "metadata": {},
   "outputs": [
    {
     "data": {
      "text/plain": [
       "<AxesSubplot: >"
      ]
     },
     "execution_count": 11,
     "metadata": {},
     "output_type": "execute_result"
    },
    {
     "data": {
      "image/png": "[encoded data removed]",
      "text/plain": [
       "<Figure size 640x480 with 1 Axes>"
      ]
     },
     "metadata": {},
     "output_type": "display_data"
    }
   ],
   "source": [
    "data.Distance.hist()"
   ]
  },
  {
   "cell_type": "code",
   "execution_count": 4,
   "id": "1a042a8b",
   "metadata": {},
   "outputs": [],
   "source": [
    "class RNN(nn.Module):\n",
    "    def __init__(self, input_size, hidden_size, output_size):\n",
    "        super(RNN, self).__init__()\n",
    "        self.lstm1 = nn.LSTM(input_size, hidden_size, num_layers=3, batch_first=True, dropout=0.2)\n",
    "        self.fc1 = nn.Linear(hidden_size, 50)\n",
    "        self.fc2 = nn.Linear(50, output_size)\n",
    "        self.sigmoid = nn.Sigmoid()\n",
    "\n",
    "    def forward(self, x):\n",
    "        output, (h_n, c_n) = self.lstm1(x)\n",
    "        x = self.fc1(h_n[-1])\n",
    "        x = torch.relu(x)\n",
    "        x = self.fc2(x)\n",
    "        x = self.sigmoid(x)\n",
    "        return x\n",
    "\n",
    "def fit_RNN(X_train, y_train, RNN_name):\n",
    "    # define the model\n",
    "    input_size = X_train.shape[2]\n",
    "    hidden_size = 80\n",
    "    output_size = 1\n",
    "    model = RNN(input_size, hidden_size, output_size)\n",
    "    \n",
    "    criterion = nn.BCELoss()\n",
    "    optimizer = optim.Adam(model.parameters())\n",
    "    \n",
    "    # Train the model\n",
    "    for epoch in range(50):\n",
    "        running_loss = 0.0\n",
    "        for i in range(len(X_train)):\n",
    "            optimizer.zero_grad()\n",
    "            inputs = torch.tensor(X_train[i], dtype=torch.float32).unsqueeze(0)\n",
    "            labels = torch.tensor(y_train[i], dtype=torch.float32).unsqueeze(0)\n",
    "            outputs = model(inputs)\n",
    "            loss = criterion(outputs, labels)\n",
    "            loss.backward()\n",
    "            optimizer.step()\n",
    "            running_loss += loss.item()\n",
    "\n",
    "        train_loss = running_loss / len(X_train)\n",
    "        print('Epoch [%d], train loss: %.4f' % (epoch+1, train_loss))\n",
    "    \n",
    "    # Save the model\n",
    "    torch.save(model.state_dict(), RNN_name+\"_RNN_All_3LSTM.pt\")\n",
    "    print(RNN_name+' RNN Model has been trained!')\n",
    "    return model\n",
    "\n"
   ]
  }
 ],
 "metadata": {
  "kernelspec": {
   "display_name": "Python 3 (ipykernel)",
   "language": "python",
   "name": "python3"
  },
  "language_info": {
   "codemirror_mode": {
    "name": "ipython",
    "version": 3
   },
   "file_extension": ".py",
   "mimetype": "text/x-python",
   "name": "python",
   "nbconvert_exporter": "python",
   "pygments_lexer": "ipython3",
   "version": "3.9.15"
  }
 },
 "nbformat": 4,
 "nbformat_minor": 5
}
