{
 "cells": [
  {
   "cell_type": "markdown",
   "id": "b95300d5-3d95-473e-8a19-a840e0252a55",
   "metadata": {},
   "source": [
    "# Логирование"
   ]
  },
  {
   "cell_type": "markdown",
   "id": "ab429b98-872f-4ae0-8546-7dc86ea9d313",
   "metadata": {},
   "source": [
    "**Логирование** &mdash; это способ сохранения информации о ходе работы программы. Логирование позволяет детально изучать то, что происходит во время выполнения вашего кода, в том числе и после его завершения.\n",
    "\n",
    "Менее формально это можно определить как текстовую информацию о ходе выполнения программы, которая выводится на экран или сохраняется в файл.\n",
    "\n",
    "Простейшая реализация логирования в Python это функция `print`, которая позволяет печатать сообщения на экран или в файл. `print` вполне подходит для простых скриптов и небольших проектов, но он не очень удобен и гибок для использования в относительно крупных проектах, поэтому существуют специальные продвинутые библиотеки, которые облегчают и улучшают работу с логированием"
   ]
  },
  {
   "cell_type": "markdown",
   "id": "447ed1b7-b28b-4059-81cc-3fe8a634483a",
   "metadata": {},
   "source": [
    "## Уровни логирования"
   ]
  },
  {
   "cell_type": "markdown",
   "id": "facf53a5-8124-4c52-a2a3-9eb08b513806",
   "metadata": {},
   "source": [
    "**Логи** по сути представляют из себя набор записей, несущих определённую полезную информацию. Данную информацию принято разделять по уровням (**Levels**):\n",
    "1. `DEBUG` &mdash; сообщения для отладки, всякая служебная информация, которая не всегда бывает необходима\n",
    "2. `INFO` &mdash; информационные сообщения. Их используют для того, чтобы сообщить какую-то полезную информацию. Например, вы обучаете нейросеть и **логируете** метрики на каждой эпохе обучения, для подобных сообщений хорошо подойдёт уровень `INFO`\n",
    "3. `WARNING` &mdash; сообщения на которые нужно обратить внимание. Данный уровень обычно включает сообщения, которые сообщают о **потенциальной угрозе ошибки** или о том, что что-то пошло не так, но программа способна продолжить своё исполнение. Например, у вас есть функция для комплементирования нуклеиновых кислот и вы передаёте ей строку \"AGC\", функция не может понять, что перед ней, ДНК или РНК, в такой ситуации логично будет логировать сообщение с уровнем `WARNING` и сделать тип НК по-умолчанию для таких случаев.\n",
    "4. `ERROR` &mdash; сообщения об ошибках. Уровень `ERROR`, как правило, имеют сообщения, сигнализирующие об ошибках в ходе выполнения программы, которые не являются критичными и программа способна продолжить свою работу. Например, вам нужно сделать запрос к 1000 URL адресов и проанализировать ответ. В некоторых ситуациях возникновение ошибки это не повод останавливать работу всего кода. Если проблема не в вашем коде, а в сайте по заданному URL, то вам нужно просто его пропустить, но сохранить информацию о том, что он спровоцировал ошибку, для логирования подобных ошибок используется уровень `ERROR`.\n",
    "5. `CRITICAL` &mdash; сообщения о критических ошибках, которые приводят к завершению работы программы\n",
    "6. Разные библиотеки могут придумывать свои собственные уровни (например, в `loguru` есть уровень `SUCCESS`), но перечисленные в пунктах 1-5 являются основными и являются стандартом для логирования, причём не только в питоне"
   ]
  },
  {
   "cell_type": "markdown",
   "id": "eca17fbf-5af3-4f21-a8e7-2caf2ef71572",
   "metadata": {},
   "source": [
    "## Модуль `logging`"
   ]
  },
  {
   "cell_type": "code",
   "execution_count": 1,
   "id": "ae359bd1-c57f-4d0d-a71a-f22f0a675e46",
   "metadata": {},
   "outputs": [],
   "source": [
    "import logging\n",
    "import sys"
   ]
  },
  {
   "cell_type": "markdown",
   "id": "0f33ed18-9960-49d5-8471-3aefd8f268a7",
   "metadata": {},
   "source": [
    "`logging` это один из модулей стандартной библиотеки питона (не требует установки). Данный модуль является относительно низкоуровневым, его полезно знать, так как он отображает общую логику работы библиотек для логирования. После того, как вы разберётесь с `logging`, работа с другими библиотеками для вас не составит большого труда"
   ]
  },
  {
   "cell_type": "markdown",
   "id": "436f7246-87cc-42d5-a5b1-db6d226519a5",
   "metadata": {},
   "source": [
    "Логирование в данном модуле осуществляют специальные объекты типа `Logger`. Данные объекты можно создавать и конфигурировать при помощи двух способов:\n",
    "+ Высокоуровневый способ. Простой, но не гибкий, конфигурация применяется сразу ко всей программе\n",
    "+ Низкоуровневый способ. Чуть более сложный, очень гибкий, можно детально конфигурировать логику работы"
   ]
  },
  {
   "cell_type": "markdown",
   "id": "e5cef291-7b9f-46d1-9251-59387ff0b32c",
   "metadata": {},
   "source": [
    "### Высокоуровневая конфигурация `logging`"
   ]
  },
  {
   "cell_type": "markdown",
   "id": "d638c47a-4489-4ff5-9a9f-5ce4722819f9",
   "metadata": {},
   "source": [
    "По-умолчанию, `logging` использует так называемый `root logger` (это тоже объект типа `Logger`, который в неявном виде используется верхнеуровневым интерфейсом `logging`)"
   ]
  },
  {
   "cell_type": "markdown",
   "id": "3729bf85-7d0a-4203-8bff-414f4ed3cffe",
   "metadata": {},
   "source": [
    "Для создания логов при помощи `root Logger`а используются функции `logging.<level>`. Например"
   ]
  },
  {
   "cell_type": "code",
   "execution_count": 2,
   "id": "d523e6d9-41c5-467b-820a-941c843b3046",
   "metadata": {},
   "outputs": [
    {
     "name": "stderr",
     "output_type": "stream",
     "text": [
      "WARNING:root:This is warning\n",
      "ERROR:root:This is error\n",
      "CRITICAL:root:This is critical error\n"
     ]
    }
   ],
   "source": [
    "logging.debug(\"This is debug message\")\n",
    "logging.info(\"This is info message\")\n",
    "logging.warning(\"This is warning\")\n",
    "logging.error(\"This is error\")\n",
    "logging.critical(\"This is critical error\")"
   ]
  },
  {
   "cell_type": "markdown",
   "id": "26b0166c-8be3-4497-aee3-dd9a935f0cd1",
   "metadata": {},
   "source": [
    "По-умолчанию данные логи выглядят совсем не впечатляюще, более того, по-умолчанию у `root logger`а стоит фильтр на все уровни ниже `WARNING`, поэтому сообщения из `logging.debug` и `logging.info` не отобразились.\n",
    "\n",
    "Для того, чтобы логи выглядели привлекательно и были более полезными, их нужно уметь настраивать"
   ]
  },
  {
   "cell_type": "markdown",
   "id": "6b467c3f-9426-4084-97e8-f77b769ce264",
   "metadata": {},
   "source": [
    "Для конфигурации `root logger` используется функция `logging.basicConfig`"
   ]
  },
  {
   "cell_type": "markdown",
   "id": "cda1c08c-3301-4eef-a64a-a78666e9b4bf",
   "metadata": {},
   "source": [
    "```python\n",
    "logging.basicConfig(\n",
    "    filename=\"logs.log\",\n",
    "    filemode=\"w\",\n",
    "    format=\"{levelname} | {asctime} --> {module} {funcName} --> {message}\", \n",
    "    datefmt=\"%Y-%m-%d %H:%M:%S\",\n",
    "    style=\"{\",    # \"%\", \"{\" или \"$\"\n",
    "    level=logging.DEBUG,\n",
    "    # stream=sys.stdout,\n",
    "    # handlers=[],\n",
    "    force=True,\n",
    "    encoding=\"utf-8\",\n",
    "    errors=\"ignore\"\n",
    ")\n",
    "```"
   ]
  },
  {
   "cell_type": "markdown",
   "id": "a2195b22-7308-4ed4-8082-a00b78d97057",
   "metadata": {},
   "source": [
    "В коде выше приведены все аргументы `logging.basicConfig`. Вызов данной функции приведёт к изменению свойств `root logger`\n",
    "\n",
    "Данная функция имеет три взаимоисключающих аргумента (при вызове нужно указать только один из них):\n",
    "1. `filename` &mdash; при указании данного аргумента логи будут записываться в указанный файл вместо `sys.stderr` по-умолчанию. Ряд остальных аргументов имеет эффект только, если указан `filename`\n",
    "    + `filemode` &mdash; режим открытия файла `filename` для сохранения логов\n",
    "    + `encoding` &mdash; кодировка с которой открывается `filename` (как правило, не нужен)\n",
    "    + `errors` &mdash; что делать с ошибками при записи в `filename` (как правило, не нужен)\n",
    "2. `stream` &mdash; поток в который должна производится запись. Это может быть или один из стандартных потоков (`sys.stdout`, `sys.stderr`), или file-like object из модуля `io`, например, `io.StringIO`. В случае указания этого аргумента запись будет производиться в поток, а не в файл\n",
    "3. `handlers` &mdash; список заранее сконфигурированных обработчиков, которые определяют куда и как будут записаны логи. О них мы поговорим позже\n",
    "\n",
    "Также функция `logging.basicConfig` имеет независимые аргументы:\n",
    "+ `format` &mdash; это строка, которая определяет структуру и основные элементы сообщения в логах. От нас требуется сделать \"каркас\" сообщения при помощи placeholder'ов, при логировании они будут заменяться на полезную информацию. [Их полный список есть в документации](https://docs.python.org/3/library/logging.html#logrecord-attributes). Например, указание `format=\"%(asctime)s %(levelname)s +++ %(message)s\"` приведёт к тому, что в логах мы увидим сообщения следующего формата (дата и время, уровень лога, сообщение)\n",
    "\n",
    "     ```\n",
    "     2023-04-27 22:30:56,899 WARNING +++ message1\n",
    "     2023-04-27 22:30:57,567 ERROR +++ message2\n",
    "     2023-04-27 22:32:58,978 CRITICAL +++ message3\n",
    "     ```\n",
    "    \n",
    "    \n",
    "    При этом все символы за пределом placeholder'ов сохраняются. В данном случае это пробелы и \"+++\"\n",
    "+ `datefmt` &mdash; строка, определяющая [способ форматирования](https://docs.python.org/3/library/time.html#time.strftime) даты и времени в логах\n",
    "+ `style` &mdash; тип форматирования для аргумента `format`. Если указать `style='{'`, то форматирование из примера выше можно было бы записать вот так `format=\"{asctime} {levelname} +++ {message}\"`, выглядит намного симпатичнее\n",
    "+ `level` &mdash; минимальный уровень логирования, логи с уровнем ниже заданного игнорируются. Для передачи значений в данный аргумент используются специальные значения `logging.<LEVEL>`\n",
    "+ `force` &mdash; позволяет перезаписать конфигурацию, если она уже была задана. По-умолчанию, первый вызов `logging.basicConfig` применяет новую конфигурацию, а остальные вызовы игнорируются"
   ]
  },
  {
   "cell_type": "markdown",
   "id": "d31ac654-139f-4dd9-83c5-571daa457679",
   "metadata": {},
   "source": [
    "Для примера давайте настроим логгер, который будет записывать *ошибки* в файл `errors.log`"
   ]
  },
  {
   "cell_type": "code",
   "execution_count": 3,
   "id": "70bf50cc-d3da-4e41-a59f-21638b65c1d2",
   "metadata": {},
   "outputs": [],
   "source": [
    "logging.basicConfig(\n",
    "    filename=\"errors.log\",\n",
    "    filemode=\"w\",\n",
    "    style=\"{\",\n",
    "    format=\"{levelname}❗❗❗ {asctime} 🌞 {message}\",\n",
    "    level=logging.ERROR,\n",
    "    force=True\n",
    ")"
   ]
  },
  {
   "cell_type": "code",
   "execution_count": 4,
   "id": "24be22bc-64c6-4dd7-8889-8130cfc5d187",
   "metadata": {},
   "outputs": [],
   "source": [
    "logging.warning(\"Some warning text\")\n",
    "logging.error(\"Some error text\")\n",
    "logging.critical(\"Some critical text\")"
   ]
  },
  {
   "attachments": {
    "235adf5a-4b87-4cea-885f-3bf2242fc4b3.png": {
     "image/png": "[encoded data removed]"
    }
   },
   "cell_type": "markdown",
   "id": "5418735e-ee02-4758-9296-41f579a281e6",
   "metadata": {},
   "source": [
    "![image.png](attachment:235adf5a-4b87-4cea-885f-3bf2242fc4b3.png)"
   ]
  },
  {
   "cell_type": "markdown",
   "id": "f78f7a2a-4d15-4672-ab80-aa5487e3e97b",
   "metadata": {},
   "source": [
    "А также настроим логгер, который будет записывать все логи в `stdout`"
   ]
  },
  {
   "cell_type": "code",
   "execution_count": 5,
   "id": "a5bce10c-327b-4952-8314-e70167799ce6",
   "metadata": {},
   "outputs": [],
   "source": [
    "logging.basicConfig(\n",
    "    style=\"{\",\n",
    "    format=\"{levelname}❗❗❗ {asctime} 🌞 {message}\",\n",
    "    level=logging.DEBUG,\n",
    "    stream=sys.stdout,\n",
    "    force=True\n",
    ")"
   ]
  },
  {
   "cell_type": "code",
   "execution_count": 6,
   "id": "68ff98d6-66f9-483a-88bd-787736522a57",
   "metadata": {},
   "outputs": [
    {
     "name": "stdout",
     "output_type": "stream",
     "text": [
      "DEBUG❗❗❗ 2023-04-29 21:19:30,081 🌞 Some debug text\n",
      "INFO❗❗❗ 2023-04-29 21:19:30,082 🌞 Some info text\n",
      "WARNING❗❗❗ 2023-04-29 21:19:30,082 🌞 Some warning text\n",
      "ERROR❗❗❗ 2023-04-29 21:19:30,083 🌞 Some error text\n",
      "CRITICAL❗❗❗ 2023-04-29 21:19:30,083 🌞 Some critical text\n"
     ]
    }
   ],
   "source": [
    "logging.debug(\"Some debug text\")\n",
    "logging.info(\"Some info text\")\n",
    "logging.warning(\"Some warning text\")\n",
    "logging.error(\"Some error text\")\n",
    "logging.critical(\"Some critical text\")"
   ]
  },
  {
   "cell_type": "markdown",
   "id": "d607e9c1-1395-4689-ae39-cf7ea96861af",
   "metadata": {},
   "source": [
    "Мы научились конфигурировать `root logger` и этого хватает для базовых задач, но данный подход пока что не позволяет нам создавать более сложные логгеры. Например, если мы хотим, чтобы логи сохранялись и в файл, и записывались в `stderr`. Но, к счастью, такие штуки можно делать при помощи низкоуровневого интерфейса `logging`"
   ]
  },
  {
   "cell_type": "markdown",
   "id": "442a0055-0ad5-4eca-9ef6-fcd9de3c06d6",
   "metadata": {},
   "source": [
    "### Низкоуровневая конфигурация `logging`"
   ]
  },
  {
   "cell_type": "markdown",
   "id": "76455ea7-59b8-4ac0-8f40-1e0fcb6c70f2",
   "metadata": {},
   "source": [
    "Для низкоуровневой конфигурации `logging` нам нужно будет вручную оперировать различными объектами, давайте рассмотрим их"
   ]
  },
  {
   "cell_type": "markdown",
   "id": "cd972201-0bad-4cd6-8902-eb0e6c8a9452",
   "metadata": {},
   "source": [
    "#### `logging.Logger`"
   ]
  },
  {
   "cell_type": "markdown",
   "id": "3c0cb0ff-f2c7-4f3b-b745-f9e0871b62fa",
   "metadata": {},
   "source": [
    "Как уже упоминалось ранее, `Logger` это главный объект, используемый для логирования. Если мы хотим создать свой `Logger`, то можно пользоваться не только конструктором класса, а также отдельной функцией `logger.getLogger`. Данной функции нужно передать один аргумент &mdash; имя логгера, если этого не сделать, то вы получите экземпляр `root logger`а"
   ]
  },
  {
   "cell_type": "code",
   "execution_count": 7,
   "id": "92e6c5f0-4d5e-4525-bbab-2ac7fc820857",
   "metadata": {},
   "outputs": [],
   "source": [
    "logger = logging.getLogger(\"my_logger\")"
   ]
  },
  {
   "cell_type": "markdown",
   "id": "da474cbf-5a70-465d-ac9e-f2ff7eda53be",
   "metadata": {},
   "source": [
    "Объект `Logger` обладает методами `<level>` для логирования на соответствующих уровнях"
   ]
  },
  {
   "cell_type": "code",
   "execution_count": 8,
   "id": "40eeb581-c11d-49d8-b970-77d6b4b9be2f",
   "metadata": {},
   "outputs": [
    {
     "name": "stdout",
     "output_type": "stream",
     "text": [
      "INFO❗❗❗ 2023-04-29 21:19:33,580 🌞 fdsdfsd\n",
      "CRITICAL❗❗❗ 2023-04-29 21:19:33,581 🌞 fdsdfsd\n"
     ]
    }
   ],
   "source": [
    "logger.info(\"fdsdfsd\")\n",
    "logger.critical(\"fdsdfsd\")"
   ]
  },
  {
   "cell_type": "markdown",
   "id": "9bb6cb13-6a29-4949-8001-85b952280cf0",
   "metadata": {},
   "source": [
    "При создании логгер наследует свойства `root logger`а. Чтобы этого избежать, `Logger` можно создать через конструктор"
   ]
  },
  {
   "cell_type": "code",
   "execution_count": 9,
   "id": "810520e6-c2d4-4313-8f05-e476eb014852",
   "metadata": {},
   "outputs": [],
   "source": [
    "logger = logging.Logger(name=\"my_logger\")"
   ]
  },
  {
   "cell_type": "code",
   "execution_count": 10,
   "id": "0ec2781b-f142-426e-a4e1-73e3356a9266",
   "metadata": {},
   "outputs": [
    {
     "name": "stderr",
     "output_type": "stream",
     "text": [
      "fdsdfsd\n"
     ]
    }
   ],
   "source": [
    "logger.info(\"fdsdfsd\")\n",
    "logger.critical(\"fdsdfsd\")"
   ]
  },
  {
   "cell_type": "markdown",
   "id": "b568ba75-6efd-42bd-b8e0-9307c40b2880",
   "metadata": {},
   "source": [
    "#### `logging.Handler`"
   ]
  },
  {
   "cell_type": "markdown",
   "id": "2805c8d9-ae41-41cb-985b-63bdd567180e",
   "metadata": {},
   "source": [
    "`Handler`ы это специальные объекты, которые определяют **куда** будут записываться логи, например, в файл, в поток или куда-то ещё. Самые основные это `FileHandler` и `StreamHandler`, ещё много разных есть в подмодуле `logging.handlers`"
   ]
  },
  {
   "cell_type": "code",
   "execution_count": 11,
   "id": "d6410d48-1786-4dd1-8f30-65bdb92d1801",
   "metadata": {},
   "outputs": [],
   "source": [
    "file_handler = logging.FileHandler(\"logs.log\", mode='w')   # Handler обспечивающий запись логов в файл\n",
    "stream_handler = logging.StreamHandler(stream=sys.stdout)  # Handler обспечивающий запись логов в поток"
   ]
  },
  {
   "cell_type": "code",
   "execution_count": 12,
   "id": "d5206f12-c172-4226-bce4-50594cb42fca",
   "metadata": {},
   "outputs": [
    {
     "ename": "AttributeError",
     "evalue": "'StreamHandler' object has no attribute 'debug'",
     "output_type": "error",
     "traceback": [
      "\u001b[0;31m---------------------------------------------------------------------------\u001b[0m",
      "\u001b[0;31mAttributeError\u001b[0m                            Traceback (most recent call last)",
      "Input \u001b[0;32mIn [12]\u001b[0m, in \u001b[0;36m<cell line: 1>\u001b[0;34m()\u001b[0m\n\u001b[0;32m----> 1\u001b[0m \u001b[43mstream_handler\u001b[49m\u001b[38;5;241;43m.\u001b[39;49m\u001b[43mdebug\u001b[49m\n",
      "\u001b[0;31mAttributeError\u001b[0m: 'StreamHandler' object has no attribute 'debug'"
     ]
    }
   ],
   "source": [
    "stream_handler.debug    # Handler'ы уже не являются \"самостоятельными\" объектами, они не могут создавать логи сами"
   ]
  },
  {
   "cell_type": "markdown",
   "id": "4d6eab03-ab33-4d9d-9fe4-630774495658",
   "metadata": {},
   "source": [
    "Хотя `Handler`ы и не могут логировать сами, но они являются ядром всего логгера. Созданные `Handler`ы можно включать в состав созданного ранее `Logger`a, причём в состав одного `Logger`a можно включить много `Handler`ов"
   ]
  },
  {
   "cell_type": "code",
   "execution_count": 13,
   "id": "6edbbcb4-1e86-4ec8-904b-027ccf36899a",
   "metadata": {},
   "outputs": [],
   "source": [
    "logger.addHandler(file_handler)     # Добавляем созданнные Handler'ы к созданному ранее Logger'у\n",
    "logger.addHandler(stream_handler)"
   ]
  },
  {
   "cell_type": "code",
   "execution_count": 14,
   "id": "e797fc77-e678-49a4-8b4d-796b122c39bc",
   "metadata": {},
   "outputs": [
    {
     "name": "stdout",
     "output_type": "stream",
     "text": [
      "fdsdfsd\n",
      "4134324\n"
     ]
    }
   ],
   "source": [
    "logger.error(\"fdsdfsd\")\n",
    "logger.critical(\"4134324\")   # После выполнения этих строк, сообщения также запишутся в файл \"logs.log\", так как у Logger'а теперь есть соответствующий Handler, который мы добавили в ячейке выше"
   ]
  },
  {
   "cell_type": "markdown",
   "id": "c553454f-f490-4f63-858b-7455f6375b1a",
   "metadata": {},
   "source": [
    "Как мы видим, логи у созданных вручную `Logger`ов очень скромные, даже скромнее, чем у `root logger`а, нам нужно научиться их настраивать\n",
    "\n",
    "Каждый `Handler` можно настроить отдельно, для этого используются методы `Handler.set***`, так например, для `Handler`а можно настроить уровень отображения"
   ]
  },
  {
   "cell_type": "code",
   "execution_count": 15,
   "id": "ba536923-c889-4057-addc-eb87a36a2a48",
   "metadata": {},
   "outputs": [],
   "source": [
    "file_handler.setLevel(logging.ERROR)\n",
    "stream_handler.setLevel(logging.INFO)"
   ]
  },
  {
   "cell_type": "code",
   "execution_count": 16,
   "id": "6dbd7611-5dc7-405b-b564-fe031ad0d989",
   "metadata": {},
   "outputs": [
    {
     "name": "stdout",
     "output_type": "stream",
     "text": [
      "Warning\n",
      "Critical error\n"
     ]
    }
   ],
   "source": [
    "logger.warning(\"Warning\")\n",
    "logger.critical(\"Critical error\") "
   ]
  },
  {
   "cell_type": "markdown",
   "id": "66d600c8-7b6c-42cb-9571-c126c974ebe8",
   "metadata": {},
   "source": [
    "#### `logging.Formatter`"
   ]
  },
  {
   "cell_type": "markdown",
   "id": "01890089-e717-4f47-963f-da55094d3ecd",
   "metadata": {},
   "source": [
    "Данные объекты позволяют задать форматирование сообщений, затем их можно \"присоединить\" к `Handler`у при помощи `Handler.setFormatter`. Они имеют уже знакомые нам из `logging.baseConfig` аргументы (только `format` называется `fmt`)"
   ]
  },
  {
   "cell_type": "code",
   "execution_count": 17,
   "id": "aef96ea0-da5d-4f1d-9b90-595dbaaddd33",
   "metadata": {},
   "outputs": [],
   "source": [
    "file_formatter = logging.Formatter(fmt=\"{asctime} >>> {levelname} >>> Line #{lineno} >>> {message}\", datefmt=\"%Y-%m\", style=\"{\")\n",
    "stream_formatter = logging.Formatter(fmt=\"🕒{asctime}🕒 >>> {message}\", datefmt=\"%H:%M:%S\", style=\"{\")\n",
    "\n",
    "file_handler.setFormatter(file_formatter)\n",
    "stream_handler.setFormatter(stream_formatter)"
   ]
  },
  {
   "cell_type": "code",
   "execution_count": 18,
   "id": "d9d8fe09-737b-4287-a079-8e9eaf9935ec",
   "metadata": {},
   "outputs": [
    {
     "name": "stdout",
     "output_type": "stream",
     "text": [
      "🕒21:19:40🕒 >>> Warning\n",
      "🕒21:19:40🕒 >>> Critical error\n"
     ]
    }
   ],
   "source": [
    "logger.warning(\"Warning\")\n",
    "logger.critical(\"Critical error\") "
   ]
  },
  {
   "attachments": {
    "4e84a628-aace-4a25-a91a-73e6f84453d2.png": {
     "image/png": "[encoded data removed]"
    }
   },
   "cell_type": "markdown",
   "id": "cce3d207-49e7-45f5-9be4-4a69460cef69",
   "metadata": {},
   "source": [
    "А в файле `logs.log` появится следующая строка\n",
    "\n",
    "![image.png](attachment:4e84a628-aace-4a25-a91a-73e6f84453d2.png)"
   ]
  },
  {
   "cell_type": "markdown",
   "id": "b393ed8d-08b6-4cbc-a4bd-7dd97eebfd1b",
   "metadata": {},
   "source": [
    "Таким образом, мы можем создать свой собственный `Logger`, для которого мы можем задать произвольное число любых `Hadnler`ов, имеющих заданные нами форматы вывода и уровень логирования. Кстати, помните у `logging.baseConfig` ещё был аргумент `handlers`? Так вот, созданные `Handler`ы можно при желании передать туда.\n",
    "\n",
    "Основной интерфейс `logging` можно отобразить в виде простой схемы"
   ]
  },
  {
   "attachments": {
    "c33e4faf-21a1-4478-9549-025cef3fa73c.png": {
     "image/png": "[encoded data removed]"
    }
   },
   "cell_type": "markdown",
   "id": "24dadd5f-f5d5-4e69-9133-de5a6dc060ba",
   "metadata": {},
   "source": [
    "![Logging.png](attachment:c33e4faf-21a1-4478-9549-025cef3fa73c.png)"
   ]
  },
  {
   "cell_type": "markdown",
   "id": "5dbad83a-f423-4555-8784-8b2856a829e3",
   "metadata": {},
   "source": [
    "## Ещё немного про уровни логирования\n",
    "\n",
    "На самом деле уровней логирования бывает бесконечное количество. 0 уровень, 1 уровень, 2 уровень, 3 уровень и так далее, но для простоты использования наиболее распространённым уровням были даны имена. `DEBUG = 10`, `INFO = 20`, `WARNING = 30`, `ERROR = 40`, `CRITICAL = 50`\n",
    "\n",
    "Даже в модуле `logging` за переменными `logging.<LEVEL>` скрываются просто числа"
   ]
  },
  {
   "cell_type": "code",
   "execution_count": 19,
   "id": "b618d8d4-1470-434b-aef7-51992d557214",
   "metadata": {},
   "outputs": [
    {
     "data": {
      "text/plain": [
       "(10, 20, 30, 40, 50)"
      ]
     },
     "execution_count": 19,
     "metadata": {},
     "output_type": "execute_result"
    }
   ],
   "source": [
    "logging.DEBUG, logging.INFO, logging.WARNING, logging.ERROR, logging.CRITICAL"
   ]
  },
  {
   "cell_type": "markdown",
   "id": "ad745a90-c9de-4c7b-b13a-20184b1382ea",
   "metadata": {},
   "source": [
    "Это также означает, что в любом месте, где требуется `level`, можно указывать числа"
   ]
  },
  {
   "cell_type": "code",
   "execution_count": 20,
   "id": "8c3734b1-ba95-4de9-b66e-7ab8a0e9ebd4",
   "metadata": {},
   "outputs": [],
   "source": [
    "logger = logging.Logger(\"my_logger\")\n",
    "handler = logging.StreamHandler(stream=sys.stderr)\n",
    "handler.setLevel(49)    # <<<<\n",
    "handler.setFormatter(logging.Formatter(fmt=\"Level {levelname}: {message}\", style='{'))\n",
    "logger.addHandler(handler)"
   ]
  },
  {
   "cell_type": "code",
   "execution_count": 21,
   "id": "3284cfe2-7684-43b5-b478-9bd5b3ed267b",
   "metadata": {},
   "outputs": [
    {
     "name": "stderr",
     "output_type": "stream",
     "text": [
      "Level CRITICAL: Critical\n"
     ]
    }
   ],
   "source": [
    "logger.error(\"Error\")   # Эта строка НЕ логируется, так как уровень Handler'а выше, чем у ERROR (49 > 40)\n",
    "logger.critical(\"Critical\")   # Эта строка логируется, так как уровень Handler'а ниже, чем у CRITICAL (49 < 50)"
   ]
  },
  {
   "cell_type": "markdown",
   "id": "2c1ad20f-2d46-4294-95e8-08ca8e336238",
   "metadata": {},
   "source": [
    "Библиотеки для логирования таже позволяют нам создавать логи абсолютно с любым уровнем. В `logging` это делается при помощи функции `logging.log` или метода `Logger.log`, которые позволяют указать любой уровень"
   ]
  },
  {
   "cell_type": "code",
   "execution_count": 22,
   "id": "0ecdb024-630b-437f-bfaf-059ae28d4670",
   "metadata": {},
   "outputs": [],
   "source": [
    "logger = logging.Logger(\"my_logger\")\n",
    "handler = logging.StreamHandler(stream=sys.stderr)\n",
    "handler.setLevel(100500)    # Такой уровень Handler'а не пропустит ни один дефолтный уровень логов\n",
    "handler.setFormatter(logging.Formatter(fmt=\"Level {levelname}: {message}\", style='{'))\n",
    "logger.addHandler(handler)"
   ]
  },
  {
   "cell_type": "code",
   "execution_count": 23,
   "id": "97765523-c0ed-42bd-9eba-0a0afc9d4c8f",
   "metadata": {},
   "outputs": [],
   "source": [
    "logger.error(\"Error\")   # Эта строка НЕ логируется, так как уровень Handler'а выше, чем у ERROR (100500 > 40)\n",
    "logger.critical(\"Critical\")   # Эта строка НЕ логируется, так как уровень Handler'а выше, чем у ERROR (100500 > 50)"
   ]
  },
  {
   "cell_type": "code",
   "execution_count": 24,
   "id": "4d5d61a5-369b-416c-9dd9-5f5887e91c23",
   "metadata": {},
   "outputs": [
    {
     "name": "stderr",
     "output_type": "stream",
     "text": [
      "Level Level 100501: Super important log message\n"
     ]
    }
   ],
   "source": [
    "logger.log(level=100501, msg=\"Super important log message\")    # Эта строка логируется, так как уровень Handler'а ниже, чем лога (100500 < 100501)"
   ]
  },
  {
   "cell_type": "code",
   "execution_count": 25,
   "id": "5cc955d1-2fe3-4d01-b9a0-43cc897a662a",
   "metadata": {},
   "outputs": [],
   "source": [
    "logger.log(level=100499, msg=\"Less important log message\")   # Эта строка НЕ логируется, так как уровень Handler'а выше, чем у лога (100500 > 100499)"
   ]
  },
  {
   "cell_type": "markdown",
   "id": "ef4966da-088f-41e3-8d9a-b4979b20fd0e",
   "metadata": {},
   "source": [
    "## Логирование объектов и исключений"
   ]
  },
  {
   "cell_type": "markdown",
   "id": "7d44c3a7-8c12-494d-bd26-abd98af2f7ad",
   "metadata": {},
   "source": [
    "`logging` позволяет передавать в функции для логирования не только строки, но и вообще любые объекты. Работает это также как и `print` (у объектов должен быть метод `__str__`)"
   ]
  },
  {
   "cell_type": "code",
   "execution_count": 26,
   "id": "f77637b3-4de8-4bc1-ad39-f7316e9a7945",
   "metadata": {},
   "outputs": [
    {
     "name": "stdout",
     "output_type": "stream",
     "text": [
      "ERROR❗❗❗ 2023-04-29 21:19:47,286 🌞 {'a': 1, 'b': 2}\n",
      "ERROR❗❗❗ 2023-04-29 21:19:47,287 🌞 5345345345\n",
      "DEBUG❗❗❗ 2023-04-29 21:19:47,289 🌞 Starting new HTTPS connection (1): google.com:443\n",
      "DEBUG❗❗❗ 2023-04-29 21:19:47,747 🌞 https://google.com:443 \"GET / HTTP/1.1\" 301 220\n",
      "DEBUG❗❗❗ 2023-04-29 21:19:47,749 🌞 Starting new HTTPS connection (1): www.google.com:443\n",
      "DEBUG❗❗❗ 2023-04-29 21:19:48,277 🌞 https://www.google.com:443 \"GET / HTTP/1.1\" 200 None\n",
      "ERROR❗❗❗ 2023-04-29 21:19:48,291 🌞 <Response [200]>\n"
     ]
    }
   ],
   "source": [
    "import requests\n",
    "\n",
    "\n",
    "logging.error({\"a\": 1, \"b\": 2})\n",
    "logging.error(5345345345)\n",
    "logging.error(requests.get(\"https://google.com\"))"
   ]
  },
  {
   "cell_type": "markdown",
   "id": "8a1fe031-b6b6-443f-bf83-50333425b083",
   "metadata": {},
   "source": [
    "Интересный факт! При логировании `requests.get` нашим логгером в вывод также \"просочились\" подкапотные логи `requests`, так как они тоже реализованы через `logging`, а поскольку мы изменяли свойства `root Logger`а, который является общим для всего, что выполняется в нашем коде, эти изменения затронули и логи из `requests`"
   ]
  },
  {
   "cell_type": "markdown",
   "id": "d8372b3f-ca61-49bd-a336-9f5fb8909ddd",
   "metadata": {},
   "source": [
    "`logging` также позволяет нам удобно логировать исключения. Зачастую нам необходимо, чтобы была сохранена ВСЯ информация об исключении, а не только текст ошибки. Для этого необходимо передать перехваченный объект исключения в функцию для логирования и добавить аргумент `exc_info=True`. В результате в логах будет отображён весь текст исключения, в том числе Traceback."
   ]
  },
  {
   "cell_type": "code",
   "execution_count": 27,
   "id": "63444f22-759d-4d30-8ab4-653dc9510db8",
   "metadata": {},
   "outputs": [
    {
     "name": "stdout",
     "output_type": "stream",
     "text": [
      "ERROR❗❗❗ 2023-04-29 21:19:49,150 🌞 Just a random exception\n",
      "Traceback (most recent call last):\n",
      "  File \"/tmp/ipykernel_313963/2386077047.py\", line 15, in <cell line: 14>\n",
      "    a()\n",
      "  File \"/tmp/ipykernel_313963/2386077047.py\", line 2, in a\n",
      "    b()\n",
      "  File \"/tmp/ipykernel_313963/2386077047.py\", line 5, in b\n",
      "    c()\n",
      "  File \"/tmp/ipykernel_313963/2386077047.py\", line 8, in c\n",
      "    d()\n",
      "  File \"/tmp/ipykernel_313963/2386077047.py\", line 11, in d\n",
      "    raise RuntimeError(\"Just a random exception\")\n",
      "RuntimeError: Just a random exception\n",
      "ERROR❗❗❗ 2023-04-29 21:19:49,151 🌞 Just a random exception\n",
      "Traceback (most recent call last):\n",
      "  File \"/tmp/ipykernel_313963/2386077047.py\", line 15, in <cell line: 14>\n",
      "    a()\n",
      "  File \"/tmp/ipykernel_313963/2386077047.py\", line 2, in a\n",
      "    b()\n",
      "  File \"/tmp/ipykernel_313963/2386077047.py\", line 5, in b\n",
      "    c()\n",
      "  File \"/tmp/ipykernel_313963/2386077047.py\", line 8, in c\n",
      "    d()\n",
      "  File \"/tmp/ipykernel_313963/2386077047.py\", line 11, in d\n",
      "    raise RuntimeError(\"Just a random exception\")\n",
      "RuntimeError: Just a random exception\n"
     ]
    }
   ],
   "source": [
    "def a():\n",
    "    b()\n",
    "    \n",
    "def b():\n",
    "    c()\n",
    "    \n",
    "def c():\n",
    "    d()\n",
    "    \n",
    "def d():\n",
    "    raise RuntimeError(\"Just a random exception\")\n",
    "    \n",
    "\n",
    "try:\n",
    "    a()\n",
    "except RuntimeError as exc:\n",
    "    logging.error(exc, exc_info=True)\n",
    "    logging.exception(exc)   # Полностью аналогично коду выше"
   ]
  },
  {
   "cell_type": "markdown",
   "id": "2c4a28bb-14e5-4898-9105-cd96239a68ba",
   "metadata": {},
   "source": [
    "Если вы используете логирование в вашем проекте, то обязательно логируйте все перехватываемые исключения!"
   ]
  },
  {
   "cell_type": "markdown",
   "id": "847560ba-8e96-405b-b481-6cb3cd210f17",
   "metadata": {},
   "source": [
    "## Ротация логов"
   ]
  },
  {
   "cell_type": "markdown",
   "id": "de9e68e9-6fec-4c5f-b5e3-64e2f9d8bd4e",
   "metadata": {},
   "source": [
    "Если в вашей программе много логов и вы часто её запускаете, то в один момент файлы с логами начнут cтановиться слишком большими и с трудом открываться при помощи текстовых редакторов. Занимаемое файлом место можно ограничивать при помощи механизма, называемого **ротацией логов** (**logs rotation**).\n",
    "\n",
    "Суть ротации заключается в том, что вы можете установить ограничения на размер файла с логами, а также ограничения на количество файлов. В `logging` это реализуется при помощи специального `Handler`а &mdash; `logging.handlers.RotatingFileHandler`"
   ]
  },
  {
   "cell_type": "code",
   "execution_count": 28,
   "id": "7abc956a-1690-4ae6-9172-f3170fe68116",
   "metadata": {},
   "outputs": [],
   "source": [
    "logger = logging.Logger(\"my_logger_with_rotation\")\n",
    "handler = logging.handlers.RotatingFileHandler(\"rotating_logs.log\", maxBytes=100, backupCount=5)   # Каждый файл размером не более 100 байт, не более 5 файлов\n",
    "handler.setLevel(logging.WARNING)\n",
    "handler.setFormatter(logging.Formatter(fmt=\"Level {levelname}: {message}\", style='{'))\n",
    "logger.addHandler(handler)"
   ]
  },
  {
   "cell_type": "code",
   "execution_count": 29,
   "id": "596688c3-9718-4116-8d16-cc8331708001",
   "metadata": {},
   "outputs": [],
   "source": [
    "for _ in range(20):\n",
    "    logger.error(\"fhsd;hfgdhgdjfghd;kfjghdfk;ghdfklghdklsfghldsfkg\")"
   ]
  },
  {
   "cell_type": "markdown",
   "id": "0153a32c-cd86-4f40-9bed-d797fa880659",
   "metadata": {},
   "source": [
    "При достижении объёма в 100 байт в первом файле, логи начинают записываться во второй и так далее"
   ]
  },
  {
   "cell_type": "markdown",
   "id": "c323b1b1-e6d7-4946-9564-4108f533a428",
   "metadata": {},
   "source": [
    "## Модуль `loguru`"
   ]
  },
  {
   "cell_type": "markdown",
   "id": "0d762ae2-2055-4dd5-86e7-adca57678db0",
   "metadata": {},
   "source": [
    "Модуль [`loguru`](https://loguru.readthedocs.io/en/stable/overview.html#overview) не входит в состав стандартной библиотеки и его нужно сначала установить. Он удобен тем, что имеет хорошее и красивое форматирование логов \"из коробки\""
   ]
  },
  {
   "cell_type": "code",
   "execution_count": 30,
   "id": "4f8649d3-44d2-4faa-ab54-ba09505cc1a9",
   "metadata": {},
   "outputs": [],
   "source": [
    "import sys\n",
    "\n",
    "from loguru import logger"
   ]
  },
  {
   "cell_type": "code",
   "execution_count": 31,
   "id": "fcca25b5-6f40-4ded-912d-6a504e5ccf8a",
   "metadata": {},
   "outputs": [
    {
     "ename": "TypeError",
     "evalue": "info() missing 1 required positional argument: '_Logger__message'",
     "output_type": "error",
     "traceback": [
      "\u001b[0;31m---------------------------------------------------------------------------\u001b[0m",
      "\u001b[0;31mTypeError\u001b[0m                                 Traceback (most recent call last)",
      "Input \u001b[0;32mIn [31]\u001b[0m, in \u001b[0;36m<cell line: 1>\u001b[0;34m()\u001b[0m\n\u001b[0;32m----> 1\u001b[0m \u001b[43mlogger\u001b[49m\u001b[38;5;241;43m.\u001b[39;49m\u001b[43minfo\u001b[49m\u001b[43m(\u001b[49m\u001b[43m)\u001b[49m\n",
      "\u001b[0;31mTypeError\u001b[0m: info() missing 1 required positional argument: '_Logger__message'"
     ]
    }
   ],
   "source": [
    "logger.info()"
   ]
  },
  {
   "cell_type": "code",
   "execution_count": 32,
   "id": "27dd7eda-5544-4dba-a10a-0aa5e0a6aba1",
   "metadata": {},
   "outputs": [
    {
     "name": "stderr",
     "output_type": "stream",
     "text": [
      "2023-04-29 21:19:53.279 | DEBUG    | __main__:<cell line: 1>:1 - Debug message\n",
      "2023-04-29 21:19:53.281 | INFO     | __main__:<cell line: 2>:2 - Info message\n",
      "2023-04-29 21:19:53.281 | WARNING  | __main__:<cell line: 3>:3 - Warning message\n",
      "2023-04-29 21:19:53.281 | ERROR    | __main__:<cell line: 4>:4 - Error message\n",
      "2023-04-29 21:19:53.282 | CRITICAL | __main__:<cell line: 5>:5 - Critical message\n",
      "2023-04-29 21:19:53.282 | SUCCESS  | __main__:<cell line: 6>:6 - Success message\n",
      "2023-04-29 21:19:53.283 | Level 100500 | __main__:<cell line: 7>:7 - Custom level message\n"
     ]
    }
   ],
   "source": [
    "logger.debug(\"Debug message\")\n",
    "logger.info(\"Info message\")\n",
    "logger.warning(\"Warning message\")\n",
    "logger.error(\"Error message\")\n",
    "logger.critical(\"Critical message\")\n",
    "logger.success(\"Success message\")\n",
    "logger.log(100500, \"Custom level message\")"
   ]
  },
  {
   "cell_type": "markdown",
   "id": "2a362eb5-1e77-4837-8174-25b3e4f2cdc1",
   "metadata": {},
   "source": [
    "В `loguru` не нужно отдельно создавать `Handler`ы, `Logger`ы, `Formatter`ы и так далее. Для всех операций используется `Logger` по-умолчанию (`loguru.logger`). Для добавления `Handler`а в логгер используется всего один метод `logger.add`"
   ]
  },
  {
   "cell_type": "code",
   "execution_count": 33,
   "id": "b8a32b33-22db-4490-895a-57fb76e82e22",
   "metadata": {},
   "outputs": [
    {
     "data": {
      "text/plain": [
       "3"
      ]
     },
     "execution_count": 33,
     "metadata": {},
     "output_type": "execute_result"
    }
   ],
   "source": [
    "logger.remove(0)    # Удалить Handler по-умолчанию\n",
    "\n",
    "logs_format = '<green>{time:YYYY-MM-DD HH:mm:ss.SSS}</green> | <level>{level: <8}</level> | <cyan>{name}</cyan>:<cyan>{function}</cyan>:<cyan>{line}</cyan> - <level>{message}</level>'\n",
    "logger.add(       # Добавляем Handler для записи в stdout\n",
    "    sys.stdout,\n",
    "    level=\"DEBUG\",\n",
    "    format=logs_format,\n",
    "    colorize=True\n",
    ")\n",
    "logger.add(       # Добавляем Handler для записи всех логов в файл all_logs.log\n",
    "    \"all_logs.log\",\n",
    "    level=0,\n",
    "    format=logs_format,\n",
    "    colorize=False,\n",
    "    rotation=\"1 week\"\n",
    ")\n",
    "logger.add(       # Добавляем Handler для записи ошибок в файл errors_logs.log\n",
    "    \"errors_logs.log\",\n",
    "    level=29,\n",
    "    format=logs_format,\n",
    "    colorize=False,\n",
    "    rotation=\"500 B\"\n",
    ")"
   ]
  },
  {
   "cell_type": "code",
   "execution_count": 34,
   "id": "0995a134-9675-4be5-893e-d2432246cf7e",
   "metadata": {},
   "outputs": [
    {
     "name": "stdout",
     "output_type": "stream",
     "text": [
      "\u001b[32m2023-04-29 21:19:55.128\u001b[0m | \u001b[34m\u001b[1mDEBUG   \u001b[0m | \u001b[36m__main__\u001b[0m:\u001b[36m<cell line: 1>\u001b[0m:\u001b[36m1\u001b[0m - \u001b[34m\u001b[1mDebug message\u001b[0m\n",
      "\u001b[32m2023-04-29 21:19:55.130\u001b[0m | \u001b[1mINFO    \u001b[0m | \u001b[36m__main__\u001b[0m:\u001b[36m<cell line: 2>\u001b[0m:\u001b[36m2\u001b[0m - \u001b[1mInfo message\u001b[0m\n",
      "\u001b[32m2023-04-29 21:19:55.130\u001b[0m | \u001b[33m\u001b[1mWARNING \u001b[0m | \u001b[36m__main__\u001b[0m:\u001b[36m<cell line: 3>\u001b[0m:\u001b[36m3\u001b[0m - \u001b[33m\u001b[1mWarning message\u001b[0m\n",
      "\u001b[32m2023-04-29 21:19:55.130\u001b[0m | \u001b[31m\u001b[1mERROR   \u001b[0m | \u001b[36m__main__\u001b[0m:\u001b[36m<cell line: 4>\u001b[0m:\u001b[36m4\u001b[0m - \u001b[31m\u001b[1mError message\u001b[0m\n",
      "\u001b[32m2023-04-29 21:19:55.131\u001b[0m | \u001b[41m\u001b[1mCRITICAL\u001b[0m | \u001b[36m__main__\u001b[0m:\u001b[36m<cell line: 5>\u001b[0m:\u001b[36m5\u001b[0m - \u001b[41m\u001b[1mCritical message\u001b[0m\n",
      "\u001b[32m2023-04-29 21:19:55.131\u001b[0m | \u001b[32m\u001b[1mSUCCESS \u001b[0m | \u001b[36m__main__\u001b[0m:\u001b[36m<cell line: 6>\u001b[0m:\u001b[36m6\u001b[0m - \u001b[32m\u001b[1mSuccess message\u001b[0m\n",
      "\u001b[32m2023-04-29 21:19:55.132\u001b[0m | Level 100500\u001b[0m | \u001b[36m__main__\u001b[0m:\u001b[36m<cell line: 7>\u001b[0m:\u001b[36m7\u001b[0m - Custom level message\u001b[0m\n"
     ]
    }
   ],
   "source": [
    "logger.debug(\"Debug message\")\n",
    "logger.info(\"Info message\")\n",
    "logger.warning(\"Warning message\")\n",
    "logger.error(\"Error message\")\n",
    "logger.critical(\"Critical message\")\n",
    "logger.success(\"Success message\")\n",
    "logger.log(100500, \"Custom level message\")"
   ]
  },
  {
   "cell_type": "markdown",
   "id": "c318fc57-fb2d-41ec-a58e-6622ef071541",
   "metadata": {},
   "source": [
    "Файл/поток, ротация, форматирование, уровень для `Handler`а устанавливаются в одном месте. Форматирование немного отличается от `logging`, к тому же `loguru` позволяет задавать цвета для элементов. [Пояснения по форматированию есть в документации](https://loguru.readthedocs.io/en/stable/api/logger.html) (раздел \"The record dict\")\n",
    "\n",
    "Исключения можно логировать при помощи `logger.opt(exception=True)` &mdash; данный метод возвращает объект, который умеет правильно логировать исключения, `logger.exception`, а также можно декорировать функцию декоратором `@logger.catch`, в таком случае все исключения внутри функции будут автоматически логироваться. Все перечисленные способы равноценны"
   ]
  },
  {
   "cell_type": "code",
   "execution_count": 35,
   "id": "a2b97f71-b964-47c6-9bf6-e94540b2501e",
   "metadata": {
    "tags": []
   },
   "outputs": [
    {
     "name": "stdout",
     "output_type": "stream",
     "text": [
      "\u001b[32m2023-04-29 21:19:56.300\u001b[0m | \u001b[31m\u001b[1mERROR   \u001b[0m | \u001b[36m__main__\u001b[0m:\u001b[36mc\u001b[0m:\u001b[36m8\u001b[0m - \u001b[31m\u001b[1mAn error has been caught in function 'c', process 'MainProcess' (313963), thread 'MainThread' (139785897976768):\u001b[0m\n",
      "\u001b[33m\u001b[1mTraceback (most recent call last):\u001b[0m\n",
      "\n",
      "  File \"/home/roman/anaconda3/lib/python3.9/runpy.py\", line 197, in _run_module_as_main\n",
      "    return _run_code(code, main_globals, None,\n",
      "           │         │     └ {'__name__': '__main__', '__doc__': 'Entry point for launching an IPython kernel.\\n\\nThis is separate from the ipykernel pack...\n",
      "           │         └ <code object <module> at 0x7f227028d240, file \"/home/roman/anaconda3/lib/python3.9/site-packages/ipykernel_launcher.py\", line 1>\n",
      "           └ <function _run_code at 0x7f2270289e50>\n",
      "  File \"/home/roman/anaconda3/lib/python3.9/runpy.py\", line 87, in _run_code\n",
      "    exec(code, run_globals)\n",
      "         │     └ {'__name__': '__main__', '__doc__': 'Entry point for launching an IPython kernel.\\n\\nThis is separate from the ipykernel pack...\n",
      "         └ <code object <module> at 0x7f227028d240, file \"/home/roman/anaconda3/lib/python3.9/site-packages/ipykernel_launcher.py\", line 1>\n",
      "  File \"/home/roman/anaconda3/lib/python3.9/site-packages/ipykernel_launcher.py\", line 16, in <module>\n",
      "    app.launch_new_instance()\n",
      "    │   └ <bound method Application.launch_instance of <class 'ipykernel.kernelapp.IPKernelApp'>>\n",
      "    └ <module 'ipykernel.kernelapp' from '/home/roman/anaconda3/lib/python3.9/site-packages/ipykernel/kernelapp.py'>\n",
      "  File \"/home/roman/anaconda3/lib/python3.9/site-packages/traitlets/config/application.py\", line 846, in launch_instance\n",
      "    app.start()\n",
      "    │   └ <function IPKernelApp.start at 0x7f226d5a4af0>\n",
      "    └ <ipykernel.kernelapp.IPKernelApp object at 0x7f22709a90a0>\n",
      "  File \"/home/roman/anaconda3/lib/python3.9/site-packages/ipykernel/kernelapp.py\", line 677, in start\n",
      "    self.io_loop.start()\n",
      "    │    │       └ <function BaseAsyncIOLoop.start at 0x7f226f26b040>\n",
      "    │    └ <tornado.platform.asyncio.AsyncIOMainLoop object at 0x7f226d5c6d90>\n",
      "    └ <ipykernel.kernelapp.IPKernelApp object at 0x7f22709a90a0>\n",
      "  File \"/home/roman/anaconda3/lib/python3.9/site-packages/tornado/platform/asyncio.py\", line 199, in start\n",
      "    self.asyncio_loop.run_forever()\n",
      "    │    │            └ <function BaseEventLoop.run_forever at 0x7f226f7ce280>\n",
      "    │    └ <_UnixSelectorEventLoop running=True closed=False debug=False>\n",
      "    └ <tornado.platform.asyncio.AsyncIOMainLoop object at 0x7f226d5c6d90>\n",
      "  File \"/home/roman/anaconda3/lib/python3.9/asyncio/base_events.py\", line 601, in run_forever\n",
      "    self._run_once()\n",
      "    │    └ <function BaseEventLoop._run_once at 0x7f226f7d0dc0>\n",
      "    └ <_UnixSelectorEventLoop running=True closed=False debug=False>\n",
      "  File \"/home/roman/anaconda3/lib/python3.9/asyncio/base_events.py\", line 1905, in _run_once\n",
      "    handle._run()\n",
      "    │      └ <function Handle._run at 0x7f226f80d4c0>\n",
      "    └ <Handle <TaskWakeupMethWrapper object at 0x7f224edbffd0>(<Future finis...510>, ...],))>)>\n",
      "  File \"/home/roman/anaconda3/lib/python3.9/asyncio/events.py\", line 80, in _run\n",
      "    self._context.run(self._callback, *self._args)\n",
      "    │    │            │    │           │    └ <member '_args' of 'Handle' objects>\n",
      "    │    │            │    │           └ <Handle <TaskWakeupMethWrapper object at 0x7f224edbffd0>(<Future finis...510>, ...],))>)>\n",
      "    │    │            │    └ <member '_callback' of 'Handle' objects>\n",
      "    │    │            └ <Handle <TaskWakeupMethWrapper object at 0x7f224edbffd0>(<Future finis...510>, ...],))>)>\n",
      "    │    └ <member '_context' of 'Handle' objects>\n",
      "    └ <Handle <TaskWakeupMethWrapper object at 0x7f224edbffd0>(<Future finis...510>, ...],))>)>\n",
      "  File \"/home/roman/anaconda3/lib/python3.9/site-packages/ipykernel/kernelbase.py\", line 471, in dispatch_queue\n",
      "    await self.process_one()\n",
      "          │    └ <function Kernel.process_one at 0x7f226e0981f0>\n",
      "          └ <ipykernel.ipkernel.IPythonKernel object at 0x7f226d5a27f0>\n",
      "  File \"/home/roman/anaconda3/lib/python3.9/site-packages/ipykernel/kernelbase.py\", line 460, in process_one\n",
      "    await dispatch(*args)\n",
      "          │         └ ([<zmq.sugar.frame.Frame object at 0x7f226c529d50>, <zmq.sugar.frame.Frame object at 0x7f226c52ca90>, <zmq.sugar.frame.Frame ...\n",
      "          └ <bound method Kernel.dispatch_shell of <ipykernel.ipkernel.IPythonKernel object at 0x7f226d5a27f0>>\n",
      "  File \"/home/roman/anaconda3/lib/python3.9/site-packages/ipykernel/kernelbase.py\", line 367, in dispatch_shell\n",
      "    await result\n",
      "          └ <coroutine object Kernel.execute_request at 0x7f226c5411c0>\n",
      "  File \"/home/roman/anaconda3/lib/python3.9/site-packages/ipykernel/kernelbase.py\", line 662, in execute_request\n",
      "    reply_content = await reply_content\n",
      "                          └ <coroutine object IPythonKernel.do_execute at 0x7f226c541140>\n",
      "  File \"/home/roman/anaconda3/lib/python3.9/site-packages/ipykernel/ipkernel.py\", line 360, in do_execute\n",
      "    res = shell.run_cell(code, store_history=store_history, silent=silent)\n",
      "          │     │        │                   │                     └ False\n",
      "          │     │        │                   └ True\n",
      "          │     │        └ 'def a():\\n    b()\\n    \\ndef b():\\n    c()\\n    \\ndef c():\\n    d()\\n\\n@logger.catch(reraise=True)\\ndef d():\\n    raise Runt...\n",
      "          │     └ <function ZMQInteractiveShell.run_cell at 0x7f226e0aaca0>\n",
      "          └ <ipykernel.zmqshell.ZMQInteractiveShell object at 0x7f226d568940>\n",
      "  File \"/home/roman/anaconda3/lib/python3.9/site-packages/ipykernel/zmqshell.py\", line 532, in run_cell\n",
      "    return super().run_cell(*args, **kwargs)\n",
      "                             │       └ {'store_history': True, 'silent': False}\n",
      "                             └ ('def a():\\n    b()\\n    \\ndef b():\\n    c()\\n    \\ndef c():\\n    d()\\n\\n@logger.catch(reraise=True)\\ndef d():\\n    raise Run...\n",
      "  File \"/home/roman/anaconda3/lib/python3.9/site-packages/IPython/core/interactiveshell.py\", line 2863, in run_cell\n",
      "    result = self._run_cell(\n",
      "             │    └ <function InteractiveShell._run_cell at 0x7f226edfc1f0>\n",
      "             └ <ipykernel.zmqshell.ZMQInteractiveShell object at 0x7f226d568940>\n",
      "  File \"/home/roman/anaconda3/lib/python3.9/site-packages/IPython/core/interactiveshell.py\", line 2909, in _run_cell\n",
      "    return runner(coro)\n",
      "           │      └ <coroutine object InteractiveShell.run_cell_async at 0x7f226c541440>\n",
      "           └ <function _pseudo_sync_runner at 0x7f226edebc10>\n",
      "  File \"/home/roman/anaconda3/lib/python3.9/site-packages/IPython/core/async_helpers.py\", line 129, in _pseudo_sync_runner\n",
      "    coro.send(None)\n",
      "    │    └ <method 'send' of 'coroutine' objects>\n",
      "    └ <coroutine object InteractiveShell.run_cell_async at 0x7f226c541440>\n",
      "  File \"/home/roman/anaconda3/lib/python3.9/site-packages/IPython/core/interactiveshell.py\", line 3106, in run_cell_async\n",
      "    has_raised = await self.run_ast_nodes(code_ast.body, cell_name,\n",
      "                       │    │             │        │     └ '/tmp/ipykernel_313963/1420603721.py'\n",
      "                       │    │             │        └ [<ast.FunctionDef object at 0x7f224ee48d30>, <ast.FunctionDef object at 0x7f224ee48be0>, <ast.FunctionDef object at 0x7f224ed...\n",
      "                       │    │             └ <ast.Module object at 0x7f224ee48fa0>\n",
      "                       │    └ <function InteractiveShell.run_ast_nodes at 0x7f226edfc550>\n",
      "                       └ <ipykernel.zmqshell.ZMQInteractiveShell object at 0x7f226d568940>\n",
      "  File \"/home/roman/anaconda3/lib/python3.9/site-packages/IPython/core/interactiveshell.py\", line 3309, in run_ast_nodes\n",
      "    if await self.run_code(code, result, async_=asy):\n",
      "             │    │        │     │              └ False\n",
      "             │    │        │     └ <ExecutionResult object at 7f224ed65520, execution_count=35 error_before_exec=None error_in_exec=None info=<ExecutionInfo obj...\n",
      "             │    │        └ <code object <cell line: 15> at 0x7f224ed857c0, file \"/tmp/ipykernel_313963/1420603721.py\", line 15>\n",
      "             │    └ <function InteractiveShell.run_code at 0x7f226edfc5e0>\n",
      "             └ <ipykernel.zmqshell.ZMQInteractiveShell object at 0x7f226d568940>\n",
      "  File \"/home/roman/anaconda3/lib/python3.9/site-packages/IPython/core/interactiveshell.py\", line 3369, in run_code\n",
      "    exec(code_obj, self.user_global_ns, self.user_ns)\n",
      "         │         │    │               │    └ {'__name__': '__main__', '__doc__': 'Automatically created module for IPython interactive environment', '__package__': None, ...\n",
      "         │         │    │               └ <ipykernel.zmqshell.ZMQInteractiveShell object at 0x7f226d568940>\n",
      "         │         │    └ <property object at 0x7f226edf24a0>\n",
      "         │         └ <ipykernel.zmqshell.ZMQInteractiveShell object at 0x7f226d568940>\n",
      "         └ <code object <cell line: 15> at 0x7f224ed857c0, file \"/tmp/ipykernel_313963/1420603721.py\", line 15>\n",
      "\n",
      "  File \"\u001b[32m/tmp/ipykernel_313963/\u001b[0m\u001b[32m\u001b[1m1420603721.py\u001b[0m\", line \u001b[33m16\u001b[0m, in \u001b[35m<cell line: 15>\u001b[0m\n",
      "    \u001b[1ma\u001b[0m\u001b[1m(\u001b[0m\u001b[1m)\u001b[0m\n",
      "    \u001b[36m└ \u001b[0m\u001b[36m\u001b[1m<function a at 0x7f224edc4d30>\u001b[0m\n",
      "\n",
      "  File \"\u001b[32m/tmp/ipykernel_313963/\u001b[0m\u001b[32m\u001b[1m1420603721.py\u001b[0m\", line \u001b[33m2\u001b[0m, in \u001b[35ma\u001b[0m\n",
      "    \u001b[1mb\u001b[0m\u001b[1m(\u001b[0m\u001b[1m)\u001b[0m\n",
      "    \u001b[36m└ \u001b[0m\u001b[36m\u001b[1m<function b at 0x7f224ee555e0>\u001b[0m\n",
      "\n",
      "  File \"\u001b[32m/tmp/ipykernel_313963/\u001b[0m\u001b[32m\u001b[1m1420603721.py\u001b[0m\", line \u001b[33m5\u001b[0m, in \u001b[35mb\u001b[0m\n",
      "    \u001b[1mc\u001b[0m\u001b[1m(\u001b[0m\u001b[1m)\u001b[0m\n",
      "    \u001b[36m└ \u001b[0m\u001b[36m\u001b[1m<function c at 0x7f224ee55550>\u001b[0m\n",
      "\n",
      "> File \"\u001b[32m/tmp/ipykernel_313963/\u001b[0m\u001b[32m\u001b[1m1420603721.py\u001b[0m\", line \u001b[33m8\u001b[0m, in \u001b[35mc\u001b[0m\n",
      "    \u001b[1md\u001b[0m\u001b[1m(\u001b[0m\u001b[1m)\u001b[0m\n",
      "    \u001b[36m└ \u001b[0m\u001b[36m\u001b[1m<function d at 0x7f224ed750d0>\u001b[0m\n",
      "\n",
      "  File \"\u001b[32m/tmp/ipykernel_313963/\u001b[0m\u001b[32m\u001b[1m1420603721.py\u001b[0m\", line \u001b[33m12\u001b[0m, in \u001b[35md\u001b[0m\n",
      "    \u001b[35m\u001b[1mraise\u001b[0m \u001b[1mRuntimeError\u001b[0m\u001b[1m(\u001b[0m\u001b[36m\"Just a random exception\"\u001b[0m\u001b[1m)\u001b[0m\n",
      "\n",
      "\u001b[31m\u001b[1mRuntimeError\u001b[0m:\u001b[1m Just a random exception\u001b[0m\n",
      "\u001b[32m2023-04-29 21:19:56.312\u001b[0m | \u001b[31m\u001b[1mERROR   \u001b[0m | \u001b[36m__main__\u001b[0m:\u001b[36m<cell line: 15>\u001b[0m:\u001b[36m18\u001b[0m - \u001b[31m\u001b[1mJust a random exception\u001b[0m\n",
      "\u001b[33m\u001b[1mTraceback (most recent call last):\u001b[0m\n",
      "\n",
      "  File \"/home/roman/anaconda3/lib/python3.9/runpy.py\", line 197, in _run_module_as_main\n",
      "    return _run_code(code, main_globals, None,\n",
      "           │         │     └ {'__name__': '__main__', '__doc__': 'Entry point for launching an IPython kernel.\\n\\nThis is separate from the ipykernel pack...\n",
      "           │         └ <code object <module> at 0x7f227028d240, file \"/home/roman/anaconda3/lib/python3.9/site-packages/ipykernel_launcher.py\", line 1>\n",
      "           └ <function _run_code at 0x7f2270289e50>\n",
      "  File \"/home/roman/anaconda3/lib/python3.9/runpy.py\", line 87, in _run_code\n",
      "    exec(code, run_globals)\n",
      "         │     └ {'__name__': '__main__', '__doc__': 'Entry point for launching an IPython kernel.\\n\\nThis is separate from the ipykernel pack...\n",
      "         └ <code object <module> at 0x7f227028d240, file \"/home/roman/anaconda3/lib/python3.9/site-packages/ipykernel_launcher.py\", line 1>\n",
      "  File \"/home/roman/anaconda3/lib/python3.9/site-packages/ipykernel_launcher.py\", line 16, in <module>\n",
      "    app.launch_new_instance()\n",
      "    │   └ <bound method Application.launch_instance of <class 'ipykernel.kernelapp.IPKernelApp'>>\n",
      "    └ <module 'ipykernel.kernelapp' from '/home/roman/anaconda3/lib/python3.9/site-packages/ipykernel/kernelapp.py'>\n",
      "  File \"/home/roman/anaconda3/lib/python3.9/site-packages/traitlets/config/application.py\", line 846, in launch_instance\n",
      "    app.start()\n",
      "    │   └ <function IPKernelApp.start at 0x7f226d5a4af0>\n",
      "    └ <ipykernel.kernelapp.IPKernelApp object at 0x7f22709a90a0>\n",
      "  File \"/home/roman/anaconda3/lib/python3.9/site-packages/ipykernel/kernelapp.py\", line 677, in start\n",
      "    self.io_loop.start()\n",
      "    │    │       └ <function BaseAsyncIOLoop.start at 0x7f226f26b040>\n",
      "    │    └ <tornado.platform.asyncio.AsyncIOMainLoop object at 0x7f226d5c6d90>\n",
      "    └ <ipykernel.kernelapp.IPKernelApp object at 0x7f22709a90a0>\n",
      "  File \"/home/roman/anaconda3/lib/python3.9/site-packages/tornado/platform/asyncio.py\", line 199, in start\n",
      "    self.asyncio_loop.run_forever()\n",
      "    │    │            └ <function BaseEventLoop.run_forever at 0x7f226f7ce280>\n",
      "    │    └ <_UnixSelectorEventLoop running=True closed=False debug=False>\n",
      "    └ <tornado.platform.asyncio.AsyncIOMainLoop object at 0x7f226d5c6d90>\n",
      "  File \"/home/roman/anaconda3/lib/python3.9/asyncio/base_events.py\", line 601, in run_forever\n",
      "    self._run_once()\n",
      "    │    └ <function BaseEventLoop._run_once at 0x7f226f7d0dc0>\n",
      "    └ <_UnixSelectorEventLoop running=True closed=False debug=False>\n",
      "  File \"/home/roman/anaconda3/lib/python3.9/asyncio/base_events.py\", line 1905, in _run_once\n",
      "    handle._run()\n",
      "    │      └ <function Handle._run at 0x7f226f80d4c0>\n",
      "    └ <Handle <TaskWakeupMethWrapper object at 0x7f224edbffd0>(<Future finis...510>, ...],))>)>\n",
      "  File \"/home/roman/anaconda3/lib/python3.9/asyncio/events.py\", line 80, in _run\n",
      "    self._context.run(self._callback, *self._args)\n",
      "    │    │            │    │           │    └ <member '_args' of 'Handle' objects>\n",
      "    │    │            │    │           └ <Handle <TaskWakeupMethWrapper object at 0x7f224edbffd0>(<Future finis...510>, ...],))>)>\n",
      "    │    │            │    └ <member '_callback' of 'Handle' objects>\n",
      "    │    │            └ <Handle <TaskWakeupMethWrapper object at 0x7f224edbffd0>(<Future finis...510>, ...],))>)>\n",
      "    │    └ <member '_context' of 'Handle' objects>\n",
      "    └ <Handle <TaskWakeupMethWrapper object at 0x7f224edbffd0>(<Future finis...510>, ...],))>)>\n",
      "  File \"/home/roman/anaconda3/lib/python3.9/site-packages/ipykernel/kernelbase.py\", line 471, in dispatch_queue\n",
      "    await self.process_one()\n",
      "          │    └ <function Kernel.process_one at 0x7f226e0981f0>\n",
      "          └ <ipykernel.ipkernel.IPythonKernel object at 0x7f226d5a27f0>\n",
      "  File \"/home/roman/anaconda3/lib/python3.9/site-packages/ipykernel/kernelbase.py\", line 460, in process_one\n",
      "    await dispatch(*args)\n",
      "          │         └ ([<zmq.sugar.frame.Frame object at 0x7f226c529d50>, <zmq.sugar.frame.Frame object at 0x7f226c52ca90>, <zmq.sugar.frame.Frame ...\n",
      "          └ <bound method Kernel.dispatch_shell of <ipykernel.ipkernel.IPythonKernel object at 0x7f226d5a27f0>>\n",
      "  File \"/home/roman/anaconda3/lib/python3.9/site-packages/ipykernel/kernelbase.py\", line 367, in dispatch_shell\n",
      "    await result\n",
      "          └ <coroutine object Kernel.execute_request at 0x7f226c5411c0>\n",
      "  File \"/home/roman/anaconda3/lib/python3.9/site-packages/ipykernel/kernelbase.py\", line 662, in execute_request\n",
      "    reply_content = await reply_content\n",
      "                          └ <coroutine object IPythonKernel.do_execute at 0x7f226c541140>\n",
      "  File \"/home/roman/anaconda3/lib/python3.9/site-packages/ipykernel/ipkernel.py\", line 360, in do_execute\n",
      "    res = shell.run_cell(code, store_history=store_history, silent=silent)\n",
      "          │     │        │                   │                     └ False\n",
      "          │     │        │                   └ True\n",
      "          │     │        └ 'def a():\\n    b()\\n    \\ndef b():\\n    c()\\n    \\ndef c():\\n    d()\\n\\n@logger.catch(reraise=True)\\ndef d():\\n    raise Runt...\n",
      "          │     └ <function ZMQInteractiveShell.run_cell at 0x7f226e0aaca0>\n",
      "          └ <ipykernel.zmqshell.ZMQInteractiveShell object at 0x7f226d568940>\n",
      "  File \"/home/roman/anaconda3/lib/python3.9/site-packages/ipykernel/zmqshell.py\", line 532, in run_cell\n",
      "    return super().run_cell(*args, **kwargs)\n",
      "                             │       └ {'store_history': True, 'silent': False}\n",
      "                             └ ('def a():\\n    b()\\n    \\ndef b():\\n    c()\\n    \\ndef c():\\n    d()\\n\\n@logger.catch(reraise=True)\\ndef d():\\n    raise Run...\n",
      "  File \"/home/roman/anaconda3/lib/python3.9/site-packages/IPython/core/interactiveshell.py\", line 2863, in run_cell\n",
      "    result = self._run_cell(\n",
      "             │    └ <function InteractiveShell._run_cell at 0x7f226edfc1f0>\n",
      "             └ <ipykernel.zmqshell.ZMQInteractiveShell object at 0x7f226d568940>\n",
      "  File \"/home/roman/anaconda3/lib/python3.9/site-packages/IPython/core/interactiveshell.py\", line 2909, in _run_cell\n",
      "    return runner(coro)\n",
      "           │      └ <coroutine object InteractiveShell.run_cell_async at 0x7f226c541440>\n",
      "           └ <function _pseudo_sync_runner at 0x7f226edebc10>\n",
      "  File \"/home/roman/anaconda3/lib/python3.9/site-packages/IPython/core/async_helpers.py\", line 129, in _pseudo_sync_runner\n",
      "    coro.send(None)\n",
      "    │    └ <method 'send' of 'coroutine' objects>\n",
      "    └ <coroutine object InteractiveShell.run_cell_async at 0x7f226c541440>\n",
      "  File \"/home/roman/anaconda3/lib/python3.9/site-packages/IPython/core/interactiveshell.py\", line 3106, in run_cell_async\n",
      "    has_raised = await self.run_ast_nodes(code_ast.body, cell_name,\n",
      "                       │    │             │        │     └ '/tmp/ipykernel_313963/1420603721.py'\n",
      "                       │    │             │        └ [<ast.FunctionDef object at 0x7f224ee48d30>, <ast.FunctionDef object at 0x7f224ee48be0>, <ast.FunctionDef object at 0x7f224ed...\n",
      "                       │    │             └ <ast.Module object at 0x7f224ee48fa0>\n",
      "                       │    └ <function InteractiveShell.run_ast_nodes at 0x7f226edfc550>\n",
      "                       └ <ipykernel.zmqshell.ZMQInteractiveShell object at 0x7f226d568940>\n",
      "  File \"/home/roman/anaconda3/lib/python3.9/site-packages/IPython/core/interactiveshell.py\", line 3309, in run_ast_nodes\n",
      "    if await self.run_code(code, result, async_=asy):\n",
      "             │    │        │     │              └ False\n",
      "             │    │        │     └ <ExecutionResult object at 7f224ed65520, execution_count=35 error_before_exec=None error_in_exec=None info=<ExecutionInfo obj...\n",
      "             │    │        └ <code object <cell line: 15> at 0x7f224ed857c0, file \"/tmp/ipykernel_313963/1420603721.py\", line 15>\n",
      "             │    └ <function InteractiveShell.run_code at 0x7f226edfc5e0>\n",
      "             └ <ipykernel.zmqshell.ZMQInteractiveShell object at 0x7f226d568940>\n",
      "  File \"/home/roman/anaconda3/lib/python3.9/site-packages/IPython/core/interactiveshell.py\", line 3369, in run_code\n",
      "    exec(code_obj, self.user_global_ns, self.user_ns)\n",
      "         │         │    │               │    └ {'__name__': '__main__', '__doc__': 'Automatically created module for IPython interactive environment', '__package__': None, ...\n",
      "         │         │    │               └ <ipykernel.zmqshell.ZMQInteractiveShell object at 0x7f226d568940>\n",
      "         │         │    └ <property object at 0x7f226edf24a0>\n",
      "         │         └ <ipykernel.zmqshell.ZMQInteractiveShell object at 0x7f226d568940>\n",
      "         └ <code object <cell line: 15> at 0x7f224ed857c0, file \"/tmp/ipykernel_313963/1420603721.py\", line 15>\n",
      "\n",
      "> File \"\u001b[32m/tmp/ipykernel_313963/\u001b[0m\u001b[32m\u001b[1m1420603721.py\u001b[0m\", line \u001b[33m16\u001b[0m, in \u001b[35m<cell line: 15>\u001b[0m\n",
      "    \u001b[1ma\u001b[0m\u001b[1m(\u001b[0m\u001b[1m)\u001b[0m\n",
      "    \u001b[36m└ \u001b[0m\u001b[36m\u001b[1m<function a at 0x7f224edc4d30>\u001b[0m\n",
      "\n",
      "  File \"\u001b[32m/tmp/ipykernel_313963/\u001b[0m\u001b[32m\u001b[1m1420603721.py\u001b[0m\", line \u001b[33m2\u001b[0m, in \u001b[35ma\u001b[0m\n",
      "    \u001b[1mb\u001b[0m\u001b[1m(\u001b[0m\u001b[1m)\u001b[0m\n",
      "    \u001b[36m└ \u001b[0m\u001b[36m\u001b[1m<function b at 0x7f224ee555e0>\u001b[0m\n",
      "\n",
      "  File \"\u001b[32m/tmp/ipykernel_313963/\u001b[0m\u001b[32m\u001b[1m1420603721.py\u001b[0m\", line \u001b[33m5\u001b[0m, in \u001b[35mb\u001b[0m\n",
      "    \u001b[1mc\u001b[0m\u001b[1m(\u001b[0m\u001b[1m)\u001b[0m\n",
      "    \u001b[36m└ \u001b[0m\u001b[36m\u001b[1m<function c at 0x7f224ee55550>\u001b[0m\n",
      "\n",
      "  File \"\u001b[32m/tmp/ipykernel_313963/\u001b[0m\u001b[32m\u001b[1m1420603721.py\u001b[0m\", line \u001b[33m8\u001b[0m, in \u001b[35mc\u001b[0m\n",
      "    \u001b[1md\u001b[0m\u001b[1m(\u001b[0m\u001b[1m)\u001b[0m\n",
      "    \u001b[36m└ \u001b[0m\u001b[36m\u001b[1m<function d at 0x7f224ed750d0>\u001b[0m\n",
      "\n",
      "  File \"\u001b[32m/tmp/ipykernel_313963/\u001b[0m\u001b[32m\u001b[1m1420603721.py\u001b[0m\", line \u001b[33m12\u001b[0m, in \u001b[35md\u001b[0m\n",
      "    \u001b[35m\u001b[1mraise\u001b[0m \u001b[1mRuntimeError\u001b[0m\u001b[1m(\u001b[0m\u001b[36m\"Just a random exception\"\u001b[0m\u001b[1m)\u001b[0m\n",
      "\n",
      "\u001b[31m\u001b[1mRuntimeError\u001b[0m:\u001b[1m Just a random exception\u001b[0m\n",
      "\u001b[32m2023-04-29 21:19:56.321\u001b[0m | \u001b[31m\u001b[1mERROR   \u001b[0m | \u001b[36m__main__\u001b[0m:\u001b[36m<cell line: 15>\u001b[0m:\u001b[36m19\u001b[0m - \u001b[31m\u001b[1mJust a random exception\u001b[0m\n",
      "\u001b[33m\u001b[1mTraceback (most recent call last):\u001b[0m\n",
      "\n",
      "  File \"/home/roman/anaconda3/lib/python3.9/runpy.py\", line 197, in _run_module_as_main\n",
      "    return _run_code(code, main_globals, None,\n",
      "           │         │     └ {'__name__': '__main__', '__doc__': 'Entry point for launching an IPython kernel.\\n\\nThis is separate from the ipykernel pack...\n",
      "           │         └ <code object <module> at 0x7f227028d240, file \"/home/roman/anaconda3/lib/python3.9/site-packages/ipykernel_launcher.py\", line 1>\n",
      "           └ <function _run_code at 0x7f2270289e50>\n",
      "  File \"/home/roman/anaconda3/lib/python3.9/runpy.py\", line 87, in _run_code\n",
      "    exec(code, run_globals)\n",
      "         │     └ {'__name__': '__main__', '__doc__': 'Entry point for launching an IPython kernel.\\n\\nThis is separate from the ipykernel pack...\n",
      "         └ <code object <module> at 0x7f227028d240, file \"/home/roman/anaconda3/lib/python3.9/site-packages/ipykernel_launcher.py\", line 1>\n",
      "  File \"/home/roman/anaconda3/lib/python3.9/site-packages/ipykernel_launcher.py\", line 16, in <module>\n",
      "    app.launch_new_instance()\n",
      "    │   └ <bound method Application.launch_instance of <class 'ipykernel.kernelapp.IPKernelApp'>>\n",
      "    └ <module 'ipykernel.kernelapp' from '/home/roman/anaconda3/lib/python3.9/site-packages/ipykernel/kernelapp.py'>\n",
      "  File \"/home/roman/anaconda3/lib/python3.9/site-packages/traitlets/config/application.py\", line 846, in launch_instance\n",
      "    app.start()\n",
      "    │   └ <function IPKernelApp.start at 0x7f226d5a4af0>\n",
      "    └ <ipykernel.kernelapp.IPKernelApp object at 0x7f22709a90a0>\n",
      "  File \"/home/roman/anaconda3/lib/python3.9/site-packages/ipykernel/kernelapp.py\", line 677, in start\n",
      "    self.io_loop.start()\n",
      "    │    │       └ <function BaseAsyncIOLoop.start at 0x7f226f26b040>\n",
      "    │    └ <tornado.platform.asyncio.AsyncIOMainLoop object at 0x7f226d5c6d90>\n",
      "    └ <ipykernel.kernelapp.IPKernelApp object at 0x7f22709a90a0>\n",
      "  File \"/home/roman/anaconda3/lib/python3.9/site-packages/tornado/platform/asyncio.py\", line 199, in start\n",
      "    self.asyncio_loop.run_forever()\n",
      "    │    │            └ <function BaseEventLoop.run_forever at 0x7f226f7ce280>\n",
      "    │    └ <_UnixSelectorEventLoop running=True closed=False debug=False>\n",
      "    └ <tornado.platform.asyncio.AsyncIOMainLoop object at 0x7f226d5c6d90>\n",
      "  File \"/home/roman/anaconda3/lib/python3.9/asyncio/base_events.py\", line 601, in run_forever\n",
      "    self._run_once()\n",
      "    │    └ <function BaseEventLoop._run_once at 0x7f226f7d0dc0>\n",
      "    └ <_UnixSelectorEventLoop running=True closed=False debug=False>\n",
      "  File \"/home/roman/anaconda3/lib/python3.9/asyncio/base_events.py\", line 1905, in _run_once\n",
      "    handle._run()\n",
      "    │      └ <function Handle._run at 0x7f226f80d4c0>\n",
      "    └ <Handle <TaskWakeupMethWrapper object at 0x7f224edbffd0>(<Future finis...510>, ...],))>)>\n",
      "  File \"/home/roman/anaconda3/lib/python3.9/asyncio/events.py\", line 80, in _run\n",
      "    self._context.run(self._callback, *self._args)\n",
      "    │    │            │    │           │    └ <member '_args' of 'Handle' objects>\n",
      "    │    │            │    │           └ <Handle <TaskWakeupMethWrapper object at 0x7f224edbffd0>(<Future finis...510>, ...],))>)>\n",
      "    │    │            │    └ <member '_callback' of 'Handle' objects>\n",
      "    │    │            └ <Handle <TaskWakeupMethWrapper object at 0x7f224edbffd0>(<Future finis...510>, ...],))>)>\n",
      "    │    └ <member '_context' of 'Handle' objects>\n",
      "    └ <Handle <TaskWakeupMethWrapper object at 0x7f224edbffd0>(<Future finis...510>, ...],))>)>\n",
      "  File \"/home/roman/anaconda3/lib/python3.9/site-packages/ipykernel/kernelbase.py\", line 471, in dispatch_queue\n",
      "    await self.process_one()\n",
      "          │    └ <function Kernel.process_one at 0x7f226e0981f0>\n",
      "          └ <ipykernel.ipkernel.IPythonKernel object at 0x7f226d5a27f0>\n",
      "  File \"/home/roman/anaconda3/lib/python3.9/site-packages/ipykernel/kernelbase.py\", line 460, in process_one\n",
      "    await dispatch(*args)\n",
      "          │         └ ([<zmq.sugar.frame.Frame object at 0x7f226c529d50>, <zmq.sugar.frame.Frame object at 0x7f226c52ca90>, <zmq.sugar.frame.Frame ...\n",
      "          └ <bound method Kernel.dispatch_shell of <ipykernel.ipkernel.IPythonKernel object at 0x7f226d5a27f0>>\n",
      "  File \"/home/roman/anaconda3/lib/python3.9/site-packages/ipykernel/kernelbase.py\", line 367, in dispatch_shell\n",
      "    await result\n",
      "          └ <coroutine object Kernel.execute_request at 0x7f226c5411c0>\n",
      "  File \"/home/roman/anaconda3/lib/python3.9/site-packages/ipykernel/kernelbase.py\", line 662, in execute_request\n",
      "    reply_content = await reply_content\n",
      "                          └ <coroutine object IPythonKernel.do_execute at 0x7f226c541140>\n",
      "  File \"/home/roman/anaconda3/lib/python3.9/site-packages/ipykernel/ipkernel.py\", line 360, in do_execute\n",
      "    res = shell.run_cell(code, store_history=store_history, silent=silent)\n",
      "          │     │        │                   │                     └ False\n",
      "          │     │        │                   └ True\n",
      "          │     │        └ 'def a():\\n    b()\\n    \\ndef b():\\n    c()\\n    \\ndef c():\\n    d()\\n\\n@logger.catch(reraise=True)\\ndef d():\\n    raise Runt...\n",
      "          │     └ <function ZMQInteractiveShell.run_cell at 0x7f226e0aaca0>\n",
      "          └ <ipykernel.zmqshell.ZMQInteractiveShell object at 0x7f226d568940>\n",
      "  File \"/home/roman/anaconda3/lib/python3.9/site-packages/ipykernel/zmqshell.py\", line 532, in run_cell\n",
      "    return super().run_cell(*args, **kwargs)\n",
      "                             │       └ {'store_history': True, 'silent': False}\n",
      "                             └ ('def a():\\n    b()\\n    \\ndef b():\\n    c()\\n    \\ndef c():\\n    d()\\n\\n@logger.catch(reraise=True)\\ndef d():\\n    raise Run...\n",
      "  File \"/home/roman/anaconda3/lib/python3.9/site-packages/IPython/core/interactiveshell.py\", line 2863, in run_cell\n",
      "    result = self._run_cell(\n",
      "             │    └ <function InteractiveShell._run_cell at 0x7f226edfc1f0>\n",
      "             └ <ipykernel.zmqshell.ZMQInteractiveShell object at 0x7f226d568940>\n",
      "  File \"/home/roman/anaconda3/lib/python3.9/site-packages/IPython/core/interactiveshell.py\", line 2909, in _run_cell\n",
      "    return runner(coro)\n",
      "           │      └ <coroutine object InteractiveShell.run_cell_async at 0x7f226c541440>\n",
      "           └ <function _pseudo_sync_runner at 0x7f226edebc10>\n",
      "  File \"/home/roman/anaconda3/lib/python3.9/site-packages/IPython/core/async_helpers.py\", line 129, in _pseudo_sync_runner\n",
      "    coro.send(None)\n",
      "    │    └ <method 'send' of 'coroutine' objects>\n",
      "    └ <coroutine object InteractiveShell.run_cell_async at 0x7f226c541440>\n",
      "  File \"/home/roman/anaconda3/lib/python3.9/site-packages/IPython/core/interactiveshell.py\", line 3106, in run_cell_async\n",
      "    has_raised = await self.run_ast_nodes(code_ast.body, cell_name,\n",
      "                       │    │             │        │     └ '/tmp/ipykernel_313963/1420603721.py'\n",
      "                       │    │             │        └ [<ast.FunctionDef object at 0x7f224ee48d30>, <ast.FunctionDef object at 0x7f224ee48be0>, <ast.FunctionDef object at 0x7f224ed...\n",
      "                       │    │             └ <ast.Module object at 0x7f224ee48fa0>\n",
      "                       │    └ <function InteractiveShell.run_ast_nodes at 0x7f226edfc550>\n",
      "                       └ <ipykernel.zmqshell.ZMQInteractiveShell object at 0x7f226d568940>\n",
      "  File \"/home/roman/anaconda3/lib/python3.9/site-packages/IPython/core/interactiveshell.py\", line 3309, in run_ast_nodes\n",
      "    if await self.run_code(code, result, async_=asy):\n",
      "             │    │        │     │              └ False\n",
      "             │    │        │     └ <ExecutionResult object at 7f224ed65520, execution_count=35 error_before_exec=None error_in_exec=None info=<ExecutionInfo obj...\n",
      "             │    │        └ <code object <cell line: 15> at 0x7f224ed857c0, file \"/tmp/ipykernel_313963/1420603721.py\", line 15>\n",
      "             │    └ <function InteractiveShell.run_code at 0x7f226edfc5e0>\n",
      "             └ <ipykernel.zmqshell.ZMQInteractiveShell object at 0x7f226d568940>\n",
      "  File \"/home/roman/anaconda3/lib/python3.9/site-packages/IPython/core/interactiveshell.py\", line 3369, in run_code\n",
      "    exec(code_obj, self.user_global_ns, self.user_ns)\n",
      "         │         │    │               │    └ {'__name__': '__main__', '__doc__': 'Automatically created module for IPython interactive environment', '__package__': None, ...\n",
      "         │         │    │               └ <ipykernel.zmqshell.ZMQInteractiveShell object at 0x7f226d568940>\n",
      "         │         │    └ <property object at 0x7f226edf24a0>\n",
      "         │         └ <ipykernel.zmqshell.ZMQInteractiveShell object at 0x7f226d568940>\n",
      "         └ <code object <cell line: 15> at 0x7f224ed857c0, file \"/tmp/ipykernel_313963/1420603721.py\", line 15>\n",
      "\n",
      "> File \"\u001b[32m/tmp/ipykernel_313963/\u001b[0m\u001b[32m\u001b[1m1420603721.py\u001b[0m\", line \u001b[33m16\u001b[0m, in \u001b[35m<cell line: 15>\u001b[0m\n",
      "    \u001b[1ma\u001b[0m\u001b[1m(\u001b[0m\u001b[1m)\u001b[0m\n",
      "    \u001b[36m└ \u001b[0m\u001b[36m\u001b[1m<function a at 0x7f224edc4d30>\u001b[0m\n",
      "\n",
      "  File \"\u001b[32m/tmp/ipykernel_313963/\u001b[0m\u001b[32m\u001b[1m1420603721.py\u001b[0m\", line \u001b[33m2\u001b[0m, in \u001b[35ma\u001b[0m\n",
      "    \u001b[1mb\u001b[0m\u001b[1m(\u001b[0m\u001b[1m)\u001b[0m\n",
      "    \u001b[36m└ \u001b[0m\u001b[36m\u001b[1m<function b at 0x7f224ee555e0>\u001b[0m\n",
      "\n",
      "  File \"\u001b[32m/tmp/ipykernel_313963/\u001b[0m\u001b[32m\u001b[1m1420603721.py\u001b[0m\", line \u001b[33m5\u001b[0m, in \u001b[35mb\u001b[0m\n",
      "    \u001b[1mc\u001b[0m\u001b[1m(\u001b[0m\u001b[1m)\u001b[0m\n",
      "    \u001b[36m└ \u001b[0m\u001b[36m\u001b[1m<function c at 0x7f224ee55550>\u001b[0m\n",
      "\n",
      "  File \"\u001b[32m/tmp/ipykernel_313963/\u001b[0m\u001b[32m\u001b[1m1420603721.py\u001b[0m\", line \u001b[33m8\u001b[0m, in \u001b[35mc\u001b[0m\n",
      "    \u001b[1md\u001b[0m\u001b[1m(\u001b[0m\u001b[1m)\u001b[0m\n",
      "    \u001b[36m└ \u001b[0m\u001b[36m\u001b[1m<function d at 0x7f224ed750d0>\u001b[0m\n",
      "\n",
      "  File \"\u001b[32m/tmp/ipykernel_313963/\u001b[0m\u001b[32m\u001b[1m1420603721.py\u001b[0m\", line \u001b[33m12\u001b[0m, in \u001b[35md\u001b[0m\n",
      "    \u001b[35m\u001b[1mraise\u001b[0m \u001b[1mRuntimeError\u001b[0m\u001b[1m(\u001b[0m\u001b[36m\"Just a random exception\"\u001b[0m\u001b[1m)\u001b[0m\n",
      "\n",
      "\u001b[31m\u001b[1mRuntimeError\u001b[0m:\u001b[1m Just a random exception\u001b[0m\n"
     ]
    }
   ],
   "source": [
    "def a():\n",
    "    b()\n",
    "    \n",
    "def b():\n",
    "    c()\n",
    "    \n",
    "def c():\n",
    "    d()\n",
    "\n",
    "@logger.catch(reraise=True)\n",
    "def d():\n",
    "    raise RuntimeError(\"Just a random exception\")\n",
    "    \n",
    "\n",
    "try:\n",
    "    a()\n",
    "except RuntimeError as exc:\n",
    "    logger.opt(exception=True).error(exc)\n",
    "    logger.exception(exc)"
   ]
  },
  {
   "cell_type": "markdown",
   "id": "2ab82b27-d902-4a86-8d87-53d17c1e966d",
   "metadata": {},
   "source": [
    "## Рекомендации по библиотекам"
   ]
  },
  {
   "cell_type": "markdown",
   "id": "b748c6ea-c7f8-4abd-bdd6-3412fdff9781",
   "metadata": {},
   "source": [
    "Для большинства случаев я советую использовать `loguru`, так как она сильно проще в настройке, но про `logging` тоже не стоит забывать, так как она всё ещё используется во многих проектах"
   ]
  },
  {
   "cell_type": "markdown",
   "id": "e40f7456-a6af-4ea9-928f-6767beb859bb",
   "metadata": {},
   "source": [
    "# Полезные ссылки"
   ]
  },
  {
   "cell_type": "markdown",
   "id": "21437ae2-7391-455f-aaab-14aff9972173",
   "metadata": {},
   "source": [
    "[Статья на хабре про модуль `logging`](https://habr.com/ru/companies/wunderfund/articles/683880/)\n",
    "\n",
    "[Документация `loguru`](https://loguru.readthedocs.io/en/stable/)"
   ]
  }
 ],
 "metadata": {
  "kernelspec": {
   "display_name": "Python 3 (ipykernel)",
   "language": "python",
   "name": "python3"
  },
  "language_info": {
   "codemirror_mode": {
    "name": "ipython",
    "version": 3
   },
   "file_extension": ".py",
   "mimetype": "text/x-python",
   "name": "python",
   "nbconvert_exporter": "python",
   "pygments_lexer": "ipython3",
   "version": "3.9.15"
  }
 },
 "nbformat": 4,
 "nbformat_minor": 5
}
