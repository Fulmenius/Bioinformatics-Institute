{
 "cells": [
  {
   "cell_type": "markdown",
   "id": "fcf02911-bb93-4f15-bf4f-212e917d8e28",
   "metadata": {},
   "source": [
    "# Аннотации типов"
   ]
  },
  {
   "cell_type": "markdown",
   "id": "a6cc3dd4-d10d-4cc5-bd94-5630ce56a874",
   "metadata": {},
   "source": [
    "## Статически и динамически типизируемые языки программирования"
   ]
  },
  {
   "cell_type": "markdown",
   "id": "e380365c-3633-47fc-a61d-1b393b033b88",
   "metadata": {},
   "source": [
    "Python является **динамически типизируемым языком**, это значит, что за конкретной переменной (именем) не закреплён один конкретный тип данных, это позволяет нам перезаписывать значения в переменных произвольными данными"
   ]
  },
  {
   "cell_type": "code",
   "execution_count": 2,
   "id": "60afa1a5-8380-4a40-bdc4-e424beb537ce",
   "metadata": {},
   "outputs": [
    {
     "name": "stdout",
     "output_type": "stream",
     "text": [
      "<class 'list'>\n",
      "<class 'tuple'>\n"
     ]
    }
   ],
   "source": [
    "variable = [1, 2, 3, 4]\n",
    "print(type(variable))\n",
    "\n",
    "variable = (1, 2, 3, 4)    # Тип переменной изменился, ошибки нет\n",
    "print(type(variable))"
   ]
  },
  {
   "cell_type": "markdown",
   "id": "6e9b4f97-74d0-46b0-91ff-9b1c5c834c09",
   "metadata": {},
   "source": [
    "Пример выше не сработал бы в языках со статической типизацией, где переменная и её тип неразрывно связаны. И хотя такая связь местами бывает не очень удобна, типизированные переменные позволяют писать более **читаемый и предсказуемый** код.\n",
    "\n",
    "Ниже приведён пример функции из статически типизируемого языка C\n",
    "\n",
    "```c\n",
    "#include <stdio.h>\n",
    "\n",
    "int add(int a, int b) {   // Функция принимает int и int и возвращает int\n",
    "    return a + b;\n",
    "}\n",
    "\n",
    "int main() {\n",
    "    int num1 = 5;   // Создаём переменную num1 типа int\n",
    "    int num2 = 7;   // Создаём переменную num2 типа int\n",
    "\n",
    "    int sum = add(num1, num2);   // Создаём переменную sum типа int\n",
    "    printf(\"The sum of %d and %d is: %d\\n\", num1, num2, sum);\n",
    "\n",
    "    return 0;\n",
    "}\n",
    "\n",
    "```\n",
    "\n",
    "Каждой переменной здесь назначен свой тип данных, в данном случае `int` и мы не можем изменить его в процессе выполнения программы. Так, следующая строка выдала бы ошибку, поскольку переменная `num1` связана с типом `int` и мы никак не можем сделать из этой переменной стркоу.\n",
    "\n",
    "```c\n",
    "num1 = \"string\";\n",
    "```"
   ]
  },
  {
   "cell_type": "markdown",
   "id": "23644630-b670-47f0-8914-e9d2fe1e1372",
   "metadata": {},
   "source": [
    "## Типизация в Python"
   ]
  },
  {
   "cell_type": "markdown",
   "id": "f16a74ba-93db-41e4-a42a-90607b52ae77",
   "metadata": {},
   "source": [
    "Python, как уже упоминалось ранее, это динамически типизируемый язык, а значит мы **не обязаны явно прописывать тип** для каждой переменной. Однако такая возможность могла бы быть очень полезной, так как код станет более понятным и предсказуемым.\n",
    "\n",
    "К счатью, Python умеет так делать, это реализуется при помощи **аннотаций типов**"
   ]
  },
  {
   "cell_type": "markdown",
   "id": "48f4b662-b5d8-4d50-9d74-626247b66a7f",
   "metadata": {},
   "source": [
    "### Аннотации типов"
   ]
  },
  {
   "cell_type": "markdown",
   "id": "65f7646b-c876-499f-9fe3-58296940eec2",
   "metadata": {},
   "source": [
    "#### Синтаксис"
   ]
  },
  {
   "cell_type": "markdown",
   "id": "f515869c-b018-4a94-a614-af6c20287a74",
   "metadata": {},
   "source": [
    "Синтаксис аннотаций типов очень простой. После имени переменной при её создании через двоеточие нужно указать её тип\n",
    "\n",
    "```python\n",
    "<variable_name>: <type> = <value>\n",
    "\n",
    "string: str = \"Hello world\"\n",
    "```\n",
    "\n",
    "Можно также указывать **типы аргументов и возвращаемых значений** для функций через стрелочку `->` после аргументов функции\n",
    "\n",
    "```python\n",
    "def concatenate_lists(l1: list, l2: list) -> list:\n",
    "    return l1 + l2\n",
    "```\n",
    "\n",
    "Если аннотированный аргумент имеет значение по-умолчанию, то синтаксис будет выглядеть вот так\n",
    "\n",
    "```python\n",
    "def add_floats(a: float = 0, b: float = 0) -> float:\n",
    "    return a + b\n",
    "```\n",
    "\n",
    "**Обратите внимание на пробелы** в примерах выше. Это единственный правильный вариант, а **так как приведено ниже писать не стоит**\n",
    "\n",
    "```python\n",
    "string:str = \"Hello world\"\n",
    "number: int=2\n",
    "\n",
    "def concatenate_lists(l1:list, l2:list)->list:\n",
    "    return l1 + l2 \n",
    "\n",
    "def add_floats(a: float=0, b: float=0) -> float:\n",
    "    return a + b\n",
    "```"
   ]
  },
  {
   "cell_type": "markdown",
   "id": "6e27040a-060c-4c04-b761-2e68a4dea801",
   "metadata": {},
   "source": [
    "Вы уже немного писали простые аннотации, когда делали свои датаклассы"
   ]
  },
  {
   "cell_type": "markdown",
   "id": "55c94ea0-4422-41dd-8b32-157d61c54e49",
   "metadata": {},
   "source": [
    "#### Логика аннотаций типов"
   ]
  },
  {
   "cell_type": "markdown",
   "id": "cd3335c6-d3b7-4075-b68d-4595cccca0df",
   "metadata": {},
   "source": [
    "**Самый важный момент**, который на этом этапе нужно усвоить &mdash; **аннотации типов в Python никак не влияют на выполнение программы, они созданы только для удобства чтения кода и документации**.\n",
    "\n",
    "То есть, если мы попробуем записать в переменную тип данных, который противоречит типу в аннотации, то **ничего не произойдёт**"
   ]
  },
  {
   "cell_type": "code",
   "execution_count": 10,
   "id": "489455db-de3f-42d4-a23e-90f617c15fd4",
   "metadata": {},
   "outputs": [
    {
     "name": "stdout",
     "output_type": "stream",
     "text": [
      "[1, 2, 3]\n"
     ]
    }
   ],
   "source": [
    "var: float = 2.3\n",
    "\n",
    "var = [1, 2, 3]\n",
    "\n",
    "print(var)     # Ошибки нет"
   ]
  },
  {
   "cell_type": "code",
   "execution_count": 12,
   "id": "f5b2c158-d1d9-4607-9652-680b161ebffd",
   "metadata": {},
   "outputs": [
    {
     "data": {
      "text/plain": [
       "(1, 2, 3, 4, 5, 6)"
      ]
     },
     "execution_count": 12,
     "metadata": {},
     "output_type": "execute_result"
    }
   ],
   "source": [
    "def concatenate_lists(l1: list, l2: list) -> list:\n",
    "    return l1 + l2\n",
    "\n",
    "\n",
    "tuple1: tuple = (1, 2, 3)\n",
    "tuple2: tuple = (4, 5, 6)\n",
    "\n",
    "concatenate_lists(tuple1, tuple2)    # Ошибки нет"
   ]
  },
  {
   "cell_type": "markdown",
   "id": "a325b32d-cf4d-4fe3-afa5-12fe0f861fd8",
   "metadata": {},
   "source": [
    "Таким образом, аннотации типов носят **исключительно рекомендательный характер**, вы всё также сможете передавать любые типы в любое место (поэтому это и называется **аннотацией**).\n",
    "\n",
    "Они используются для того, чтобы быстро и удобно сообщить пользователю, читающему код, что ожидать от тех или иных функций или переменных, а также используются IDE для генерации подсказок"
   ]
  },
  {
   "cell_type": "markdown",
   "id": "eaa6de0c-b300-495e-8438-3a4dc4421a5a",
   "metadata": {},
   "source": [
    "#### Когда стоит использовать аннотации типов?"
   ]
  },
  {
   "cell_type": "markdown",
   "id": "a1aa61f5-5dde-4954-826b-f91639bacb59",
   "metadata": {},
   "source": [
    "**По-возможности &mdash; всегда**, писать аннотации типов это крайне хорошая привычка, которая сильно улучшит качество вашего кода. Но, в конце-концов все мы люди и нам лень писать \"бесполезные буковки\", которые не влияют на выполнение программы, точно также как нам лень писать README для репозитория. Поэтому вас никто не будет сильно осуждать, если вы не будете этого делать, но это крайне хорошая практика.\n",
    "\n",
    "Тем не менее, аннотации типов очень редко используются для \"обычных переменных\", чаще всего аннотируют (в порядке частоты встречаемости):\n",
    "1. Аргументы функций\n",
    "2. Возвращаемые значения функций\n",
    "3. Поля в датаклассах\n",
    "4. Классовые атрибуты в обычных классах\n",
    "5. Атрибуты экземпляров классов (редко)\n",
    "\n",
    "\"Обычные переменные\", как правило, не аннотируют"
   ]
  },
  {
   "cell_type": "markdown",
   "id": "66defc34-8a04-4056-a230-8bda29f7099f",
   "metadata": {},
   "source": [
    "### Модуль `typing`"
   ]
  },
  {
   "cell_type": "markdown",
   "id": "9a04ea10-7f6e-4e93-b093-f25c1f2bb0cf",
   "metadata": {},
   "source": [
    "Встроенные возможности типизации в Python довольно скромные, но существует модуль `typing` (входит в стандартную библиотеку языка), который сильно расширяет наши возможности по использованию аннотаций типов"
   ]
  },
  {
   "cell_type": "code",
   "execution_count": 16,
   "id": "7dce643b-1e29-43cf-a199-d23d5efa414e",
   "metadata": {},
   "outputs": [],
   "source": [
    "from typing import *      # Мы импортируем всё только для примера, так как в модуле очень много нужных нам переменных\n",
    "                          # В реальных проектах стоит делать from typing import var1, var2, ..."
   ]
  },
  {
   "cell_type": "markdown",
   "id": "56e6f016-1375-4169-b62a-a636fe03dd5d",
   "metadata": {},
   "source": [
    "Главная фишка `typing` это возможность описывать сложные типы данных и создавать новые"
   ]
  },
  {
   "cell_type": "markdown",
   "id": "b175f71a-3d73-4a1f-ae68-26a2cca1a6ce",
   "metadata": {},
   "source": [
    "Для описания сложных типов данных в `typing` используются квадратные скобки. Например, `List[str]` - список из строк"
   ]
  },
  {
   "cell_type": "markdown",
   "id": "3deb7b1f-d60c-498b-8c2a-102efcf25bcb",
   "metadata": {},
   "source": [
    "#### Тип `Any`"
   ]
  },
  {
   "cell_type": "markdown",
   "id": "baf480eb-8565-46a7-a129-68af12ba5602",
   "metadata": {},
   "source": [
    "Данный тип обозначает **любой тип**"
   ]
  },
  {
   "cell_type": "code",
   "execution_count": 18,
   "id": "4c0686f8-6861-4394-95a6-41c125dfc57a",
   "metadata": {},
   "outputs": [],
   "source": [
    "import random\n",
    "\n",
    "\n",
    "def return_random() -> Any:   # Функция возвращает значение любого типа\n",
    "    return random.choice([1, 1.0, \"1\", [1], (1,), set([1])])"
   ]
  },
  {
   "cell_type": "markdown",
   "id": "28c3e18c-d4c5-4778-ad1d-434f1b9dbf92",
   "metadata": {},
   "source": [
    "#### Тип `Any`"
   ]
  },
  {
   "cell_type": "markdown",
   "id": "43f4ec0e-0b5d-46e7-a1e0-5489cf6a7e99",
   "metadata": {},
   "source": [
    "Данный тип обозначает **любой тип**"
   ]
  },
  {
   "cell_type": "code",
   "execution_count": 18,
   "id": "5530c816-a4f0-4257-b4fe-348f0dd4048b",
   "metadata": {},
   "outputs": [],
   "source": [
    "import random\n",
    "\n",
    "\n",
    "def return_random() -> Any:   # Функция возвращает значение любого типа\n",
    "    return random.choice([1, 1.0, \"1\", [1], (1,), set([1])])"
   ]
  },
  {
   "cell_type": "markdown",
   "id": "e174f664-9ec6-48aa-b48a-d6a0a7ab442b",
   "metadata": {},
   "source": [
    "В аннотациях можно использовать как встроенные типы данных, так и типы из модуля `typing`, но отличия состоят в том, что в `typing` находятся ненастоящие типы, при помощи них нельзя создавать экземпляры объектов"
   ]
  },
  {
   "cell_type": "code",
   "execution_count": 19,
   "id": "b7e39a9f-bf05-445c-9d54-1518c58ba749",
   "metadata": {},
   "outputs": [
    {
     "ename": "TypeError",
     "evalue": "Cannot instantiate typing.Any",
     "output_type": "error",
     "traceback": [
      "\u001b[0;31m---------------------------------------------------------------------------\u001b[0m",
      "\u001b[0;31mTypeError\u001b[0m                                 Traceback (most recent call last)",
      "Input \u001b[0;32mIn [19]\u001b[0m, in \u001b[0;36m<cell line: 1>\u001b[0;34m()\u001b[0m\n\u001b[0;32m----> 1\u001b[0m \u001b[43mAny\u001b[49m\u001b[43m(\u001b[49m\u001b[43m)\u001b[49m\n",
      "File \u001b[0;32m~/anaconda3/lib/python3.9/typing.py:344\u001b[0m, in \u001b[0;36m_SpecialForm.__call__\u001b[0;34m(self, *args, **kwds)\u001b[0m\n\u001b[1;32m    343\u001b[0m \u001b[38;5;28;01mdef\u001b[39;00m \u001b[38;5;21m__call__\u001b[39m(\u001b[38;5;28mself\u001b[39m, \u001b[38;5;241m*\u001b[39margs, \u001b[38;5;241m*\u001b[39m\u001b[38;5;241m*\u001b[39mkwds):\n\u001b[0;32m--> 344\u001b[0m     \u001b[38;5;28;01mraise\u001b[39;00m \u001b[38;5;167;01mTypeError\u001b[39;00m(\u001b[38;5;124mf\u001b[39m\u001b[38;5;124m\"\u001b[39m\u001b[38;5;124mCannot instantiate \u001b[39m\u001b[38;5;132;01m{\u001b[39;00m\u001b[38;5;28mself\u001b[39m\u001b[38;5;132;01m!r}\u001b[39;00m\u001b[38;5;124m\"\u001b[39m)\n",
      "\u001b[0;31mTypeError\u001b[0m: Cannot instantiate typing.Any"
     ]
    }
   ],
   "source": [
    "Any()"
   ]
  },
  {
   "cell_type": "markdown",
   "id": "26c13aa5-eee2-4161-833c-c430e376f459",
   "metadata": {},
   "source": [
    "Большинство интересующих нас типов являются составными, рассмотрим их"
   ]
  },
  {
   "cell_type": "markdown",
   "id": "9ca71efa-9aa0-4237-8234-51fb2915dad3",
   "metadata": {},
   "source": [
    "#### Типы `List`, `Dict`, `Set`, `Tuple`\n",
    "\n",
    "Данные типы данных отвечают за встроенные в питон контейнерные типы данных"
   ]
  },
  {
   "cell_type": "markdown",
   "id": "b3468db5-f0b1-4b3a-96f5-4062284cf38a",
   "metadata": {},
   "source": [
    "Типу `List` можно указать один параметр. Он показывает, из каких элементов состоит список. Тип `Set` работает полностью аналогично"
   ]
  },
  {
   "cell_type": "code",
   "execution_count": 22,
   "id": "5435d09d-edbb-4d54-ae81-7d34557df211",
   "metadata": {},
   "outputs": [],
   "source": [
    "var: List[str] = [\"a\", \"b\"]    # Список из строк\n",
    "var: List[list] = [[\"a\"], [1]]     # Список из любых списков\n",
    "var: List[List] = [[\"a\"], [1]]    # Тоже список из списков\n",
    "var: List = [1, 2.0, \"abc\", []]         # Список из чего угодно, эквивалентно List[Any]"
   ]
  },
  {
   "cell_type": "markdown",
   "id": "2cfa6f3b-74db-472a-8699-aff5c36bee01",
   "metadata": {},
   "source": [
    "Типу `Dict` можно указать два параметра: типы ключей и значений"
   ]
  },
  {
   "cell_type": "code",
   "execution_count": 24,
   "id": "62da7505-0aeb-4e4d-871e-4c5627725301",
   "metadata": {},
   "outputs": [],
   "source": [
    "var: Dict[str, float] = {\"a\": 1, \"b\": 2}     # Словарь, где ключи имеют тип str, а значения тип float\n",
    "var: Dict[int, Dict[str, float]] = {40: {\"a\": 1, \"b\": 2}}    # Словарь, где ключи имеют тип int, а значения тип \"cловарь, где ключи имеют тип str, а значения тип float\"\n",
    "var: Dict[str, Any] = {\"a\": set(), \"b\": []}    # Словарь, где ключи имеют тип str, а значения любой тип\n",
    "var: Dict = {1: 1, \"b\": 2}         # Любой словарь"
   ]
  },
  {
   "cell_type": "markdown",
   "id": "6adbb81c-6261-4ce8-963c-f0c346dd953d",
   "metadata": {},
   "source": [
    "Типу `Tuple` можно указать произвольное число параметров, свой тип для каждого элемента"
   ]
  },
  {
   "cell_type": "code",
   "execution_count": 25,
   "id": "6eaf06c1-fa20-4ea3-abf0-6f9b6bede26c",
   "metadata": {},
   "outputs": [],
   "source": [
    "var: Tuple[int, str, float]     # Кортеж из 3 элементов: первый - int, второй - str, третий - float\n",
    "var: Tuple[Any, int]   # Кортеж из двух элементов, где первый элемент любой, а второй имеет тип int\n",
    "var: Tuple    # Любой кортеж"
   ]
  },
  {
   "cell_type": "markdown",
   "id": "07a93595-918f-47a0-b61b-510be2f62323",
   "metadata": {},
   "source": [
    "❗❗Начиная с версии питона **3.9**, синтаксис составления сложных типов через квадратные скобки доступен **для встроенных типов** и является предпочтительным именно в таком варианте. Это значит, что вместо `Dict[int, Dict[str, float]]` стоит писать `dict[int, dict[str, float]]`. Но, если вы оказались на более младшей версии питона, то нужно использовать типы из `typing`"
   ]
  },
  {
   "cell_type": "markdown",
   "id": "7c3f5fda-84c2-40c4-9c54-b608df47f14e",
   "metadata": {},
   "source": [
    "#### Тип `Callable`\n",
    "\n",
    "Данный тип используется для аннотации вызываемых объектов (например, функций). Можно указать два набора параметров: типы аргументов и возвращаемого значения\n",
    "\n",
    "`Callable[[<argument1>, <argument2>], <return_type>]`"
   ]
  },
  {
   "cell_type": "code",
   "execution_count": 31,
   "id": "68a73be1-f643-4d1c-938f-b3699d093292",
   "metadata": {},
   "outputs": [
    {
     "data": {
      "text/plain": [
       "[(2, 2), (3, 3), (4, 4)]"
      ]
     },
     "execution_count": 31,
     "metadata": {},
     "output_type": "execute_result"
    }
   ],
   "source": [
    "def func(a: float, b: float) -> tuple[int, int]:\n",
    "    return int(a), int(b)\n",
    "\n",
    "def apply_func_to_list(func: Callable[[float, float], tuple[int, int]],\n",
    "                       lst: list[tuple[float, float]]) -> List[tuple[int, int]]:\n",
    "    return [func(a, b) for a, b in lst]\n",
    "\n",
    "\n",
    "apply_func_to_list(func, [(2.1, 2.2), (3.1, 3.2), (4.1, 4.2)])"
   ]
  },
  {
   "cell_type": "markdown",
   "id": "0f402adc-29b2-4fdd-a9fa-a7e5a8bed887",
   "metadata": {},
   "source": [
    "#### Тип `Union`\n",
    "\n",
    "Один из самых часто используемых типов из `typing`. Позволяет объединить несколько типов в один"
   ]
  },
  {
   "cell_type": "code",
   "execution_count": 33,
   "id": "5b51e3cb-be6e-49f0-a11d-8d41c6478971",
   "metadata": {},
   "outputs": [],
   "source": [
    "var: Union[int, str, list[float]]   # Тип может быть ИЛИ int, ИЛИ str, ИЛИ список из float'ов\n",
    "\n",
    "var = 1   # Тип соответствует аннотации\n",
    "var = \"str\"   # Тип соответствует аннотации\n",
    "var = [1.1, 2.2, 3.3]   # Тип соответствует аннотации\n",
    "var = [1, 2, 3]  # Тип НЕ соответствует аннотации"
   ]
  },
  {
   "cell_type": "markdown",
   "id": "2057a869-1457-4b2b-93b9-3d002d600d6e",
   "metadata": {},
   "source": [
    "Начиная с Python версии **3.10** вместо `Union` можно использовать оператор `|`"
   ]
  },
  {
   "cell_type": "code",
   "execution_count": null,
   "id": "c95d2f87-e849-4889-8c28-28b83fcfc1c4",
   "metadata": {},
   "outputs": [],
   "source": [
    "var: int | str | list[float]"
   ]
  },
  {
   "cell_type": "markdown",
   "id": "85def3bc-b159-49ef-ab11-8173102eb0eb",
   "metadata": {},
   "source": [
    "#### Тип `Optional`\n",
    "\n",
    "Данный тип позволяет указать, что переменная может иметь значение `None`. Это не имеет ничего общего с \"опциональными\" аргументами функций"
   ]
  },
  {
   "cell_type": "code",
   "execution_count": 36,
   "id": "1892692a-ac7f-4dae-b8fe-5a63721eb262",
   "metadata": {},
   "outputs": [],
   "source": [
    "def find_number(lst: list[Union[int, float]],\n",
    "                target_num: Union[str, float]) -> Optional[int]:   # Функция может вернуть ИЛИ int, ИЛИ None\n",
    "    for idx, num in enumerate(lst):\n",
    "        if num == target_num:\n",
    "            return idx"
   ]
  },
  {
   "cell_type": "markdown",
   "id": "07da4b68-ff92-486f-9f81-fbdbe008c95d",
   "metadata": {},
   "source": [
    "По своей сути `Optional[int]` это то же самое, что и `Union[int, None]`"
   ]
  },
  {
   "cell_type": "markdown",
   "id": "ec39d098-867b-4522-b160-62fe5cd41fac",
   "metadata": {},
   "source": [
    "#### Абстрактные типы (`Container`, `Mapping`, `Sequence`, `Iterable`, ...)"
   ]
  },
  {
   "cell_type": "markdown",
   "id": "75222ed4-3b72-4e09-877d-3ea7946b15e9",
   "metadata": {},
   "source": [
    "Часто бывает так, что нам нужно указать на тот факт, что переменная имеет определённый интерфейс. Для этого можно использовать абстрактные типы. Здесь всё аналогично встроенным типам, до версии **3.9** использовались типы из модуля `typing`, но в **3.9** добавили возможность работать с соответствующими типами из `collections.abc`"
   ]
  },
  {
   "cell_type": "code",
   "execution_count": 37,
   "id": "639fa0f8-17e3-4b79-9b8d-397bf26d6bd9",
   "metadata": {},
   "outputs": [],
   "source": [
    "from collections.abc import Iterable"
   ]
  },
  {
   "cell_type": "code",
   "execution_count": 42,
   "id": "06b91673-b515-4d3e-8984-cf1cdd3bbb41",
   "metadata": {},
   "outputs": [
    {
     "data": {
      "text/plain": [
       "(1, 2, 4)"
      ]
     },
     "execution_count": 42,
     "metadata": {},
     "output_type": "execute_result"
    }
   ],
   "source": [
    "def filter_integers_from_container(iterable: Iterable[int],\n",
    "                                   cont: Container[int]) -> Iterable[int]:  # В этой строке тип Container пришёл из ранее импортированного модуля typing, но в collections.abc он тоже есть\n",
    "    return type(iterable)(item for item in iterable if item not in cont)\n",
    "\n",
    "\n",
    "filter_integers_from_container([1, 2, 3, 4], {3})\n",
    "filter_integers_from_container({1, 2, 3, 4}, [3])\n",
    "filter_integers_from_container((1, 2, 3, 4), (3,))"
   ]
  },
  {
   "cell_type": "markdown",
   "id": "d6af292c-ecaa-4869-a64b-3005f67cecdb",
   "metadata": {},
   "source": [
    "Все примеры выше удовлетворяют аннотациям. Список, кортеж и множество являются итерируемыми объектами, поэтому подходят под аннотацию `Iterable[int]`, они также реализуют интерфейс `Container`, поэтому подходят под аннотацию `Container[int]` у второго аргумента"
   ]
  },
  {
   "cell_type": "markdown",
   "id": "7ef6eaed-d491-47fb-9577-0735eebfe0b4",
   "metadata": {},
   "source": [
    "#### Тип `Literal`\n",
    "\n",
    "Данный тип позволяет указать кокретные значения, которые может принимать переменная. Пример из документации, аргумент `mode` принимает строку, которая обозначает режим открытия файла, а значит ожидаемый список значений для этого аргумента ограничен и мы можем явно указать их всех в типе"
   ]
  },
  {
   "cell_type": "code",
   "execution_count": null,
   "id": "90a7d587-1fd1-40fe-a2ce-97b483268da1",
   "metadata": {},
   "outputs": [],
   "source": [
    "def open_helper(file: str, mode: Literal['r', 'rb', 'w', 'wb']) -> str:\n",
    "    with open(file, mode) as f:\n",
    "        return f.read()"
   ]
  },
  {
   "cell_type": "markdown",
   "id": "04c4d4c5-a85b-4143-a53f-53ef97b4a98a",
   "metadata": {},
   "source": [
    "#### Type aliases"
   ]
  },
  {
   "cell_type": "markdown",
   "id": "d4b28f2b-a31f-4749-b0e7-4846975cf2c3",
   "metadata": {},
   "source": [
    "В один момент при написании аннотаций типов вы заметите, что они становятся слишком громоздкими, например"
   ]
  },
  {
   "cell_type": "code",
   "execution_count": 51,
   "id": "815b9d0a-40e1-46b5-a9e2-5b99b76bb359",
   "metadata": {},
   "outputs": [],
   "source": [
    "variable: List[Dict[Tuple[Union[int, float], Union[int, float]], List[Tuple[Union[int, float], Union[int, float]]]]] = [\n",
    "    {(1, 2.0, 2): [(1, 2.0, 2), (3, 4.0, 2)]},\n",
    "    {(1, 2.0, 3): [(5, 6.0, 2), (7, 8.0, 2)]}\n",
    "]"
   ]
  },
  {
   "cell_type": "markdown",
   "id": "d3f62a55-71a0-439c-aff6-b4c072eaae39",
   "metadata": {},
   "source": [
    "Механизм type alias позволяет нам сохранить аннотацию в переменную для дальнейшего переиспользования"
   ]
  },
  {
   "cell_type": "code",
   "execution_count": 52,
   "id": "a4b78f0b-77ac-4e54-bac3-e36c3fb5dadf",
   "metadata": {},
   "outputs": [],
   "source": [
    "Number = Union[int, float]\n",
    "NumberTuple = Tuple[Number, Number]\n",
    "MyCustomType = List[Dict[NumberTuple, List[NumberTuple]]]\n",
    "\n",
    "variable: MyCustomType = [\n",
    "    {(1, 2.0, 2): [(1, 2.0, 2), (3, 4.0, 2)]},\n",
    "    {(1, 2.0, 3): [(5, 6.0, 2), (7, 8.0, 2)]}\n",
    "]"
   ]
  },
  {
   "cell_type": "markdown",
   "id": "d9589206-9528-4064-9015-1f6180ffe42a",
   "metadata": {},
   "source": [
    "Type aliases существуют только для упрощения сложных аннотаций. Type aliases это **создание нового имени для существующего типа**"
   ]
  },
  {
   "cell_type": "markdown",
   "id": "2aded33d-1a8a-4df6-b59a-d81c7890e0c3",
   "metadata": {},
   "source": [
    "#### Создание новых типов"
   ]
  },
  {
   "cell_type": "markdown",
   "id": "661857d6-2b0b-47de-8eda-3ddcbfbdc5fe",
   "metadata": {},
   "source": [
    "Класс `NewType` позволяет создавать новые типы"
   ]
  },
  {
   "cell_type": "code",
   "execution_count": 56,
   "id": "6b60f373-3207-41b0-8a76-68e21d2526d7",
   "metadata": {},
   "outputs": [
    {
     "name": "stdout",
     "output_type": "stream",
     "text": [
      "<class 'float'>\n"
     ]
    },
    {
     "data": {
      "text/plain": [
       "37.76"
      ]
     },
     "execution_count": 56,
     "metadata": {},
     "output_type": "execute_result"
    }
   ],
   "source": [
    "Temperature = NewType(\"Temperature\", float)\n",
    "\n",
    "def celsius_to_fahrenheit(celsius: Temperature):\n",
    "    fahrenheit = (celsius * 9/5) + 32\n",
    "    return fahrenheit\n",
    "\n",
    "temp = Temperature(3.2)\n",
    "print(type(temp))\n",
    "\n",
    "celsius_to_fahrenheit(3.2)\n",
    "celsius_to_fahrenheit(temp)"
   ]
  },
  {
   "attachments": {
    "3ea97b3a-9f8f-42be-b504-e2a6727456d2.png": {
     "image/png": "[encoded data removed]"
    }
   },
   "cell_type": "markdown",
   "id": "b74ce377-3284-4c1f-95f8-e976526640db",
   "metadata": {},
   "source": [
    "В примере выше мы создали тип `Temperature`, который является подтипом `float`, мы можем создать экземпляр этого типа, НО при этом мы получим объект типа `float`, короче всё запутано, зачем это вообще нужно?\n",
    "\n",
    "Данные типы будут использоваться анализаторами кода, например IDE, которые будут выдавать подсказки, если вы передаёте куда-то не тот тип. Ниже приведён тот же самый код, но в PyCharm\n",
    "\n",
    "![image.png](attachment:3ea97b3a-9f8f-42be-b504-e2a6727456d2.png)\n",
    "\n",
    "В данном случае IDE сообщает нам, что мы передаём в функцию неправильный тип. Такая система позволяет ловить логические ошибки и делать функции более специализированными. `NewType` **создаёт новый тип**, позволяя **различать переменные одного типа с разными назначениями** по логике их использования"
   ]
  },
  {
   "attachments": {},
   "cell_type": "markdown",
   "id": "e5d15f72-d1fa-426d-974d-6999186ccc2e",
   "metadata": {},
   "source": [
    "### Интеграция с IDE\n",
    "\n",
    "Аннотации типов прекрасно интегрируются с различными средами разработки (IDE). Рассмотрим следующий пример:\n",
    "\n",
    "Допустим, что мы хотим написать какую-то простую функцию, удаляющую индекс из датафрейма\n",
    "\n",
    "```python\n",
    "def delete_index(data):\n",
    "    return data.reset_index(drop=True)\n",
    "```\n",
    "\n",
    "Проблема заключается в том, что при написании этой функции без аннотаций типов, IDE не может понять, какой тип имеет аргумент `data`, а следовательно не сможет предоставлять нам различные подсказки и, самое главное, не сможет сделать автодополнение.\n",
    "\n",
    "![image.png](attachment:f2700591-004d-438a-81e6-16cf09527ad4.png)\n",
    "\n",
    "Таким образом, если мы забыли про какой-то метод объекта, то у нас не получится просто потыкать в Tab и посмотреть, что у него есть, нам придётся лезть в интернет. Однако, если мы укажем аннотацию для аргумента `data`, то IDE поймёт с чем имеет дело и начнёт нам подсказывать.\n",
    "\n",
    "![image.png](attachment:1c828b36-12d7-4a96-9259-dfcfb70e4cea.png)"
   ]
  },
  {
   "cell_type": "markdown",
   "id": "3abc354c-ad24-420f-afa7-40c76eea6651",
   "metadata": {},
   "source": [
    "Именно привычка писать функции сразу с аннотациями типов может помочь меньше ходить в интернет и, в целом, может повысить вашу продуктивность (не люблю это слово)"
   ]
  },
  {
   "cell_type": "markdown",
   "id": "78fcd049-17b6-4ccb-8759-16d1a4348148",
   "metadata": {},
   "source": [
    "Также IDE постоянно проверяет ваш код и подсвечивает места, где используются не те типы, которые указаны в аннотациях. Просмотр таких уведомлений может помочь избавиться от разных логических ошибок, но, чтобы это работало, аннотации нужно делать бувально везде.\n",
    "\n",
    "Это ещё один хороший принцип для работы с аннотациями &mdash; **или вы делаете аннотации для всех функций/классов, или не делаете нигде**. Выборочная аннотация не принесёт много пользы, а только потратит ваше время."
   ]
  },
  {
   "cell_type": "markdown",
   "id": "ccbf0f0c-554f-4e9b-87f8-66f812225a25",
   "metadata": {},
   "source": [
    "# Документация"
   ]
  },
  {
   "cell_type": "markdown",
   "id": "85c19e8a-507c-450a-913f-6779b068a871",
   "metadata": {},
   "source": [
    "Написание комментариев к вашему коду это ещё один хороший способ улучшить его качество и читаемость."
   ]
  },
  {
   "cell_type": "markdown",
   "id": "a7a09775-46cf-49cd-a5a4-58c20af00d87",
   "metadata": {},
   "source": [
    "## Inline  комментарии\n",
    "\n",
    "Вы уже знакомы с обычными комментариями:"
   ]
  },
  {
   "cell_type": "code",
   "execution_count": 58,
   "id": "e2806aeb-b4a1-4f7d-9152-48b0642327bd",
   "metadata": {},
   "outputs": [],
   "source": [
    "a = 2   # This is comment"
   ]
  },
  {
   "cell_type": "markdown",
   "id": "29ef16a7-489e-4f57-b209-36a628f1f120",
   "metadata": {},
   "source": [
    "Это крайне полезная, но опасная штука. Со слишком малым количеством комментариев ваш код будет слишком непонятным, а со слишком большим количеством комментариев он станет нечитаемым, так как комментарии будут отвлекать внимание. По поводу комментариев можно сделать два основных тезиза:\n",
    "1. **Хорошему коду комментарии не нужны, он хорошо читается и без них**\n",
    "2. **Стоит комментировать неочевидные моменты, которые человек читающий код не может понять на уровне логики работы кода, но не синтаксиса**"
   ]
  },
  {
   "cell_type": "markdown",
   "id": "71e83483-baf4-4142-86e8-b8419f9fdbda",
   "metadata": {},
   "source": [
    "Ниже приведён пример плохого комментирования кода, комментариев слишком много"
   ]
  },
  {
   "cell_type": "code",
   "execution_count": null,
   "id": "d9826ea8-089e-4f3a-921c-6ce7fbcd0b45",
   "metadata": {},
   "outputs": [],
   "source": [
    "def bubble_sort(arr):   # Function that uses bubble-sort algorithm to sort a list\n",
    "    n = len(arr)    # Save list length to a variable\n",
    "    for i in range(n):    # Iterate over indices of the list\n",
    "        for j in range(0, n-i-1):    # Iterate over list indices up to index selected in the outer loop\n",
    "            if arr[j] > arr[j+1]:    # Check if elements located at adjacent list indices are in right order \n",
    "                arr[j], arr[j+1] = arr[j+1], arr[j]    # If not, swap elements on those indices"
   ]
  },
  {
   "cell_type": "markdown",
   "id": "f7e7c902-8b44-4525-ba1d-cedce662f514",
   "metadata": {},
   "source": [
    "Ниже приведён пример плохого комментирования кода, комментариев нет и нейминг в коде не очень (хотя, как правило, однобуквенный нейминг это прямо таки стандарт для алгоритмических задач), код плохо читается"
   ]
  },
  {
   "cell_type": "code",
   "execution_count": 59,
   "id": "a9c4f4c0-bf71-4c5f-b71a-efaf5f275cb4",
   "metadata": {},
   "outputs": [],
   "source": [
    "def bubble_sort(l):\n",
    "    n = len(l)\n",
    "    for i in range(n):\n",
    "        for j in range(0, n-i-1):\n",
    "            if l[j] > l[j+1]:\n",
    "                l[j], l[j+1] = l[j+1], l[j]"
   ]
  },
  {
   "cell_type": "markdown",
   "id": "6d350ed1-7be6-47af-8c79-40e87a61694a",
   "metadata": {},
   "source": [
    "Ниже приведён пример хорошего комментирования кода, есть один комментарий, который обращает внимание читателя на неочевидный момент. Возможно, читатель не знает, что в питоне можно вот таким образом менять местами значения переменных, остальной код вполне можно понять"
   ]
  },
  {
   "cell_type": "code",
   "execution_count": 60,
   "id": "e31763a7-691d-43e5-9636-3cc5136edda0",
   "metadata": {},
   "outputs": [],
   "source": [
    "def bubble_sort(arr):\n",
    "    n = len(arr)\n",
    "    for i in range(n):\n",
    "        for j in range(0, n-i-1):\n",
    "            if arr[j] > arr[j+1]:\n",
    "                arr[j], arr[j+1] = arr[j+1], arr[j]   # Swap elements"
   ]
  },
  {
   "cell_type": "markdown",
   "id": "2a894963-8d94-4a4b-947f-af8fe48ef201",
   "metadata": {},
   "source": [
    "## Документация для функций/модулей/классов"
   ]
  },
  {
   "cell_type": "markdown",
   "id": "02af57f1-3b6a-4bf6-b5a8-45568c4078d5",
   "metadata": {},
   "source": [
    "### Докстроки"
   ]
  },
  {
   "cell_type": "markdown",
   "id": "99cb916d-7afe-4285-bba5-4506ef59f2d5",
   "metadata": {},
   "source": [
    "Для документации перечисленных сущностей в питоне используются **докстроки (docstrings)**, которые создаются при помощи трёх кавычек `\"\"\"\"`"
   ]
  },
  {
   "cell_type": "code",
   "execution_count": 66,
   "id": "9d44afeb-7040-4f81-b799-d64cd99ef4d1",
   "metadata": {},
   "outputs": [],
   "source": [
    "class MyClass:\n",
    "    \"\"\"My class that does very important work\"\"\"\n",
    "    \n",
    "def myfunc():\n",
    "    \"\"\"My function that does very important work\"\"\""
   ]
  },
  {
   "cell_type": "markdown",
   "id": "32482b5a-ba30-4514-9ca9-93273e64252d",
   "metadata": {},
   "source": [
    "Для корректной документации докстроки нужно размещать сразу после сигнатуры функции/класса или наверху модуля"
   ]
  },
  {
   "cell_type": "markdown",
   "id": "e79499c8-46f1-4ab5-bf13-0349957013f0",
   "metadata": {},
   "source": [
    "Такие строки интегрированы в питон и умеют работать с IDE"
   ]
  },
  {
   "cell_type": "markdown",
   "id": "815944aa-fecb-4a8a-bd04-86e2ecebbe81",
   "metadata": {},
   "source": [
    "Описание вашей функции из докстроки будет отображаться при вызове функции `help`"
   ]
  },
  {
   "cell_type": "code",
   "execution_count": 63,
   "id": "3394e10d-723d-4462-b3c9-accb4fd7bef3",
   "metadata": {},
   "outputs": [
    {
     "name": "stdout",
     "output_type": "stream",
     "text": [
      "Help on class MyClass in module __main__:\n",
      "\n",
      "class MyClass(builtins.object)\n",
      " |  My class that does very important work\n",
      " |  \n",
      " |  Data descriptors defined here:\n",
      " |  \n",
      " |  __dict__\n",
      " |      dictionary for instance variables (if defined)\n",
      " |  \n",
      " |  __weakref__\n",
      " |      list of weak references to the object (if defined)\n",
      "\n"
     ]
    }
   ],
   "source": [
    "help(MyClass)"
   ]
  },
  {
   "cell_type": "code",
   "execution_count": 64,
   "id": "97ec9cec-2b2c-44e5-bc49-8486d38db965",
   "metadata": {},
   "outputs": [
    {
     "name": "stdout",
     "output_type": "stream",
     "text": [
      "Help on function myfunc in module __main__:\n",
      "\n",
      "myfunc()\n",
      "    My function that does very important work\n",
      "\n"
     ]
    }
   ],
   "source": [
    "help(myfunc)"
   ]
  },
  {
   "cell_type": "markdown",
   "id": "ba8af7ba-82e5-47f4-a729-7ab4a383e490",
   "metadata": {},
   "source": [
    "Также докстроку в \"сыром\" виде можно получить при помощи дандер атрибута `__doc__`"
   ]
  },
  {
   "cell_type": "code",
   "execution_count": 67,
   "id": "27eef6d7-6a61-48f2-9216-210d69e61f24",
   "metadata": {},
   "outputs": [
    {
     "data": {
      "text/plain": [
       "'My class that does very important work'"
      ]
     },
     "execution_count": 67,
     "metadata": {},
     "output_type": "execute_result"
    }
   ],
   "source": [
    "MyClass.__doc__"
   ]
  },
  {
   "cell_type": "markdown",
   "id": "853ba06e-1f73-4343-b7d4-049e36ba110e",
   "metadata": {},
   "source": [
    "### Что нужно писать в докстроках?"
   ]
  },
  {
   "cell_type": "markdown",
   "id": "a2b0af68-ce0a-4307-847d-b57cddaf0360",
   "metadata": {},
   "source": [
    "Докстроки должны понятным языком описывать то, что делает ваши функция/класс/модуль. Писать там можно что угодно, но, как обычно, в питоне существуют некоторые [рекомедации и конвенции](https://peps.python.org/pep-0257/), обязательно прочитайте про это. Тем не менее эти рекомендации не очень строгие и вы можете писать то, то вам хочется, но это должно быть полезно, а не быть просто бувами ради букв.\n",
    "\n",
    "В докстроках, как правило, следует отразить следующее:\n",
    "1. Сделать одну первую строку, коротко описывающую то, что делает функция\n",
    "2. Сделать дополнительные разъяснения по аргументам и возвращаемым значениям\n",
    "    + Что аргумент из себя представляет\n",
    "    + Какого типа может быть аргумент (не обязательно писать, если вы сделали аннотацию типов)\n",
    "    + Опциональный или обязательный\n",
    "    + Значение по-умолчанию (особенно полезно в случаях, когда дефолтное значение устанавливается неявно уже внутри функции, например, когда мы делаем аргумент по-умолчанию равным `None`, но в ходе выполнения функции меняем `None` на пустой список, так как делать изменяемые значения по-умолчанию это плохо)\n",
    "3. Примеры использования функции/класса\n",
    "\n",
    "\n",
    "Ниже приведён пример неплохой докстроки со всеми перечисленными особенностями"
   ]
  },
  {
   "cell_type": "code",
   "execution_count": 68,
   "id": "0a1da9a4-aa0a-45d2-8e8e-6507585c4ccb",
   "metadata": {},
   "outputs": [],
   "source": [
    "import os\n",
    "\n",
    "\n",
    "def create_directory_structure(base_directory, subdirectories=None, file_extensions=None, create_files=False):\n",
    "    \"\"\"\n",
    "    Creates a directory structure with optional files in a given base directory.\n",
    "\n",
    "    Parameters\n",
    "    ----------\n",
    "    base_directory : str\n",
    "        The path of the base directory where the subdirectories should be created.\n",
    "    subdirectories : list of str, optional\n",
    "        A list of subdirectory names to be created within the base directory. Default is None.\n",
    "    file_extensions : list of str, keyword-only argument, optional\n",
    "        A list of file extensions for the files to be created within each subdirectory. Default is None.\n",
    "    create_files : bool, keyword-only argument, optional\n",
    "        Indicates whether files should be created within each subdirectory. Default is False.\n",
    "\n",
    "    Returns\n",
    "    -------\n",
    "    bool\n",
    "        True if the directory structure is created successfully, False otherwise.\n",
    "\n",
    "    Example\n",
    "    -------\n",
    "    >>> success = create_directory_structure('project', ['src', 'data'], file_extensions=['.txt', '.csv'], create_files=True)\n",
    "    >>> print(success)\n",
    "    True\n",
    "    \"\"\"\n",
    "    if subdirectories is None:\n",
    "        subdirectories = []\n",
    "\n",
    "    if file_extensions is None:\n",
    "        file_extensions = []\n",
    "\n",
    "    try:\n",
    "        os.makedirs(base_directory, exist_ok=True)\n",
    "        for subdir in subdirectories:\n",
    "            subdir_path = os.path.join(base_directory, subdir)\n",
    "            os.makedirs(subdir_path, exist_ok=True)\n",
    "\n",
    "            if create_files:\n",
    "                for ext in file_extensions:\n",
    "                    file_path = os.path.join(subdir_path, f\"{subdir}{ext}\")\n",
    "                    with open(file_path, 'w') as f:\n",
    "                        f.write(\"\")\n",
    "\n",
    "        return True\n",
    "    except Exception as e:\n",
    "        print(f\"Error creating directory structure: {e}\")\n",
    "        return False"
   ]
  },
  {
   "cell_type": "markdown",
   "id": "14a3dd51-f20e-43e0-a619-752dbfcedddc",
   "metadata": {},
   "source": [
    "### Как форматировать докстроки?"
   ]
  },
  {
   "cell_type": "markdown",
   "id": "f9c15de4-5ed7-41ef-b009-894975f86b24",
   "metadata": {},
   "source": [
    "В целом, допустим произвольный формат записи докстрок, главное то, чтобы она была читаема. Тем не менее существует много устоявшихся **стилей (форматов)** записи докстрок. По своей сути они предствляют из себя определённые правила по которым можете форматировать ваши строки, такой подход имеет некоторый преимущества:\n",
    "1. **Согласованность**. Если все ваши функции и классы будут задокументированы в едином стиле, то восприятие вашего кода сильно улучшится\n",
    "2. **Читабельность**. Стили докстрок специально созданны для того, чтобы хорошо считываться визуально, их банально проще читать, чем кастомное форматирование\n",
    "3. **Поддержка инструментов**. Разные IDE и программы умеют парсить определённые форматы докстрок и представлять их в ещё более удобном виде.\n",
    "4. **Сотрудничество**. Работая в команде или внося свой вклад в проекты с открытым исходным кодом, соблюдение установленных стилей докстрок помогает поддерживать согласованный и профессиональный вид кодовой базы."
   ]
  },
  {
   "cell_type": "markdown",
   "id": "7c54bbfc-ae20-4d4e-bed9-5d77ffa0a8db",
   "metadata": {},
   "source": [
    "### Форматы докстрок\n",
    "\n",
    "Различных стилей докстрок бывает очень много, среди самых популярных можно выделить:\n",
    "1. **reStructuredText (reST):**\n",
    "    ```python\n",
    "    def add(a, b):\n",
    "        \"\"\"\n",
    "        Return the sum of a and b.\n",
    "\n",
    "        :param a: First input value.\n",
    "        :type a: int or float\n",
    "        :param b: Second input value.\n",
    "        :type b: int or float\n",
    "        :return: The sum of a and b.\n",
    "        :rtype: int or float\n",
    "        \"\"\"\n",
    "    ```\n",
    "2. **Google:**\n",
    "    ```python\n",
    "    def add(a, b):\n",
    "        \"\"\"\n",
    "        Return the sum of a and b.\n",
    "\n",
    "        Args:\n",
    "            a (int or float): First input value.\n",
    "            b (int or float): Second input value.\n",
    "\n",
    "        Returns:\n",
    "            int or float: The sum of a and b.\n",
    "        \"\"\"\n",
    "    ```\n",
    "3. **NumPy/SciPy:**\n",
    "    ```python\n",
    "    def add(a, b):\n",
    "        \"\"\"\n",
    "        Return the sum of a and b.\n",
    "\n",
    "        Parameters\n",
    "        ----------\n",
    "        a : int or float\n",
    "            First input value.\n",
    "        b : int or float\n",
    "            Second input value.\n",
    "\n",
    "        Returns\n",
    "        -------\n",
    "        int or float\n",
    "            The sum of a and b.\n",
    "    \"\"\"\n",
    "\n",
    "    ```\n",
    "4. **Epytext:**\n",
    "    ```python\n",
    "    def add(a, b):\n",
    "        \"\"\"\n",
    "        Return the sum of a and b.\n",
    "\n",
    "        @param a: First input value.\n",
    "        @type a: int or float\n",
    "        @param b: Second input value.\n",
    "        @type b: int or float\n",
    "        @return: The sum of a and b.\n",
    "        @rtype: int or float\n",
    "        \"\"\"\n",
    "    ```"
   ]
  },
  {
   "cell_type": "markdown",
   "id": "e0f121f2-01f7-47f8-ad23-60ddb0d28d8c",
   "metadata": {},
   "source": [
    "Внутри разных библиотек и команд разработчиков могут быть свои отдельные стили документаций.\n",
    "\n",
    "Хотя никто не запрещает вам писать документацию так, как вам больше нравится, я всё-таки советую выбрать один из популярных стилей и стараться всё время писать в нём, так, ваш код станет сильно лучше"
   ]
  },
  {
   "cell_type": "markdown",
   "id": "de646d88-35ce-4532-8d43-7fc9490faac1",
   "metadata": {},
   "source": [
    "### Как писать докстроки?"
   ]
  },
  {
   "attachments": {},
   "cell_type": "markdown",
   "id": "c5c2433e-8e9f-4155-94f1-6c999683bb59",
   "metadata": {},
   "source": [
    "К счастью мы живём в 21 веке и сейчас уже необязательно самостоятельно заниматься такой душной работой как написание докстрок. Есть сервисы/плагины для IDE, который могут генерировать как полностью готовые докстроки, так и предоставлять шаблоны, сильно облегчая работу. Например можно воспользоваться ChatGPT для написания докстроки для данной функции, но обязательно проверив результат и внеся необходимые поправки вручную\n",
    "\n",
    "```python\n",
    "def weighted_moving_average(data, weights):\n",
    "    if not (isinstance(data, list) and isinstance(weights, list)):\n",
    "        raise TypeError(\"Both 'data' and 'weights' should be lists.\")\n",
    "    \n",
    "    if not (all(isinstance(x, (int, float)) for x in data) and all(isinstance(x, (int, float)) for x in weights)):\n",
    "        raise TypeError(\"Both 'data' and 'weights' lists should contain only integers or floats.\")\n",
    "\n",
    "    if len(weights) > len(data):\n",
    "        raise ValueError(\"'weights' list should be shorter or equal in length to the 'data' list.\")\n",
    "\n",
    "    wma = []\n",
    "    n = len(weights)\n",
    "    denominator = sum(weights)\n",
    "\n",
    "    for i in range(len(data) - n + 1):\n",
    "        numerator = sum(data[i+j] * weights[j] for j in range(n))\n",
    "        wma.append(numerator / denominator)\n",
    "\n",
    "    return wma\n",
    "\n",
    "```\n",
    "\n",
    "![image.png](attachment:6210eafd-b90d-435f-ae1b-906ffcc9a4b9.png)"
   ]
  },
  {
   "cell_type": "markdown",
   "id": "214b3130-0177-4e0b-b3e6-a50a15698fb3",
   "metadata": {},
   "source": [
    "# Полезные ссылки"
   ]
  },
  {
   "cell_type": "markdown",
   "id": "6cb0755c-ff7d-499c-9e1d-a6a1b48521c4",
   "metadata": {},
   "source": [
    "+ [Документация модуя `typing`](https://docs.python.org/3/library/typing.html). Ищем здесь нужные типы"
   ]
  }
 ],
 "metadata": {
  "kernelspec": {
   "display_name": "Python 3 (ipykernel)",
   "language": "python",
   "name": "python3"
  },
  "language_info": {
   "codemirror_mode": {
    "name": "ipython",
    "version": 3
   },
   "file_extension": ".py",
   "mimetype": "text/x-python",
   "name": "python",
   "nbconvert_exporter": "python",
   "pygments_lexer": "ipython3",
   "version": "3.9.15"
  }
 },
 "nbformat": 4,
 "nbformat_minor": 5
}
