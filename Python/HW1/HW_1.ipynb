{
 "cells": [
  {
   "cell_type": "markdown",
   "id": "7c5a538f-2dbe-445c-9f46-cf0dc18867e4",
   "metadata": {},
   "source": [
    "# Задание 1 (5 баллов)"
   ]
  },
  {
   "cell_type": "markdown",
   "id": "1e8cc3b0-6f60-40da-8058-30d9eb434daf",
   "metadata": {},
   "source": [
    "Напишите классы **Chat**, **Message** и **User**. Они должны соответствовать следующим требованиям:\n",
    "\n",
    "**Chat**:\n",
    "+ Должен иметь атрибут `chat_history`, где будут храниться все сообщения (`Message`) в обратном хронологическом порядке (сначала новые, затем старые)\n",
    "+ Должен иметь метод `show_last_message`, выводящий на экран информацию о последнем сообщении\n",
    "+ Должен иметь метод `get_history_from_time_period`, который принимает два опциональных аргумента (даты с которой и по какую мы ищем сообщения и выдаём их). Метод также должен возвращать объект типа `Chat`\n",
    "+ Должен иметь метод `show_chat`, выводящий на экран все сообщения (каждое сообщение в таком же виде как и `show_last_message`, но с разделителем между ними)\n",
    "+ Должен иметь метод `recieve`, который будет принимать сообщение и добавлять его в чат\n",
    "\n",
    "**Message**:\n",
    "+ Должен иметь три обязательных атрибута\n",
    "    + `text` - текст сообщения\n",
    "    + `datetime` - дата и время сообщения (встроенный модуль datetime вам в помощь). Важно! Это должна быть не дата создания сообщения, а дата его попадания в чат! \n",
    "    + `user` - информация о пользователе, который оставил сообщение (какой тип данных использовать здесь, разберётесь сами)\n",
    "+ Должен иметь метод `show`, который печатает или возвращает информацию о сообщении с необходимой информацией (дата, время, юзер, текст)\n",
    "+ Должен иметь метод `send`, который будет отправлять сообщение в чат\n",
    "\n",
    "**User**:\n",
    "+ Класс с информацией о юзере, наполнение для этого класса придумайте сами\n",
    "\n",
    "Напишите несколько примеров использования кода, которое показывает взаимодействие между объектами.\n",
    "\n",
    "В тексте задания намерено не указано, какие аргументы должны принимать методы, пускай вам в этом поможет здравый смысл)\n",
    "\n",
    "В этом задании не стоит флексить всякими продвинутыми штуками, для этого есть последующие\n",
    "\n",
    "В этом задании можно использовать только модуль `datetime`"
   ]
  },
  {
   "cell_type": "code",
   "execution_count": 22,
   "id": "d14ce6ca-7294-492c-8a01-3f7547680474",
   "metadata": {},
   "outputs": [],
   "source": [
    "import datetime\n",
    "\n",
    "class Chat:\n",
    "    def __init__(self, name:str, chat_history=None, ban_list=None):\n",
    "        if chat_history == None:\n",
    "            self.chat_history = []\n",
    "        \n",
    "        else:\n",
    "            self.chat_history = chat_history\n",
    "            \n",
    "        if ban_list == None:\n",
    "            self.ban_list = []\n",
    "            \n",
    "        else:\n",
    "            self.ban_list = ban_list\n",
    "            \n",
    "        self.name = name\n",
    "\n",
    "\n",
    "    def show_last_message(self):\n",
    "        print(self.name)\n",
    "        self.chat_history[0].show()\n",
    "    \n",
    "    def get_history_from_time_period(self, time_start, time_stop):\n",
    "        return Chat(list(filter(lambda x: x.datetime > time_start and x.datetime <= time_stop, self.chat_history)))\n",
    "        # Dany kinda forgot about performance\n",
    "    \n",
    "    def show_chat(self):\n",
    "        print(\"\\n\".join([m.get() for m in self.chat_history]))\n",
    "        \n",
    "    def receive(self, message):\n",
    "        if message.user not in self.ban_list or message.user.is_elon: # Make freedom of speech great again\n",
    "            message.datetime = datetime.datetime.now()\n",
    "            self.chat_history = [message] + self.chat_history\n",
    "            self.show_last_message()\n",
    "        \n",
    "    def ban(self, user):\n",
    "        self.ban_list.append(user)\n",
    "        print(f\"User was banned: {user.username}\")\n",
    "\n",
    "\n",
    "class Message:\n",
    "    def __init__(self, text=None, datetime=None, user=None):\n",
    "        self.text = text\n",
    "        self.datetime = datetime\n",
    "        self.user = user\n",
    "    \n",
    "    @property\n",
    "    def message(self):\n",
    "        return self.text + \" | Sent at: \" + str(self.datetime) + \" By: \" + str(self.user)\n",
    "        \n",
    "    def show(self):\n",
    "        print(self.message)\n",
    "        \n",
    "    def get(self):\n",
    "        return self.message\n",
    "        \n",
    "    def send(self, chat):\n",
    "        chat.receive(self)\n",
    "\n",
    "\n",
    "class User:\n",
    "    def __init__(self, username: str):\n",
    "        self.username = username\n",
    "        self.is_elon = False\n",
    "        \n",
    "    def __repr__(self):\n",
    "        return self.username\n",
    "    \n",
    "    def he_is_the_one(self):\n",
    "        self.is_elon = True\n",
    "        \n",
    "    def send(self, text, chat):\n",
    "        message = Message(text=text, user=self)\n",
    "        message.send(chat)\n",
    "        \n",
    "    "
   ]
  },
  {
   "cell_type": "code",
   "execution_count": 37,
   "id": "7ffe3183",
   "metadata": {},
   "outputs": [
    {
     "name": "stdout",
     "output_type": "stream",
     "text": [
      "Twitter\n",
      "Sample text | Sent at: 2023-05-02 19:38:24.846125 By: elonmuskkk\n",
      "Twitter\n",
      "Hello there! | Sent at: 2023-05-02 19:38:24.847434 By: elonmuskkk\n",
      "Twitter\n",
      "General Kenobi! | Sent at: 2023-05-02 19:38:25.849264 By: K1NGsl@y\n",
      "Twitter\n",
      "Hi! | Sent at: 2023-05-02 19:38:26.851014 By: Alice\n",
      "User was banned: Alice\n",
      "User was banned: elonmuskkk\n",
      "Twitter\n",
      "How dare you | Sent at: 2023-05-02 19:38:26.851550 By: elonmuskkk\n",
      "Last message:\n",
      "\n",
      "Twitter\n",
      "How dare you | Sent at: 2023-05-02 19:38:26.851550 By: elonmuskkk\n",
      "\n",
      "\n",
      "Chat log: \n",
      "\n",
      "How dare you | Sent at: 2023-05-02 19:38:26.851550 By: elonmuskkk\n",
      "Hi! | Sent at: 2023-05-02 19:38:26.851014 By: Alice\n",
      "General Kenobi! | Sent at: 2023-05-02 19:38:25.849264 By: K1NGsl@y\n",
      "Hello there! | Sent at: 2023-05-02 19:38:24.847434 By: elonmuskkk\n",
      "Sample text | Sent at: 2023-05-02 19:38:24.846125 By: elonmuskkk\n",
      "\n",
      "\n",
      "<__main__.Chat object at 0x7fe75c94f2b0>\n"
     ]
    }
   ],
   "source": [
    "import time\n",
    "twitter = Chat('Twitter')\n",
    "elon = User('elonmuskkk')\n",
    "alice = User('K1NGsl@y')\n",
    "bob = User('Alice')\n",
    "\n",
    "\n",
    "elon.send(\"Sample text\", twitter)\n",
    "elon.send(\"Hello there!\", twitter)\n",
    "time.sleep(1)\n",
    "alice.send(\"General Kenobi!\", twitter)\n",
    "time.sleep(1)\n",
    "bob.send(\"Hi!\", twitter)\n",
    "twitter.ban(bob)\n",
    "twitter.ban(elon)\n",
    "elon.send(\"Strange, I can't hear Alice anymore\", twitter)\n",
    "elon.he_is_the_one()\n",
    "elon.send(\"How dare you\", twitter)\n",
    "print(\"Last message:\\n\")\n",
    "twitter.show_last_message()\n",
    "print('\\n')\n",
    "print(\"Chat log: \\n\")\n",
    "twitter.show_chat()\n",
    "print('\\n')\n",
    "print(twitter.get_history_from_time_period(datetime.datetime.now()-datetime.timedelta(minutes=1), datetime.datetime.now()))"
   ]
  },
  {
   "cell_type": "markdown",
   "id": "a59aa1b3-4c93-480e-a09f-e57df34eb60a",
   "metadata": {},
   "source": [
    "\n",
    "# Задание 2 (3 балла)\n"
   ]
  },
  {
   "cell_type": "markdown",
   "id": "ab07eb69-877f-4c38-8c7d-88beae20071b",
   "metadata": {},
   "source": [
    "В питоне как-то слишком типично и неинтересно происходят вызовы функций. Напишите класс `Args`, который будет хранить в себе аргументы, а функции можно будет вызывать при помощи следующего синтаксиса.\n",
    "\n",
    "Использовать любые модули **нельзя**, да и вряд-ли это как-то поможет)"
   ]
  },
  {
   "cell_type": "code",
   "execution_count": 38,
   "id": "d73d6b31-c15a-4ae6-ad9b-b3fdab88efed",
   "metadata": {},
   "outputs": [],
   "source": [
    "class Args:\n",
    "    def __init__(self, *args, **kwargs):\n",
    "        self.args = args\n",
    "        self.kwargs = kwargs\n",
    "        \n",
    "    def __rlshift__(self, other):\n",
    "        return other(*self.args, **self.kwargs)\n"
   ]
  },
  {
   "cell_type": "code",
   "execution_count": 42,
   "id": "6d633e79",
   "metadata": {},
   "outputs": [
    {
     "data": {
      "text/plain": [
       "3"
      ]
     },
     "execution_count": 42,
     "metadata": {},
     "output_type": "execute_result"
    }
   ],
   "source": [
    "sum << Args([1, 2])"
   ]
  },
  {
   "cell_type": "code",
   "execution_count": 43,
   "id": "55afedbb-4725-4078-bd98-bf803be0bf93",
   "metadata": {},
   "outputs": [
    {
     "data": {
      "text/plain": [
       "3"
      ]
     },
     "execution_count": 43,
     "metadata": {},
     "output_type": "execute_result"
    }
   ],
   "source": [
    "sum << Args([1, 2])"
   ]
  },
  {
   "cell_type": "code",
   "execution_count": 44,
   "id": "c37f0728-9bdc-469e-a5b8-3ab5aa43a731",
   "metadata": {},
   "outputs": [
    {
     "data": {
      "text/plain": [
       "53"
      ]
     },
     "execution_count": 44,
     "metadata": {},
     "output_type": "execute_result"
    }
   ],
   "source": [
    "(lambda a, b, c: a**2 + b + c) << Args(1, 2, c=50)"
   ]
  },
  {
   "cell_type": "markdown",
   "id": "d6915eaf-92fe-460b-bf9b-06ccf55b093f",
   "metadata": {},
   "source": [
    "# Задание 3 (5 баллов)"
   ]
  },
  {
   "cell_type": "markdown",
   "id": "5a588ef8-8af6-42b6-972b-3c716a604c34",
   "metadata": {},
   "source": [
    "Сделайте класс наследник `float`. Он должен вести себя как `float`, но также должен обладать некоторыми особенностями:\n",
    "+ При получении атрибутов формата `<действие>_<число>` мы получаем результат такого действия над нашим числом\n",
    "+ Создавать данные атрибуты в явном виде, очевидно, не стоит\n",
    "\n",
    "Подсказка: если в процессе гуглёжки, вы выйдете на такую тему как **\"Дескрипторы\", то это НЕ то, что вам сейчас нужно**\n",
    "\n",
    "Примеры использования ниже"
   ]
  },
  {
   "cell_type": "code",
   "execution_count": 177,
   "id": "61cb63a2-90ac-4b79-97a5-bb0496262e32",
   "metadata": {},
   "outputs": [],
   "source": [
    "class StrangeFloat(float):\n",
    "    \n",
    "    def __divide__(self, arg1: [StrangeFloat, float], arg2: [StrangeFloat, float]) -> StrangeFloat:\n",
    "        return StrangeFloat(arg1/arg2)\n",
    "    \n",
    "    def __multiply__(self, arg1: [StrangeFloat, float], arg2: [StrangeFloat, float]) -> StrangeFloat:\n",
    "        return StrangeFloat(arg1*arg2)\n",
    "    \n",
    "    def __subtract__(self, arg1: [StrangeFloat, float], arg2: [StrangeFloat, float]) -> StrangeFloat:\n",
    "        return StrangeFloat(arg1 - arg2)\n",
    "    \n",
    "    def __getattr__(self, name):\n",
    "        func_name, arg = name.split('_')\n",
    "        func_name = '__'+func_name+'__' # There is an implicit conditional loop that stumbles upon a problem here\n",
    "        try:\n",
    "            func = getattr(float, func_name)\n",
    "            \n",
    "        except AttributeError:\n",
    "            try:\n",
    "                func = getattr(self, func_name)\n",
    "            except ValueError: # This is the strangest loop I've ever encountered (hello, Hofstadter)\n",
    "                               # Guess what happens when this try-except is not present\n",
    "                print(\"The __method__ is not defined, neither in float, nor in StrangeFloat!\")\n",
    "                return \"ERROR\"\n",
    "            \n",
    "            \n",
    "        return StrangeFloat(func(self, float(arg)))\n",
    "                    \n",
    "    "
   ]
  },
  {
   "cell_type": "code",
   "execution_count": 170,
   "id": "f730c9c0-7d90-4037-97c6-e926dcbc1ea3",
   "metadata": {},
   "outputs": [],
   "source": [
    "number = StrangeFloat(3.5)"
   ]
  },
  {
   "cell_type": "code",
   "execution_count": 171,
   "id": "f009d43f",
   "metadata": {},
   "outputs": [
    {
     "data": {
      "text/plain": [
       "17.5"
      ]
     },
     "execution_count": 171,
     "metadata": {},
     "output_type": "execute_result"
    }
   ],
   "source": [
    "number.multiply_5"
   ]
  },
  {
   "cell_type": "code",
   "execution_count": 172,
   "id": "b2756368-a489-486d-a0f1-244697f8503c",
   "metadata": {},
   "outputs": [
    {
     "data": {
      "text/plain": [
       "4.5"
      ]
     },
     "execution_count": 172,
     "metadata": {},
     "output_type": "execute_result"
    }
   ],
   "source": [
    "number.add_1"
   ]
  },
  {
   "cell_type": "code",
   "execution_count": 173,
   "id": "c6799592-3cb6-4c7d-af62-9c0a48a76c1d",
   "metadata": {},
   "outputs": [
    {
     "data": {
      "text/plain": [
       "-16.5"
      ]
     },
     "execution_count": 173,
     "metadata": {},
     "output_type": "execute_result"
    }
   ],
   "source": [
    "number.subtract_20"
   ]
  },
  {
   "cell_type": "code",
   "execution_count": 174,
   "id": "130027b5-017a-4c70-b072-1fdc6acf670f",
   "metadata": {},
   "outputs": [
    {
     "data": {
      "text/plain": [
       "17.5"
      ]
     },
     "execution_count": 174,
     "metadata": {},
     "output_type": "execute_result"
    }
   ],
   "source": [
    "number.multiply_5"
   ]
  },
  {
   "cell_type": "code",
   "execution_count": 175,
   "id": "2b901e5c-5a51-4788-b15b-9b20a074e1a4",
   "metadata": {},
   "outputs": [
    {
     "name": "stdout",
     "output_type": "stream",
     "text": [
      "The __method__ is not defined, neither in float, nor in StrangeFloat!\n"
     ]
    },
    {
     "data": {
      "text/plain": [
       "'ERROR'"
      ]
     },
     "execution_count": 175,
     "metadata": {},
     "output_type": "execute_result"
    }
   ],
   "source": [
    "number.divide_25"
   ]
  },
  {
   "cell_type": "code",
   "execution_count": 155,
   "id": "ea52c492-b0ce-4d73-8aba-a0ea51ed0b60",
   "metadata": {},
   "outputs": [
    {
     "data": {
      "text/plain": [
       "-4.125"
      ]
     },
     "execution_count": 155,
     "metadata": {},
     "output_type": "execute_result"
    }
   ],
   "source": [
    "number.add_1.add_2.multiply_6.divide_8.subtract_9"
   ]
  },
  {
   "cell_type": "code",
   "execution_count": 146,
   "id": "e26ef411-a5df-46c7-bb9d-e77a1fad3cec",
   "metadata": {},
   "outputs": [
    {
     "data": {
      "text/plain": [
       "1.0"
      ]
     },
     "execution_count": 146,
     "metadata": {},
     "output_type": "execute_result"
    }
   ],
   "source": [
    "getattr(number, \"add_-2.5\")   # Используем getattr, так как не можем написать number.add_-2.5 - это SyntaxError"
   ]
  },
  {
   "cell_type": "code",
   "execution_count": 178,
   "id": "7a57bb29-1105-4df1-a4c4-5fbf62eef11d",
   "metadata": {},
   "outputs": [
    {
     "data": {
      "text/plain": [
       "11.5"
      ]
     },
     "execution_count": 178,
     "metadata": {},
     "output_type": "execute_result"
    }
   ],
   "source": [
    "number + 8   # Стандартные для float операции работают также"
   ]
  },
  {
   "cell_type": "code",
   "execution_count": 180,
   "id": "f0246b31-c55a-4bb8-ac15-46509bd8b340",
   "metadata": {},
   "outputs": [
    {
     "data": {
      "text/plain": [
       "(7, 2)"
      ]
     },
     "execution_count": 180,
     "metadata": {},
     "output_type": "execute_result"
    }
   ],
   "source": [
    "number.as_integer_ratio()   # Стандартные для float операции работают также  (это встроенный метод float, писать его НЕ НАДО)"
   ]
  },
  {
   "cell_type": "markdown",
   "id": "3635bceb-723c-4b2f-82e3-269bd914c46c",
   "metadata": {},
   "source": [
    "# Задание 4 (3 балла)"
   ]
  },
  {
   "cell_type": "markdown",
   "id": "31d35f82-1e20-4bf5-b896-7b8163f8386f",
   "metadata": {},
   "source": [
    "В данном задании мы немного отдохнём и повеселимся. От вас требуется заменить в данном коде максимально возможное количество синтаксических конструкций на вызовы dunder методов, dunder атрибутов и dunder переменных.\n",
    "\n",
    "Маленькая заметка: полностью всё заменить невозможно. Например, `function()` можно записать как `function.__call__()`, но при этом мы всё ещё не избавляемся от скобочек, так что можно делать так до бесконечности `function.__call__.__call__.__call__.__call__.....__call__()` и при всём при этом мы ещё не избавляемся от `.` для доступа к атрибутам. В общем, замените всё, что получится, не закапываясь в повторы, как в приведённом примере. Чем больше разных методов вы найдёте и используете, тем лучше и тем выше будет балл\n",
    "\n",
    "Код по итогу дожен работать и печатать число **4420.0**, как в примере. Структуру кода менять нельзя, просто изменяем конструкции на синонимичные\n",
    "\n",
    "И ещё маленькая подсказка. Заменить здесь можно всё кроме:\n",
    "+ Конструкции `for ... in ...`:\n",
    "+ Синтаксиса создания лямбда функции\n",
    "+ Оператора присваивания `=`\n",
    "+ Конструкции `if-else`"
   ]
  },
  {
   "cell_type": "code",
   "execution_count": 213,
   "id": "a87cff2a-7168-470d-b38f-1cb5a60ac0c4",
   "metadata": {},
   "outputs": [
    {
     "name": "stdout",
     "output_type": "stream",
     "text": [
      "4420.0\n"
     ]
    }
   ],
   "source": [
    "import numpy as np\n",
    "\n",
    "\n",
    "matrix = list()\n",
    "for idx in range(0, 100, 10):\n",
    "    matrix.__iadd__([list(range(idx, idx + 10))])\n",
    "    \n",
    "selected_columns_indices = list(filter(lambda x: x in range(1, 5, 2), range(matrix.__len__())))\n",
    "selected_columns = map(lambda x: [x.__getitem__(col) for col in selected_columns_indices], matrix)\n",
    "\n",
    "arr = np.array(list(selected_columns))\n",
    "\n",
    "mask = (arr[:, 1] % 3).__eq__(0)\n",
    "new_arr = arr.__getitem__(mask)\n",
    "\n",
    "product = new_arr @ new_arr.T\n",
    "\n",
    "if (product.__getitem__(0) < 1000).all() and (product.__getitem__(2) > 1000).any():\n",
    "    print(product.mean())"
   ]
  },
  {
   "cell_type": "code",
   "execution_count": 214,
   "id": "7b98fefb",
   "metadata": {},
   "outputs": [
    {
     "data": {
      "text/plain": [
       "['__bool__',\n",
       " '__class__',\n",
       " '__contains__',\n",
       " '__delattr__',\n",
       " '__dir__',\n",
       " '__doc__',\n",
       " '__eq__',\n",
       " '__format__',\n",
       " '__ge__',\n",
       " '__getattribute__',\n",
       " '__getitem__',\n",
       " '__gt__',\n",
       " '__hash__',\n",
       " '__init__',\n",
       " '__init_subclass__',\n",
       " '__iter__',\n",
       " '__le__',\n",
       " '__len__',\n",
       " '__lt__',\n",
       " '__ne__',\n",
       " '__new__',\n",
       " '__reduce__',\n",
       " '__reduce_ex__',\n",
       " '__repr__',\n",
       " '__reversed__',\n",
       " '__setattr__',\n",
       " '__sizeof__',\n",
       " '__str__',\n",
       " '__subclasshook__',\n",
       " 'count',\n",
       " 'index',\n",
       " 'start',\n",
       " 'step',\n",
       " 'stop']"
      ]
     },
     "execution_count": 214,
     "metadata": {},
     "output_type": "execute_result"
    }
   ],
   "source": [
    "dir(range)"
   ]
  },
  {
   "cell_type": "code",
   "execution_count": null,
   "id": "9e29cc00-c8db-4cc4-a93b-2908352d9344",
   "metadata": {},
   "outputs": [],
   "source": [
    "# Ваш код здесь\n",
    "# На самом деле мой код наверху"
   ]
  },
  {
   "cell_type": "markdown",
   "id": "e90e5938-cabe-4ee1-9a88-73f25b3b67c3",
   "metadata": {},
   "source": [
    "# Задание 5 (10 баллов)"
   ]
  },
  {
   "cell_type": "markdown",
   "id": "0e58f6a8-7bb8-45f0-b14d-3bcd1f1ba5a9",
   "metadata": {},
   "source": [
    "Напишите абстрактный класс `BiologicalSequence`, который задаёт следующий интерфейс:\n",
    "+ Работа с функцией `len`\n",
    "+ Возможность получать элементы по индексу и делать срезы последовательности (аналогично строкам)\n",
    "+ Вывод на печать в удобном виде и возможность конвертации в строку\n",
    "+ Возможность проверить алфавит последовательности на корректность\n",
    "\n",
    "Напишите класс `NucleicAcidSequence`:\n",
    "+ Данный класс реализует интерфейс `BiologicalSequence`\n",
    "+ Данный класс имеет новый метод `complement`, возвращающий комплементарную последовательность\n",
    "+ Данный класс имеет новый метод `gc_content`, возвращающий GC-состав (без разницы, в процентах или в долях)\n",
    "\n",
    "Напишите классы наследники `NucleicAcidSequence`: `DNASequence` и `RNASequence`\n",
    "+ `DNASequence` должен иметь метод `transcribe`, возвращающий транскрибированную РНК-последовательность\n",
    "+ Данные классы не должны иметь <ins>публичных методов</ins> `complement` и метода для проверки алфавита, так как они уже должны быть реализованы в `NucleicAcidSequence`.\n",
    "\n",
    "Напишите класс `AminoAcidSequence`:\n",
    "+ Данный класс реализует интерфейс `BiologicalSequence`\n",
    "+ Добавьте этому классу один любой метод, подходящий по смыслу к аминокислотной последовательности. Например, метод для нахождения изоэлектрической точки, молекулярного веса и т.д.\n",
    "\n",
    "Комментарий по поводу метода `NucleicAcidSequence.complement`, так как я хочу, чтобы вы сделали его опредедённым образом:\n",
    "\n",
    "При вызове `dna.complement()` или условного `dna.check_alphabet()` должны будут вызываться соответствующие методы из `NucleicAcidSequence`. При этом, данный метод должен обладать свойством полиморфизма, иначе говоря, внутри `complement` не надо делать условия а-ля `if seuqence_type == \"DNA\": return self.complement_dna()`, это крайне не гибко. Данный метод должен опираться на какой-то общий интерфейс между ДНК и РНК. Создание экземпляров `NucleicAcidSequence` не подразумевается, поэтому код `NucleicAcidSequence(\"ATGC\").complement()` не обязан работать, а в идеале должен кидать исключение `NotImplementedError` при вызове от экземпляра `NucleicAcidSequence`\n",
    "\n",
    "Вся сложность задания в том, чтобы правильно организовать код. Если у вас есть повторяющийся код в сестринских классах или родительском и дочернем, значит вы что-то делаете не так.\n",
    "\n",
    "\n",
    "Маленькое замечание: По-хорошему, между классом `BiologicalSequence` и классами `NucleicAcidSequence` и `AminoAcidSequence`, ещё должен быть класс-прослойка, частично реализующий интерфейс `BiologicalSequence`, но его писать не обязательно, так как задание и так довольно большое (правда из-за этого у вас неминуемо возникнет повторяющийся код в классах `NucleicAcidSequence` и `AminoAcidSequence`)"
   ]
  },
  {
   "cell_type": "code",
   "execution_count": 13,
   "id": "f17d5d3f-9982-4271-a987-3af7bc071c42",
   "metadata": {},
   "outputs": [],
   "source": [
    "from abc import ABC, abstractmethod\n",
    "\n",
    "class BiologicalSequence:\n",
    "    \"\"\"\n",
    "    Methods:\n",
    "    \n",
    "    .alphabet_is_correct() - checks if the alphabet of the sequence contains\n",
    "                          only allowed symbols.\n",
    "    \n",
    "    \"\"\"\n",
    "    @abstractmethod\n",
    "    def __len__(self):\n",
    "        pass\n",
    "    \n",
    "    @abstractmethod\n",
    "    def __getitem__(self, slc):\n",
    "        pass\n",
    "    \n",
    "    @abstractmethod\n",
    "    def __repr__(self):\n",
    "        pass\n",
    "    \n",
    "    @abstractmethod\n",
    "    def alphabet_is_correct(self):\n",
    "        pass\n",
    "    \n",
    "    \n",
    "# If the instances of this class are not supposed to be created, why not\n",
    "# making it abstract as well? \n",
    "class NucleicAcidSequence(BiologicalSequence):\n",
    "    \"\"\"\n",
    "    Initialization:\n",
    "    sequence - a string of capital letters\n",
    "    ---\n",
    "    Methods:\n",
    "    \n",
    "    .alphabet_is_correct() - returns True if the sequence only contains \n",
    "                             A, C, G, T, U\n",
    "    \n",
    "    .complement() - returns complementary sequence\n",
    "    \n",
    "    .gc_content() - returns gc content of the sequnence,\n",
    "                    a number between 0 and 1\n",
    "    \n",
    "    \"\"\"\n",
    "    \n",
    "    def __init__(self, sequence: str):\n",
    "        self.sequence = sequence\n",
    "        self.alphabet = {}\n",
    "        \n",
    "    def complement(self):\n",
    "        try:\n",
    "            compl = ''.join(map(lambda c: self.alphabet[c], self.sequence))\n",
    "        except KeyError:\n",
    "            raise NotImplementedError\n",
    "            \n",
    "        return type(self)(compl) # POLYMORPHISM!!!111\n",
    "        \n",
    "    def __len__(self):\n",
    "        return len(self.sequence)\n",
    "    \n",
    "    def __getitem__(self, slc):\n",
    "        return type(self)(self.sequence[slc])\n",
    "    \n",
    "    def __repr__(self, slc):\n",
    "        print(self.sequence)\n",
    "        \n",
    "    def alphabet_is_correct(self):\n",
    "        k = self.alphabet.keys()\n",
    "        if len(k) == 0:\n",
    "            raise NotImplementedError\n",
    "        \n",
    "        if set([c for c in self.sequence]).issubset(set(k)):\n",
    "            return True\n",
    "        else:\n",
    "            return False\n",
    "        \n",
    "    def gc_content(self):\n",
    "        return len(filter(lambda x: x == 'C' or x == 'G', self.sequence))/len(self.sequence)\n",
    "    \n",
    "\n",
    "class DNASequence(NucleicAcidSequence):\n",
    "    def __init__(self, sequence):\n",
    "        super().__init__(sequence)\n",
    "        self.alphabet = {'A':'T', 'T':'A', 'C':'G', 'G':'C'}\n",
    "        \n",
    "    def transcribe(self):\n",
    "        tran_alph = {'A':'U', 'T':'A', 'C':'G', 'G':'C'}\n",
    "        return type(self)(''.join(map(lambda c: tran_alph[c], self.sequence)))\n",
    "\n",
    "    \n",
    "class RNASequence(NucleicAcidSequence):\n",
    "    def __init__(self, sequence):\n",
    "        super().__init__(sequence)\n",
    "        self.alphabet = {'A':'U', 'U':'A', 'C':'G', 'G':'C'}\n",
    "\n",
    "        \n",
    "class AminoAcidSequence(BiologicalSequence):\n",
    "    def __init__(self, sequence):\n",
    "        self.sequence = sequence\n",
    "        self.alphabet = {'ABCDEFGHIJKLMNOPQRST'} # I am to lazy to write the real AA alphabet\n",
    "        \n",
    "    def __len__(self):\n",
    "        return len(self.sequence)\n",
    "    \n",
    "    def __getitem__(self, slc):\n",
    "        return type(self)(self.sequence[slc])\n",
    "    \n",
    "    def __repr__(self):\n",
    "        print(self.sequence)\n",
    "        \n",
    "    def alphabet_is_correct(self):\n",
    "        k = set(self.alphabet)\n",
    "        if set([c for c in self.sequence]).issubset(k):\n",
    "            return True\n",
    "        else:\n",
    "            return False\n",
    "        \n",
    "        "
   ]
  }
 ],
 "metadata": {
  "kernelspec": {
   "display_name": "Python 3 (ipykernel)",
   "language": "python",
   "name": "python3"
  },
  "language_info": {
   "codemirror_mode": {
    "name": "ipython",
    "version": 3
   },
   "file_extension": ".py",
   "mimetype": "text/x-python",
   "name": "python",
   "nbconvert_exporter": "python",
   "pygments_lexer": "ipython3",
   "version": "3.9.15"
  }
 },
 "nbformat": 4,
 "nbformat_minor": 5
}
