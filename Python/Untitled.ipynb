{
 "cells": [
  {
   "cell_type": "code",
   "execution_count": 43,
   "id": "bebee4a9",
   "metadata": {},
   "outputs": [
    {
     "name": "stdout",
     "output_type": "stream",
     "text": [
      "<re.Match object; span=(0, 32), match='>sequence_1 LOL KEK CHEBUREK 12 '>\n",
      ">sequence_1 LOL KEK CHEBUREK 12 \n"
     ]
    }
   ],
   "source": [
    "import re\n",
    "\n",
    "test_fasta = '>sequence_1 LOL KEK CHEBUREK 12 \\n\\\n",
    "ATCGTTAAGCCGGTCAATGCGTCTGAAAGGCTCGTAAATGCTTGTCGGTGAACTGAAGAC\\n\\\n",
    "GAACTTGCCGGTCAGGGATAGACCTGAGCAGCCTGGCCAACGTCTGAAAGCTACGTTGGA\\n\\\n",
    "GGCTGAGCTGTCGTCCGAGACGGCTGAGGACCTGGTGAGGGTGAACTGAGGATGCTGGTG\\n\\\n",
    "GGCCAGGGGTGAACTCTTTAGGTGACGGAGTTCACTGTTTGCTGGAGGGACAGTTCAGTG\\n\\\n",
    "AGGTGGGACAGGGTGGAGGTTGCTCTTCTTACACAGTGGTGGTCCAGGTGAGTTGCTGTT\\n\\\n",
    "TGGTCTGGAGGGTCCAGGTGGGGTCTTGGTGGTGGTGGAGGTTGAGGGCTGGGTGGGCTT\\n\\\n",
    ">sequence_2\\n\\\n",
    "GTGGAGGTTGCTCTTCTTACACAGTGGTGGTCCAGGTGAGTTGCTGTTTGGTCTGGAGGG\\n\\\n",
    "TCCAGGTGGGGTCTTGGTGGTGGTGGAGGTTGAGGGCTGGGTGGGCTTGGTGAGGTTGCT\\n\\\n",
    "CTTCTTACACAGTGGTGGTCCAGGTGAGTTGCTGTTTGGTCTGGAGGGTCCAGGTGGGGT\\n\\\n",
    "CTTGGTGGTGGTGGAGGTTGAGGGCTGGGTGGGCTTGGTGAGGTTGCTCTTCTTACACAG\\n\\\n",
    "TGGTGGTCCAGGTGAGTTGCTGTTTGGTCTGGAGGGTCCAGGTGGGGTCTTGGTGGTGGT\\n\\\n",
    "GGAGGTTGAGGGCTGGGTGGGCTTGGTGAGGTTGCTCTTCTTACACAGTGGTGGTCCAGG\\n\\\n",
    "TGAGTTGCTGTTTGGTCTGGAGGGTCCAGGTGGGGTCTTGGTGGTGGTGGAGGTTGAGGG\\n\\\n",
    "CTGGGTGGGCTTGGTGAGGTTGCTCTTCTTACACAGTGGTGGTCCAGGTGAGTTGCTGTT\\n\\\n",
    "TGGTCTGGAGGGTCCAGGTGGGGTCTTGGTGGTGGTGGAGGTTGAGGGCTGGGTGGGCTT\\n\\\n",
    ">sequence_3 \\n\\\n",
    "TCTTACACAGTGGTGGTCCAGGTGAGTTGCTGTTTGGTCTGGAGGGTCCAGGTGGGGTCT\\n\\\n",
    "TGGTGGTGGTGGAGGTTGAGGGCTGGGTGGGCTTGGTGAGGTTGCTCTTCTTACACAGTG\\n\\\n",
    "GTGGTCCAGGTGAGTTGCTGTTTGGTCTGGAGGGTCCAGGTGGGGTCTTGGTGGTGGTGG\\n\\\n",
    "AGGTTGAGGGCTGGGTGGGCTTGGTGAGGTTGCTCTTCTTACACAGTGGTGGTCCAGGTG\\n\\\n",
    "AGTTGCTGTTTGGTCTGGAGGGTCCAGGTGGGGTCTTGGTGGTGGTGGAGGTTGAGGGCT\\n\\\n",
    "GGGTGGGCT'\n",
    "\n",
    "ID_AND_DESC = re.compile(r'^>[^\\n]*')\n",
    "\n",
    "text1 = '>kekermanf3232423 suka ABCDEFGH OLOLO \\n LOL KEK CHEBUREK'\n",
    "match = re.search(ID_AND_DESC, test_fasta)\n",
    "print(match)\n",
    "print(match.group())"
   ]
  }
 ],
 "metadata": {
  "kernelspec": {
   "display_name": "Python 3 (ipykernel)",
   "language": "python",
   "name": "python3"
  },
  "language_info": {
   "codemirror_mode": {
    "name": "ipython",
    "version": 3
   },
   "file_extension": ".py",
   "mimetype": "text/x-python",
   "name": "python",
   "nbconvert_exporter": "python",
   "pygments_lexer": "ipython3",
   "version": "3.9.15"
  }
 },
 "nbformat": 4,
 "nbformat_minor": 5
}
