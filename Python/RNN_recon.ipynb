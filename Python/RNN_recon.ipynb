{
 "cells": [
  {
   "cell_type": "code",
   "execution_count": 16,
   "id": "64e6efaa",
   "metadata": {},
   "outputs": [],
   "source": [
    "import requests\n",
    "from bs4 import BeautifulSoup\n",
    "\n",
    "data = {\"word\":\"собака\"}\n",
    "url = \"https://wooordhunt.ru/word/postsearch\""
   ]
  },
  {
   "cell_type": "code",
   "execution_count": 17,
   "id": "0bc8fecb",
   "metadata": {},
   "outputs": [],
   "source": [
    "def save_page(response):\n",
    "    with open(\"page.html\", \"wb\") as file:\n",
    "        file.write(response.content)\n",
    "        \n",
    "    "
   ]
  },
  {
   "cell_type": "code",
   "execution_count": 18,
   "id": "c7a5a6ea",
   "metadata": {},
   "outputs": [],
   "source": [
    "response = requests.post(url, data=data)"
   ]
  },
  {
   "cell_type": "code",
   "execution_count": 19,
   "id": "8b2d6caa",
   "metadata": {},
   "outputs": [],
   "source": [
    "save_page(response)"
   ]
  },
  {
   "cell_type": "code",
   "execution_count": 20,
   "id": "34f823fb",
   "metadata": {},
   "outputs": [
    {
     "data": {
      "text/plain": [
       "'dog, hound, at, pooch, bowwow'"
      ]
     },
     "execution_count": 20,
     "metadata": {},
     "output_type": "execute_result"
    }
   ],
   "source": [
    "soup = BeautifulSoup(response.content, \"lxml\")\n",
    "soup.find(\"p\", class_=\"t_inline\").text"
   ]
  },
  {
   "cell_type": "code",
   "execution_count": null,
   "id": "965ce72e",
   "metadata": {},
   "outputs": [],
   "source": [
    "# Example: CLUSTAL OMEGA\n",
    "\n",
    "sequence = \n",
    "\n",
    "payload = {\n",
    "    \"sequence\":\n",
    "    \"\"\n",
    "}"
   ]
  }
 ],
 "metadata": {
  "kernelspec": {
   "display_name": "Python 3 (ipykernel)",
   "language": "python",
   "name": "python3"
  },
  "language_info": {
   "codemirror_mode": {
    "name": "ipython",
    "version": 3
   },
   "file_extension": ".py",
   "mimetype": "text/x-python",
   "name": "python",
   "nbconvert_exporter": "python",
   "pygments_lexer": "ipython3",
   "version": "3.9.15"
  }
 },
 "nbformat": 4,
 "nbformat_minor": 5
}
