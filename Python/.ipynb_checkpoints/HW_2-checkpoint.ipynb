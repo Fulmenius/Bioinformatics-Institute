{
 "cells": [
  {
   "cell_type": "markdown",
   "id": "72f5013c-f4b9-4a1f-aed9-7e47623e7c8a",
   "metadata": {},
   "source": [
    "# Задание 1 (2 балла)"
   ]
  },
  {
   "cell_type": "markdown",
   "id": "0e818fc0-4716-45c6-8942-7b60da358200",
   "metadata": {},
   "source": [
    "Напишите класс `MyDict`, который будет полностью повторять поведение обычного словаря, за исключением того, что при итерации мы должны получать и ключи, и значения.\n",
    "\n",
    "**Модули использовать нельзя**"
   ]
  },
  {
   "cell_type": "code",
   "execution_count": 79,
   "id": "3dc27675-99fc-4040-a8f7-aa20be51c816",
   "metadata": {},
   "outputs": [],
   "source": [
    "class MyDict(dict):\n",
    "    def __iter__(self):\n",
    "        return iter(self.items()) # ¯\\_(ツ)_/¯ Модули не использованы"
   ]
  },
  {
   "cell_type": "code",
   "execution_count": 80,
   "id": "a96e453e-2553-40b1-889f-cce04c6db771",
   "metadata": {},
   "outputs": [
    {
     "name": "stdout",
     "output_type": "stream",
     "text": [
      "a 1\n",
      "b 2\n",
      "c 3\n",
      "d 25\n"
     ]
    }
   ],
   "source": [
    "dct = MyDict({\"a\": 1, \"b\": 2, \"c\": 3, \"d\": 25})\n",
    "for key, value in dct:\n",
    "    print(key, value)   "
   ]
  },
  {
   "cell_type": "code",
   "execution_count": 81,
   "id": "d3b93507-d88a-4773-8d6f-31990e1effbc",
   "metadata": {},
   "outputs": [
    {
     "name": "stdout",
     "output_type": "stream",
     "text": [
      "a 1\n",
      "b 2\n",
      "c 3\n",
      "d 25\n"
     ]
    }
   ],
   "source": [
    "for key, value in dct.items():\n",
    "    print(key, value)"
   ]
  },
  {
   "cell_type": "code",
   "execution_count": 82,
   "id": "9be2de18-f963-4de0-afba-c183a9a56087",
   "metadata": {},
   "outputs": [
    {
     "name": "stdout",
     "output_type": "stream",
     "text": [
      "a\n",
      "b\n",
      "c\n",
      "d\n"
     ]
    }
   ],
   "source": [
    "for key in dct.keys():\n",
    "    print(key)"
   ]
  },
  {
   "cell_type": "code",
   "execution_count": 83,
   "id": "b7bfbf08-7253-4aab-a9a0-a8e8500c5a29",
   "metadata": {},
   "outputs": [
    {
     "data": {
      "text/plain": [
       "28"
      ]
     },
     "execution_count": 83,
     "metadata": {},
     "output_type": "execute_result"
    }
   ],
   "source": [
    "dct[\"c\"] + dct[\"d\"]"
   ]
  },
  {
   "cell_type": "markdown",
   "id": "4bde5544-afd0-408e-a03b-dad5096ee685",
   "metadata": {},
   "source": [
    "# Задание 2 (2 балла)"
   ]
  },
  {
   "cell_type": "markdown",
   "id": "36e85085-9990-4a2a-a005-f5ef3afd438d",
   "metadata": {},
   "source": [
    "Напишите функцию `iter_append`, которая \"добавляет\" новый элемент в конец итератора, возвращая итератор, который включает изначальные элементы и новый элемент. Итерироваться по итератору внутри функции нельзя, то есть вот такая штука не принимается\n",
    "```python\n",
    "def iter_append(iterator, item):\n",
    "    lst = list(iterator) + [item]\n",
    "    return iter(lst)\n",
    "```\n",
    "\n",
    "**Модули использовать нельзя**"
   ]
  },
  {
   "cell_type": "code",
   "execution_count": 87,
   "id": "d70f202a-0515-4f40-a9b1-4738572a837c",
   "metadata": {},
   "outputs": [
    {
     "name": "stdout",
     "output_type": "stream",
     "text": [
      "1\n",
      "2\n",
      "3\n",
      "4\n"
     ]
    }
   ],
   "source": [
    "def iter_append(iterator, item): # I think, this does not need comments\n",
    "    yield from iterator\n",
    "    yield item\n",
    "\n",
    "my_iterator = iter([1, 2, 3])\n",
    "new_iterator = iter_append(my_iterator, 4)\n",
    "\n",
    "for element in new_iterator:\n",
    "    print(element)"
   ]
  },
  {
   "cell_type": "markdown",
   "id": "72c35894-0caf-41ac-a584-56058b243f29",
   "metadata": {},
   "source": [
    "# Задание 3 (5 баллов)"
   ]
  },
  {
   "cell_type": "markdown",
   "id": "884be4ed-b388-4b36-ad7d-d6835a87425e",
   "metadata": {},
   "source": [
    "Представим, что мы установили себе некотурую библиотеку, которая содержит в себе два класса `MyString` и `MySet`, которые являются наследниками `str` и `set`, но также несут и дополнительные методы.\n",
    "\n",
    "Проблема заключается в том, что библиотеку писали не очень аккуратные люди, поэтому получилось так, что некоторые методы возвращают не тот тип данных, который мы ожидаем. Например, `MyString().reverse()` возвращает объект класса `str`, хотя логичнее было бы ожидать объект класса `MyString`.\n",
    "\n",
    "Найдите и реализуйте удобный способ сделать так, чтобы подобные методы возвращали экземпляр текущего класса, а не родительского. При этом **код методов изменять нельзя**\n",
    "\n",
    "**+3 дополнительных балла** за реализацию того, чтобы **унаследованные от `str` и `set` методы** также возвращали объект интересующего нас класса (то есть `MyString.replace(..., ...)` должен возвращать `MyString`). **Переопределять методы нельзя**\n",
    "\n",
    "**Модули использовать нельзя**"
   ]
  },
  {
   "cell_type": "code",
   "execution_count": 145,
   "id": "7973388e-c16f-437f-a1af-30ddd69f7671",
   "metadata": {},
   "outputs": [],
   "source": [
    "def make_class_methods_return_instances_of_class(cls): # Create a class decorator\n",
    "\n",
    "    def method_decorator(mthd): # Create a method decorator for changing output of methods  \n",
    "        def modified_method(self, *args, **kwargs):\n",
    "            initial_return = mthd(self, *args, **kwargs)     # The output of the initial \n",
    "            # method.\n",
    "            if isinstance(initial_return, cls.__bases__[0]): # Check if the initial \n",
    "                                                             # method produces an \n",
    "                # instance of the parent class. If yes, turn it into an instance of\n",
    "                # the child class (We assume such constructor is defined).\n",
    "                class_instance = cls(initial_return)\n",
    "                \n",
    "                return class_instance\n",
    "    \n",
    "            else: # If the initial method does not produce an instance of the parent class,\n",
    "                  # leave it as it is\n",
    "                return initial_return\n",
    "    \n",
    "        return modified_method\n",
    "\n",
    "    for name, method in cls.__dict__.items(): # For all callable methods, \n",
    "                                              # apply the decorator above\n",
    "        if callable(method):\n",
    "            setattr(cls, name, method_decorator(method))\n",
    "            \n",
    "    return cls\n",
    "\n",
    "            \n",
    "@make_class_methods_return_instances_of_class\n",
    "class MyString(str):\n",
    "    def reverse(self):\n",
    "        return self[::-1]\n",
    "    \n",
    "    def make_uppercase(self):\n",
    "        return \"\".join([chr(ord(char) - 32) if 97 <= ord(char) <= 122 else char for char in self])\n",
    "    \n",
    "    def make_lowercase(self):\n",
    "        return \"\".join([chr(ord(char) + 32) if 65 <= ord(char) <= 90 else char for char in self])\n",
    "    \n",
    "    def capitalize_words(self):\n",
    "        return \" \".join([word.capitalize() for word in self.split()])\n",
    "    \n",
    "@make_class_methods_return_instances_of_class\n",
    "class MySet(set):\n",
    "    def is_empty(self):\n",
    "        return len(self) == 0\n",
    "    \n",
    "    def has_duplicates(self):\n",
    "        return len(self) != len(set(self))\n",
    "    \n",
    "    def union_with(self, other):\n",
    "        return self.union(other)\n",
    "    \n",
    "    def intersection_with(self, other):\n",
    "        return self.intersection(other)\n",
    "    \n",
    "    def difference_with(self, other):\n",
    "        return self.difference(other)"
   ]
  },
  {
   "cell_type": "code",
   "execution_count": 146,
   "id": "8b985a7b-ddf2-47ce-8b76-a4dd921a2e06",
   "metadata": {},
   "outputs": [
    {
     "name": "stdout",
     "output_type": "stream",
     "text": [
      "<class '__main__.MyString'>\n",
      "<class '__main__.MyString'>\n",
      "<class '__main__.MyString'>\n",
      "<class '__main__.MyString'>\n",
      "\n",
      "<class 'bool'>\n",
      "<class 'bool'>\n",
      "<class '__main__.MySet'>\n",
      "<class '__main__.MySet'>\n"
     ]
    }
   ],
   "source": [
    "string_example = MyString(\"Aa Bb Cc\")\n",
    "set_example_1 = MySet({1, 2, 3, 4})\n",
    "set_example_2 = MySet({3, 4, 5, 6, 6})\n",
    "\n",
    "print(type(string_example.reverse()))\n",
    "print(type(string_example.make_uppercase()))\n",
    "print(type(string_example.make_lowercase()))\n",
    "print(type(string_example.capitalize_words()))\n",
    "print()\n",
    "print(type(set_example_1.is_empty()))\n",
    "print(type(set_example_2.has_duplicates()))\n",
    "print(type(set_example_1.union_with(set_example_2)))\n",
    "print(type(set_example_1.difference_with(set_example_2)))"
   ]
  },
  {
   "cell_type": "markdown",
   "id": "f246ecea-9aaa-45c6-98e4-996dc9cdce14",
   "metadata": {},
   "source": [
    "# Задание 4 (5 баллов)"
   ]
  },
  {
   "cell_type": "markdown",
   "id": "e66831d7-df9c-4778-9942-bbb8796fef1e",
   "metadata": {},
   "source": [
    "Напишите декоратор `switch_privacy`:\n",
    "1. Делает все публичные **методы** класса приватными\n",
    "2. Делает все приватные методы класса публичными\n",
    "3. Dunder методы и защищённые методы остаются без изменений\n",
    "4. Должен работать тестовый код ниже, в теле класса писать код нельзя\n",
    "\n",
    "**Модули использовать нельзя**"
   ]
  },
  {
   "cell_type": "code",
   "execution_count": 255,
   "id": "733db8d6-87b8-4797-97be-d3b901422ded",
   "metadata": {},
   "outputs": [],
   "source": [
    "def switch_privacy(cls):\n",
    "    \n",
    "    private_attr_list = []\n",
    "    \n",
    "    public_attr_list = []\n",
    "    \n",
    "            \n",
    "    for name, method in cls.__dict__.items(): # For all callable methods, \n",
    "        \n",
    "        if callable(method):\n",
    "        \n",
    "            if name.startswith('_' + cls.__name__ + '__') and not name.endswith('__'):\n",
    "                private_attr_list.append((name, method))\n",
    "                \n",
    "            elif not name.startswith('_'):\n",
    "                public_attr_list.append((name, method))\n",
    "            \n",
    "    for priv_name, method in private_attr_list:\n",
    "        setattr(cls, priv_name[3+len(cls.__name__):], method)\n",
    "        delattr(cls, priv_name)\n",
    "            \n",
    "    for pub_name, method in public_attr_list:\n",
    "        setattr(cls, '__' + str(pub_name), method)\n",
    "        delattr(cls, pub_name)\n",
    "            \n",
    "    return cls\n",
    "\n",
    "@switch_privacy\n",
    "class ExampleClass:\n",
    "    # Но не здесь\n",
    "    def public_method(self):\n",
    "        return 1\n",
    "    \n",
    "    def _protected_method(self):\n",
    "        return 2\n",
    "    \n",
    "    def __private_method(self):\n",
    "        return 3\n",
    "    \n",
    "    def __dunder_method__(self):\n",
    "        pass"
   ]
  },
  {
   "cell_type": "code",
   "execution_count": 256,
   "id": "c936077d-e618-459c-bbcc-6ad1b22d0975",
   "metadata": {},
   "outputs": [
    {
     "data": {
      "text/plain": [
       "['__module__',\n",
       " '_protected_method',\n",
       " '__dunder_method__',\n",
       " '__dict__',\n",
       " '__weakref__',\n",
       " '__doc__',\n",
       " 'private_method',\n",
       " '__public_method',\n",
       " '__repr__',\n",
       " '__hash__',\n",
       " '__str__',\n",
       " '__getattribute__',\n",
       " '__setattr__',\n",
       " '__delattr__',\n",
       " '__lt__',\n",
       " '__le__',\n",
       " '__eq__',\n",
       " '__ne__',\n",
       " '__gt__',\n",
       " '__ge__',\n",
       " '__init__',\n",
       " '__new__',\n",
       " '__reduce_ex__',\n",
       " '__reduce__',\n",
       " '__subclasshook__',\n",
       " '__init_subclass__',\n",
       " '__format__',\n",
       " '__sizeof__',\n",
       " '__dir__',\n",
       " '__class__']"
      ]
     },
     "execution_count": 256,
     "metadata": {},
     "output_type": "execute_result"
    }
   ],
   "source": [
    "test_object = ExampleClass()\n",
    "\n",
    "test_object.__dir__()\n",
    "#test_object._ExampleClass__public_method() # Публичный метод стал приватным"
   ]
  },
  {
   "cell_type": "code",
   "execution_count": 257,
   "id": "10603672-80cf-460c-9305-d0950094419d",
   "metadata": {},
   "outputs": [
    {
     "data": {
      "text/plain": [
       "3"
      ]
     },
     "execution_count": 257,
     "metadata": {},
     "output_type": "execute_result"
    }
   ],
   "source": [
    "test_object.private_method()   # Приватный метод стал публичным"
   ]
  },
  {
   "cell_type": "code",
   "execution_count": 258,
   "id": "f30b1ef8-0f80-482d-89f1-09caece61c88",
   "metadata": {},
   "outputs": [
    {
     "data": {
      "text/plain": [
       "2"
      ]
     },
     "execution_count": 258,
     "metadata": {},
     "output_type": "execute_result"
    }
   ],
   "source": [
    "test_object._protected_method()   # Защищённый метод остался защищённым"
   ]
  },
  {
   "cell_type": "code",
   "execution_count": 261,
   "id": "71d51e6e-62b5-4440-af3e-75088761b1bf",
   "metadata": {},
   "outputs": [],
   "source": [
    "test_object.__dunder_method__()   # Дандер метод не изменился"
   ]
  },
  {
   "cell_type": "code",
   "execution_count": 266,
   "id": "a97cf0c4-4881-441c-83b6-ef8955377585",
   "metadata": {},
   "outputs": [
    {
     "data": {
      "text/plain": [
       "(False, True)"
      ]
     },
     "execution_count": 266,
     "metadata": {},
     "output_type": "execute_result"
    }
   ],
   "source": [
    "hasattr(test_object, \"public_method\"), hasattr(test_object, \"private_method\")   # Изначальные варианты изменённых методов не сохраняются"
   ]
  },
  {
   "cell_type": "markdown",
   "id": "31ad0bdd-9a24-4d6c-a499-e975b4b6acdd",
   "metadata": {},
   "source": [
    "# Задание 5 (7 баллов)"
   ]
  },
  {
   "cell_type": "markdown",
   "id": "68c75d25-37f7-491d-bcc0-ba74e8bdb364",
   "metadata": {},
   "source": [
    "Напишите [контекстный менеджер](https://docs.python.org/3/library/stdtypes.html#context-manager-types) `OpenFasta`\n",
    "\n",
    "Контекстные менеджеры это специальные объекты, которые могут работать с конструкцией `with ... as ...:`. В них нет ничего сложного, для их реализации как обычно нужно только определить только пару dunder методов. Изучите этот вопрос самостоятельно\n",
    "\n",
    "1. Объект должен работать как обычные файлы в питоне (наследоваться не надо, здесь лучше будет использовать **композицию**), но:\n",
    "    + При итерации по объекту мы должны будем получать не строку из файла, а специальный объект `FastaRecord`. Он будет хранить в себе информацию о последовательности. Важно, **не строки, а именно последовательности**, в fasta файлах последовательность часто разбивают на много строк\n",
    "    + Нужно написать методы `read_record` и `read_records`, которые по смыслу соответствуют `readline()` и `readlines()` в обычных файлах, но они должны выдавать не строки, а объект(ы) `FastaRecord`\n",
    "2. Конструктор должен принимать один аргумент - **путь к файлу**\n",
    "3. Класс должен эффективно распоряжаться памятью, с расчётом на работу с очень большими файлами\n",
    "    \n",
    "Объект `FastaRecord`. Это должен быть **датакласс** (см. про примеры декораторов в соответствующей лекции) с тремя полями:\n",
    "+ `seq` - последовательность\n",
    "+ `id_` - ID последовательности (это то, что в фаста файле в строке, которая начинается с `>` до первого пробела. Например, >**GTD326487.1** Species anonymous 24 chromosome) \n",
    "+ `description` - то, что осталось после ID (Например, >GTD326487.1 **Species anonymous 24 chromosome**)\n",
    "\n",
    "\n",
    "Напишите демонстрацию работы кода с использованием всех написанных методов, обязательно добавьте файл с тестовыми данными в репозиторий (не обязательно большой)\n",
    "\n",
    "**Можно использовать модули из стандартной библиотеки**"
   ]
  },
  {
   "cell_type": "code",
   "execution_count": 10,
   "id": "5188b5d5-1e6e-4b11-9b54-9ba809210dfc",
   "metadata": {},
   "outputs": [
    {
     "ename": "AttributeError",
     "evalue": "'_io.TextIOWrapper' object has no attribute 'read_record'",
     "output_type": "error",
     "traceback": [
      "\u001b[0;31m---------------------------------------------------------------------------\u001b[0m",
      "\u001b[0;31mAttributeError\u001b[0m                            Traceback (most recent call last)",
      "Cell \u001b[0;32mIn[10], line 69\u001b[0m\n\u001b[1;32m     67\u001b[0m records \u001b[38;5;241m=\u001b[39m []\n\u001b[1;32m     68\u001b[0m \u001b[38;5;28;01mfor\u001b[39;00m _ \u001b[38;5;129;01min\u001b[39;00m \u001b[38;5;28mrange\u001b[39m(\u001b[38;5;241m2\u001b[39m):\n\u001b[0;32m---> 69\u001b[0m     records\u001b[38;5;241m.\u001b[39mappend(\u001b[43mfasta\u001b[49m\u001b[38;5;241;43m.\u001b[39;49m\u001b[43mread_record\u001b[49m())\n\u001b[1;32m     71\u001b[0m \u001b[38;5;28mprint\u001b[39m(records)\n",
      "\u001b[0;31mAttributeError\u001b[0m: '_io.TextIOWrapper' object has no attribute 'read_record'"
     ]
    }
   ],
   "source": [
    "import re\n",
    "import os\n",
    "from dataclasses import dataclass\n",
    "\n",
    "ID_AND_DESC = re.compile(r'^>[^\\n]*')\n",
    "\n",
    "@dataclass\n",
    "class FastaRecord():\n",
    "        seq: str\n",
    "        _id: str\n",
    "        description: str\n",
    "        \n",
    "    \n",
    "# use generators to treat memory effectively           \n",
    "class OpenFasta():\n",
    "    \n",
    "    def __init__(self, filename):\n",
    "        self.filename = filename\n",
    "    \n",
    "    def __enter__(self):\n",
    "        self.file = open(self.filename,'r')\n",
    "        return self.file\n",
    "    \n",
    "    def read_record(self) -> FastaRecord:\n",
    "        \n",
    "        self.current_sequence = ''\n",
    "        \n",
    "        if not self.current_line:\n",
    "            try:\n",
    "                self.current_line = next(self.file)\n",
    "            except EOFError:\n",
    "                print(\"End of file!\")\n",
    "                return 1\n",
    "            \n",
    "        while not re.search(ID_AND_SEQ, self.current_line):\n",
    "            try:\n",
    "                self.current_line = next(self.file)\n",
    "            except EOFError:\n",
    "                print(\"End of file!\")\n",
    "                return 1\n",
    "            \n",
    "        match = re.search(ID_AND_SEQ, self.current_line)\n",
    "        self.curr_id = match.group().split()[0]\n",
    "        self.curr_decription = ' '.join(match.group().split()[1:])\n",
    "        \n",
    "        self.current_line = next(self.file)\n",
    "        while not re.search(ID_AND_SEQ, self.current_line):\n",
    "            self.current_sequence.append(self.current_line)\n",
    "            try:\n",
    "                self.current_line = next(self.file)\n",
    "            except EOFError:\n",
    "                print(\"End of file!\")\n",
    "                break\n",
    "                \n",
    "        return FastaRecord(self.current_sequence, self.curr_id, self.curr_description)\n",
    "        \n",
    "    \n",
    "    def read_records(self):\n",
    "        pass\n",
    "    \n",
    "    def __exit__(self, *args, **kwargs):\n",
    "        if self.file:\n",
    "            self.file.close()\n",
    "            \n",
    "\n",
    "with OpenFasta(os.path.join(\"data\", \"example.fasta\")) as fasta:\n",
    "    records = []\n",
    "    for _ in range(2):\n",
    "        records.append(fasta.read_record())\n",
    "                \n",
    "    print(records)\n",
    "    "
   ]
  },
  {
   "cell_type": "markdown",
   "id": "4db652e9-7697-4dd7-bcc3-649bdc18c1c4",
   "metadata": {},
   "source": [
    "# Задание 6 (7 баллов)"
   ]
  },
  {
   "cell_type": "markdown",
   "id": "a8ba05f3-29f0-48be-a477-c1f61a9e0537",
   "metadata": {},
   "source": [
    "1. Напишите код, который позволит получать все возможные (неуникальные) генотипы при скрещивании двух организмов. Это может быть функция или класс, что вам кажется более удобным.\n",
    "\n",
    "Например, все возможные исходы скрещивания \"Aabb\" и \"Aabb\" (неуникальные) это\n",
    "\n",
    "```\n",
    "AAbb\n",
    "AAbb\n",
    "AAbb\n",
    "AAbb\n",
    "Aabb\n",
    "Aabb\n",
    "Aabb\n",
    "Aabb\n",
    "Aabb\n",
    "Aabb\n",
    "Aabb\n",
    "Aabb\n",
    "aabb\n",
    "aabb\n",
    "aabb\n",
    "aabb\n",
    "```\n",
    "\n",
    "2. Напишите функцию, которая вычисляет вероятность появления определённого генотипа (его ожидаемую долю в потомстве).\n",
    "Например,\n",
    "\n",
    "```python\n",
    "get_offspting_genotype_probability(parent1=\"Aabb\", parent2=\"Aabb\", target_genotype=\"Аabb\")   # 0.5\n",
    "\n",
    "```\n",
    "\n",
    "3. Напишите код, который выводит все уникальные генотипы при скрещивании `'АаБбввГгДдЕеЖжЗзИиЙйккЛлМмНн'` и `'АаббВвГгДДЕеЖжЗзИиЙйКкЛлМмНН'`, которые содержат в себе следующую комбинацию аллелей `'АаБбВвГгДдЕеЖжЗзИиЙйКкЛл'`\n",
    "4. Напишите код, который расчитывает вероятность появления генотипа `'АаБбввГгДдЕеЖжЗзИиЙйккЛлМмНн'` при скрещивании `АаБбВвГгДдЕеЖжЗзИиЙйКкЛлМмНн` и `АаБбВвГгДдЕеЖжЗзИиЙйКкЛлМмНн`\n",
    "\n",
    "Важные замечания:\n",
    "1. Порядок следования аллелей в случае гетерозигот всегда должен быть следующим: сначала большая буква, затем маленькая (вариант `AaBb` допустим, но `aAbB` быть не должно)\n",
    "2. Подзадачи 3 и 4 могут потребовать много вычислительного времени (до 15+ минут в зависимости от железа), поэтому убедитесь, что вы хорошо протестировали написанный вами код на малых данных перед выполнением этих задач. Если ваш код работает **дольше 20 мин**, то скорее всего ваше решение не оптимально, попытайтесь что-нибудь оптимизировать. Если оптимальное решение совсем не получается, то попробуйте из входных данных во всех заданиях убрать последний ген (это должно уменьшить время выполнения примерно в 4 раза), но **за такое решение будет снято 2 балла**\n",
    "3. Несмотря на то, что подзадания 2, 3 и 4 возможно решить математически, не прибегая к непосредственному получению всех возможных генотипов, от вас требуется именно brute-force вариант алгоритма\n",
    "\n",
    "**Можно использовать модули из стандартной библиотеки питона**, но **за выполнение задания без использования модулей придусмотрено +3 дополнительных балла**"
   ]
  },
  {
   "cell_type": "code",
   "execution_count": 38,
   "id": "c64841e9-dfcd-45bb-bcaa-d672ea03a744",
   "metadata": {
    "tags": []
   },
   "outputs": [],
   "source": [
    "def tensor(pair_of_pairs) -> [[str]]:\n",
    "        return [''.join([i, j]) for i in pair_of_pairs[0] for j in pair_of_pairs[1]]\n",
    "\n",
    "def split_by_pairs(sequence: str) -> [str]:\n",
    "    return [sequence[i:i+2] for i in range(len(sequence))]\n",
    "\n",
    "def genotypes_of_children(genotype_1, genotype_2):\n",
    "    tensor_product_of_genotypes =\\\n",
    "    list(map(tensor, zip(split_by_pairs(genotype_1), split_by_pairs(genotype_2))))\n",
    "    list_of_genotypes = []\n",
    "    for i in range(len(genotype_1)*2): # Base 4 numbers enumerate all possible indices\n",
    "        genotype = ''\n",
    "        for j in range(int(len(genotype_1)/2)): # We use a base 4 number as a list if [0-3] indices\n",
    "            genotype += tensor_product_of_genotypes[j][int(str(int(str(i), 4))[j])]\n",
    "            \n",
    "        list_of_genotypes.append(genotype) # It doesn't work because I don't have enough\n",
    "                                           # time to make it work\n",
    "        \n",
    "    return list_of_genotypes\n",
    "    "
   ]
  },
  {
   "cell_type": "code",
   "execution_count": 39,
   "id": "045a8dc2",
   "metadata": {},
   "outputs": [
    {
     "ename": "IndexError",
     "evalue": "string index out of range",
     "output_type": "error",
     "traceback": [
      "\u001b[0;31m---------------------------------------------------------------------------\u001b[0m",
      "\u001b[0;31mIndexError\u001b[0m                                Traceback (most recent call last)",
      "Cell \u001b[0;32mIn[39], line 1\u001b[0m\n\u001b[0;32m----> 1\u001b[0m \u001b[43mgenotypes_of_children\u001b[49m\u001b[43m(\u001b[49m\u001b[38;5;124;43m'\u001b[39;49m\u001b[38;5;124;43mAaBbCcDd\u001b[39;49m\u001b[38;5;124;43m'\u001b[39;49m\u001b[43m,\u001b[49m\u001b[43m \u001b[49m\u001b[38;5;124;43m'\u001b[39;49m\u001b[38;5;124;43maaBBccDd\u001b[39;49m\u001b[38;5;124;43m'\u001b[39;49m\u001b[43m)\u001b[49m\n",
      "Cell \u001b[0;32mIn[38], line 14\u001b[0m, in \u001b[0;36mgenotypes_of_children\u001b[0;34m(genotype_1, genotype_2)\u001b[0m\n\u001b[1;32m     12\u001b[0m     genotype \u001b[38;5;241m=\u001b[39m \u001b[38;5;124m'\u001b[39m\u001b[38;5;124m'\u001b[39m\n\u001b[1;32m     13\u001b[0m     \u001b[38;5;28;01mfor\u001b[39;00m j \u001b[38;5;129;01min\u001b[39;00m \u001b[38;5;28mrange\u001b[39m(\u001b[38;5;28mint\u001b[39m(\u001b[38;5;28mlen\u001b[39m(genotype_1)\u001b[38;5;241m/\u001b[39m\u001b[38;5;241m2\u001b[39m)): \u001b[38;5;66;03m# We use a base 4 number as a list if [0-3] indices\u001b[39;00m\n\u001b[0;32m---> 14\u001b[0m         genotype \u001b[38;5;241m+\u001b[39m\u001b[38;5;241m=\u001b[39m tensor_product_of_genotypes[j][\u001b[38;5;28mint\u001b[39m(\u001b[38;5;28;43mstr\u001b[39;49m\u001b[43m(\u001b[49m\u001b[38;5;28;43mint\u001b[39;49m\u001b[43m(\u001b[49m\u001b[38;5;28;43mstr\u001b[39;49m\u001b[43m(\u001b[49m\u001b[43mi\u001b[49m\u001b[43m)\u001b[49m\u001b[43m,\u001b[49m\u001b[43m \u001b[49m\u001b[38;5;241;43m4\u001b[39;49m\u001b[43m)\u001b[49m\u001b[43m)\u001b[49m\u001b[43m[\u001b[49m\u001b[43mj\u001b[49m\u001b[43m]\u001b[49m)]\n\u001b[1;32m     16\u001b[0m     list_of_genotypes\u001b[38;5;241m.\u001b[39mappend(genotype)\n\u001b[1;32m     18\u001b[0m \u001b[38;5;28;01mreturn\u001b[39;00m list_of_genotypes\n",
      "\u001b[0;31mIndexError\u001b[0m: string index out of range"
     ]
    }
   ],
   "source": [
    "genotypes_of_children('AaBbCcDd', 'aaBBccDd')"
   ]
  },
  {
   "cell_type": "code",
   "execution_count": 20,
   "id": "fdfb6d8c-0da7-4857-9579-6921dc409eb3",
   "metadata": {
    "tags": []
   },
   "outputs": [],
   "source": [
    "# Ваш код здесь (3 подзадание)"
   ]
  },
  {
   "cell_type": "code",
   "execution_count": 21,
   "id": "3e8a17cc-0642-49ae-ba6b-51ab5499660e",
   "metadata": {},
   "outputs": [],
   "source": [
    "# Ваш код здесь (4 подзадание)"
   ]
  }
 ],
 "metadata": {
  "kernelspec": {
   "display_name": "Python 3 (ipykernel)",
   "language": "python",
   "name": "python3"
  },
  "language_info": {
   "codemirror_mode": {
    "name": "ipython",
    "version": 3
   },
   "file_extension": ".py",
   "mimetype": "text/x-python",
   "name": "python",
   "nbconvert_exporter": "python",
   "pygments_lexer": "ipython3",
   "version": "3.9.15"
  }
 },
 "nbformat": 4,
 "nbformat_minor": 5
}
