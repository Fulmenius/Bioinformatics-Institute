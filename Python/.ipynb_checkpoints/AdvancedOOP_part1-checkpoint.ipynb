{
 "cells": [
  {
   "cell_type": "markdown",
   "id": "e9462afe-46a0-4f6c-ad92-626d5c3759b0",
   "metadata": {},
   "source": [
    "# Наследование"
   ]
  },
  {
   "cell_type": "markdown",
   "id": "9d03b326-f9af-42c1-9da8-284e782bbe10",
   "metadata": {},
   "source": [
    "Механизм наследования позволяет нам создавать иерархию классов, а также использовать методы и атрибуты классов, лежащих выше в иерархии из их потомков"
   ]
  },
  {
   "cell_type": "markdown",
   "id": "60bc2c7a-6eda-486b-a022-49ab5691e1d5",
   "metadata": {},
   "source": [
    "## Синтаксис"
   ]
  },
  {
   "cell_type": "markdown",
   "id": "a3e81c1c-b460-4a74-bad7-2bdc89ebe934",
   "metadata": {},
   "source": [
    "С синтаксисом наследований мы кратко ознакомились при работе с исключениями, выглядит это так"
   ]
  },
  {
   "cell_type": "code",
   "execution_count": 2,
   "id": "d3c5881a-fd3f-4421-8dd0-047a1932b6be",
   "metadata": {},
   "outputs": [],
   "source": [
    "class MyBrandNewError(Exception):\n",
    "    # Тело класса\n",
    "    pass"
   ]
  },
  {
   "cell_type": "markdown",
   "id": "be975fd9-3b90-459f-bada-bf46c3f8c2a2",
   "metadata": {},
   "source": [
    "В данном случае мы создаём новый класс и наследуем его от класса `Exception`, это значит, что все методы и свойства родительского класса (тот который в скобочках) будут также доступны его потомку. Именно поэтому наш новый класс и ведёт себя как исключение, так как ему были переданы все свойственнные для исключений особенности. И да, все исключения в питоне представлены классами."
   ]
  },
  {
   "cell_type": "markdown",
   "id": "7e9191c1-4993-451b-87eb-20dcb41a0517",
   "metadata": {},
   "source": [
    "Сравним два варианта"
   ]
  },
  {
   "cell_type": "code",
   "execution_count": 3,
   "id": "d58bf043-f25c-4bfd-a771-b6a0e8b84230",
   "metadata": {},
   "outputs": [
    {
     "ename": "TypeError",
     "evalue": "exceptions must derive from BaseException",
     "output_type": "error",
     "traceback": [
      "\u001b[0;31m---------------------------------------------------------------------------\u001b[0m",
      "\u001b[0;31mTypeError\u001b[0m                                 Traceback (most recent call last)",
      "Input \u001b[0;32mIn [3]\u001b[0m, in \u001b[0;36m<cell line: 4>\u001b[0;34m()\u001b[0m\n\u001b[1;32m      1\u001b[0m \u001b[38;5;28;01mclass\u001b[39;00m \u001b[38;5;21;01mMyBrandNewError\u001b[39;00m:   \u001b[38;5;66;03m# Просто создаём новый класс, не используем наследование\u001b[39;00m\n\u001b[1;32m      2\u001b[0m     \u001b[38;5;28;01mpass\u001b[39;00m\n\u001b[0;32m----> 4\u001b[0m \u001b[38;5;28;01mraise\u001b[39;00m MyBrandNewError\n",
      "\u001b[0;31mTypeError\u001b[0m: exceptions must derive from BaseException"
     ]
    }
   ],
   "source": [
    "class MyBrandNewError:   # Просто создаём новый класс, не используем наследование\n",
    "    pass\n",
    "\n",
    "raise MyBrandNewError"
   ]
  },
  {
   "cell_type": "code",
   "execution_count": 4,
   "id": "2b4dccb1-b09a-4883-88d0-6ee018f46fdb",
   "metadata": {},
   "outputs": [
    {
     "ename": "MyBrandNewError",
     "evalue": "",
     "output_type": "error",
     "traceback": [
      "\u001b[0;31m---------------------------------------------------------------------------\u001b[0m",
      "\u001b[0;31mMyBrandNewError\u001b[0m                           Traceback (most recent call last)",
      "Input \u001b[0;32mIn [4]\u001b[0m, in \u001b[0;36m<cell line: 4>\u001b[0;34m()\u001b[0m\n\u001b[1;32m      1\u001b[0m \u001b[38;5;28;01mclass\u001b[39;00m \u001b[38;5;21;01mMyBrandNewError\u001b[39;00m(\u001b[38;5;167;01mException\u001b[39;00m):   \u001b[38;5;66;03m# Создаём новый класс-наследник Exception\u001b[39;00m\n\u001b[1;32m      2\u001b[0m     \u001b[38;5;28;01mpass\u001b[39;00m\n\u001b[0;32m----> 4\u001b[0m \u001b[38;5;28;01mraise\u001b[39;00m MyBrandNewError\n",
      "\u001b[0;31mMyBrandNewError\u001b[0m: "
     ]
    }
   ],
   "source": [
    "class MyBrandNewError(Exception):   # Создаём новый класс-наследник Exception\n",
    "    pass\n",
    "\n",
    "raise MyBrandNewError"
   ]
  },
  {
   "cell_type": "markdown",
   "id": "07b1d7d3-faf6-45ac-887e-1713572af33a",
   "metadata": {},
   "source": [
    "В первом случае не происходит выбрасывания исключения `MyBrandNewError`, так как данный класс не обладает свойствами исключения и питон не понимает, что с ним делать, когда мы передаём его в инструкцию `raise`"
   ]
  },
  {
   "cell_type": "markdown",
   "id": "33c3ef7f-4a90-4228-88d7-29c013830ba0",
   "metadata": {},
   "source": [
    "Во втором случае наш класс **наследует** свойства исключений, а значит умеет работать с `raise`"
   ]
  },
  {
   "cell_type": "markdown",
   "id": "8a59d7cf-0660-4dda-a421-78be4d9ba1ce",
   "metadata": {},
   "source": [
    "## Логика работы наследования"
   ]
  },
  {
   "cell_type": "markdown",
   "id": "38490b77-aa2d-4041-8328-7fbf34fe765e",
   "metadata": {},
   "source": [
    "Сделаем очень простой класс, который хранит в себе некоторую последовательность и имеет метод для печати этой последовательности"
   ]
  },
  {
   "cell_type": "code",
   "execution_count": 37,
   "id": "326eb34e-7a5e-432c-9ea8-8661be2ddb5e",
   "metadata": {},
   "outputs": [],
   "source": [
    "class Sequence:\n",
    "    def __init__(self, seq):\n",
    "        self.seq = seq\n",
    "        \n",
    "    def print_sequence(self):\n",
    "        print(self.seq)"
   ]
  },
  {
   "cell_type": "code",
   "execution_count": 6,
   "id": "9f6f0510-82ba-4e1b-932c-0db39288ede5",
   "metadata": {},
   "outputs": [
    {
     "name": "stdout",
     "output_type": "stream",
     "text": [
      "ATGCGTAGCTAGCATC\n"
     ]
    }
   ],
   "source": [
    "sequence = Sequence(\"ATGCGTAGCTAGCATC\")\n",
    "sequence.print_sequence()"
   ]
  },
  {
   "cell_type": "markdown",
   "id": "90922989-3d69-47a5-99ac-1404c0a48f7c",
   "metadata": {},
   "source": [
    "Наследование позволяет сделать нам новый класс, который сохраняет всю функциональность родителя, но при этом позволяет нам добавлять туда новые методы и атрибуты, которых у родителя нет"
   ]
  },
  {
   "cell_type": "markdown",
   "id": "484d2057-6544-4548-be56-ea1c94a66ec1",
   "metadata": {},
   "source": [
    "Сперва рассмотрим простейший пример - просто сделаем наследника класса `Sequence` и не будем ничего добавлять"
   ]
  },
  {
   "cell_type": "code",
   "execution_count": 7,
   "id": "e69e5973-2d86-41b9-a4ec-573353bb5dfc",
   "metadata": {},
   "outputs": [
    {
     "name": "stdout",
     "output_type": "stream",
     "text": [
      "ATGCGTAGCTAGCATC\n"
     ]
    }
   ],
   "source": [
    "class NewSequence(Sequence):\n",
    "    pass\n",
    "\n",
    "\n",
    "sequence = NewSequence(\"ATGCGTAGCTAGCATC\")\n",
    "sequence.print_sequence()"
   ]
  },
  {
   "cell_type": "markdown",
   "id": "2027ecac-7336-4553-a40a-dde099d39d19",
   "metadata": {},
   "source": [
    "Как видим, данный класс работает точно также как и его родитель, поскольку мы не привнесли ничего нового в этот класс.\n",
    "\n",
    "Теперь попробуем добавить классу `MySequence` новый метод, которого нет в `Sequence`"
   ]
  },
  {
   "cell_type": "code",
   "execution_count": 8,
   "id": "5ee50c6a-1699-463d-8533-d576b041c729",
   "metadata": {},
   "outputs": [
    {
     "name": "stdout",
     "output_type": "stream",
     "text": [
      "ATGCGTAGCTAGCATC\n",
      "CTACGATCGATGCGTA\n"
     ]
    }
   ],
   "source": [
    "class NewSequence(Sequence):\n",
    "    def print_reversed_sequence(self):\n",
    "        print(self.seq[::-1])\n",
    "\n",
    "\n",
    "sequence = NewSequence(\"ATGCGTAGCTAGCATC\")\n",
    "sequence.print_sequence()\n",
    "sequence.print_reversed_sequence()"
   ]
  },
  {
   "cell_type": "markdown",
   "id": "aa78d86c-9b54-45e9-9bae-39de52840761",
   "metadata": {},
   "source": [
    "Мы видим, что **оба метода** (новый и родительский) успешно работают, хотя в теле класса `NewSequence` мы вообще никак не упоминали метод `print_sequence`. Этим и полезно наследование, оно помогает избегать повторения кода"
   ]
  },
  {
   "cell_type": "markdown",
   "id": "cacf76d2-dc61-4a99-b9e8-5a70d791ae66",
   "metadata": {},
   "source": [
    "В дочерних классах также возможно перезаписывать методы родительского класса, перезаписанные методы будут иметь приоритет над родительскими"
   ]
  },
  {
   "cell_type": "code",
   "execution_count": 9,
   "id": "4bcc0864-20b6-4de9-9c68-69435309530f",
   "metadata": {},
   "outputs": [
    {
     "name": "stdout",
     "output_type": "stream",
     "text": [
      "This is my sequence ATGCGTAGCTAGCATC!!!!\n",
      "CTACGATCGATGCGTA\n"
     ]
    }
   ],
   "source": [
    "class NewSequence(Sequence):\n",
    "    def print_sequence(self):   # Мы перезаписали метод с таким же именем из родительского класса\n",
    "        print(f\"This is my sequence {self.seq}!!!!\")\n",
    "        \n",
    "    def print_reversed_sequence(self):\n",
    "        print(self.seq[::-1])\n",
    "\n",
    "\n",
    "sequence = NewSequence(\"ATGCGTAGCTAGCATC\")\n",
    "sequence.print_sequence()   # Здесь происходит вызов именно новой вариации метода, а не родительской, так как мы перезаписали его\n",
    "sequence.print_reversed_sequence()"
   ]
  },
  {
   "cell_type": "markdown",
   "id": "2e412701-7bee-4f77-8b73-8a873ad00a8a",
   "metadata": {},
   "source": [
    "### Функция `super`"
   ]
  },
  {
   "cell_type": "markdown",
   "id": "4a919614-f346-4c99-aead-dc9a1ee8ae9b",
   "metadata": {},
   "source": [
    "При перезаписывании методов родителя мы не теряем их полностью, а можем обратиться к ним при помощи функции `super`"
   ]
  },
  {
   "cell_type": "code",
   "execution_count": 10,
   "id": "068be78d-4067-4c85-842e-780f1ab5fd8c",
   "metadata": {},
   "outputs": [
    {
     "name": "stdout",
     "output_type": "stream",
     "text": [
      "This is my sequence ATGCGTAGCTAGCATC\n",
      "CTACGATCGATGCGTA\n"
     ]
    }
   ],
   "source": [
    "class NewSequence(Sequence):\n",
    "    def print_sequence(self):   # Мы перезаписали метод с таким же именем из родительского класса\n",
    "        print(\"This is my sequence\", end=\" \")\n",
    "        super().print_sequence()   # Функция super позволяет нам обратиться к \"экземпляру родительского класса\"\n",
    "        \n",
    "    def print_reversed_sequence(self):\n",
    "        print(self.seq[::-1])\n",
    "\n",
    "\n",
    "sequence = NewSequence(\"ATGCGTAGCTAGCATC\")\n",
    "sequence.print_sequence()\n",
    "sequence.print_reversed_sequence()"
   ]
  },
  {
   "cell_type": "markdown",
   "id": "d3b66360-1bb9-41bc-a76f-3ff425c2b9e1",
   "metadata": {},
   "source": [
    "У `super` есть два основных способа применения:\n",
    "1. Внутри класса можно использовать просто `super()` без аргументов. В таком случае эта функция вернёт нам специальный объект, через который можно взаимодействовать с родительским классом. Это не совсем верно, но можно думать об этом, как о том, что `super()` возвращает нам `self` родителя\n",
    "2. Использовать `super` вне тела класса в 99.9999% случаев не нужно, но это при желании можно сделать следующим образом, передав в эту функцию тип объекта и сам объект"
   ]
  },
  {
   "cell_type": "code",
   "execution_count": 11,
   "id": "1f6952fd-6e4c-4db9-910f-7119619565b6",
   "metadata": {},
   "outputs": [
    {
     "name": "stdout",
     "output_type": "stream",
     "text": [
      "ATGCGTAGCTAGCATC\n"
     ]
    }
   ],
   "source": [
    "super(NewSequence, sequence).print_sequence()  # Полностью аналогично вызову super().print_sequence() внутри тела класса"
   ]
  },
  {
   "cell_type": "markdown",
   "id": "5729ea4f-72ec-445d-8db9-3a223f46f2ea",
   "metadata": {},
   "source": [
    "### Наследуются ли атрибуты (которые **не методы**)?"
   ]
  },
  {
   "cell_type": "markdown",
   "id": "8b54a808-299c-426b-b41f-f4c80fbe3dbe",
   "metadata": {},
   "source": [
    "**Да**, в примере выше мы видим, что мы можем использовать атрибут `seq` в дочернем классе. При наследовании как в примере выше, дочерний класс принимает ВСЕ методы родительского, в т.ч. `__init__`, поэтому в объекте дочернего класса при исполнении кода `NewSequence(\"ATGCGTAGCTAGCATC\")` также будет создан атрибут `seq` в унаследованном от `Sequence` методе `__init__`"
   ]
  },
  {
   "cell_type": "markdown",
   "id": "7779b4ff-df66-4609-835b-4de1542be651",
   "metadata": {},
   "source": [
    "### А как добавить дочернему классу новые атрибуты?"
   ]
  },
  {
   "cell_type": "markdown",
   "id": "ded145e9-f2bd-464f-bc62-5e531e928e4d",
   "metadata": {},
   "source": [
    "Давайте сразу рассмотрим более сложный пример. Напишем класс `NucleicAcidSequence`, который помимо методов и атрибутов из `Sequence` будет иметь дополнительный атрибут `sequence_type` и метод `complement`"
   ]
  },
  {
   "cell_type": "code",
   "execution_count": 12,
   "id": "464ccfe6-575f-4e15-a05c-62d155f57557",
   "metadata": {},
   "outputs": [
    {
     "ename": "AttributeError",
     "evalue": "'NucleicAcidSequence' object has no attribute 'seq'",
     "output_type": "error",
     "traceback": [
      "\u001b[0;31m---------------------------------------------------------------------------\u001b[0m",
      "\u001b[0;31mAttributeError\u001b[0m                            Traceback (most recent call last)",
      "Input \u001b[0;32mIn [12]\u001b[0m, in \u001b[0;36m<cell line: 12>\u001b[0;34m()\u001b[0m\n\u001b[1;32m      9\u001b[0m         \u001b[38;5;28;01mreturn\u001b[39;00m complement_seq\n\u001b[1;32m     11\u001b[0m sequence \u001b[38;5;241m=\u001b[39m NucleicAcidSequence(\u001b[38;5;124m\"\u001b[39m\u001b[38;5;124mATGCTA\u001b[39m\u001b[38;5;124m\"\u001b[39m)\n\u001b[0;32m---> 12\u001b[0m \u001b[43msequence\u001b[49m\u001b[38;5;241;43m.\u001b[39;49m\u001b[43mprint_sequence\u001b[49m\u001b[43m(\u001b[49m\u001b[43m)\u001b[49m\n",
      "Input \u001b[0;32mIn [5]\u001b[0m, in \u001b[0;36mSequence.print_sequence\u001b[0;34m(self)\u001b[0m\n\u001b[1;32m      5\u001b[0m \u001b[38;5;28;01mdef\u001b[39;00m \u001b[38;5;21mprint_sequence\u001b[39m(\u001b[38;5;28mself\u001b[39m):\n\u001b[0;32m----> 6\u001b[0m     \u001b[38;5;28mprint\u001b[39m(\u001b[38;5;28;43mself\u001b[39;49m\u001b[38;5;241;43m.\u001b[39;49m\u001b[43mseq\u001b[49m)\n",
      "\u001b[0;31mAttributeError\u001b[0m: 'NucleicAcidSequence' object has no attribute 'seq'"
     ]
    }
   ],
   "source": [
    "class NucleicAcidSequence(Sequence):\n",
    "    def __init__(self, seq, sequence_type=\"DNA\"):\n",
    "        self.sequence_type = sequence_type\n",
    "        \n",
    "    def complement(self, inplace=False):\n",
    "        complement_seq = self.seq.translate(str.maketrans(\"ATGCU\", \"TACGA\"))\n",
    "        if inplace:\n",
    "            self.seq = complement_seq\n",
    "        return complement_seq\n",
    "    \n",
    "sequence = NucleicAcidSequence(\"ATGCTA\")\n",
    "sequence.print_sequence()"
   ]
  },
  {
   "cell_type": "markdown",
   "id": "dee6d24c-bab5-4ed6-816a-b28586998f5f",
   "metadata": {},
   "source": [
    "В данном коде мы добавили к нашему классу новый атрибут `sequence_type`, но для его добавления нам пришлось перезаписать метод `__init__` родительского класса, так как в нём не было ничего связанного с `sequence_type`, а атрибуты по-хорошему надо задавать именно в конструкторе. Но в итоге наш код (вызов метода родительского класса `print_sequence`) не работает.\n",
    "\n",
    "Это происходит из-за того, что мы перезаписали унаследованный конструктор родительского класса, который выглядел вот так\n",
    "```python\n",
    "    def __init__(self, seq):\n",
    "        self.seq = seq\n",
    "```\n",
    "\n",
    "Т.е. при создании объекта класса `NucleicAcidSequence` не происходит создания ключевого атрибута `seq`, а значит все методы, которые используют `seq` автоматически перестанут работать.\n",
    "\n",
    "Данную проблему можно решить двумя способами: хорошим и плохим"
   ]
  },
  {
   "cell_type": "markdown",
   "id": "28794895-1c5f-45d2-8d49-0af131d84ba6",
   "metadata": {},
   "source": [
    "#### Плохой способ"
   ]
  },
  {
   "cell_type": "markdown",
   "id": "b860587a-4de4-4f69-9834-700a4d0c80e1",
   "metadata": {},
   "source": [
    "Для решения проблемы можно просто создать атрибут `seq` в переписанном нами конструкторе следующим образом"
   ]
  },
  {
   "cell_type": "code",
   "execution_count": 3,
   "id": "a328e36f-a677-4fd8-8bac-35d8d52d3f1b",
   "metadata": {},
   "outputs": [
    {
     "data": {
      "text/plain": [
       "{65: 84, 84: 65, 71: 67, 67: 71, 85: 65}"
      ]
     },
     "execution_count": 3,
     "metadata": {},
     "output_type": "execute_result"
    }
   ],
   "source": [
    "str.maketrans(\"ATGCU\", \"TACGA\")"
   ]
  },
  {
   "cell_type": "code",
   "execution_count": 13,
   "id": "be39c703-125a-4822-ad1d-093062b7fb46",
   "metadata": {},
   "outputs": [
    {
     "name": "stdout",
     "output_type": "stream",
     "text": [
      "ATGCTA\n"
     ]
    }
   ],
   "source": [
    "class NucleicAcidSequence(Sequence):\n",
    "    def __init__(self, seq, sequence_type=\"DNA\"):\n",
    "        self.seq = seq     # <<<<<<<<<<<\n",
    "        self.sequence_type = sequence_type\n",
    "        \n",
    "    def complement(self, inplace=False):\n",
    "        complement_seq = self.seq.translate()\n",
    "        if inplace:\n",
    "            self.seq = complement_seq\n",
    "        return complement_seq\n",
    "    \n",
    "sequence = NucleicAcidSequence(\"ATGCTA\")\n",
    "sequence.print_sequence()"
   ]
  },
  {
   "cell_type": "markdown",
   "id": "551e917b-52a8-4d67-93f5-58d1e25bb615",
   "metadata": {},
   "source": [
    "Поскольку мы возвращаем в класс атрибут `seq`, всё теперь работает. Но мы можем заметить, что данное решение выглядит не очень изящно. Допустим, что в методе `__init__` родительского класса у нас создавался бы не один атрибут `seq`, а, скажем, 15 различных атрибутов. Было бы не очень удобно просто копировать код их создания в конструктор дочернего класса, повторы кода это плохо"
   ]
  },
  {
   "cell_type": "markdown",
   "id": "f4760c45-be01-414d-be67-a1e7088912e9",
   "metadata": {},
   "source": [
    "#### Хороший способ"
   ]
  },
  {
   "cell_type": "markdown",
   "id": "0dda3851-f7d4-4af3-984b-0186816f75ad",
   "metadata": {},
   "source": [
    "Давайте всё-таки представим, что в конструкторе родительского класса у нас создаётся 15 атрибутов"
   ]
  },
  {
   "cell_type": "code",
   "execution_count": 8,
   "id": "1559c109-3802-4b88-9958-3c6d6f93c6d4",
   "metadata": {},
   "outputs": [],
   "source": [
    "class Sequence:\n",
    "    def __init__(self, seq):\n",
    "        self.seq = seq\n",
    "        self.attr1 = 1\n",
    "        self.attr2 = 2\n",
    "        self.attr3 = 3\n",
    "        self.attr4 = 4\n",
    "        self.attr5 = 5\n",
    "        self.attr6 = 6\n",
    "        self.attr7 = 7\n",
    "        self.attr8 = 8\n",
    "        self.attr9 = 9\n",
    "        self.attr10 = 10\n",
    "        self.attr11 = 11\n",
    "        self.attr12 = 12\n",
    "        self.attr13 = 13\n",
    "        self.attr14 = 14\n",
    "        \n",
    "    def print_sequence(self):\n",
    "        print(self.seq)"
   ]
  },
  {
   "cell_type": "markdown",
   "id": "e86258e8-2533-4b25-ab89-1cd05f6bdf5b",
   "metadata": {},
   "source": [
    "C использованием плохого способа из предыдущего шага, дочерний класс выглядел бы вот так"
   ]
  },
  {
   "cell_type": "code",
   "execution_count": 9,
   "id": "3aeb0d05-c897-4a48-9c3f-0b0d9d5283ab",
   "metadata": {},
   "outputs": [],
   "source": [
    "class NucleicAcidSequence(Sequence):\n",
    "    def __init__(self, seq, sequence_type=\"DNA\"):\n",
    "        self.seq = seq\n",
    "        self.attr1 = 1\n",
    "        self.attr2 = 2\n",
    "        self.attr3 = 3\n",
    "        self.attr4 = 4\n",
    "        self.attr5 = 5\n",
    "        self.attr6 = 6\n",
    "        self.attr7 = 7\n",
    "        self.attr8 = 8\n",
    "        self.attr9 = 9\n",
    "        self.attr10 = 10\n",
    "        self.attr11 = 11\n",
    "        self.attr12 = 12\n",
    "        self.attr13 = 13\n",
    "        self.attr14 = 14\n",
    "        self.sequence_type = sequence_type\n",
    "        \n",
    "    def complement(self, inplace=False):\n",
    "        complement_seq = self.seq.translate(str.maketrans(\"ATGCU\", \"TACGA\"))\n",
    "        if inplace:\n",
    "            self.seq = complement_seq\n",
    "        return complement_seq"
   ]
  },
  {
   "cell_type": "markdown",
   "id": "e4e56c31-c391-4118-86d8-e8f4991dddd1",
   "metadata": {},
   "source": [
    "Мы чётко видим, что код из родительского и дочернего класса тупо повторяется. В таком случае, почему бы нам просто не вызвать конструктор родительского класса внутри конструктора дочернего, в результате этого будет выполнен тот же самый код, что и в примере выше"
   ]
  },
  {
   "cell_type": "code",
   "execution_count": 10,
   "id": "eabfe03e-12a2-4046-986e-ed22e6e955bf",
   "metadata": {},
   "outputs": [
    {
     "name": "stdout",
     "output_type": "stream",
     "text": [
      "ATGC\n"
     ]
    },
    {
     "data": {
      "text/plain": [
       "7"
      ]
     },
     "execution_count": 10,
     "metadata": {},
     "output_type": "execute_result"
    }
   ],
   "source": [
    "class NucleicAcidSequence(Sequence):\n",
    "    def __init__(self, seq, sequence_type=\"DNA\"):\n",
    "        super().__init__(seq)       # Здесь мы вызываем конструктор родительского класса, в результате чего наш объект получит те самые 15 атрибутов из конструктора родительского класса\n",
    "        self.sequence_type = sequence_type\n",
    "        \n",
    "    def complement(self, inplace=False):\n",
    "        complement_seq = self.seq.translate(str.maketrans(\"ATGCU\", \"TACGA\"))\n",
    "        if inplace:\n",
    "            self.seq = complement_seq\n",
    "        return complement_seq\n",
    "    \n",
    "sequence = NucleicAcidSequence(\"ATGC\")\n",
    "sequence.print_sequence()\n",
    "sequence.attr7"
   ]
  },
  {
   "cell_type": "markdown",
   "id": "e8c10450-927f-422d-80f8-c85724210658",
   "metadata": {},
   "source": [
    "При наследовании в большинстве случаев вам нужно будет делать именно так, поэтому не забывайте сначала вызвать конструктор родительского класса, а потом уже создавать атрибуты для дочернего"
   ]
  },
  {
   "cell_type": "markdown",
   "id": "0fa8fc76-e5b6-484f-9cd4-9929ce044700",
   "metadata": {},
   "source": [
    "## Множественное наследование"
   ]
  },
  {
   "cell_type": "markdown",
   "id": "e160c258-ce24-4fbe-94e0-1de1eda35670",
   "metadata": {},
   "source": [
    "Всё, что вам пока нужно знать о множественном наследовании - **оно существует**. Синтаксис выглядит следующим образом\n",
    "```python\n",
    "class NewClass(ParentClass1, ParentClass2, ParentClass3):\n",
    "    # Тело класса\n",
    "    pass\n",
    "```\n",
    "Оно работает точно так как вы ожидаете, пытаясь передать дочернему классу атрибуты от всех родителей. При этом там имеются свои нюансы при одинаковых именах атрибутов у родителей, поиске атрибутов и т.д.\n",
    "\n",
    "Используется довольно редко, поэтому просто достаточно помнить, что оно есть/\n",
    "\n",
    "Ниже приведён тупой пример, просто для представления"
   ]
  },
  {
   "cell_type": "code",
   "execution_count": 35,
   "id": "d6fa130e-7ca1-44f9-ac50-4fe79c858ae2",
   "metadata": {},
   "outputs": [],
   "source": [
    "class Bee:\n",
    "    def voice(self):\n",
    "        print(\"Bzzzzz\")\n",
    "\n",
    "class Swarm(Bee, list):\n",
    "    def voice(self):\n",
    "        for bee in self:\n",
    "            super().voice()"
   ]
  },
  {
   "cell_type": "code",
   "execution_count": 40,
   "id": "52f32cc4-db1b-445d-9a55-de925d92056e",
   "metadata": {},
   "outputs": [],
   "source": [
    "swarm = Swarm()\n",
    "swarm.append(1)\n",
    "swarm.append(2)\n",
    "swarm.append(3)\n",
    "swarm.append(4)\n",
    "swarm.append(5)\n",
    "swarm.pop();"
   ]
  },
  {
   "cell_type": "code",
   "execution_count": 41,
   "id": "383912a6-e557-417a-bc64-5ad60ae42ba2",
   "metadata": {},
   "outputs": [
    {
     "name": "stdout",
     "output_type": "stream",
     "text": [
      "Bzzzzz\n",
      "Bzzzzz\n",
      "Bzzzzz\n",
      "Bzzzzz\n"
     ]
    }
   ],
   "source": [
    "swarm.voice()"
   ]
  },
  {
   "cell_type": "markdown",
   "id": "954cbcac-0770-44f2-b382-1facc9939f0f",
   "metadata": {},
   "source": [
    "## Функции `isinstance` и `issubclass`"
   ]
  },
  {
   "cell_type": "markdown",
   "id": "fea1a4a8-072e-4811-86b8-a890203cd306",
   "metadata": {},
   "source": [
    "### Функция `isinstance`"
   ]
  },
  {
   "cell_type": "markdown",
   "id": "910519f6-9af8-4739-b9bc-5ffc3ea1c794",
   "metadata": {},
   "source": [
    "Данная функция позволяет нам узнать является ли **объект** экземпляром определённого класса, с учётом его родителей"
   ]
  },
  {
   "cell_type": "code",
   "execution_count": 40,
   "id": "aa0bc229-f7f2-4f5a-978c-a7a113f81f28",
   "metadata": {},
   "outputs": [
    {
     "name": "stdout",
     "output_type": "stream",
     "text": [
      "False\n",
      "True\n",
      "True\n"
     ]
    }
   ],
   "source": [
    "class NucleicAcidSequence(Sequence):\n",
    "    pass\n",
    "    \n",
    "sequence = NucleicAcidSequence(\"ATGC\")\n",
    "\n",
    "# Первым аргументом является проверяемый объект, а вторым класс\n",
    "print(isinstance(sequence, int))    # Объект sequence НЕ является экземпляром класса int\n",
    "print(isinstance(sequence, NucleicAcidSequence))    # Объект sequence ЯВЛЯЕТСЯ экземпляром класса NucleicAcidSequence\n",
    "print(isinstance(sequence, Sequence))    # Объект sequence ЯВЛЯЕТСЯ экземпляром класса Sequence, так как класс данного объекта был унаследован от Sequence"
   ]
  },
  {
   "cell_type": "markdown",
   "id": "eff0f94b-feb5-4453-a50a-b6d3e0c18815",
   "metadata": {},
   "source": [
    "### Функция `issubclass`"
   ]
  },
  {
   "cell_type": "markdown",
   "id": "e9c41f7f-8397-4d6a-b67e-2d747eb5ef8e",
   "metadata": {},
   "source": [
    "Данная функция работает точно также как и `isinstance`, но первым аргументом принимает класс. Т.е. мы проверяем является ли один класс наследником другого"
   ]
  },
  {
   "cell_type": "code",
   "execution_count": 42,
   "id": "996458e4-ebb3-46ab-8beb-0fe44a7bb1d1",
   "metadata": {},
   "outputs": [
    {
     "name": "stdout",
     "output_type": "stream",
     "text": [
      "False\n",
      "True\n",
      "True\n"
     ]
    }
   ],
   "source": [
    "class NucleicAcidSequence(Sequence):\n",
    "    pass\n",
    "    \n",
    "sequence = NucleicAcidSequence(\"ATGC\")\n",
    "\n",
    "# Первым аргументом является проверяемый класс\n",
    "print(issubclass(NucleicAcidSequence, int))    # Класс NucleicAcidSequence НЕ является наследником класса int\n",
    "print(issubclass(NucleicAcidSequence, NucleicAcidSequence))    # Класс NucleicAcidSequence формально является подклассом самого себя, поэтому функция возвращает True\n",
    "print(issubclass(NucleicAcidSequence, Sequence))    # Класс NucleicAcidSequence ЯВЛЯЕТСЯ наследником класса Sequence"
   ]
  },
  {
   "cell_type": "markdown",
   "id": "784f63ae-c367-4f83-909a-6e349652e3b4",
   "metadata": {},
   "source": [
    "## Примеры"
   ]
  },
  {
   "cell_type": "markdown",
   "id": "cf49cb39-9d1f-4a24-867d-5bc909d35943",
   "metadata": {},
   "source": [
    "### Наследование от `str`"
   ]
  },
  {
   "cell_type": "markdown",
   "id": "f0ec10a4-1fe1-4d3b-8456-be8a72a1e121",
   "metadata": {},
   "source": [
    "Посмотрим подробнее как работает наследование на примере наследования от встроенного класса `str`"
   ]
  },
  {
   "cell_type": "code",
   "execution_count": 16,
   "id": "18d94f06-067c-48b2-b307-d59c18058422",
   "metadata": {},
   "outputs": [],
   "source": [
    "class Sequence(str):\n",
    "    pass"
   ]
  },
  {
   "cell_type": "markdown",
   "id": "72024371-c036-4e55-8a97-98ef8b5d3a7d",
   "metadata": {},
   "source": [
    "Так как мы унаследовали наш класс от `str`, он будет обладать всеми методами `str`"
   ]
  },
  {
   "cell_type": "code",
   "execution_count": 17,
   "id": "131b469e-2af7-4a3b-8ba9-afcedb064f4b",
   "metadata": {},
   "outputs": [],
   "source": [
    "seq1 = Sequence(\"ATGC\")\n",
    "seq2 = Sequence(\"CGTA\")"
   ]
  },
  {
   "cell_type": "code",
   "execution_count": 18,
   "id": "537c2861-2484-4364-9a66-4ec789ed2846",
   "metadata": {},
   "outputs": [
    {
     "data": {
      "text/plain": [
       "'ATGCCGTA'"
      ]
     },
     "execution_count": 18,
     "metadata": {},
     "output_type": "execute_result"
    }
   ],
   "source": [
    "seq1 + seq2"
   ]
  },
  {
   "cell_type": "code",
   "execution_count": 19,
   "id": "d95b28b8-220b-42a5-83ce-82c080a6cfc1",
   "metadata": {},
   "outputs": [
    {
     "data": {
      "text/plain": [
       "'ATGCATGC'"
      ]
     },
     "execution_count": 19,
     "metadata": {},
     "output_type": "execute_result"
    }
   ],
   "source": [
    "seq1 * 2"
   ]
  },
  {
   "cell_type": "code",
   "execution_count": 20,
   "id": "6b6101dd-2868-452a-b1f5-8ee44b93af1c",
   "metadata": {},
   "outputs": [
    {
     "data": {
      "text/plain": [
       "'ATGCCGTA'"
      ]
     },
     "execution_count": 20,
     "metadata": {},
     "output_type": "execute_result"
    }
   ],
   "source": [
    "\"\".join([seq1, seq2])"
   ]
  },
  {
   "cell_type": "code",
   "execution_count": 22,
   "id": "18a65d19-fe83-417d-9cd9-15c078867bc0",
   "metadata": {},
   "outputs": [
    {
     "data": {
      "text/plain": [
       "'atgc'"
      ]
     },
     "execution_count": 22,
     "metadata": {},
     "output_type": "execute_result"
    }
   ],
   "source": [
    "seq1.lower()"
   ]
  },
  {
   "cell_type": "code",
   "execution_count": 23,
   "id": "f673d678-7c0e-4a21-bb3a-a039473ef84b",
   "metadata": {},
   "outputs": [
    {
     "data": {
      "text/plain": [
       "'CGT'"
      ]
     },
     "execution_count": 23,
     "metadata": {},
     "output_type": "execute_result"
    }
   ],
   "source": [
    "seq2.strip(\"A\")"
   ]
  },
  {
   "cell_type": "code",
   "execution_count": 26,
   "id": "4b5038ef-2329-4165-958d-bbb37c065ef1",
   "metadata": {},
   "outputs": [
    {
     "data": {
      "text/plain": [
       "(__main__.Sequence, __main__.Sequence)"
      ]
     },
     "execution_count": 26,
     "metadata": {},
     "output_type": "execute_result"
    }
   ],
   "source": [
    "type(seq1), type(seq2)"
   ]
  },
  {
   "cell_type": "markdown",
   "id": "dee1d7dd-c444-4bde-b36a-f5fb90dd4457",
   "metadata": {},
   "source": [
    "Как мы видим, наши объекты `sequence` работают точно также как и строки, но при этом имеют свой тип"
   ]
  },
  {
   "cell_type": "markdown",
   "id": "195f07e5-22ce-4f7e-8f04-9428afd63705",
   "metadata": {},
   "source": [
    "Давайте добавим нашему классу метод `random_case`, который будет случайно делать символы в строке большими или маленькими"
   ]
  },
  {
   "cell_type": "code",
   "execution_count": 43,
   "id": "3c93c53f-3c12-401b-8a69-6f7d202460bf",
   "metadata": {},
   "outputs": [
    {
     "data": {
      "text/plain": [
       "'aTgcaGtC'"
      ]
     },
     "execution_count": 43,
     "metadata": {},
     "output_type": "execute_result"
    }
   ],
   "source": [
    "import random\n",
    "\n",
    "\n",
    "class Sequence(str):\n",
    "    def random_case(self):\n",
    "        # self - это ссылка на текущий объект, поскольку мы унаследовались от str, то с ним можно обращаться как со строкой\n",
    "        new_str = \"\".join([random.choice([str.lower, str.upper])(char) for char in self])\n",
    "        return Sequence(new_str)   # Будет логично, если подобный метод будет возвращать тот же тип\n",
    "    \n",
    "sequence = Sequence(\"ATGCAGTC\")\n",
    "sequence.random_case()"
   ]
  },
  {
   "cell_type": "markdown",
   "id": "64bdc534-ad8f-4d70-9456-a64e4e0120a3",
   "metadata": {},
   "source": [
    "В примере выше мы возвращаем из метода объект типа `Sequence`, но мы указали это явно, с другими методами это работать не будет и это не круто"
   ]
  },
  {
   "cell_type": "code",
   "execution_count": 44,
   "id": "fbc09568-2da8-40c6-993a-6787fa722ab6",
   "metadata": {},
   "outputs": [
    {
     "data": {
      "text/plain": [
       "str"
      ]
     },
     "execution_count": 44,
     "metadata": {},
     "output_type": "execute_result"
    }
   ],
   "source": [
    "type(sequence.lower())  # А хотелось бы увидеть Sequence("
   ]
  },
  {
   "cell_type": "markdown",
   "id": "afe5e0ec-89d5-456e-a778-a2b53439b686",
   "metadata": {},
   "source": [
    "### Наследование нескольких классов от одного"
   ]
  },
  {
   "cell_type": "markdown",
   "id": "2e776da7-c5bb-48b3-aa49-539017e7010d",
   "metadata": {},
   "source": [
    "Этот шаблон используется наиболее часто. Он пригодится вам, когда вы имеете несколько сущностей, которые очень сильно похожи, но отличаются в некоторых деталях. В таком случае весь код, который обеспечивает \"похожесть\" можно вынести в отдельный родительский класс и унаследовать от него несколько других, внеся в них лишь небольшие изменения"
   ]
  },
  {
   "cell_type": "markdown",
   "id": "db91c11d-cf1d-4b7e-8af8-fea16ec52b85",
   "metadata": {},
   "source": [
    "Для примера попробуем расширить историю с классом Sequence для биологических последовательностей/\n",
    "\n",
    "Для начала напишем три простеньких класса для нуклеотидных, аминокислотных и углеводных последовательностей"
   ]
  },
  {
   "cell_type": "code",
   "execution_count": 50,
   "id": "644eb52a-7d36-4834-8812-1608347b5407",
   "metadata": {},
   "outputs": [],
   "source": [
    "from collections import Counter\n",
    "\n",
    "\n",
    "class NucleicAcidSequence:\n",
    "    def __init__(self, seq):\n",
    "        self.seq = seq\n",
    "        \n",
    "    def content(self):\n",
    "        return Counter(self.seq)\n",
    "    \n",
    "    def print_sequence(self):\n",
    "        print(self.seq)\n",
    "        \n",
    "    def complement(self):\n",
    "        complement_seq = self.seq.translate(str.maketrans(\"ATGCU\", \"TACGA\"))\n",
    "        return NucleicAcidSequence(complement_seq)\n",
    "\n",
    "class AminoAcidSequence:\n",
    "    def __init__(self, seq):\n",
    "        self.seq = seq\n",
    "        \n",
    "    def content(self):\n",
    "        return Counter(self.seq)\n",
    "    \n",
    "    def print_sequence(self):\n",
    "        print(self.seq)\n",
    "        \n",
    "    def pi(self):\n",
    "        # Мысленно представьте здесь код, который считает изоэлектрическую точку белка\n",
    "        pass\n",
    "\n",
    "class CarbohydrateSequence:\n",
    "    def __init__(self, seq):\n",
    "        self.seq = seq\n",
    "        \n",
    "    def content(self):\n",
    "        return Counter(self.seq)\n",
    "    \n",
    "    def print_sequence(self):\n",
    "        print(self.seq)\n",
    "        \n",
    "    def is_branching(self):\n",
    "        # Мысленно представьте здесь код, который определяет, является ли полисахарид разветвлённым\n",
    "        pass"
   ]
  },
  {
   "cell_type": "markdown",
   "id": "f1e2eb5f-8314-4264-bfbc-119baf066329",
   "metadata": {},
   "source": [
    "Как мы видим, хоть формально данные классы и представляют разные сущности, у них очень много общего, в частности, все они имеют атрибут `seq` и одинаковые методы `content` и `print_sequence`. Эти повторяющиеся куски кода можно выделить в отдельный класс и унаследовать наши классы от него, оставив внутри них только уникальные функции."
   ]
  },
  {
   "cell_type": "code",
   "execution_count": 51,
   "id": "be819d2c-66e6-4778-b8b6-b4cb6eaea952",
   "metadata": {},
   "outputs": [],
   "source": [
    "from collections import Counter\n",
    "\n",
    "\n",
    "class Sequence:\n",
    "    def __init__(self, seq):\n",
    "        self.seq = seq\n",
    "        \n",
    "    def content(self):\n",
    "        return Counter(self.seq)\n",
    "    \n",
    "    def print_sequence(self):\n",
    "        print(self.seq)\n",
    "\n",
    "\n",
    "class NucleicAcidSequence(Sequence):    \n",
    "    def complement(self):\n",
    "        complement_seq = self.seq.translate(str.maketrans(\"ATGCU\", \"TACGA\"))\n",
    "        return NucleicAcidSequence(complement_seq)\n",
    "\n",
    "class AminoAcidSequence(Sequence): \n",
    "    def pi(self):\n",
    "        # Мысленно представьте здесь код, который считает изоэлектрическую точку белка\n",
    "        pass\n",
    "\n",
    "class CarbohydrateSequence(Sequence):\n",
    "    def is_branching(self):\n",
    "        # Мысленно представьте здесь код, который определяет, является ли полисахарид разветвлённым\n",
    "        pass"
   ]
  },
  {
   "cell_type": "markdown",
   "id": "bdb9ff04-de12-4751-945b-7c2ec4d6b055",
   "metadata": {},
   "source": [
    "Код стал намного чище и более читаемым, так как мы избавились от повторов. К тому же, если мы вдруг захотим добавить какой-то новый функционал для всех классов, нам нужно будет добавить его только в `Sequence` и он автоматически станет доступен его наследникам. Наследование это круто!"
   ]
  },
  {
   "cell_type": "code",
   "execution_count": 54,
   "id": "c61f26fa-e6f8-45b3-91c4-aa7e2b6218c9",
   "metadata": {},
   "outputs": [
    {
     "name": "stdout",
     "output_type": "stream",
     "text": [
      "CGTA\n",
      "EDCA\n"
     ]
    }
   ],
   "source": [
    "from collections import Counter\n",
    "\n",
    "\n",
    "class Sequence:\n",
    "    def __init__(self, seq):\n",
    "        self.seq = seq\n",
    "        \n",
    "    def content(self):\n",
    "        return Counter(self.seq)\n",
    "    \n",
    "    def print_sequence(self):\n",
    "        print(self.seq)\n",
    "        \n",
    "    def reverse(self):\n",
    "        return type(self)(self.seq[::-1])   # Попробуйте разобраться, почему мы делаем именно так\n",
    "\n",
    "\n",
    "class NucleicAcidSequence(Sequence):    \n",
    "    def complement(self):\n",
    "        complement_seq = self.seq.translate(str.maketrans(\"ATGCU\", \"TACGA\"))\n",
    "        return NucleicAcidSequence(complement_seq)\n",
    "\n",
    "class AminoAcidSequence(Sequence): \n",
    "    def pi(self):\n",
    "        # Мысленно представьте здесь код, который считает изоэлектрическую точку белка\n",
    "        pass\n",
    "\n",
    "class CarbohydrateSequence(Sequence):\n",
    "    def is_branching(self):\n",
    "        # Мысленно представьте здесь код, который определяет, является ли полисахарид разветвлённым\n",
    "        pass\n",
    "    \n",
    "    \n",
    "na_sequence = NucleicAcidSequence(\"ATGC\")\n",
    "print(na_sequence.reverse().seq)\n",
    "\n",
    "aa_sequence = AminoAcidSequence(\"ACDE\")\n",
    "print(aa_sequence.reverse().seq)"
   ]
  },
  {
   "cell_type": "markdown",
   "id": "4f869cd9-9d49-43f4-9b54-efb398f6c418",
   "metadata": {},
   "source": [
    "Вуаля, мы добавили код в `Sequence`, но можем использовать его с любым из классов"
   ]
  },
  {
   "cell_type": "markdown",
   "id": "9c25192d-f133-4a35-b3d2-cc710fc1e9d8",
   "metadata": {},
   "source": [
    "# Полезные функции при работе с ООП"
   ]
  },
  {
   "cell_type": "markdown",
   "id": "8f06dc94-a4b5-41fc-af48-81e442bccb63",
   "metadata": {},
   "source": [
    "## Функция `dir`"
   ]
  },
  {
   "cell_type": "markdown",
   "id": "27e07fc0-5123-4510-8080-f29185f0fbc6",
   "metadata": {},
   "source": [
    "Функция `dir` это наше всё. При передаче ей любого объекта она возвращает полный список его атрибутов"
   ]
  },
  {
   "cell_type": "code",
   "execution_count": 43,
   "id": "647297cd-234b-4eb7-8675-cb684e3748fc",
   "metadata": {},
   "outputs": [
    {
     "data": {
      "text/plain": [
       "['__add__',\n",
       " '__class__',\n",
       " '__contains__',\n",
       " '__delattr__',\n",
       " '__dir__',\n",
       " '__doc__',\n",
       " '__eq__',\n",
       " '__format__',\n",
       " '__ge__',\n",
       " '__getattribute__',\n",
       " '__getitem__',\n",
       " '__getnewargs__',\n",
       " '__gt__',\n",
       " '__hash__',\n",
       " '__init__',\n",
       " '__init_subclass__',\n",
       " '__iter__',\n",
       " '__le__',\n",
       " '__len__',\n",
       " '__lt__',\n",
       " '__mod__',\n",
       " '__mul__',\n",
       " '__ne__',\n",
       " '__new__',\n",
       " '__reduce__',\n",
       " '__reduce_ex__',\n",
       " '__repr__',\n",
       " '__rmod__',\n",
       " '__rmul__',\n",
       " '__setattr__',\n",
       " '__sizeof__',\n",
       " '__str__',\n",
       " '__subclasshook__',\n",
       " 'capitalize',\n",
       " 'casefold',\n",
       " 'center',\n",
       " 'count',\n",
       " 'encode',\n",
       " 'endswith',\n",
       " 'expandtabs',\n",
       " 'find',\n",
       " 'format',\n",
       " 'format_map',\n",
       " 'index',\n",
       " 'isalnum',\n",
       " 'isalpha',\n",
       " 'isascii',\n",
       " 'isdecimal',\n",
       " 'isdigit',\n",
       " 'isidentifier',\n",
       " 'islower',\n",
       " 'isnumeric',\n",
       " 'isprintable',\n",
       " 'isspace',\n",
       " 'istitle',\n",
       " 'isupper',\n",
       " 'join',\n",
       " 'ljust',\n",
       " 'lower',\n",
       " 'lstrip',\n",
       " 'maketrans',\n",
       " 'partition',\n",
       " 'removeprefix',\n",
       " 'removesuffix',\n",
       " 'replace',\n",
       " 'rfind',\n",
       " 'rindex',\n",
       " 'rjust',\n",
       " 'rpartition',\n",
       " 'rsplit',\n",
       " 'rstrip',\n",
       " 'split',\n",
       " 'splitlines',\n",
       " 'startswith',\n",
       " 'strip',\n",
       " 'swapcase',\n",
       " 'title',\n",
       " 'translate',\n",
       " 'upper',\n",
       " 'zfill']"
      ]
     },
     "execution_count": 43,
     "metadata": {},
     "output_type": "execute_result"
    }
   ],
   "source": [
    "dir(\"ATGC\")"
   ]
  },
  {
   "cell_type": "markdown",
   "id": "4ff4f44d-6b85-41d3-9245-e5155004327a",
   "metadata": {},
   "source": [
    "> Круто конечно, но где это вообще может пригодиться?\n",
    "\n",
    "Хороший вопрос! Многие непопулярные библиотеки, а также редко используемые модули в популярных библиотеках зачастую имеют очень скудную документацию в которой просто может не быть сказано про те или иные атрибуты объекта. Также эта информация может быть в документации, но её бывает очень трудно найти из-за сложной иерархии библиотеки, неудобной организации документации и ещё кучи других проблем, которые могут помешать вам найти документацию для неизвестного объекта, который появился в вашем коде.\n",
    "\n",
    "В таких случаях очень хорошим и действенным способом бывает передать интересующий вас объект в функцию `dir` и посмотреть на его набор атрибутов. Зачастую разработчики дают атрибутам адекватный нейминг, поэтому по их названиям можно приблизительно понять, что они делают. Кроме этого, результат функции `dir` также включает в себя приватные атрибуты (о них мы поговорим позже), которые зачастую вообще не включают в документацию, но они могут быть полезны в определённых ситуациях"
   ]
  },
  {
   "cell_type": "markdown",
   "id": "5bf5ba18-99dd-40f7-a456-c9d044ec33e2",
   "metadata": {},
   "source": [
    "Для примера возьмём пакет `biopython`, имеющий очень плохо организованную документацию. Рассмотрим только модуль `Seq` - https://biopython.org/docs/latest/api/Bio.Seq.html#Bio.Seq.Seq и допустим, что у нас в коде есть объект типа `Seq` и мы хотим узнать, что он может"
   ]
  },
  {
   "cell_type": "code",
   "execution_count": 60,
   "id": "47176eee-922d-416a-ad87-17b8101d5e7b",
   "metadata": {},
   "outputs": [],
   "source": [
    "from Bio.Seq import Seq\n",
    "\n",
    "\n",
    "sequence = Seq(\"ATGC\")"
   ]
  },
  {
   "cell_type": "markdown",
   "id": "8a3d9539-7127-4399-9ff4-9aee7c18369b",
   "metadata": {},
   "source": [
    "В приведённой документации так или иначе есть информация о методах `Seq`, но они раскиданы по разным классам и искать там информацию крайне не удобно, особенно, если ты не знаешь, что именно тебе нужно искать.\n",
    "\n",
    "Но у нас есть способ куда проще, мы можем просто посмотреть на результат функции `dir`"
   ]
  },
  {
   "cell_type": "code",
   "execution_count": 61,
   "id": "fd8133a1-1951-4298-8b73-4b01fbb8cbed",
   "metadata": {},
   "outputs": [
    {
     "data": {
      "text/plain": [
       "['__abstractmethods__',\n",
       " '__add__',\n",
       " '__bytes__',\n",
       " '__class__',\n",
       " '__contains__',\n",
       " '__delattr__',\n",
       " '__dict__',\n",
       " '__dir__',\n",
       " '__doc__',\n",
       " '__eq__',\n",
       " '__format__',\n",
       " '__ge__',\n",
       " '__getattribute__',\n",
       " '__getitem__',\n",
       " '__gt__',\n",
       " '__hash__',\n",
       " '__imul__',\n",
       " '__init__',\n",
       " '__init_subclass__',\n",
       " '__le__',\n",
       " '__len__',\n",
       " '__lt__',\n",
       " '__module__',\n",
       " '__mul__',\n",
       " '__ne__',\n",
       " '__new__',\n",
       " '__radd__',\n",
       " '__reduce__',\n",
       " '__reduce_ex__',\n",
       " '__repr__',\n",
       " '__rmul__',\n",
       " '__setattr__',\n",
       " '__sizeof__',\n",
       " '__slots__',\n",
       " '__str__',\n",
       " '__subclasshook__',\n",
       " '__weakref__',\n",
       " '_abc_impl',\n",
       " '_data',\n",
       " 'back_transcribe',\n",
       " 'complement',\n",
       " 'complement_rna',\n",
       " 'count',\n",
       " 'count_overlap',\n",
       " 'encode',\n",
       " 'endswith',\n",
       " 'find',\n",
       " 'index',\n",
       " 'join',\n",
       " 'lower',\n",
       " 'lstrip',\n",
       " 'replace',\n",
       " 'reverse_complement',\n",
       " 'reverse_complement_rna',\n",
       " 'rfind',\n",
       " 'rindex',\n",
       " 'rsplit',\n",
       " 'rstrip',\n",
       " 'split',\n",
       " 'startswith',\n",
       " 'strip',\n",
       " 'tomutable',\n",
       " 'transcribe',\n",
       " 'translate',\n",
       " 'ungap',\n",
       " 'upper']"
      ]
     },
     "execution_count": 61,
     "metadata": {},
     "output_type": "execute_result"
    }
   ],
   "source": [
    "dir(sequence)"
   ]
  },
  {
   "attachments": {
    "dcf16a2e-1b86-42a8-b553-3771e5b69c8f.png": {
     "image/png": "[encoded data removed]"
    }
   },
   "cell_type": "markdown",
   "id": "15207fd4-0988-4d8c-a345-82d223d9e235",
   "metadata": {},
   "source": [
    "Пока что нас интересуют только атрибуты без `_` в начале. Как мы видим, здесь всё собрано в одном месте и только для интересующего нас класса и нейминг довольно self explanatory. При этом вы всегда сможете попробовать выполнить какие-то методы, особенное, если работаете в ноутбуке.\n",
    "\n",
    "Альтернативой `dir` также является автодополнение в IDE, но они имеют один минус - зачастую не показывают приватные атрибуты (начинающиеся с `_`), `dir` же даёт нам полный список\n",
    "\n",
    "![image.png](attachment:dcf16a2e-1b86-42a8-b553-3771e5b69c8f.png)"
   ]
  },
  {
   "cell_type": "markdown",
   "id": "3adf4d15-329b-4556-9438-f018f2935747",
   "metadata": {},
   "source": [
    "Приватные же атрибуты позволяют нам залезть в самые кишки объекта, иногда позволяя получать информацию, для которой разработчики не предоставили отдельный функционал.\n",
    "\n",
    "Например, покопавшись в приватных атрибутах объекта `Seq` можно выяснить, что где-то внутри него последовательность представлена байтовой строкой."
   ]
  },
  {
   "cell_type": "code",
   "execution_count": 65,
   "id": "de2ad0e6-96e2-42b7-8ee4-f321295a3efa",
   "metadata": {},
   "outputs": [
    {
     "data": {
      "text/plain": [
       "(b'ATGC', bytes)"
      ]
     },
     "execution_count": 65,
     "metadata": {},
     "output_type": "execute_result"
    }
   ],
   "source": [
    "sequence._data, type(sequence._data)"
   ]
  },
  {
   "cell_type": "markdown",
   "id": "bf782b6e-4d44-4879-a6f8-b32bcd6b1160",
   "metadata": {},
   "source": [
    "## Функции ***attr"
   ]
  },
  {
   "cell_type": "markdown",
   "id": "765d87ac-9c30-4d8f-a15d-c5694981e9f2",
   "metadata": {},
   "source": [
    "Данные функции позволяют взаимодействовать с атрибутами объектов. Они используются не очень часто, но в некоторых ситуациях незаменимы или просто сильно облегчают работу"
   ]
  },
  {
   "cell_type": "markdown",
   "id": "421e6412-779a-4b1f-adbe-6cc0cf736218",
   "metadata": {},
   "source": [
    "### Функция `hasattr`"
   ]
  },
  {
   "cell_type": "markdown",
   "id": "22d4853b-62cf-4695-9f69-b79629edf633",
   "metadata": {},
   "source": [
    "Позволяет нам проверить, имеет ли объект тот или иной атрибут. Это бывает нужно, чтобы избежать ошибок `AttributeError`"
   ]
  },
  {
   "cell_type": "markdown",
   "id": "c988a7b2-b281-490d-8ecf-55412e46aa39",
   "metadata": {},
   "source": [
    "Например, методы строк `removeprefix` и `removesuffix` были добавлены только в версии Python 3.9 и следующий код **на младших версиях выбросил бы ошибку** `AttributeError`, так как данных методов тогда ещё не было"
   ]
  },
  {
   "cell_type": "code",
   "execution_count": 68,
   "id": "7bdac11d-d4ea-4146-91d8-edebf4e54d10",
   "metadata": {},
   "outputs": [
    {
     "data": {
      "text/plain": [
       "'Some '"
      ]
     },
     "execution_count": 68,
     "metadata": {},
     "output_type": "execute_result"
    }
   ],
   "source": [
    "obj = \"Some string\"\n",
    "obj.removesuffix(\"string\")"
   ]
  },
  {
   "cell_type": "markdown",
   "id": "83f76439-c8c1-4df0-96b0-a40bce6c12c0",
   "metadata": {},
   "source": [
    "`hasattr` позволяет нам проверить наличие аттрибута у объекта без необходимости писать блок try-except AttributeError"
   ]
  },
  {
   "cell_type": "code",
   "execution_count": 69,
   "id": "ef50c0d9-1eaf-4ca4-8914-aa328eab448b",
   "metadata": {},
   "outputs": [
    {
     "name": "stdout",
     "output_type": "stream",
     "text": [
      "Some \n"
     ]
    }
   ],
   "source": [
    "obj = \"Some string\"\n",
    "if hasattr(obj, \"removesuffix\"):   # Первый аргумент - объект, второй - строка с именем атрибута\n",
    "    print(obj.removesuffix(\"string\"))\n",
    "else:\n",
    "    print(\"Method is not available\")"
   ]
  },
  {
   "cell_type": "markdown",
   "id": "81bfba4f-7afb-4d82-869c-6f6f376d3f14",
   "metadata": {},
   "source": [
    "Данный случай очень притянут за уши. Когда у вас появится ситуация, где нужно это использовать вы сразу поймёте, но это бывает нечасто."
   ]
  },
  {
   "cell_type": "markdown",
   "id": "f1c27872-e389-4393-80f1-cb45064196f9",
   "metadata": {},
   "source": [
    "### Функция `getattr`"
   ]
  },
  {
   "cell_type": "markdown",
   "id": "8bcc9421-b046-43a4-a9d1-fda6bd62086e",
   "metadata": {},
   "source": [
    "Позволяет нам получить значение атрибута из объекта или вернуть значение по-умолчанию (аналогично методу `get` словаря). `getattr(obj, attr_name)` эквивалентно `obj.attr_name`"
   ]
  },
  {
   "cell_type": "code",
   "execution_count": 78,
   "id": "711dc3f6-11d7-453a-a440-536495a046e4",
   "metadata": {},
   "outputs": [
    {
     "data": {
      "text/plain": [
       "<function str.lower()>"
      ]
     },
     "execution_count": 78,
     "metadata": {},
     "output_type": "execute_result"
    }
   ],
   "source": [
    "obj = \"Some string\"\n",
    "\n",
    "getattr(obj, \"lower\")   # Первый аргумент - объект, второй аргумент - имя атрибута, который мы хотим получить в виде строки"
   ]
  },
  {
   "cell_type": "code",
   "execution_count": 79,
   "id": "b0a9d60e-5823-45d7-9735-21b5fa9814c4",
   "metadata": {},
   "outputs": [
    {
     "data": {
      "text/plain": [
       "<function str.replace(old, new, count=-1, /)>"
      ]
     },
     "execution_count": 79,
     "metadata": {},
     "output_type": "execute_result"
    }
   ],
   "source": [
    "getattr(obj, \"replace\")   # Первый аргумент - объект, второй аргумент - имя атрибута, который мы хотим получить в виде строки"
   ]
  },
  {
   "cell_type": "code",
   "execution_count": 82,
   "id": "573d1312-b039-47a5-92f9-c45cdf1f559d",
   "metadata": {},
   "outputs": [
    {
     "ename": "AttributeError",
     "evalue": "'str' object has no attribute 'some method that not exists'",
     "output_type": "error",
     "traceback": [
      "\u001b[0;31m---------------------------------------------------------------------------\u001b[0m",
      "\u001b[0;31mAttributeError\u001b[0m                            Traceback (most recent call last)",
      "Input \u001b[0;32mIn [82]\u001b[0m, in \u001b[0;36m<cell line: 1>\u001b[0;34m()\u001b[0m\n\u001b[0;32m----> 1\u001b[0m \u001b[38;5;28;43mgetattr\u001b[39;49m\u001b[43m(\u001b[49m\u001b[43mobj\u001b[49m\u001b[43m,\u001b[49m\u001b[43m \u001b[49m\u001b[38;5;124;43m\"\u001b[39;49m\u001b[38;5;124;43msome method that not exists\u001b[39;49m\u001b[38;5;124;43m\"\u001b[39;49m\u001b[43m)\u001b[49m\n",
      "\u001b[0;31mAttributeError\u001b[0m: 'str' object has no attribute 'some method that not exists'"
     ]
    }
   ],
   "source": [
    "getattr(obj, \"some method that not exists\")   # Пытаемся получить несуществующий атрибут БЕЗ указания значения по-умолчанию"
   ]
  },
  {
   "cell_type": "code",
   "execution_count": 83,
   "id": "76b57c5e-8330-483e-ba69-1f2ed1bc2b05",
   "metadata": {},
   "outputs": [
    {
     "data": {
      "text/plain": [
       "'default value'"
      ]
     },
     "execution_count": 83,
     "metadata": {},
     "output_type": "execute_result"
    }
   ],
   "source": [
    "getattr(obj, \"some method that not exists\", \"default value\")   # Пытаемся получить несуществующий атрибут C указанием значения по-умолчанию"
   ]
  },
  {
   "cell_type": "markdown",
   "id": "05755d1c-cf37-4268-a4ee-3f18d7d23e79",
   "metadata": {},
   "source": [
    "### Функция `setattr`"
   ]
  },
  {
   "cell_type": "markdown",
   "id": "810baf57-b10f-4857-9802-477f3591e01d",
   "metadata": {},
   "source": [
    "Позволяет задать значение для атрибута. `setattr(obj, attr_name, value)` эквивалентно `obj.attr_name = value`"
   ]
  },
  {
   "cell_type": "code",
   "execution_count": 87,
   "id": "3c2657aa-9508-4a45-994c-106c3c5b9300",
   "metadata": {},
   "outputs": [],
   "source": [
    "class Sequence:\n",
    "    def __init__(self, seq):\n",
    "        self.seq = seq\n",
    "\n",
    "obj = Sequence(\"ATGC\")\n",
    "\n",
    "setattr(obj, \"new_attribute\", 1)   # Первый аргумент - объект, второй - имя атрибута, третий - новое значение для атрибута\n",
    "setattr(obj, \"seq\", \"AAAAAAAAAAAAAAA\")"
   ]
  },
  {
   "cell_type": "code",
   "execution_count": 88,
   "id": "55eb18b3-4eea-4e03-a647-e3222b09f79a",
   "metadata": {},
   "outputs": [
    {
     "data": {
      "text/plain": [
       "(1, 'AAAAAAAAAAAAAAA')"
      ]
     },
     "execution_count": 88,
     "metadata": {},
     "output_type": "execute_result"
    }
   ],
   "source": [
    "obj.new_attribute, obj.seq"
   ]
  },
  {
   "cell_type": "markdown",
   "id": "fd54e3db-29b4-4a4d-b634-161fca92f34f",
   "metadata": {},
   "source": [
    "### Функция `delattr`"
   ]
  },
  {
   "cell_type": "markdown",
   "id": "4f8cb501-289d-460f-9016-cf841339e0a1",
   "metadata": {},
   "source": [
    "Позволяет удалить атрибут. `delattr(obj, attr_name)` эквивалентно `del obj.attr_name`"
   ]
  },
  {
   "cell_type": "code",
   "execution_count": 90,
   "id": "0cc0df2e-bd81-4d59-9eca-40c4ab1c5300",
   "metadata": {},
   "outputs": [],
   "source": [
    "class Sequence:\n",
    "    def __init__(self, seq):\n",
    "        self.seq = seq\n",
    "\n",
    "obj = Sequence(\"ATGC\")\n",
    "\n",
    "setattr(obj, \"new_attribute\", 1)\n",
    "setattr(obj, \"seq\", \"AAAAAAAAAAAAAAA\")\n",
    "\n",
    "delattr(obj, \"seq\")      # Первый аргумент - объект, второй - имя атрибута"
   ]
  },
  {
   "cell_type": "code",
   "execution_count": 92,
   "id": "64e5ac8c-942b-420f-9963-06ceecede342",
   "metadata": {},
   "outputs": [
    {
     "name": "stdout",
     "output_type": "stream",
     "text": [
      "1\n"
     ]
    },
    {
     "ename": "AttributeError",
     "evalue": "'Sequence' object has no attribute 'seq'",
     "output_type": "error",
     "traceback": [
      "\u001b[0;31m---------------------------------------------------------------------------\u001b[0m",
      "\u001b[0;31mAttributeError\u001b[0m                            Traceback (most recent call last)",
      "Input \u001b[0;32mIn [92]\u001b[0m, in \u001b[0;36m<cell line: 2>\u001b[0;34m()\u001b[0m\n\u001b[1;32m      1\u001b[0m \u001b[38;5;28mprint\u001b[39m(obj\u001b[38;5;241m.\u001b[39mnew_attribute)\n\u001b[0;32m----> 2\u001b[0m \u001b[38;5;28mprint\u001b[39m(\u001b[43mobj\u001b[49m\u001b[38;5;241;43m.\u001b[39;49m\u001b[43mseq\u001b[49m)\n",
      "\u001b[0;31mAttributeError\u001b[0m: 'Sequence' object has no attribute 'seq'"
     ]
    }
   ],
   "source": [
    "print(obj.new_attribute)\n",
    "print(obj.seq)"
   ]
  },
  {
   "cell_type": "markdown",
   "id": "9c53a252-815f-4f24-88da-f2ad0dd5cb9d",
   "metadata": {},
   "source": [
    "# Что ещё следует знать (наверное)?"
   ]
  },
  {
   "cell_type": "markdown",
   "id": "b380b61f-c66b-4b01-8633-9bbce11d1222",
   "metadata": {},
   "source": [
    "## Принципы SOLID"
   ]
  },
  {
   "cell_type": "markdown",
   "id": "35c0c7a9-6dc9-4335-8699-92e058fce63d",
   "metadata": {},
   "source": [
    "По сути это рекомендации по работе с ООП (как PEP8 - рекомендация по стилю кода). В лекции мы это не рассматриваем, так как рассказывать про это слишком душно, тем не менее знать это крайне полезно.\n",
    "\n",
    "Если при написании ООП кода руководствоваться здравым смыслом и желанием, чтобы ваш код был поддерживаемым и читаемым, то тогда вы автоматически прийдёте к этим правилам, даже ни разу не прочитав их. Прочитать/посмотреть видео можно в интернете, материалов предостаточно. Найдите то, что подходит вашему уровню"
   ]
  },
  {
   "cell_type": "markdown",
   "id": "c2711cab-95a6-4552-9c97-e7d1650d8f05",
   "metadata": {},
   "source": [
    "## Порядок разрешения методов (MRO)"
   ]
  },
  {
   "cell_type": "markdown",
   "id": "d1c5cf5e-24c0-4d00-a0d3-0377432d0888",
   "metadata": {},
   "source": [
    "Ещё одна душная штука, которая частично интуитивно понятна. Это правила поиска атрибутов при наследовании, если с этим возникнут проблемы, то вы будете знать, что гуглить, но скорее всего вам это не понадобится\n",
    "\n",
    "Рандомная ссылка по теме из интернета - https://tirinox.ru/mro-python/"
   ]
  },
  {
   "cell_type": "markdown",
   "id": "a9fb2e39-5071-4bad-9e11-7def9009b9fc",
   "metadata": {},
   "source": [
    "## Любые объекты в питоне унаследованы от класса `object`"
   ]
  },
  {
   "cell_type": "markdown",
   "id": "85188b7e-7a80-4a8c-b452-d1ec89deb286",
   "metadata": {},
   "source": [
    "Т.е. код в двух ячейках ниже абсолютно эквивалентен. В питоне 2 нужно было обязательно наследовать классы от `object`, сейчас так делать не стоит"
   ]
  },
  {
   "cell_type": "code",
   "execution_count": 57,
   "id": "8efaae2f-7f03-4579-8be6-12b1387708e5",
   "metadata": {},
   "outputs": [],
   "source": [
    "class Sequence(object):\n",
    "    pass"
   ]
  },
  {
   "cell_type": "code",
   "execution_count": 58,
   "id": "0530647c-8b5e-445a-8515-8d081b1ad265",
   "metadata": {},
   "outputs": [],
   "source": [
    "class Sequence:\n",
    "    pass"
   ]
  },
  {
   "cell_type": "markdown",
   "id": "3beb2c09-67d9-4d09-b8c2-df885c17685b",
   "metadata": {},
   "source": [
    "## Composition over inheritance"
   ]
  },
  {
   "cell_type": "markdown",
   "id": "a20c1342-4213-4965-80a7-43b34028d708",
   "metadata": {},
   "source": [
    "Для некоторых задач бывает удобнее использовать **композицию** вместо наследования. Сейчас эта практика сильно форсится в интернетах, но вы пользуйтесь тем, что вам больше нравится. Подробнее можно прочитать в интернете"
   ]
  },
  {
   "cell_type": "code",
   "execution_count": null,
   "id": "8178b620-a979-4278-a58d-3a66132473d1",
   "metadata": {},
   "outputs": [],
   "source": []
  }
 ],
 "metadata": {
  "kernelspec": {
   "display_name": "Python 3 (ipykernel)",
   "language": "python",
   "name": "python3"
  },
  "language_info": {
   "codemirror_mode": {
    "name": "ipython",
    "version": 3
   },
   "file_extension": ".py",
   "mimetype": "text/x-python",
   "name": "python",
   "nbconvert_exporter": "python",
   "pygments_lexer": "ipython3",
   "version": "3.9.15"
  }
 },
 "nbformat": 4,
 "nbformat_minor": 5
}
